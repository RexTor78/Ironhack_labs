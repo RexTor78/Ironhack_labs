{
 "cells": [
  {
   "cell_type": "markdown",
   "id": "ca8c9741",
   "metadata": {},
   "source": [
    "## Ethical issues with computer vision \n",
    "- [The ethical questions that haunt facial-recognition research][1]\n",
    "- [Computer Vision Applications and their Ethical Risks in the Global South][2]\n",
    "- [Designing a Moral Compass for the Future of Computer Vision using Speculative Analysis][3]\n",
    "\n",
    "* __Opinion__: Unfortunately something that we could use for thousands of beneficial utilities, \n",
    "the human always being has sought from the origins of life control and manipulation over others \n",
    "and it is the first thing that is usually used.\n",
    "\n",
    "\n",
    "\n",
    "[1]:https://www.nature.com/articles/d41586-020-03187-3\n",
    "[2]:https://openreview.net/pdf?id=QLFSDNIvI#:~:text=We%20are%20aware%20of%20only,infringement%2C%20discrimination%2C%20and%20misinformation.\n",
    "[3]:https://openaccess.thecvf.com/content_cvpr_2017_workshops/w16/papers/Yeh_Designing_a_Moral_CVPR_2017_paper.pdf"
   ]
  },
  {
   "cell_type": "markdown",
   "id": "585411f6",
   "metadata": {},
   "source": [
    "## Text to image generation \n",
    "- Clock Tower: A large painted clock tower in the middle of town.\n",
    "    <img src=\"reloj.png\">\n",
    "    \n",
    " - It really seems incredible to me, the quantity of iterations that can be made to show the image, however for any  insignificant change in the text, affects the image in a substantial way, I would like to be able to learn more about the subject to be able to assess it."
   ]
  },
  {
   "cell_type": "markdown",
   "id": "cd690ff5",
   "metadata": {},
   "source": [
    "## Image Recognition: Dogs vs Cats! (92%)\n",
    "- [Inizialitation][1]\n",
    "- [Pet plotting for label validation][2]\n",
    "- [Split the training and validation samples with ImageDataGenerator][3]\n",
    "- [A simple convolutional neural network][4]\n",
    "- [Data augmentation][5]\n",
    "- [Using a pre-trained model : ResNet50][6]\n",
    "\n",
    "\n",
    "\n",
    "[1]:https://thedatafrog.com/en/articles/dogs-vs-cats/#Initialization\n",
    "[2]:https://thedatafrog.com/en/articles/dogs-vs-cats/#Pet-plotting-for-label-validation\n",
    "[3]:https://thedatafrog.com/en/articles/dogs-vs-cats/#Split-the-training-and-validation-samples-with-ImageDataGenerator\n",
    "[4]:https://thedatafrog.com/en/articles/dogs-vs-cats/#A-simple-convolutional-neural-network\n",
    "[5]:https://thedatafrog.com/en/articles/dogs-vs-cats/#Data-augmentation\n",
    "[6]:https://thedatafrog.com/en/articles/dogs-vs-cats/#Using-a-pre-trained-model-:-ResNet50\n",
    "        "
   ]
  },
  {
   "cell_type": "code",
   "execution_count": null,
   "id": "0e17ed35",
   "metadata": {},
   "outputs": [],
   "source": []
  }
 ],
 "metadata": {
  "kernelspec": {
   "display_name": "Python 3",
   "language": "python",
   "name": "python3"
  },
  "language_info": {
   "codemirror_mode": {
    "name": "ipython",
    "version": 3
   },
   "file_extension": ".py",
   "mimetype": "text/x-python",
   "name": "python",
   "nbconvert_exporter": "python",
   "pygments_lexer": "ipython3",
   "version": "3.9.5"
  },
  "latex_envs": {
   "LaTeX_envs_menu_present": true,
   "autoclose": true,
   "autocomplete": true,
   "bibliofile": "biblio.bib",
   "cite_by": "apalike",
   "current_citInitial": 1,
   "eqLabelWithNumbers": true,
   "eqNumInitial": 1,
   "hotkeys": {
    "equation": "Ctrl-E",
    "itemize": "Ctrl-I"
   },
   "labels_anchors": false,
   "latex_user_defs": false,
   "report_style_numbering": false,
   "user_envs_cfg": true
  },
  "toc": {
   "base_numbering": 1,
   "nav_menu": {},
   "number_sections": true,
   "sideBar": true,
   "skip_h1_title": false,
   "title_cell": "Table of Contents",
   "title_sidebar": "Contents",
   "toc_cell": false,
   "toc_position": {},
   "toc_section_display": true,
   "toc_window_display": false
  },
  "varInspector": {
   "cols": {
    "lenName": 16,
    "lenType": 16,
    "lenVar": 40
   },
   "kernels_config": {
    "python": {
     "delete_cmd_postfix": "",
     "delete_cmd_prefix": "del ",
     "library": "var_list.py",
     "varRefreshCmd": "print(var_dic_list())"
    },
    "r": {
     "delete_cmd_postfix": ") ",
     "delete_cmd_prefix": "rm(",
     "library": "var_list.r",
     "varRefreshCmd": "cat(var_dic_list()) "
    }
   },
   "types_to_exclude": [
    "module",
    "function",
    "builtin_function_or_method",
    "instance",
    "_Feature"
   ],
   "window_display": false
  }
 },
 "nbformat": 4,
 "nbformat_minor": 5
}
