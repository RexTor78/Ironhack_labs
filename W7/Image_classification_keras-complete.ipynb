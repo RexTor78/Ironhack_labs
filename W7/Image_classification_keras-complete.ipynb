{
 "cells": [
  {
   "cell_type": "markdown",
   "metadata": {},
   "source": [
    "# Small image classification project\n",
    "\n",
    "+ option 1 - work locally \n",
    "+ option 2 - work in google colab \n",
    "\n",
    "\n",
    "eg https://colab.research.google.com/drive/12HYIBBZl1gmqMYN98Rr3c-7kDUipS5LD"
   ]
  },
  {
   "cell_type": "markdown",
   "metadata": {},
   "source": [
    "## first lets import tensor and keras and confirm versions"
   ]
  },
  {
   "cell_type": "code",
   "execution_count": 1,
   "metadata": {},
   "outputs": [],
   "source": [
    "import tensorflow as tf\n",
    "from tensorflow import keras"
   ]
  },
  {
   "cell_type": "code",
   "execution_count": 2,
   "metadata": {},
   "outputs": [
    {
     "data": {
      "text/plain": [
       "'2.5.0'"
      ]
     },
     "execution_count": 2,
     "metadata": {},
     "output_type": "execute_result"
    }
   ],
   "source": [
    "tf.__version__"
   ]
  },
  {
   "cell_type": "code",
   "execution_count": 3,
   "metadata": {},
   "outputs": [
    {
     "data": {
      "text/plain": [
       "'2.5.0'"
      ]
     },
     "execution_count": 3,
     "metadata": {},
     "output_type": "execute_result"
    }
   ],
   "source": [
    "keras.__version__"
   ]
  },
  {
   "cell_type": "code",
   "execution_count": 4,
   "metadata": {},
   "outputs": [],
   "source": [
    "import warnings\n",
    "warnings.filterwarnings(\"ignore\")"
   ]
  },
  {
   "cell_type": "code",
   "execution_count": 5,
   "metadata": {},
   "outputs": [],
   "source": [
    "import pandas as pd \n",
    "import numpy as np"
   ]
  },
  {
   "cell_type": "markdown",
   "metadata": {},
   "source": [
    "## load and define data set\n",
    "\n",
    "+ we will use MNIST, which is a famous/frequently used training db for images. \n",
    "+ This version Fashion MNIST includes 70000 grey scale images 28x28 px,10 classes, representing fashion items \n",
    "+ with keras you can load MNIST, Fashion MNIST, housing data set out of the box "
   ]
  },
  {
   "cell_type": "code",
   "execution_count": 6,
   "metadata": {},
   "outputs": [],
   "source": [
    "fashion=keras.datasets.fashion_mnist"
   ]
  },
  {
   "cell_type": "code",
   "execution_count": 7,
   "metadata": {},
   "outputs": [],
   "source": [
    "(X_train_full, y_train_full),(X_test,y_test)=fashion.load_data()"
   ]
  },
  {
   "cell_type": "code",
   "execution_count": null,
   "metadata": {},
   "outputs": [],
   "source": []
  },
  {
   "cell_type": "markdown",
   "metadata": {},
   "source": [
    "+ Training data — used for training the model\n",
    "+ Validation data — used for tuning the hyperparameters and evaluate the models (we will create this one)\n",
    "+ Test data — used to test the model after the model has gone through initial vetting by the validation set.\n",
    "\n"
   ]
  },
  {
   "cell_type": "markdown",
   "metadata": {},
   "source": [
    "## Explore the data set  "
   ]
  },
  {
   "cell_type": "code",
   "execution_count": 8,
   "metadata": {},
   "outputs": [
    {
     "data": {
      "text/plain": [
       "(60000, 28, 28)"
      ]
     },
     "execution_count": 8,
     "metadata": {},
     "output_type": "execute_result"
    }
   ],
   "source": [
    "X_train_full.shape"
   ]
  },
  {
   "cell_type": "code",
   "execution_count": 9,
   "metadata": {},
   "outputs": [
    {
     "data": {
      "text/plain": [
       "(10000, 28, 28)"
      ]
     },
     "execution_count": 9,
     "metadata": {},
     "output_type": "execute_result"
    }
   ],
   "source": [
    "X_test.shape"
   ]
  },
  {
   "cell_type": "code",
   "execution_count": 10,
   "metadata": {},
   "outputs": [
    {
     "data": {
      "text/plain": [
       "(10000,)"
      ]
     },
     "execution_count": 10,
     "metadata": {},
     "output_type": "execute_result"
    }
   ],
   "source": [
    "y_test.shape"
   ]
  },
  {
   "cell_type": "code",
   "execution_count": 11,
   "metadata": {},
   "outputs": [
    {
     "data": {
      "text/plain": [
       "array([9, 2, 1, ..., 8, 1, 5], dtype=uint8)"
      ]
     },
     "execution_count": 11,
     "metadata": {},
     "output_type": "execute_result"
    }
   ],
   "source": [
    "y_test"
   ]
  },
  {
   "cell_type": "code",
   "execution_count": 12,
   "metadata": {},
   "outputs": [],
   "source": [
    "from matplotlib import pyplot \n"
   ]
  },
  {
   "cell_type": "code",
   "execution_count": 13,
   "metadata": {},
   "outputs": [
    {
     "data": {
      "text/plain": [
       "<matplotlib.image.AxesImage at 0x2003fd21f40>"
      ]
     },
     "execution_count": 13,
     "metadata": {},
     "output_type": "execute_result"
    },
    {
     "data": {
      "image/png": "[encoded data removed]",
      "text/plain": [
       "<Figure size 432x288 with 1 Axes>"
      ]
     },
     "metadata": {
      "needs_background": "light"
     },
     "output_type": "display_data"
    }
   ],
   "source": [
    "pyplot.imshow(X_test[2314],cmap=pyplot.get_cmap('gray'))"
   ]
  },
  {
   "cell_type": "markdown",
   "metadata": {},
   "source": [
    "## Create data validation set "
   ]
  },
  {
   "cell_type": "code",
   "execution_count": 14,
   "metadata": {},
   "outputs": [],
   "source": [
    "# subset of the training data set \n",
    "X_valid, X_train= X_train_full[:5000]/255.0 , X_train_full[5000:]/255.0\n",
    "y_valid, y_train =y_train_full[:5000], y_train_full[5000:]\n",
    "#depending on the method we will use - we may need to scale our X \n",
    "# Gradient Descent Learning - method ensemble for machine learning \n",
    "# are there any requirements for the data "
   ]
  },
  {
   "cell_type": "code",
   "execution_count": 15,
   "metadata": {},
   "outputs": [
    {
     "data": {
      "text/plain": [
       "(5000, 28, 28)"
      ]
     },
     "execution_count": 15,
     "metadata": {},
     "output_type": "execute_result"
    }
   ],
   "source": [
    "X_valid.shape"
   ]
  },
  {
   "cell_type": "code",
   "execution_count": 16,
   "metadata": {},
   "outputs": [
    {
     "data": {
      "text/plain": [
       "(55000, 28, 28)"
      ]
     },
     "execution_count": 16,
     "metadata": {},
     "output_type": "execute_result"
    }
   ],
   "source": [
    "X_train.shape"
   ]
  },
  {
   "cell_type": "markdown",
   "metadata": {},
   "source": [
    "## Define the classes of the data set"
   ]
  },
  {
   "cell_type": "code",
   "execution_count": 17,
   "metadata": {},
   "outputs": [],
   "source": [
    "#we know there are 10 classes, but there are currently no labels in the data set (0-9) \n",
    "# as we need labels for the validation lets add them\n",
    "# its a standard list which you can look up on the keras documentation and kaggle\n",
    "class_names = [\"T-shirt/top\", \"Trouser\", \"Pullover\", \"Dress\", \"Coat\",\n",
    "\"Sandal\", \"Shirt\", \"Sneaker\", \"Bag\", \"Ankle boot\"]"
   ]
  },
  {
   "cell_type": "code",
   "execution_count": 18,
   "metadata": {},
   "outputs": [
    {
     "data": {
      "text/plain": [
       "'Ankle boot'"
      ]
     },
     "execution_count": 18,
     "metadata": {},
     "output_type": "execute_result"
    }
   ],
   "source": [
    "#validate the classes using selected images from the data set (hint: index!)\n",
    "\n",
    "class_names[y_test[2314]]"
   ]
  },
  {
   "cell_type": "code",
   "execution_count": 19,
   "metadata": {},
   "outputs": [
    {
     "data": {
      "text/plain": [
       "9"
      ]
     },
     "execution_count": 19,
     "metadata": {},
     "output_type": "execute_result"
    }
   ],
   "source": [
    "y_test[2314]"
   ]
  },
  {
   "cell_type": "markdown",
   "metadata": {},
   "source": [
    "## Create the model (NN) - using the keras Sequential API - in this case a single stack of linear layers, connected sequentially "
   ]
  },
  {
   "cell_type": "code",
   "execution_count": 20,
   "metadata": {},
   "outputs": [],
   "source": [
    "model = keras.models.Sequential() # create model\n",
    "model.add(keras.layers.Flatten(input_shape=[28, 28])) #first layer - flattens each image into a 1d array (Pre-pr)\n",
    "model.add(keras.layers.Dense(300, activation=\"relu\")) # add a 300 neuron dense layer\n",
    "model.add(keras.layers.Dense(100, activation=\"relu\")) # add a second layer of neurons\n",
    "model.add(keras.layers.Dense(10, activation=\"softmax\")) # add a third layer of 10 neurons (one per class)\n",
    "\n",
    "# note : dense layers often have tonnes of parameters ( first dense layer = 235500 p's)\n",
    "# this adds flexibility, but risks overfit if training data not substantial /varied"
   ]
  },
  {
   "cell_type": "markdown",
   "metadata": {},
   "source": [
    "### information about the layers "
   ]
  },
  {
   "cell_type": "markdown",
   "metadata": {},
   "source": [
    "Relu : \n",
    "\n",
    "In order to use stochastic gradient descent with backpropagation of errors to train deep neural networks, an activation function is needed that looks and acts like a linear function, but is, in fact, a nonlinear function allowing complex relationships in the data to be learned.\n",
    "\n",
    "The function must also provide more sensitivity to the activation sum input and avoid easy saturation.\n",
    "\n",
    "The rectified linear activation function is a simple calculation that returns the value provided as input directly, or the value 0.0 if the input is 0.0 or less. ie IF input > 0 return input, else 0 \n",
    "\n",
    "The rectifier function mostly looks and acts like a linear activation function.\n",
    "\n",
    "In general, a neural network is easier to optimize when its behavior is linear or close to linear."
   ]
  },
  {
   "cell_type": "markdown",
   "metadata": {},
   "source": [
    "Softmax : \n",
    "    \n",
    "Recall that logistic regression produces a decimal between 0 and 1.0. For example, a logistic regression output of 0.8 from an email classifier suggests an 80% chance of an email being spam and a 20% chance of it being not spam. Clearly, the sum of the probabilities of an email being either spam or not spam is 1.0.\n",
    "\n",
    "Softmax extends this idea into a multi-class world. That is, Softmax assigns decimal probabilities to each class in a multi-class problem. Those decimal probabilities must add up to 1.0. This additional constraint helps training converge more quickly than it otherwise would.\n",
    "\n",
    "Softmax is implemented through a neural network layer just before the output layer. The Softmax layer must have the same number of nodes as the output layer."
   ]
  },
  {
   "cell_type": "markdown",
   "metadata": {},
   "source": [
    "### Compile the model\n",
    "\n",
    "- optionally we can specify metrics for compute in training and evaluation stage"
   ]
  },
  {
   "cell_type": "code",
   "execution_count": 21,
   "metadata": {},
   "outputs": [],
   "source": [
    "model.compile(loss=\"sparse_categorical_crossentropy\", # we have few labels and they are exclusive (0-9, trousers/ankle boots)\n",
    "optimizer=\"sgd\", #using stochastic gradient descent to train model\n",
    "metrics=[\"accuracy\"]) # as its a classifer, we are interested in accuracy \n"
   ]
  },
  {
   "cell_type": "markdown",
   "metadata": {},
   "source": [
    "## Train and evaluate the model"
   ]
  },
  {
   "cell_type": "code",
   "execution_count": 22,
   "metadata": {},
   "outputs": [
    {
     "name": "stdout",
     "output_type": "stream",
     "text": [
      "Epoch 1/50\n",
      "1719/1719 [==============================] - 5s 3ms/step - loss: 0.7360 - accuracy: 0.7575 - val_loss: 0.5105 - val_accuracy: 0.8282\n",
      "Epoch 2/50\n",
      "1719/1719 [==============================] - 4s 2ms/step - loss: 0.4892 - accuracy: 0.8298 - val_loss: 0.4454 - val_accuracy: 0.8488\n",
      "Epoch 3/50\n",
      "1719/1719 [==============================] - 5s 3ms/step - loss: 0.4416 - accuracy: 0.8460 - val_loss: 0.4053 - val_accuracy: 0.8620\n",
      "Epoch 4/50\n",
      "1719/1719 [==============================] - 5s 3ms/step - loss: 0.4131 - accuracy: 0.8547 - val_loss: 0.4006 - val_accuracy: 0.8646\n",
      "Epoch 5/50\n",
      "1719/1719 [==============================] - 4s 3ms/step - loss: 0.3934 - accuracy: 0.8615 - val_loss: 0.3962 - val_accuracy: 0.8628\n",
      "Epoch 6/50\n",
      "1719/1719 [==============================] - 4s 3ms/step - loss: 0.3774 - accuracy: 0.8669 - val_loss: 0.3748 - val_accuracy: 0.8688\n",
      "Epoch 7/50\n",
      "1719/1719 [==============================] - 5s 3ms/step - loss: 0.3632 - accuracy: 0.8712 - val_loss: 0.3665 - val_accuracy: 0.8658\n",
      "Epoch 8/50\n",
      "1719/1719 [==============================] - 4s 2ms/step - loss: 0.3514 - accuracy: 0.8758 - val_loss: 0.3619 - val_accuracy: 0.8716\n",
      "Epoch 9/50\n",
      "1719/1719 [==============================] - 4s 2ms/step - loss: 0.3411 - accuracy: 0.8782 - val_loss: 0.3778 - val_accuracy: 0.8696\n",
      "Epoch 10/50\n",
      "1719/1719 [==============================] - 4s 3ms/step - loss: 0.3323 - accuracy: 0.8815 - val_loss: 0.3415 - val_accuracy: 0.8786\n",
      "Epoch 11/50\n",
      "1719/1719 [==============================] - 5s 3ms/step - loss: 0.3231 - accuracy: 0.8847 - val_loss: 0.3393 - val_accuracy: 0.8770\n",
      "Epoch 12/50\n",
      "1719/1719 [==============================] - 5s 3ms/step - loss: 0.3152 - accuracy: 0.8882 - val_loss: 0.3314 - val_accuracy: 0.8792\n",
      "Epoch 13/50\n",
      "1719/1719 [==============================] - 5s 3ms/step - loss: 0.3084 - accuracy: 0.8905 - val_loss: 0.3266 - val_accuracy: 0.8838\n",
      "Epoch 14/50\n",
      "1719/1719 [==============================] - 5s 3ms/step - loss: 0.3017 - accuracy: 0.8922 - val_loss: 0.3221 - val_accuracy: 0.8830\n",
      "Epoch 15/50\n",
      "1719/1719 [==============================] - 5s 3ms/step - loss: 0.2959 - accuracy: 0.8941 - val_loss: 0.3201 - val_accuracy: 0.8838\n",
      "Epoch 16/50\n",
      "1719/1719 [==============================] - 5s 3ms/step - loss: 0.2892 - accuracy: 0.8969 - val_loss: 0.3139 - val_accuracy: 0.8844\n",
      "Epoch 17/50\n",
      "1719/1719 [==============================] - 5s 3ms/step - loss: 0.2837 - accuracy: 0.8974 - val_loss: 0.3179 - val_accuracy: 0.8836\n",
      "Epoch 18/50\n",
      "1719/1719 [==============================] - 4s 3ms/step - loss: 0.2787 - accuracy: 0.8998 - val_loss: 0.3096 - val_accuracy: 0.8860\n",
      "Epoch 19/50\n",
      "1719/1719 [==============================] - 4s 2ms/step - loss: 0.2738 - accuracy: 0.9020 - val_loss: 0.3078 - val_accuracy: 0.8902\n",
      "Epoch 20/50\n",
      "1719/1719 [==============================] - 4s 3ms/step - loss: 0.2681 - accuracy: 0.9031 - val_loss: 0.3133 - val_accuracy: 0.8866\n",
      "Epoch 21/50\n",
      "1719/1719 [==============================] - 5s 3ms/step - loss: 0.2631 - accuracy: 0.9047 - val_loss: 0.3361 - val_accuracy: 0.8820\n",
      "Epoch 22/50\n",
      "1719/1719 [==============================] - 5s 3ms/step - loss: 0.2580 - accuracy: 0.9073 - val_loss: 0.3016 - val_accuracy: 0.8942\n",
      "Epoch 23/50\n",
      "1719/1719 [==============================] - 5s 3ms/step - loss: 0.2542 - accuracy: 0.9086 - val_loss: 0.2960 - val_accuracy: 0.8944\n",
      "Epoch 24/50\n",
      "1719/1719 [==============================] - 5s 3ms/step - loss: 0.2494 - accuracy: 0.9096 - val_loss: 0.2969 - val_accuracy: 0.8904\n",
      "Epoch 25/50\n",
      "1719/1719 [==============================] - 5s 3ms/step - loss: 0.2454 - accuracy: 0.9123 - val_loss: 0.3133 - val_accuracy: 0.8886\n",
      "Epoch 26/50\n",
      "1719/1719 [==============================] - 4s 3ms/step - loss: 0.2402 - accuracy: 0.9133 - val_loss: 0.3125 - val_accuracy: 0.8854\n",
      "Epoch 27/50\n",
      "1719/1719 [==============================] - 4s 2ms/step - loss: 0.2370 - accuracy: 0.9152 - val_loss: 0.2965 - val_accuracy: 0.8898\n",
      "Epoch 28/50\n",
      "1719/1719 [==============================] - 4s 3ms/step - loss: 0.2337 - accuracy: 0.9165 - val_loss: 0.2995 - val_accuracy: 0.8940\n",
      "Epoch 29/50\n",
      "1719/1719 [==============================] - 4s 3ms/step - loss: 0.2284 - accuracy: 0.9178 - val_loss: 0.3070 - val_accuracy: 0.8894\n",
      "Epoch 30/50\n",
      "1719/1719 [==============================] - 4s 3ms/step - loss: 0.2253 - accuracy: 0.9194 - val_loss: 0.3102 - val_accuracy: 0.8872\n",
      "Epoch 31/50\n",
      "1719/1719 [==============================] - 5s 3ms/step - loss: 0.2223 - accuracy: 0.9194 - val_loss: 0.2925 - val_accuracy: 0.8982\n",
      "Epoch 32/50\n",
      "1719/1719 [==============================] - 5s 3ms/step - loss: 0.2183 - accuracy: 0.9219 - val_loss: 0.2911 - val_accuracy: 0.8950\n",
      "Epoch 33/50\n",
      "1719/1719 [==============================] - 4s 2ms/step - loss: 0.2141 - accuracy: 0.9236 - val_loss: 0.3002 - val_accuracy: 0.8904\n",
      "Epoch 34/50\n",
      "1719/1719 [==============================] - 4s 2ms/step - loss: 0.2113 - accuracy: 0.9239 - val_loss: 0.2860 - val_accuracy: 0.8990\n",
      "Epoch 35/50\n",
      "1719/1719 [==============================] - 4s 3ms/step - loss: 0.2073 - accuracy: 0.9251 - val_loss: 0.2974 - val_accuracy: 0.8962\n",
      "Epoch 36/50\n",
      "1719/1719 [==============================] - 4s 2ms/step - loss: 0.2049 - accuracy: 0.9269 - val_loss: 0.3130 - val_accuracy: 0.8940\n",
      "Epoch 37/50\n",
      "1719/1719 [==============================] - 4s 3ms/step - loss: 0.2017 - accuracy: 0.9280 - val_loss: 0.2976 - val_accuracy: 0.8936\n",
      "Epoch 38/50\n",
      "1719/1719 [==============================] - 4s 3ms/step - loss: 0.1980 - accuracy: 0.9287 - val_loss: 0.2896 - val_accuracy: 0.8984\n",
      "Epoch 39/50\n",
      "1719/1719 [==============================] - 5s 3ms/step - loss: 0.1944 - accuracy: 0.9305 - val_loss: 0.2923 - val_accuracy: 0.8962\n",
      "Epoch 40/50\n",
      "1719/1719 [==============================] - 5s 3ms/step - loss: 0.1911 - accuracy: 0.9315 - val_loss: 0.3086 - val_accuracy: 0.8906\n",
      "Epoch 41/50\n",
      "1719/1719 [==============================] - 4s 2ms/step - loss: 0.1890 - accuracy: 0.9318 - val_loss: 0.3052 - val_accuracy: 0.8884\n",
      "Epoch 42/50\n",
      "1719/1719 [==============================] - 4s 2ms/step - loss: 0.1859 - accuracy: 0.9336 - val_loss: 0.2858 - val_accuracy: 0.8964\n",
      "Epoch 43/50\n",
      "1719/1719 [==============================] - 5s 3ms/step - loss: 0.1826 - accuracy: 0.9345 - val_loss: 0.2894 - val_accuracy: 0.8966\n",
      "Epoch 44/50\n",
      "1719/1719 [==============================] - 4s 3ms/step - loss: 0.1798 - accuracy: 0.9361 - val_loss: 0.2860 - val_accuracy: 0.8998\n",
      "Epoch 45/50\n",
      "1719/1719 [==============================] - 4s 3ms/step - loss: 0.1760 - accuracy: 0.9377 - val_loss: 0.2969 - val_accuracy: 0.8948\n",
      "Epoch 46/50\n",
      "1719/1719 [==============================] - 5s 3ms/step - loss: 0.1734 - accuracy: 0.9381 - val_loss: 0.2884 - val_accuracy: 0.8992\n",
      "Epoch 47/50\n",
      "1719/1719 [==============================] - 4s 3ms/step - loss: 0.1711 - accuracy: 0.9398 - val_loss: 0.2943 - val_accuracy: 0.8954\n",
      "Epoch 48/50\n",
      "1719/1719 [==============================] - 4s 3ms/step - loss: 0.1681 - accuracy: 0.9413 - val_loss: 0.2961 - val_accuracy: 0.8954\n",
      "Epoch 49/50\n",
      "1719/1719 [==============================] - 4s 3ms/step - loss: 0.1658 - accuracy: 0.9404 - val_loss: 0.2888 - val_accuracy: 0.8976\n",
      "Epoch 50/50\n",
      "1719/1719 [==============================] - 5s 3ms/step - loss: 0.1631 - accuracy: 0.9422 - val_loss: 0.2857 - val_accuracy: 0.8986\n"
     ]
    }
   ],
   "source": [
    "#create a history of the learning epochs which can be visualised later on \n",
    "\n",
    "history = model.fit(X_train, y_train, epochs=50, validation_data=(X_valid, y_valid))"
   ]
  },
  {
   "cell_type": "markdown",
   "metadata": {},
   "source": [
    "**What are doing here?**\n",
    "\n",
    "+ at each stage we can see the number of instances processed\n",
    "+ the mean training time per sample\n",
    "- plus the loss and accuracy or any other metrics requested in the last stage \n",
    "\n",
    "\n",
    "(your computer is likely working hard at this point!)\n",
    "- note that for complex models, more CPU is needed than an average computer can supply\n",
    "\n",
    "https://stackoverflow.com/questions/51704808/what-is-the-difference-between-loss-accuracy-validation-loss-validation-accur"
   ]
  },
  {
   "cell_type": "code",
   "execution_count": 23,
   "metadata": {},
   "outputs": [
    {
     "data": {
      "image/png": "[encoded data removed]",
      "text/plain": [
       "<Figure size 576x360 with 1 Axes>"
      ]
     },
     "metadata": {
      "needs_background": "light"
     },
     "output_type": "display_data"
    }
   ],
   "source": [
    "# we can even plot the learning curve \n",
    "\n",
    "pd.DataFrame(history.history).plot(figsize=(8, 5))\n",
    "pyplot.grid(True)\n",
    "pyplot.gca().set_ylim(0, 1) # set the vertical range to [0-1]\n",
    "pyplot.show()\n",
    "# IDEALLY training and validation accuracy increase, training and val loss steadily decrease \n",
    "# if you arent satisfied with model performance, go back and tune parameters - eg no of layers, neruons, activation fx, epochs, batch size"
   ]
  },
  {
   "cell_type": "markdown",
   "metadata": {},
   "source": [
    "## Use model to make image predictions"
   ]
  },
  {
   "cell_type": "code",
   "execution_count": 24,
   "metadata": {},
   "outputs": [
    {
     "data": {
      "text/plain": [
       "array([[0., 0., 0., 0., 0., 0., 0., 0., 1., 0.],\n",
       "       [0., 0., 0., 0., 0., 0., 0., 0., 1., 0.],\n",
       "       [0., 0., 0., 1., 0., 0., 0., 0., 0., 0.],\n",
       "       [0., 0., 0., 1., 0., 0., 0., 0., 0., 0.],\n",
       "       [0., 0., 0., 0., 0., 0., 0., 0., 1., 0.],\n",
       "       [1., 0., 0., 0., 0., 0., 0., 0., 0., 0.],\n",
       "       [0., 0., 0., 0., 0., 0., 0., 1., 0., 0.],\n",
       "       [0., 0., 0., 0., 0., 1., 0., 0., 0., 0.],\n",
       "       [0., 0., 0., 0., 0., 0., 0., 1., 0., 0.],\n",
       "       [0., 0., 0., 0., 0., 0., 0., 0., 0., 1.],\n",
       "       [1., 0., 0., 0., 0., 0., 0., 0., 0., 0.],\n",
       "       [0., 1., 0., 0., 0., 0., 0., 0., 0., 0.],\n",
       "       [1., 0., 0., 0., 0., 0., 0., 0., 0., 0.],\n",
       "       [0., 0., 0., 0., 0., 0., 0., 0., 0., 1.],\n",
       "       [0., 0., 0., 0., 0., 0., 1., 0., 0., 0.],\n",
       "       [0., 0., 0., 0., 0., 0., 0., 0., 0., 1.],\n",
       "       [0., 0., 1., 0., 0., 0., 0., 0., 0., 0.],\n",
       "       [0., 1., 0., 0., 0., 0., 0., 0., 0., 0.],\n",
       "       [0., 0., 1., 0., 0., 0., 0., 0., 0., 0.],\n",
       "       [0., 0., 0., 0., 0., 0., 1., 0., 0., 0.]], dtype=float32)"
      ]
     },
     "execution_count": 24,
     "metadata": {},
     "output_type": "execute_result"
    }
   ],
   "source": [
    "#testing dataset \n",
    "X_testing=X_test[30:50]\n",
    "y_prob=model.predict(X_testing)\n",
    "y_prob.round(5)"
   ]
  },
  {
   "cell_type": "code",
   "execution_count": 25,
   "metadata": {},
   "outputs": [
    {
     "data": {
      "text/plain": [
       "array([8, 8, 3, 3, 8, 0, 7, 5, 7, 9, 0, 1, 0, 9, 6, 9, 2, 1, 2, 6],\n",
       "      dtype=int64)"
      ]
     },
     "execution_count": 25,
     "metadata": {},
     "output_type": "execute_result"
    }
   ],
   "source": [
    "y_pred=model.predict_classes(X_testing)\n",
    "y_pred"
   ]
  },
  {
   "cell_type": "code",
   "execution_count": 26,
   "metadata": {},
   "outputs": [
    {
     "data": {
      "text/plain": [
       "array(['Bag', 'Bag', 'Dress', 'Dress', 'Bag', 'T-shirt/top', 'Sneaker',\n",
       "       'Sandal', 'Sneaker', 'Ankle boot', 'T-shirt/top', 'Trouser',\n",
       "       'T-shirt/top', 'Ankle boot', 'Shirt', 'Ankle boot', 'Pullover',\n",
       "       'Trouser', 'Pullover', 'Shirt'], dtype='<U11')"
      ]
     },
     "execution_count": 26,
     "metadata": {},
     "output_type": "execute_result"
    }
   ],
   "source": [
    "np.array(class_names)[y_pred]"
   ]
  },
  {
   "cell_type": "code",
   "execution_count": 27,
   "metadata": {},
   "outputs": [
    {
     "data": {
      "text/plain": [
       "array([8, 8, 3, 3, 8, 0, 7, 5, 7, 9, 6, 1, 3, 7, 6, 7, 2, 1, 2, 2],\n",
       "      dtype=uint8)"
      ]
     },
     "execution_count": 27,
     "metadata": {},
     "output_type": "execute_result"
    }
   ],
   "source": [
    "actual=y_test[30:50]\n",
    "actual"
   ]
  },
  {
   "cell_type": "code",
   "execution_count": 28,
   "metadata": {},
   "outputs": [
    {
     "data": {
      "text/plain": [
       "array(['Bag', 'Bag', 'Dress', 'Dress', 'Bag', 'T-shirt/top', 'Sneaker',\n",
       "       'Sandal', 'Sneaker', 'Ankle boot', 'Shirt', 'Trouser', 'Dress',\n",
       "       'Sneaker', 'Shirt', 'Sneaker', 'Pullover', 'Trouser', 'Pullover',\n",
       "       'Pullover'], dtype='<U11')"
      ]
     },
     "execution_count": 28,
     "metadata": {},
     "output_type": "execute_result"
    }
   ],
   "source": [
    "np.array(class_names)[actual]"
   ]
  },
  {
   "cell_type": "code",
   "execution_count": 29,
   "metadata": {},
   "outputs": [
    {
     "data": {
      "text/plain": [
       "array([ 0,  0,  0,  0,  0,  0,  0,  0,  0,  0,  6,  0,  3, -2,  0, -2,  0,\n",
       "        0,  0, -4], dtype=int64)"
      ]
     },
     "execution_count": 29,
     "metadata": {},
     "output_type": "execute_result"
    }
   ],
   "source": [
    "#what differences between our actual and predicted classes of images ? \n",
    "actual-y_pred"
   ]
  },
  {
   "cell_type": "markdown",
   "metadata": {},
   "source": [
    "## What do you think of your image classification model ?"
   ]
  },
  {
   "cell_type": "code",
   "execution_count": 30,
   "metadata": {},
   "outputs": [],
   "source": [
    "predicted_all=model.predict_classes(X_test)\n",
    "actual_all=y_test"
   ]
  },
  {
   "cell_type": "code",
   "execution_count": 31,
   "metadata": {},
   "outputs": [],
   "source": [
    "matches = (predicted_all == actual_all)"
   ]
  },
  {
   "cell_type": "code",
   "execution_count": 32,
   "metadata": {},
   "outputs": [
    {
     "data": {
      "text/plain": [
       "0.8556"
      ]
     },
     "execution_count": 32,
     "metadata": {},
     "output_type": "execute_result"
    }
   ],
   "source": [
    "matches.sum() / float(len(matches))"
   ]
  },
  {
   "cell_type": "code",
   "execution_count": null,
   "metadata": {},
   "outputs": [],
   "source": [
    "# the images which are incorrectly classified are very pixelated, hard to discern for my eyes \n",
    "# accuracy on train is around 90% \n",
    "# on my test sample - around 75% - 5/20 wrongly classified\n",
    "# accurate predictions on full test data set - 84%"
   ]
  }
 ],
 "metadata": {
  "kernelspec": {
   "display_name": "Python 3",
   "language": "python",
   "name": "python3"
  },
  "language_info": {
   "codemirror_mode": {
    "name": "ipython",
    "version": 3
   },
   "file_extension": ".py",
   "mimetype": "text/x-python",
   "name": "python",
   "nbconvert_exporter": "python",
   "pygments_lexer": "ipython3",
   "version": "3.9.5"
  },
  "latex_envs": {
   "LaTeX_envs_menu_present": true,
   "autoclose": true,
   "autocomplete": true,
   "bibliofile": "biblio.bib",
   "cite_by": "apalike",
   "current_citInitial": 1,
   "eqLabelWithNumbers": true,
   "eqNumInitial": 1,
   "hotkeys": {
    "equation": "Ctrl-E",
    "itemize": "Ctrl-I"
   },
   "labels_anchors": false,
   "latex_user_defs": false,
   "report_style_numbering": false,
   "user_envs_cfg": true
  },
  "toc": {
   "base_numbering": 1,
   "nav_menu": {},
   "number_sections": true,
   "sideBar": true,
   "skip_h1_title": false,
   "title_cell": "Table of Contents",
   "title_sidebar": "Contents",
   "toc_cell": false,
   "toc_position": {},
   "toc_section_display": true,
   "toc_window_display": false
  },
  "varInspector": {
   "cols": {
    "lenName": 16,
    "lenType": 16,
    "lenVar": 40
   },
   "kernels_config": {
    "python": {
     "delete_cmd_postfix": "",
     "delete_cmd_prefix": "del ",
     "library": "var_list.py",
     "varRefreshCmd": "print(var_dic_list())"
    },
    "r": {
     "delete_cmd_postfix": ") ",
     "delete_cmd_prefix": "rm(",
     "library": "var_list.r",
     "varRefreshCmd": "cat(var_dic_list()) "
    }
   },
   "types_to_exclude": [
    "module",
    "function",
    "builtin_function_or_method",
    "instance",
    "_Feature"
   ],
   "window_display": false
  }
 },
 "nbformat": 4,
 "nbformat_minor": 4
}
