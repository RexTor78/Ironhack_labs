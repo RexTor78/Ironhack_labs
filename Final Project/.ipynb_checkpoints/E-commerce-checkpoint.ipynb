{
 "cells": [
  {
   "cell_type": "code",
   "execution_count": 1,
   "id": "53f6e186",
   "metadata": {},
   "outputs": [],
   "source": [
    "import pandas as pd\n",
    "import numpy as np\n"
   ]
  },
  {
   "cell_type": "code",
   "execution_count": 2,
   "id": "f5706e89",
   "metadata": {},
   "outputs": [],
   "source": [
    "df=pd.read_excel('Sales Report 02-11-2020 _ 01-15-2020.xlsx')"
   ]
  },
  {
   "cell_type": "code",
   "execution_count": 3,
   "id": "1af6f2ec",
   "metadata": {},
   "outputs": [
    {
     "data": {
      "text/html": [
       "<div>\n",
       "<style scoped>\n",
       "    .dataframe tbody tr th:only-of-type {\n",
       "        vertical-align: middle;\n",
       "    }\n",
       "\n",
       "    .dataframe tbody tr th {\n",
       "        vertical-align: top;\n",
       "    }\n",
       "\n",
       "    .dataframe thead th {\n",
       "        text-align: right;\n",
       "    }\n",
       "</style>\n",
       "<table border=\"1\" class=\"dataframe\">\n",
       "  <thead>\n",
       "    <tr style=\"text-align: right;\">\n",
       "      <th></th>\n",
       "      <th>Delivery number</th>\n",
       "      <th>Goods</th>\n",
       "      <th>Product Code</th>\n",
       "      <th>Brand</th>\n",
       "      <th>Vendore Code</th>\n",
       "      <th>Size</th>\n",
       "      <th>Barcode</th>\n",
       "      <th>Document Type</th>\n",
       "      <th>Quantity</th>\n",
       "      <th>Sales Tax</th>\n",
       "      <th>...</th>\n",
       "      <th>-Internal</th>\n",
       "      <th>Retail price after the agreed discount</th>\n",
       "      <th>To be paid for goods</th>\n",
       "      <th>To be paid for goods, Sales Tax</th>\n",
       "      <th>Number of Deliveries</th>\n",
       "      <th>Number of Returns</th>\n",
       "      <th>Cost of logistics, inc.sales tax</th>\n",
       "      <th>Box Type</th>\n",
       "      <th>Discount</th>\n",
       "      <th>Promo Code</th>\n",
       "    </tr>\n",
       "  </thead>\n",
       "  <tbody>\n",
       "    <tr>\n",
       "      <th>0</th>\n",
       "      <td>1634517</td>\n",
       "      <td>Yarn</td>\n",
       "      <td>15120240</td>\n",
       "      <td>Alpine Fair</td>\n",
       "      <td>nzo1-wr/wb</td>\n",
       "      <td>39-41</td>\n",
       "      <td>2000541272018</td>\n",
       "      <td>Sale</td>\n",
       "      <td>0</td>\n",
       "      <td>0</td>\n",
       "      <td>...</td>\n",
       "      <td>1809546947</td>\n",
       "      <td>0.0</td>\n",
       "      <td>0.0</td>\n",
       "      <td>0</td>\n",
       "      <td>1</td>\n",
       "      <td>0</td>\n",
       "      <td>20</td>\n",
       "      <td>Mix</td>\n",
       "      <td>0</td>\n",
       "      <td>0</td>\n",
       "    </tr>\n",
       "    <tr>\n",
       "      <th>1</th>\n",
       "      <td>1625587</td>\n",
       "      <td>Socks</td>\n",
       "      <td>15120240</td>\n",
       "      <td>Alpine Fair</td>\n",
       "      <td>nzo1-wr/wb</td>\n",
       "      <td>36-38</td>\n",
       "      <td>2000541272001</td>\n",
       "      <td>Sale</td>\n",
       "      <td>0</td>\n",
       "      <td>0</td>\n",
       "      <td>...</td>\n",
       "      <td>1791240995</td>\n",
       "      <td>0.0</td>\n",
       "      <td>0.0</td>\n",
       "      <td>0</td>\n",
       "      <td>1</td>\n",
       "      <td>0</td>\n",
       "      <td>20</td>\n",
       "      <td>Mix</td>\n",
       "      <td>0</td>\n",
       "      <td>0</td>\n",
       "    </tr>\n",
       "    <tr>\n",
       "      <th>2</th>\n",
       "      <td>1625587</td>\n",
       "      <td>Socks</td>\n",
       "      <td>15226402</td>\n",
       "      <td>Alpine Fair</td>\n",
       "      <td>mz14-wrbbg</td>\n",
       "      <td>36-38</td>\n",
       "      <td>2000550776002</td>\n",
       "      <td>Sale</td>\n",
       "      <td>0</td>\n",
       "      <td>0</td>\n",
       "      <td>...</td>\n",
       "      <td>1791275077</td>\n",
       "      <td>0.0</td>\n",
       "      <td>0.0</td>\n",
       "      <td>0</td>\n",
       "      <td>1</td>\n",
       "      <td>0</td>\n",
       "      <td>20</td>\n",
       "      <td>Mix</td>\n",
       "      <td>0</td>\n",
       "      <td>0</td>\n",
       "    </tr>\n",
       "    <tr>\n",
       "      <th>3</th>\n",
       "      <td>1625587</td>\n",
       "      <td>Socks</td>\n",
       "      <td>15226402</td>\n",
       "      <td>Alpine Fair</td>\n",
       "      <td>mz14-wrbbg</td>\n",
       "      <td>36-38</td>\n",
       "      <td>2000550776002</td>\n",
       "      <td>Sale</td>\n",
       "      <td>0</td>\n",
       "      <td>0</td>\n",
       "      <td>...</td>\n",
       "      <td>1791252391</td>\n",
       "      <td>0.0</td>\n",
       "      <td>0.0</td>\n",
       "      <td>0</td>\n",
       "      <td>1</td>\n",
       "      <td>0</td>\n",
       "      <td>20</td>\n",
       "      <td>Mix</td>\n",
       "      <td>0</td>\n",
       "      <td>0</td>\n",
       "    </tr>\n",
       "    <tr>\n",
       "      <th>4</th>\n",
       "      <td>1625587</td>\n",
       "      <td>Socks</td>\n",
       "      <td>15120240</td>\n",
       "      <td>Alpine Fair</td>\n",
       "      <td>nzo1-wr/wb</td>\n",
       "      <td>36-38</td>\n",
       "      <td>2000541272001</td>\n",
       "      <td>Sale</td>\n",
       "      <td>0</td>\n",
       "      <td>0</td>\n",
       "      <td>...</td>\n",
       "      <td>1791240801</td>\n",
       "      <td>0.0</td>\n",
       "      <td>0.0</td>\n",
       "      <td>0</td>\n",
       "      <td>1</td>\n",
       "      <td>0</td>\n",
       "      <td>20</td>\n",
       "      <td>Mix</td>\n",
       "      <td>0</td>\n",
       "      <td>0</td>\n",
       "    </tr>\n",
       "  </tbody>\n",
       "</table>\n",
       "<p>5 rows × 32 columns</p>\n",
       "</div>"
      ],
      "text/plain": [
       "   Delivery number   Goods  Product Code        Brand Vendore Code   Size  \\\n",
       "0           1634517   Yarn      15120240  Alpine Fair   nzo1-wr/wb  39-41   \n",
       "1           1625587  Socks      15120240  Alpine Fair   nzo1-wr/wb  36-38   \n",
       "2           1625587  Socks      15226402  Alpine Fair   mz14-wrbbg  36-38   \n",
       "3           1625587  Socks      15226402  Alpine Fair   mz14-wrbbg  36-38   \n",
       "4           1625587  Socks      15120240  Alpine Fair   nzo1-wr/wb  36-38   \n",
       "\n",
       "         Barcode Document Type  Quantity  Sales Tax  ...   -Internal  \\\n",
       "0  2000541272018          Sale         0          0  ...  1809546947   \n",
       "1  2000541272001          Sale         0          0  ...  1791240995   \n",
       "2  2000550776002          Sale         0          0  ...  1791275077   \n",
       "3  2000550776002          Sale         0          0  ...  1791252391   \n",
       "4  2000541272001          Sale         0          0  ...  1791240801   \n",
       "\n",
       "   Retail price after the agreed discount  To be paid for goods  \\\n",
       "0                                     0.0                   0.0   \n",
       "1                                     0.0                   0.0   \n",
       "2                                     0.0                   0.0   \n",
       "3                                     0.0                   0.0   \n",
       "4                                     0.0                   0.0   \n",
       "\n",
       "   To be paid for goods, Sales Tax  Number of Deliveries  Number of Returns  \\\n",
       "0                                0                     1                  0   \n",
       "1                                0                     1                  0   \n",
       "2                                0                     1                  0   \n",
       "3                                0                     1                  0   \n",
       "4                                0                     1                  0   \n",
       "\n",
       "   Cost of logistics, inc.sales tax  Box Type Discount Promo Code  \n",
       "0                                20       Mix        0          0  \n",
       "1                                20       Mix        0          0  \n",
       "2                                20       Mix        0          0  \n",
       "3                                20       Mix        0          0  \n",
       "4                                20       Mix        0          0  \n",
       "\n",
       "[5 rows x 32 columns]"
      ]
     },
     "execution_count": 3,
     "metadata": {},
     "output_type": "execute_result"
    }
   ],
   "source": [
    "df.head()"
   ]
  },
  {
   "cell_type": "code",
   "execution_count": 4,
   "id": "5889a4d9",
   "metadata": {},
   "outputs": [
    {
     "name": "stdout",
     "output_type": "stream",
     "text": [
      "<class 'pandas.core.frame.DataFrame'>\n",
      "RangeIndex: 833 entries, 0 to 832\n",
      "Data columns (total 32 columns):\n",
      " #   Column                                  Non-Null Count  Dtype  \n",
      "---  ------                                  --------------  -----  \n",
      " 0   Delivery number                         833 non-null    int64  \n",
      " 1   Goods                                   833 non-null    object \n",
      " 2   Product Code                            833 non-null    int64  \n",
      " 3   Brand                                   833 non-null    object \n",
      " 4   Vendore Code                            833 non-null    object \n",
      " 5   Size                                    833 non-null    object \n",
      " 6   Barcode                                 833 non-null    int64  \n",
      " 7   Document Type                           833 non-null    object \n",
      " 8   Quantity                                833 non-null    int64  \n",
      " 9   Sales Tax                               833 non-null    int64  \n",
      " 10  Cost                                    833 non-null    int64  \n",
      " 11  Selling Price                           833 non-null    int64  \n",
      " 12  Sales                                   833 non-null    float64\n",
      " 13  Sales commission amount                 833 non-null    float64\n",
      " 14  Discount Approved                       833 non-null    float64\n",
      " 15  Comission percentage                    833 non-null    float64\n",
      " 16  Buyer Reward                            833 non-null    int64  \n",
      " 17  Seller Reward                           833 non-null    float64\n",
      " 18  Warehouse                               833 non-null    object \n",
      " 19  Payment for                             833 non-null    object \n",
      " 20  Order Date                              833 non-null    object \n",
      " 21  Sales Date                              833 non-null    object \n",
      " 22  -Internal                               833 non-null    int64  \n",
      " 23  Retail price after the agreed discount  833 non-null    float64\n",
      " 24  To be paid for goods                    833 non-null    float64\n",
      " 25  To be paid for goods, Sales Tax         833 non-null    int64  \n",
      " 26  Number of Deliveries                    833 non-null    int64  \n",
      " 27  Number of Returns                       833 non-null    int64  \n",
      " 28  Cost of logistics, inc.sales tax        833 non-null    int64  \n",
      " 29  Box Type                                833 non-null    object \n",
      " 30  Discount                                833 non-null    int64  \n",
      " 31  Promo Code                              833 non-null    int64  \n",
      "dtypes: float64(7), int64(15), object(10)\n",
      "memory usage: 208.4+ KB\n"
     ]
    }
   ],
   "source": [
    "df.info()\n"
   ]
  },
  {
   "cell_type": "code",
   "execution_count": 5,
   "id": "a56dc01e",
   "metadata": {},
   "outputs": [],
   "source": [
    "d1=pd.read_excel('Sales Report 19-10-2020 _ 01-11-2020.xlsx')"
   ]
  },
  {
   "cell_type": "code",
   "execution_count": 6,
   "id": "3664f223",
   "metadata": {},
   "outputs": [
    {
     "data": {
      "text/html": [
       "<div>\n",
       "<style scoped>\n",
       "    .dataframe tbody tr th:only-of-type {\n",
       "        vertical-align: middle;\n",
       "    }\n",
       "\n",
       "    .dataframe tbody tr th {\n",
       "        vertical-align: top;\n",
       "    }\n",
       "\n",
       "    .dataframe thead th {\n",
       "        text-align: right;\n",
       "    }\n",
       "</style>\n",
       "<table border=\"1\" class=\"dataframe\">\n",
       "  <thead>\n",
       "    <tr style=\"text-align: right;\">\n",
       "      <th></th>\n",
       "      <th>Delivery number</th>\n",
       "      <th>Goods</th>\n",
       "      <th>Product Code</th>\n",
       "      <th>Brand</th>\n",
       "      <th>Vendore Code</th>\n",
       "      <th>Size</th>\n",
       "      <th>Barcode</th>\n",
       "      <th>Document Type</th>\n",
       "      <th>Quantity</th>\n",
       "      <th>Sales Tax</th>\n",
       "      <th>...</th>\n",
       "      <th>-Internal</th>\n",
       "      <th>Retail price after the agreed discount</th>\n",
       "      <th>To be paid for goods</th>\n",
       "      <th>To be paid for goods, Sales Tax</th>\n",
       "      <th>Number of Deliveries</th>\n",
       "      <th>Number of Returns</th>\n",
       "      <th>Cost of logistics, inc.sales tax</th>\n",
       "      <th>Box Type</th>\n",
       "      <th>Discount</th>\n",
       "      <th>Promo Code</th>\n",
       "    </tr>\n",
       "  </thead>\n",
       "  <tbody>\n",
       "    <tr>\n",
       "      <th>0</th>\n",
       "      <td>1103132</td>\n",
       "      <td>Yarn</td>\n",
       "      <td>12475428</td>\n",
       "      <td>Alpine Fair</td>\n",
       "      <td>jl4-gray</td>\n",
       "      <td>36-38</td>\n",
       "      <td>4650100001900</td>\n",
       "      <td>Sale</td>\n",
       "      <td>0</td>\n",
       "      <td>0</td>\n",
       "      <td>...</td>\n",
       "      <td>1154509596</td>\n",
       "      <td>0.0</td>\n",
       "      <td>0.0</td>\n",
       "      <td>0</td>\n",
       "      <td>1</td>\n",
       "      <td>0</td>\n",
       "      <td>20</td>\n",
       "      <td>Mono</td>\n",
       "      <td>0</td>\n",
       "      <td>0</td>\n",
       "    </tr>\n",
       "    <tr>\n",
       "      <th>1</th>\n",
       "      <td>1103132</td>\n",
       "      <td>Socks</td>\n",
       "      <td>12475424</td>\n",
       "      <td>Alpine Fair</td>\n",
       "      <td>jl11-white</td>\n",
       "      <td>36-38</td>\n",
       "      <td>4650100001702</td>\n",
       "      <td>Sale</td>\n",
       "      <td>0</td>\n",
       "      <td>0</td>\n",
       "      <td>...</td>\n",
       "      <td>1154509496</td>\n",
       "      <td>0.0</td>\n",
       "      <td>0.0</td>\n",
       "      <td>0</td>\n",
       "      <td>1</td>\n",
       "      <td>0</td>\n",
       "      <td>20</td>\n",
       "      <td>Mix</td>\n",
       "      <td>0</td>\n",
       "      <td>0</td>\n",
       "    </tr>\n",
       "    <tr>\n",
       "      <th>2</th>\n",
       "      <td>1103132</td>\n",
       "      <td>Socks</td>\n",
       "      <td>12668977</td>\n",
       "      <td>Alpine Fair</td>\n",
       "      <td>ml2-black</td>\n",
       "      <td>39-41</td>\n",
       "      <td>2000341070098</td>\n",
       "      <td>Sale</td>\n",
       "      <td>0</td>\n",
       "      <td>0</td>\n",
       "      <td>...</td>\n",
       "      <td>1154509502</td>\n",
       "      <td>0.0</td>\n",
       "      <td>0.0</td>\n",
       "      <td>0</td>\n",
       "      <td>1</td>\n",
       "      <td>0</td>\n",
       "      <td>20</td>\n",
       "      <td>Mix</td>\n",
       "      <td>0</td>\n",
       "      <td>0</td>\n",
       "    </tr>\n",
       "    <tr>\n",
       "      <th>3</th>\n",
       "      <td>1103132</td>\n",
       "      <td>Socks</td>\n",
       "      <td>12475428</td>\n",
       "      <td>Alpine Fair</td>\n",
       "      <td>jl4-gray</td>\n",
       "      <td>36-38</td>\n",
       "      <td>4650100001900</td>\n",
       "      <td>Sale</td>\n",
       "      <td>1</td>\n",
       "      <td>0</td>\n",
       "      <td>...</td>\n",
       "      <td>1154509596</td>\n",
       "      <td>308.0</td>\n",
       "      <td>261.8</td>\n",
       "      <td>0</td>\n",
       "      <td>0</td>\n",
       "      <td>0</td>\n",
       "      <td>0</td>\n",
       "      <td>No Boxes</td>\n",
       "      <td>30</td>\n",
       "      <td>20</td>\n",
       "    </tr>\n",
       "    <tr>\n",
       "      <th>4</th>\n",
       "      <td>1103132</td>\n",
       "      <td>Socks</td>\n",
       "      <td>12475428</td>\n",
       "      <td>Alpine Fair</td>\n",
       "      <td>jl4-gray</td>\n",
       "      <td>36-38</td>\n",
       "      <td>4650100001900</td>\n",
       "      <td>Sale</td>\n",
       "      <td>0</td>\n",
       "      <td>0</td>\n",
       "      <td>...</td>\n",
       "      <td>1154509590</td>\n",
       "      <td>0.0</td>\n",
       "      <td>0.0</td>\n",
       "      <td>0</td>\n",
       "      <td>1</td>\n",
       "      <td>0</td>\n",
       "      <td>20</td>\n",
       "      <td>No Boxes</td>\n",
       "      <td>0</td>\n",
       "      <td>0</td>\n",
       "    </tr>\n",
       "  </tbody>\n",
       "</table>\n",
       "<p>5 rows × 32 columns</p>\n",
       "</div>"
      ],
      "text/plain": [
       "   Delivery number   Goods  Product Code        Brand Vendore Code   Size  \\\n",
       "0           1103132   Yarn      12475428  Alpine Fair     jl4-gray  36-38   \n",
       "1           1103132  Socks      12475424  Alpine Fair   jl11-white  36-38   \n",
       "2           1103132  Socks      12668977  Alpine Fair    ml2-black  39-41   \n",
       "3           1103132  Socks      12475428  Alpine Fair     jl4-gray  36-38   \n",
       "4           1103132  Socks      12475428  Alpine Fair     jl4-gray  36-38   \n",
       "\n",
       "         Barcode Document Type  Quantity  Sales Tax  ...   -Internal  \\\n",
       "0  4650100001900          Sale         0          0  ...  1154509596   \n",
       "1  4650100001702          Sale         0          0  ...  1154509496   \n",
       "2  2000341070098          Sale         0          0  ...  1154509502   \n",
       "3  4650100001900          Sale         1          0  ...  1154509596   \n",
       "4  4650100001900          Sale         0          0  ...  1154509590   \n",
       "\n",
       "   Retail price after the agreed discount  To be paid for goods  \\\n",
       "0                                     0.0                   0.0   \n",
       "1                                     0.0                   0.0   \n",
       "2                                     0.0                   0.0   \n",
       "3                                   308.0                 261.8   \n",
       "4                                     0.0                   0.0   \n",
       "\n",
       "   To be paid for goods, Sales Tax  Number of Deliveries  Number of Returns  \\\n",
       "0                                0                     1                  0   \n",
       "1                                0                     1                  0   \n",
       "2                                0                     1                  0   \n",
       "3                                0                     0                  0   \n",
       "4                                0                     1                  0   \n",
       "\n",
       "   Cost of logistics, inc.sales tax  Box Type Discount Promo Code  \n",
       "0                                20      Mono        0          0  \n",
       "1                                20       Mix        0          0  \n",
       "2                                20       Mix        0          0  \n",
       "3                                 0  No Boxes       30         20  \n",
       "4                                20  No Boxes        0          0  \n",
       "\n",
       "[5 rows x 32 columns]"
      ]
     },
     "execution_count": 6,
     "metadata": {},
     "output_type": "execute_result"
    }
   ],
   "source": [
    "d1.head()"
   ]
  },
  {
   "cell_type": "code",
   "execution_count": 7,
   "id": "734233f0",
   "metadata": {},
   "outputs": [
    {
     "name": "stdout",
     "output_type": "stream",
     "text": [
      "<class 'pandas.core.frame.DataFrame'>\n",
      "RangeIndex: 904 entries, 0 to 903\n",
      "Data columns (total 32 columns):\n",
      " #   Column                                  Non-Null Count  Dtype  \n",
      "---  ------                                  --------------  -----  \n",
      " 0   Delivery number                         904 non-null    int64  \n",
      " 1   Goods                                   904 non-null    object \n",
      " 2   Product Code                            904 non-null    int64  \n",
      " 3   Brand                                   904 non-null    object \n",
      " 4   Vendore Code                            904 non-null    object \n",
      " 5   Size                                    904 non-null    object \n",
      " 6   Barcode                                 904 non-null    int64  \n",
      " 7   Document Type                           904 non-null    object \n",
      " 8   Quantity                                904 non-null    int64  \n",
      " 9   Sales Tax                               904 non-null    int64  \n",
      " 10  Cost                                    904 non-null    int64  \n",
      " 11  Selling Price                           904 non-null    int64  \n",
      " 12  Sales                                   904 non-null    float64\n",
      " 13  Sales commission amount                 904 non-null    float64\n",
      " 14  Discount Approved                       904 non-null    float64\n",
      " 15  Comission percentage                    904 non-null    float64\n",
      " 16  Buyer Reward                            904 non-null    int64  \n",
      " 17  Seller Reward                           904 non-null    float64\n",
      " 18  Warehouse                               904 non-null    object \n",
      " 19  Payment for                             904 non-null    object \n",
      " 20  Order Date                              904 non-null    object \n",
      " 21  Sales Date                              904 non-null    object \n",
      " 22  -Internal                               904 non-null    int64  \n",
      " 23  Retail price after the agreed discount  904 non-null    float64\n",
      " 24  To be paid for goods                    904 non-null    float64\n",
      " 25  To be paid for goods, Sales Tax         904 non-null    int64  \n",
      " 26  Number of Deliveries                    904 non-null    int64  \n",
      " 27  Number of Returns                       904 non-null    int64  \n",
      " 28  Cost of logistics, inc.sales tax        904 non-null    int64  \n",
      " 29  Box Type                                904 non-null    object \n",
      " 30  Discount                                904 non-null    int64  \n",
      " 31  Promo Code                              904 non-null    int64  \n",
      "dtypes: float64(7), int64(15), object(10)\n",
      "memory usage: 226.1+ KB\n"
     ]
    }
   ],
   "source": [
    "d1.info()"
   ]
  },
  {
   "cell_type": "code",
   "execution_count": 8,
   "id": "51af3949",
   "metadata": {},
   "outputs": [],
   "source": [
    "d2=pd.read_excel('Sales Report 31-10-2020 _ 08-11-2020.xlsx')"
   ]
  },
  {
   "cell_type": "code",
   "execution_count": 9,
   "id": "d521bae4",
   "metadata": {},
   "outputs": [
    {
     "data": {
      "text/html": [
       "<div>\n",
       "<style scoped>\n",
       "    .dataframe tbody tr th:only-of-type {\n",
       "        vertical-align: middle;\n",
       "    }\n",
       "\n",
       "    .dataframe tbody tr th {\n",
       "        vertical-align: top;\n",
       "    }\n",
       "\n",
       "    .dataframe thead th {\n",
       "        text-align: right;\n",
       "    }\n",
       "</style>\n",
       "<table border=\"1\" class=\"dataframe\">\n",
       "  <thead>\n",
       "    <tr style=\"text-align: right;\">\n",
       "      <th></th>\n",
       "      <th>Delivery number</th>\n",
       "      <th>Goods</th>\n",
       "      <th>Product Code</th>\n",
       "      <th>Brand</th>\n",
       "      <th>Vendore Code</th>\n",
       "      <th>Size</th>\n",
       "      <th>Barcode</th>\n",
       "      <th>Document Type</th>\n",
       "      <th>Quantity</th>\n",
       "      <th>Sales Tax</th>\n",
       "      <th>...</th>\n",
       "      <th>-Internal</th>\n",
       "      <th>Retail price after the agreed discount</th>\n",
       "      <th>To be paid for goods</th>\n",
       "      <th>To be paid for goods, Sales Tax</th>\n",
       "      <th>Number of Deliveries</th>\n",
       "      <th>Number of Returns</th>\n",
       "      <th>Cost of logistics, inc.sales tax</th>\n",
       "      <th>Box Type</th>\n",
       "      <th>Discount</th>\n",
       "      <th>Promo Code</th>\n",
       "    </tr>\n",
       "  </thead>\n",
       "  <tbody>\n",
       "    <tr>\n",
       "      <th>0</th>\n",
       "      <td>1559962</td>\n",
       "      <td>Socks</td>\n",
       "      <td>15120239</td>\n",
       "      <td>Alpine Fair</td>\n",
       "      <td>nzo1-wb/wg</td>\n",
       "      <td>39-41</td>\n",
       "      <td>2000541272032</td>\n",
       "      <td>Sale</td>\n",
       "      <td>0</td>\n",
       "      <td>0</td>\n",
       "      <td>...</td>\n",
       "      <td>1730338812</td>\n",
       "      <td>0.0</td>\n",
       "      <td>0.00</td>\n",
       "      <td>0</td>\n",
       "      <td>1</td>\n",
       "      <td>0</td>\n",
       "      <td>20</td>\n",
       "      <td>No Boxes</td>\n",
       "      <td>0</td>\n",
       "      <td>0</td>\n",
       "    </tr>\n",
       "    <tr>\n",
       "      <th>1</th>\n",
       "      <td>1559962</td>\n",
       "      <td>Yarn</td>\n",
       "      <td>14764392</td>\n",
       "      <td>Alpine Fair</td>\n",
       "      <td>pr1-dgray</td>\n",
       "      <td>0</td>\n",
       "      <td>4630109270408</td>\n",
       "      <td>Sale</td>\n",
       "      <td>0</td>\n",
       "      <td>0</td>\n",
       "      <td>...</td>\n",
       "      <td>1730671784</td>\n",
       "      <td>0.0</td>\n",
       "      <td>0.00</td>\n",
       "      <td>0</td>\n",
       "      <td>1</td>\n",
       "      <td>0</td>\n",
       "      <td>30</td>\n",
       "      <td>Mono</td>\n",
       "      <td>0</td>\n",
       "      <td>0</td>\n",
       "    </tr>\n",
       "    <tr>\n",
       "      <th>2</th>\n",
       "      <td>1595575</td>\n",
       "      <td>Yarn</td>\n",
       "      <td>12694659</td>\n",
       "      <td>Alpine Fair</td>\n",
       "      <td>pr1-white</td>\n",
       "      <td>0</td>\n",
       "      <td>4630109270309</td>\n",
       "      <td>Sale</td>\n",
       "      <td>1</td>\n",
       "      <td>0</td>\n",
       "      <td>...</td>\n",
       "      <td>1764250443</td>\n",
       "      <td>220.5</td>\n",
       "      <td>194.04</td>\n",
       "      <td>0</td>\n",
       "      <td>0</td>\n",
       "      <td>0</td>\n",
       "      <td>0</td>\n",
       "      <td>No Boxes</td>\n",
       "      <td>30</td>\n",
       "      <td>25</td>\n",
       "    </tr>\n",
       "    <tr>\n",
       "      <th>3</th>\n",
       "      <td>1595575</td>\n",
       "      <td>Yarn</td>\n",
       "      <td>12694659</td>\n",
       "      <td>Alpine Fair</td>\n",
       "      <td>pr1-white</td>\n",
       "      <td>0</td>\n",
       "      <td>4630109270309</td>\n",
       "      <td>Sale</td>\n",
       "      <td>0</td>\n",
       "      <td>0</td>\n",
       "      <td>...</td>\n",
       "      <td>1764254099</td>\n",
       "      <td>0.0</td>\n",
       "      <td>0.00</td>\n",
       "      <td>0</td>\n",
       "      <td>1</td>\n",
       "      <td>0</td>\n",
       "      <td>30</td>\n",
       "      <td>No Boxes</td>\n",
       "      <td>0</td>\n",
       "      <td>0</td>\n",
       "    </tr>\n",
       "    <tr>\n",
       "      <th>4</th>\n",
       "      <td>1595575</td>\n",
       "      <td>Yarn</td>\n",
       "      <td>12694659</td>\n",
       "      <td>Alpine Fair</td>\n",
       "      <td>pr1-white</td>\n",
       "      <td>0</td>\n",
       "      <td>4630109270309</td>\n",
       "      <td>Sale</td>\n",
       "      <td>0</td>\n",
       "      <td>0</td>\n",
       "      <td>...</td>\n",
       "      <td>1764252912</td>\n",
       "      <td>0.0</td>\n",
       "      <td>0.00</td>\n",
       "      <td>0</td>\n",
       "      <td>1</td>\n",
       "      <td>0</td>\n",
       "      <td>30</td>\n",
       "      <td>Mono</td>\n",
       "      <td>0</td>\n",
       "      <td>0</td>\n",
       "    </tr>\n",
       "  </tbody>\n",
       "</table>\n",
       "<p>5 rows × 32 columns</p>\n",
       "</div>"
      ],
      "text/plain": [
       "   Delivery number   Goods  Product Code        Brand Vendore Code   Size  \\\n",
       "0           1559962  Socks      15120239  Alpine Fair   nzo1-wb/wg  39-41   \n",
       "1           1559962   Yarn      14764392  Alpine Fair    pr1-dgray      0   \n",
       "2           1595575   Yarn      12694659  Alpine Fair    pr1-white      0   \n",
       "3           1595575   Yarn      12694659  Alpine Fair    pr1-white      0   \n",
       "4           1595575   Yarn      12694659  Alpine Fair    pr1-white      0   \n",
       "\n",
       "         Barcode Document Type  Quantity  Sales Tax  ...   -Internal  \\\n",
       "0  2000541272032          Sale         0          0  ...  1730338812   \n",
       "1  4630109270408          Sale         0          0  ...  1730671784   \n",
       "2  4630109270309          Sale         1          0  ...  1764250443   \n",
       "3  4630109270309          Sale         0          0  ...  1764254099   \n",
       "4  4630109270309          Sale         0          0  ...  1764252912   \n",
       "\n",
       "   Retail price after the agreed discount  To be paid for goods  \\\n",
       "0                                     0.0                  0.00   \n",
       "1                                     0.0                  0.00   \n",
       "2                                   220.5                194.04   \n",
       "3                                     0.0                  0.00   \n",
       "4                                     0.0                  0.00   \n",
       "\n",
       "   To be paid for goods, Sales Tax  Number of Deliveries  Number of Returns  \\\n",
       "0                                0                     1                  0   \n",
       "1                                0                     1                  0   \n",
       "2                                0                     0                  0   \n",
       "3                                0                     1                  0   \n",
       "4                                0                     1                  0   \n",
       "\n",
       "   Cost of logistics, inc.sales tax  Box Type Discount Promo Code  \n",
       "0                                20  No Boxes        0          0  \n",
       "1                                30      Mono        0          0  \n",
       "2                                 0  No Boxes       30         25  \n",
       "3                                30  No Boxes        0          0  \n",
       "4                                30      Mono        0          0  \n",
       "\n",
       "[5 rows x 32 columns]"
      ]
     },
     "execution_count": 9,
     "metadata": {},
     "output_type": "execute_result"
    }
   ],
   "source": [
    "d2.head()"
   ]
  },
  {
   "cell_type": "code",
   "execution_count": 10,
   "id": "23126f71",
   "metadata": {},
   "outputs": [
    {
     "name": "stdout",
     "output_type": "stream",
     "text": [
      "<class 'pandas.core.frame.DataFrame'>\n",
      "RangeIndex: 748 entries, 0 to 747\n",
      "Data columns (total 32 columns):\n",
      " #   Column                                  Non-Null Count  Dtype  \n",
      "---  ------                                  --------------  -----  \n",
      " 0   Delivery number                         748 non-null    int64  \n",
      " 1   Goods                                   748 non-null    object \n",
      " 2   Product Code                            748 non-null    int64  \n",
      " 3   Brand                                   748 non-null    object \n",
      " 4   Vendore Code                            748 non-null    object \n",
      " 5   Size                                    748 non-null    object \n",
      " 6   Barcode                                 748 non-null    int64  \n",
      " 7   Document Type                           748 non-null    object \n",
      " 8   Quantity                                748 non-null    int64  \n",
      " 9   Sales Tax                               748 non-null    int64  \n",
      " 10  Cost                                    748 non-null    int64  \n",
      " 11  Selling Price                           748 non-null    int64  \n",
      " 12  Sales                                   748 non-null    float64\n",
      " 13  Sales commission amount                 748 non-null    float64\n",
      " 14  Discount Approved                       748 non-null    float64\n",
      " 15  Comission percentage                    748 non-null    float64\n",
      " 16  Buyer Reward                            748 non-null    int64  \n",
      " 17  Seller Reward                           748 non-null    float64\n",
      " 18  Warehouse                               748 non-null    object \n",
      " 19  Payment for                             748 non-null    object \n",
      " 20  Order Date                              748 non-null    object \n",
      " 21  Sales Date                              748 non-null    object \n",
      " 22  -Internal                               748 non-null    int64  \n",
      " 23  Retail price after the agreed discount  748 non-null    float64\n",
      " 24  To be paid for goods                    748 non-null    float64\n",
      " 25  To be paid for goods, Sales Tax         748 non-null    int64  \n",
      " 26  Number of Deliveries                    748 non-null    int64  \n",
      " 27  Number of Returns                       748 non-null    int64  \n",
      " 28  Cost of logistics, inc.sales tax        748 non-null    int64  \n",
      " 29  Box Type                                748 non-null    object \n",
      " 30  Discount                                748 non-null    int64  \n",
      " 31  Promo Code                              748 non-null    int64  \n",
      "dtypes: float64(7), int64(15), object(10)\n",
      "memory usage: 187.1+ KB\n"
     ]
    }
   ],
   "source": [
    "d2.info()"
   ]
  },
  {
   "cell_type": "code",
   "execution_count": 11,
   "id": "fc307a71",
   "metadata": {},
   "outputs": [],
   "source": [
    "sales=pd.concat([df,d1,d2])"
   ]
  },
  {
   "cell_type": "code",
   "execution_count": 12,
   "id": "c9720076",
   "metadata": {},
   "outputs": [
    {
     "data": {
      "text/html": [
       "<div>\n",
       "<style scoped>\n",
       "    .dataframe tbody tr th:only-of-type {\n",
       "        vertical-align: middle;\n",
       "    }\n",
       "\n",
       "    .dataframe tbody tr th {\n",
       "        vertical-align: top;\n",
       "    }\n",
       "\n",
       "    .dataframe thead th {\n",
       "        text-align: right;\n",
       "    }\n",
       "</style>\n",
       "<table border=\"1\" class=\"dataframe\">\n",
       "  <thead>\n",
       "    <tr style=\"text-align: right;\">\n",
       "      <th></th>\n",
       "      <th>Delivery number</th>\n",
       "      <th>Goods</th>\n",
       "      <th>Product Code</th>\n",
       "      <th>Brand</th>\n",
       "      <th>Vendore Code</th>\n",
       "      <th>Size</th>\n",
       "      <th>Barcode</th>\n",
       "      <th>Document Type</th>\n",
       "      <th>Quantity</th>\n",
       "      <th>Sales Tax</th>\n",
       "      <th>...</th>\n",
       "      <th>-Internal</th>\n",
       "      <th>Retail price after the agreed discount</th>\n",
       "      <th>To be paid for goods</th>\n",
       "      <th>To be paid for goods, Sales Tax</th>\n",
       "      <th>Number of Deliveries</th>\n",
       "      <th>Number of Returns</th>\n",
       "      <th>Cost of logistics, inc.sales tax</th>\n",
       "      <th>Box Type</th>\n",
       "      <th>Discount</th>\n",
       "      <th>Promo Code</th>\n",
       "    </tr>\n",
       "  </thead>\n",
       "  <tbody>\n",
       "    <tr>\n",
       "      <th>0</th>\n",
       "      <td>1634517</td>\n",
       "      <td>Yarn</td>\n",
       "      <td>15120240</td>\n",
       "      <td>Alpine Fair</td>\n",
       "      <td>nzo1-wr/wb</td>\n",
       "      <td>39-41</td>\n",
       "      <td>2000541272018</td>\n",
       "      <td>Sale</td>\n",
       "      <td>0</td>\n",
       "      <td>0</td>\n",
       "      <td>...</td>\n",
       "      <td>1809546947</td>\n",
       "      <td>0.0</td>\n",
       "      <td>0.0</td>\n",
       "      <td>0</td>\n",
       "      <td>1</td>\n",
       "      <td>0</td>\n",
       "      <td>20</td>\n",
       "      <td>Mix</td>\n",
       "      <td>0</td>\n",
       "      <td>0</td>\n",
       "    </tr>\n",
       "    <tr>\n",
       "      <th>1</th>\n",
       "      <td>1625587</td>\n",
       "      <td>Socks</td>\n",
       "      <td>15120240</td>\n",
       "      <td>Alpine Fair</td>\n",
       "      <td>nzo1-wr/wb</td>\n",
       "      <td>36-38</td>\n",
       "      <td>2000541272001</td>\n",
       "      <td>Sale</td>\n",
       "      <td>0</td>\n",
       "      <td>0</td>\n",
       "      <td>...</td>\n",
       "      <td>1791240995</td>\n",
       "      <td>0.0</td>\n",
       "      <td>0.0</td>\n",
       "      <td>0</td>\n",
       "      <td>1</td>\n",
       "      <td>0</td>\n",
       "      <td>20</td>\n",
       "      <td>Mix</td>\n",
       "      <td>0</td>\n",
       "      <td>0</td>\n",
       "    </tr>\n",
       "    <tr>\n",
       "      <th>2</th>\n",
       "      <td>1625587</td>\n",
       "      <td>Socks</td>\n",
       "      <td>15226402</td>\n",
       "      <td>Alpine Fair</td>\n",
       "      <td>mz14-wrbbg</td>\n",
       "      <td>36-38</td>\n",
       "      <td>2000550776002</td>\n",
       "      <td>Sale</td>\n",
       "      <td>0</td>\n",
       "      <td>0</td>\n",
       "      <td>...</td>\n",
       "      <td>1791275077</td>\n",
       "      <td>0.0</td>\n",
       "      <td>0.0</td>\n",
       "      <td>0</td>\n",
       "      <td>1</td>\n",
       "      <td>0</td>\n",
       "      <td>20</td>\n",
       "      <td>Mix</td>\n",
       "      <td>0</td>\n",
       "      <td>0</td>\n",
       "    </tr>\n",
       "    <tr>\n",
       "      <th>3</th>\n",
       "      <td>1625587</td>\n",
       "      <td>Socks</td>\n",
       "      <td>15226402</td>\n",
       "      <td>Alpine Fair</td>\n",
       "      <td>mz14-wrbbg</td>\n",
       "      <td>36-38</td>\n",
       "      <td>2000550776002</td>\n",
       "      <td>Sale</td>\n",
       "      <td>0</td>\n",
       "      <td>0</td>\n",
       "      <td>...</td>\n",
       "      <td>1791252391</td>\n",
       "      <td>0.0</td>\n",
       "      <td>0.0</td>\n",
       "      <td>0</td>\n",
       "      <td>1</td>\n",
       "      <td>0</td>\n",
       "      <td>20</td>\n",
       "      <td>Mix</td>\n",
       "      <td>0</td>\n",
       "      <td>0</td>\n",
       "    </tr>\n",
       "    <tr>\n",
       "      <th>4</th>\n",
       "      <td>1625587</td>\n",
       "      <td>Socks</td>\n",
       "      <td>15120240</td>\n",
       "      <td>Alpine Fair</td>\n",
       "      <td>nzo1-wr/wb</td>\n",
       "      <td>36-38</td>\n",
       "      <td>2000541272001</td>\n",
       "      <td>Sale</td>\n",
       "      <td>0</td>\n",
       "      <td>0</td>\n",
       "      <td>...</td>\n",
       "      <td>1791240801</td>\n",
       "      <td>0.0</td>\n",
       "      <td>0.0</td>\n",
       "      <td>0</td>\n",
       "      <td>1</td>\n",
       "      <td>0</td>\n",
       "      <td>20</td>\n",
       "      <td>Mix</td>\n",
       "      <td>0</td>\n",
       "      <td>0</td>\n",
       "    </tr>\n",
       "  </tbody>\n",
       "</table>\n",
       "<p>5 rows × 32 columns</p>\n",
       "</div>"
      ],
      "text/plain": [
       "   Delivery number   Goods  Product Code        Brand Vendore Code   Size  \\\n",
       "0           1634517   Yarn      15120240  Alpine Fair   nzo1-wr/wb  39-41   \n",
       "1           1625587  Socks      15120240  Alpine Fair   nzo1-wr/wb  36-38   \n",
       "2           1625587  Socks      15226402  Alpine Fair   mz14-wrbbg  36-38   \n",
       "3           1625587  Socks      15226402  Alpine Fair   mz14-wrbbg  36-38   \n",
       "4           1625587  Socks      15120240  Alpine Fair   nzo1-wr/wb  36-38   \n",
       "\n",
       "         Barcode Document Type  Quantity  Sales Tax  ...   -Internal  \\\n",
       "0  2000541272018          Sale         0          0  ...  1809546947   \n",
       "1  2000541272001          Sale         0          0  ...  1791240995   \n",
       "2  2000550776002          Sale         0          0  ...  1791275077   \n",
       "3  2000550776002          Sale         0          0  ...  1791252391   \n",
       "4  2000541272001          Sale         0          0  ...  1791240801   \n",
       "\n",
       "   Retail price after the agreed discount  To be paid for goods  \\\n",
       "0                                     0.0                   0.0   \n",
       "1                                     0.0                   0.0   \n",
       "2                                     0.0                   0.0   \n",
       "3                                     0.0                   0.0   \n",
       "4                                     0.0                   0.0   \n",
       "\n",
       "   To be paid for goods, Sales Tax  Number of Deliveries  Number of Returns  \\\n",
       "0                                0                     1                  0   \n",
       "1                                0                     1                  0   \n",
       "2                                0                     1                  0   \n",
       "3                                0                     1                  0   \n",
       "4                                0                     1                  0   \n",
       "\n",
       "   Cost of logistics, inc.sales tax  Box Type Discount Promo Code  \n",
       "0                                20       Mix        0          0  \n",
       "1                                20       Mix        0          0  \n",
       "2                                20       Mix        0          0  \n",
       "3                                20       Mix        0          0  \n",
       "4                                20       Mix        0          0  \n",
       "\n",
       "[5 rows x 32 columns]"
      ]
     },
     "execution_count": 12,
     "metadata": {},
     "output_type": "execute_result"
    }
   ],
   "source": [
    "sales.head()"
   ]
  },
  {
   "cell_type": "code",
   "execution_count": 13,
   "id": "41c474b6",
   "metadata": {},
   "outputs": [
    {
     "data": {
      "text/plain": [
       "(2485, 32)"
      ]
     },
     "execution_count": 13,
     "metadata": {},
     "output_type": "execute_result"
    }
   ],
   "source": [
    "sales.shape"
   ]
  },
  {
   "cell_type": "code",
   "execution_count": 14,
   "id": "1ef788df",
   "metadata": {},
   "outputs": [
    {
     "name": "stdout",
     "output_type": "stream",
     "text": [
      "['Delivery number ', 'Goods', 'Product Code', 'Brand', 'Vendore Code', 'Size', 'Barcode', 'Document Type', 'Quantity', 'Sales Tax', 'Cost', 'Selling Price', 'Sales', 'Sales commission amount', 'Discount Approved', 'Comission percentage', 'Buyer Reward', 'Seller Reward', 'Warehouse', 'Payment for', 'Order Date', 'Sales Date', '-Internal', 'Retail price after the agreed discount', 'To be paid for goods', 'To be paid for goods, Sales Tax', 'Number of Deliveries', 'Number of Returns', 'Cost of logistics, inc.sales tax', 'Box Type', 'Discount', 'Promo Code']\n"
     ]
    }
   ],
   "source": [
    "print(df.columns.tolist())"
   ]
  },
  {
   "cell_type": "code",
   "execution_count": 15,
   "id": "cabfead6",
   "metadata": {},
   "outputs": [],
   "source": [
    "pd.options.display.max_columns = None"
   ]
  },
  {
   "cell_type": "code",
   "execution_count": 16,
   "id": "744865d0",
   "metadata": {},
   "outputs": [
    {
     "data": {
      "text/html": [
       "<div>\n",
       "<style scoped>\n",
       "    .dataframe tbody tr th:only-of-type {\n",
       "        vertical-align: middle;\n",
       "    }\n",
       "\n",
       "    .dataframe tbody tr th {\n",
       "        vertical-align: top;\n",
       "    }\n",
       "\n",
       "    .dataframe thead th {\n",
       "        text-align: right;\n",
       "    }\n",
       "</style>\n",
       "<table border=\"1\" class=\"dataframe\">\n",
       "  <thead>\n",
       "    <tr style=\"text-align: right;\">\n",
       "      <th></th>\n",
       "      <th>Delivery number</th>\n",
       "      <th>Goods</th>\n",
       "      <th>Product Code</th>\n",
       "      <th>Brand</th>\n",
       "      <th>Vendore Code</th>\n",
       "      <th>Size</th>\n",
       "      <th>Barcode</th>\n",
       "      <th>Document Type</th>\n",
       "      <th>Quantity</th>\n",
       "      <th>Sales Tax</th>\n",
       "      <th>Cost</th>\n",
       "      <th>Selling Price</th>\n",
       "      <th>Sales</th>\n",
       "      <th>Sales commission amount</th>\n",
       "      <th>Discount Approved</th>\n",
       "      <th>Comission percentage</th>\n",
       "      <th>Buyer Reward</th>\n",
       "      <th>Seller Reward</th>\n",
       "      <th>Warehouse</th>\n",
       "      <th>Payment for</th>\n",
       "      <th>Order Date</th>\n",
       "      <th>Sales Date</th>\n",
       "      <th>-Internal</th>\n",
       "      <th>Retail price after the agreed discount</th>\n",
       "      <th>To be paid for goods</th>\n",
       "      <th>To be paid for goods, Sales Tax</th>\n",
       "      <th>Number of Deliveries</th>\n",
       "      <th>Number of Returns</th>\n",
       "      <th>Cost of logistics, inc.sales tax</th>\n",
       "      <th>Box Type</th>\n",
       "      <th>Discount</th>\n",
       "      <th>Promo Code</th>\n",
       "    </tr>\n",
       "  </thead>\n",
       "  <tbody>\n",
       "    <tr>\n",
       "      <th>0</th>\n",
       "      <td>1634517</td>\n",
       "      <td>Yarn</td>\n",
       "      <td>15120240</td>\n",
       "      <td>Alpine Fair</td>\n",
       "      <td>nzo1-wr/wb</td>\n",
       "      <td>39-41</td>\n",
       "      <td>2000541272018</td>\n",
       "      <td>Sale</td>\n",
       "      <td>0</td>\n",
       "      <td>0</td>\n",
       "      <td>0</td>\n",
       "      <td>0</td>\n",
       "      <td>0.0</td>\n",
       "      <td>0.0</td>\n",
       "      <td>0.0</td>\n",
       "      <td>0.0</td>\n",
       "      <td>0</td>\n",
       "      <td>0.0</td>\n",
       "      <td>Podolsk</td>\n",
       "      <td>Logistics</td>\n",
       "      <td>2020-11-15T00:00:00+03:00</td>\n",
       "      <td>2020-11-15T00:00:00+03:00</td>\n",
       "      <td>1809546947</td>\n",
       "      <td>0.0</td>\n",
       "      <td>0.0</td>\n",
       "      <td>0</td>\n",
       "      <td>1</td>\n",
       "      <td>0</td>\n",
       "      <td>20</td>\n",
       "      <td>Mix</td>\n",
       "      <td>0</td>\n",
       "      <td>0</td>\n",
       "    </tr>\n",
       "    <tr>\n",
       "      <th>1</th>\n",
       "      <td>1625587</td>\n",
       "      <td>Socks</td>\n",
       "      <td>15120240</td>\n",
       "      <td>Alpine Fair</td>\n",
       "      <td>nzo1-wr/wb</td>\n",
       "      <td>36-38</td>\n",
       "      <td>2000541272001</td>\n",
       "      <td>Sale</td>\n",
       "      <td>0</td>\n",
       "      <td>0</td>\n",
       "      <td>0</td>\n",
       "      <td>0</td>\n",
       "      <td>0.0</td>\n",
       "      <td>0.0</td>\n",
       "      <td>0.0</td>\n",
       "      <td>0.0</td>\n",
       "      <td>0</td>\n",
       "      <td>0.0</td>\n",
       "      <td>Podolsk</td>\n",
       "      <td>Logistics</td>\n",
       "      <td>2020-11-10T00:00:00+03:00</td>\n",
       "      <td>2020-11-10T00:00:00+03:00</td>\n",
       "      <td>1791240995</td>\n",
       "      <td>0.0</td>\n",
       "      <td>0.0</td>\n",
       "      <td>0</td>\n",
       "      <td>1</td>\n",
       "      <td>0</td>\n",
       "      <td>20</td>\n",
       "      <td>Mix</td>\n",
       "      <td>0</td>\n",
       "      <td>0</td>\n",
       "    </tr>\n",
       "    <tr>\n",
       "      <th>2</th>\n",
       "      <td>1625587</td>\n",
       "      <td>Socks</td>\n",
       "      <td>15226402</td>\n",
       "      <td>Alpine Fair</td>\n",
       "      <td>mz14-wrbbg</td>\n",
       "      <td>36-38</td>\n",
       "      <td>2000550776002</td>\n",
       "      <td>Sale</td>\n",
       "      <td>0</td>\n",
       "      <td>0</td>\n",
       "      <td>0</td>\n",
       "      <td>0</td>\n",
       "      <td>0.0</td>\n",
       "      <td>0.0</td>\n",
       "      <td>0.0</td>\n",
       "      <td>0.0</td>\n",
       "      <td>0</td>\n",
       "      <td>0.0</td>\n",
       "      <td>Podolsk</td>\n",
       "      <td>Logistics</td>\n",
       "      <td>2020-11-10T00:00:00+03:00</td>\n",
       "      <td>2020-11-10T00:00:00+03:00</td>\n",
       "      <td>1791275077</td>\n",
       "      <td>0.0</td>\n",
       "      <td>0.0</td>\n",
       "      <td>0</td>\n",
       "      <td>1</td>\n",
       "      <td>0</td>\n",
       "      <td>20</td>\n",
       "      <td>Mix</td>\n",
       "      <td>0</td>\n",
       "      <td>0</td>\n",
       "    </tr>\n",
       "    <tr>\n",
       "      <th>3</th>\n",
       "      <td>1625587</td>\n",
       "      <td>Socks</td>\n",
       "      <td>15226402</td>\n",
       "      <td>Alpine Fair</td>\n",
       "      <td>mz14-wrbbg</td>\n",
       "      <td>36-38</td>\n",
       "      <td>2000550776002</td>\n",
       "      <td>Sale</td>\n",
       "      <td>0</td>\n",
       "      <td>0</td>\n",
       "      <td>0</td>\n",
       "      <td>0</td>\n",
       "      <td>0.0</td>\n",
       "      <td>0.0</td>\n",
       "      <td>0.0</td>\n",
       "      <td>0.0</td>\n",
       "      <td>0</td>\n",
       "      <td>0.0</td>\n",
       "      <td>Podolsk</td>\n",
       "      <td>Logistics</td>\n",
       "      <td>2020-11-10T00:00:00+03:00</td>\n",
       "      <td>2020-11-10T00:00:00+03:00</td>\n",
       "      <td>1791252391</td>\n",
       "      <td>0.0</td>\n",
       "      <td>0.0</td>\n",
       "      <td>0</td>\n",
       "      <td>1</td>\n",
       "      <td>0</td>\n",
       "      <td>20</td>\n",
       "      <td>Mix</td>\n",
       "      <td>0</td>\n",
       "      <td>0</td>\n",
       "    </tr>\n",
       "    <tr>\n",
       "      <th>4</th>\n",
       "      <td>1625587</td>\n",
       "      <td>Socks</td>\n",
       "      <td>15120240</td>\n",
       "      <td>Alpine Fair</td>\n",
       "      <td>nzo1-wr/wb</td>\n",
       "      <td>36-38</td>\n",
       "      <td>2000541272001</td>\n",
       "      <td>Sale</td>\n",
       "      <td>0</td>\n",
       "      <td>0</td>\n",
       "      <td>0</td>\n",
       "      <td>0</td>\n",
       "      <td>0.0</td>\n",
       "      <td>0.0</td>\n",
       "      <td>0.0</td>\n",
       "      <td>0.0</td>\n",
       "      <td>0</td>\n",
       "      <td>0.0</td>\n",
       "      <td>Podolsk</td>\n",
       "      <td>Logistics</td>\n",
       "      <td>2020-11-09T00:00:00+03:00</td>\n",
       "      <td>2020-11-09T00:00:00+03:00</td>\n",
       "      <td>1791240801</td>\n",
       "      <td>0.0</td>\n",
       "      <td>0.0</td>\n",
       "      <td>0</td>\n",
       "      <td>1</td>\n",
       "      <td>0</td>\n",
       "      <td>20</td>\n",
       "      <td>Mix</td>\n",
       "      <td>0</td>\n",
       "      <td>0</td>\n",
       "    </tr>\n",
       "  </tbody>\n",
       "</table>\n",
       "</div>"
      ],
      "text/plain": [
       "   Delivery number   Goods  Product Code        Brand Vendore Code   Size  \\\n",
       "0           1634517   Yarn      15120240  Alpine Fair   nzo1-wr/wb  39-41   \n",
       "1           1625587  Socks      15120240  Alpine Fair   nzo1-wr/wb  36-38   \n",
       "2           1625587  Socks      15226402  Alpine Fair   mz14-wrbbg  36-38   \n",
       "3           1625587  Socks      15226402  Alpine Fair   mz14-wrbbg  36-38   \n",
       "4           1625587  Socks      15120240  Alpine Fair   nzo1-wr/wb  36-38   \n",
       "\n",
       "         Barcode Document Type  Quantity  Sales Tax  Cost  Selling Price  \\\n",
       "0  2000541272018          Sale         0          0     0              0   \n",
       "1  2000541272001          Sale         0          0     0              0   \n",
       "2  2000550776002          Sale         0          0     0              0   \n",
       "3  2000550776002          Sale         0          0     0              0   \n",
       "4  2000541272001          Sale         0          0     0              0   \n",
       "\n",
       "   Sales  Sales commission amount  Discount Approved  Comission percentage  \\\n",
       "0    0.0                      0.0                0.0                   0.0   \n",
       "1    0.0                      0.0                0.0                   0.0   \n",
       "2    0.0                      0.0                0.0                   0.0   \n",
       "3    0.0                      0.0                0.0                   0.0   \n",
       "4    0.0                      0.0                0.0                   0.0   \n",
       "\n",
       "   Buyer Reward  Seller Reward Warehouse Payment for  \\\n",
       "0             0            0.0   Podolsk   Logistics   \n",
       "1             0            0.0   Podolsk   Logistics   \n",
       "2             0            0.0   Podolsk   Logistics   \n",
       "3             0            0.0   Podolsk   Logistics   \n",
       "4             0            0.0   Podolsk   Logistics   \n",
       "\n",
       "                  Order Date                 Sales Date   -Internal  \\\n",
       "0  2020-11-15T00:00:00+03:00  2020-11-15T00:00:00+03:00  1809546947   \n",
       "1  2020-11-10T00:00:00+03:00  2020-11-10T00:00:00+03:00  1791240995   \n",
       "2  2020-11-10T00:00:00+03:00  2020-11-10T00:00:00+03:00  1791275077   \n",
       "3  2020-11-10T00:00:00+03:00  2020-11-10T00:00:00+03:00  1791252391   \n",
       "4  2020-11-09T00:00:00+03:00  2020-11-09T00:00:00+03:00  1791240801   \n",
       "\n",
       "   Retail price after the agreed discount  To be paid for goods  \\\n",
       "0                                     0.0                   0.0   \n",
       "1                                     0.0                   0.0   \n",
       "2                                     0.0                   0.0   \n",
       "3                                     0.0                   0.0   \n",
       "4                                     0.0                   0.0   \n",
       "\n",
       "   To be paid for goods, Sales Tax  Number of Deliveries  Number of Returns  \\\n",
       "0                                0                     1                  0   \n",
       "1                                0                     1                  0   \n",
       "2                                0                     1                  0   \n",
       "3                                0                     1                  0   \n",
       "4                                0                     1                  0   \n",
       "\n",
       "   Cost of logistics, inc.sales tax Box Type  Discount  Promo Code  \n",
       "0                                20      Mix         0           0  \n",
       "1                                20      Mix         0           0  \n",
       "2                                20      Mix         0           0  \n",
       "3                                20      Mix         0           0  \n",
       "4                                20      Mix         0           0  "
      ]
     },
     "execution_count": 16,
     "metadata": {},
     "output_type": "execute_result"
    }
   ],
   "source": [
    "sales.head()"
   ]
  },
  {
   "cell_type": "code",
   "execution_count": 17,
   "id": "6f43c783",
   "metadata": {},
   "outputs": [
    {
     "data": {
      "text/plain": [
       "2485"
      ]
     },
     "execution_count": 17,
     "metadata": {},
     "output_type": "execute_result"
    }
   ],
   "source": [
    "(sales['To be paid for goods, Sales Tax']==0).sum()"
   ]
  },
  {
   "cell_type": "code",
   "execution_count": 18,
   "id": "200b1321",
   "metadata": {},
   "outputs": [
    {
     "data": {
      "text/plain": [
       "1284"
      ]
     },
     "execution_count": 18,
     "metadata": {},
     "output_type": "execute_result"
    }
   ],
   "source": [
    "(sales['To be paid for goods']==0).sum()"
   ]
  },
  {
   "cell_type": "code",
   "execution_count": 19,
   "id": "da4914a4",
   "metadata": {},
   "outputs": [
    {
     "data": {
      "text/plain": [
       "1284"
      ]
     },
     "execution_count": 19,
     "metadata": {},
     "output_type": "execute_result"
    }
   ],
   "source": [
    "(sales['Retail price after the agreed discount']==0).sum()"
   ]
  },
  {
   "cell_type": "code",
   "execution_count": 20,
   "id": "3b783139",
   "metadata": {},
   "outputs": [
    {
     "data": {
      "text/plain": [
       "1284"
      ]
     },
     "execution_count": 20,
     "metadata": {},
     "output_type": "execute_result"
    }
   ],
   "source": [
    "(sales['Seller Reward']==0).sum()"
   ]
  },
  {
   "cell_type": "code",
   "execution_count": 21,
   "id": "194478d8",
   "metadata": {},
   "outputs": [
    {
     "data": {
      "text/plain": [
       "2485"
      ]
     },
     "execution_count": 21,
     "metadata": {},
     "output_type": "execute_result"
    }
   ],
   "source": [
    "(sales['Buyer Reward']==0).sum()"
   ]
  },
  {
   "cell_type": "code",
   "execution_count": 22,
   "id": "535da265",
   "metadata": {},
   "outputs": [
    {
     "data": {
      "text/plain": [
       "1284"
      ]
     },
     "execution_count": 22,
     "metadata": {},
     "output_type": "execute_result"
    }
   ],
   "source": [
    "(sales['Comission percentage']==0).sum()"
   ]
  },
  {
   "cell_type": "code",
   "execution_count": 23,
   "id": "a5b169b5",
   "metadata": {},
   "outputs": [
    {
     "data": {
      "text/plain": [
       "1284"
      ]
     },
     "execution_count": 23,
     "metadata": {},
     "output_type": "execute_result"
    }
   ],
   "source": [
    "(sales['Discount Approved']==0).sum()"
   ]
  },
  {
   "cell_type": "code",
   "execution_count": 24,
   "id": "c2805d77",
   "metadata": {},
   "outputs": [
    {
     "data": {
      "text/plain": [
       "1284"
      ]
     },
     "execution_count": 24,
     "metadata": {},
     "output_type": "execute_result"
    }
   ],
   "source": [
    "(sales['Sales commission amount']==0).sum()"
   ]
  },
  {
   "cell_type": "code",
   "execution_count": 25,
   "id": "81f2cde1",
   "metadata": {},
   "outputs": [
    {
     "data": {
      "text/plain": [
       "2485"
      ]
     },
     "execution_count": 25,
     "metadata": {},
     "output_type": "execute_result"
    }
   ],
   "source": [
    "(sales['Cost']==0).sum()"
   ]
  },
  {
   "cell_type": "code",
   "execution_count": 26,
   "id": "944e0f23",
   "metadata": {},
   "outputs": [
    {
     "data": {
      "text/plain": [
       "1284"
      ]
     },
     "execution_count": 26,
     "metadata": {},
     "output_type": "execute_result"
    }
   ],
   "source": [
    "(sales['Sales']==0).sum()"
   ]
  },
  {
   "cell_type": "code",
   "execution_count": 27,
   "id": "e8765a6c",
   "metadata": {},
   "outputs": [
    {
     "data": {
      "text/plain": [
       "1284"
      ]
     },
     "execution_count": 27,
     "metadata": {},
     "output_type": "execute_result"
    }
   ],
   "source": [
    "(sales['Selling Price']==0).sum()"
   ]
  },
  {
   "cell_type": "code",
   "execution_count": 28,
   "id": "d0998cb4",
   "metadata": {},
   "outputs": [
    {
     "data": {
      "text/plain": [
       "0.0"
      ]
     },
     "execution_count": 28,
     "metadata": {},
     "output_type": "execute_result"
    }
   ],
   "source": [
    "sales['To be paid for goods, Sales Tax'].mean()"
   ]
  },
  {
   "cell_type": "code",
   "execution_count": 29,
   "id": "4d78f1d1",
   "metadata": {},
   "outputs": [
    {
     "data": {
      "text/plain": [
       "0.01609657947686117"
      ]
     },
     "execution_count": 29,
     "metadata": {},
     "output_type": "execute_result"
    }
   ],
   "source": [
    "sales['Number of Returns'].mean()"
   ]
  },
  {
   "cell_type": "code",
   "execution_count": 30,
   "id": "10175501",
   "metadata": {},
   "outputs": [
    {
     "data": {
      "text/plain": [
       "2445"
      ]
     },
     "execution_count": 30,
     "metadata": {},
     "output_type": "execute_result"
    }
   ],
   "source": [
    "(sales['Number of Returns']==0).sum()"
   ]
  },
  {
   "cell_type": "code",
   "execution_count": 31,
   "id": "1d4f5b91",
   "metadata": {},
   "outputs": [
    {
     "data": {
      "text/plain": [
       "1424"
      ]
     },
     "execution_count": 31,
     "metadata": {},
     "output_type": "execute_result"
    }
   ],
   "source": [
    "(sales['Discount']==0).sum()"
   ]
  },
  {
   "cell_type": "code",
   "execution_count": 32,
   "id": "9e59397a",
   "metadata": {},
   "outputs": [
    {
     "data": {
      "text/plain": [
       "26020"
      ]
     },
     "execution_count": 32,
     "metadata": {},
     "output_type": "execute_result"
    }
   ],
   "source": [
    "(sales['Discount']).sum()"
   ]
  },
  {
   "cell_type": "code",
   "execution_count": 33,
   "id": "323830c5",
   "metadata": {},
   "outputs": [
    {
     "data": {
      "text/plain": [
       "1284"
      ]
     },
     "execution_count": 33,
     "metadata": {},
     "output_type": "execute_result"
    }
   ],
   "source": [
    "(sales['Promo Code']==0).sum()"
   ]
  },
  {
   "cell_type": "code",
   "execution_count": 34,
   "id": "bab00caf",
   "metadata": {},
   "outputs": [
    {
     "data": {
      "text/plain": [
       "20145"
      ]
     },
     "execution_count": 34,
     "metadata": {},
     "output_type": "execute_result"
    }
   ],
   "source": [
    "(sales['Promo Code']).sum()"
   ]
  },
  {
   "cell_type": "code",
   "execution_count": 35,
   "id": "11cbb70e",
   "metadata": {
    "run_control": {
     "marked": true
    }
   },
   "outputs": [
    {
     "data": {
      "text/plain": [
       "2485"
      ]
     },
     "execution_count": 35,
     "metadata": {},
     "output_type": "execute_result"
    }
   ],
   "source": [
    "(sales['Sales Tax']==0).sum()"
   ]
  },
  {
   "cell_type": "code",
   "execution_count": 36,
   "id": "edaa1342",
   "metadata": {
    "run_control": {
     "marked": true
    }
   },
   "outputs": [
    {
     "data": {
      "text/plain": [
       "1284"
      ]
     },
     "execution_count": 36,
     "metadata": {},
     "output_type": "execute_result"
    }
   ],
   "source": [
    "(sales['Quantity']==0).sum()"
   ]
  },
  {
   "cell_type": "code",
   "execution_count": 37,
   "id": "1b6f5a62",
   "metadata": {},
   "outputs": [],
   "source": [
    "sales.drop(['Sales Tax','To be paid for goods', 'Sales Tax','Cost','Buyer Reward','To be paid for goods', 'Sales Tax'], axis=1, inplace=True)"
   ]
  },
  {
   "cell_type": "code",
   "execution_count": 38,
   "id": "19a8f512",
   "metadata": {},
   "outputs": [
    {
     "data": {
      "text/plain": [
       "(2485, 28)"
      ]
     },
     "execution_count": 38,
     "metadata": {},
     "output_type": "execute_result"
    }
   ],
   "source": [
    "sales.shape"
   ]
  },
  {
   "cell_type": "code",
   "execution_count": 39,
   "id": "f60c8bf3",
   "metadata": {},
   "outputs": [
    {
     "data": {
      "text/html": [
       "<div>\n",
       "<style scoped>\n",
       "    .dataframe tbody tr th:only-of-type {\n",
       "        vertical-align: middle;\n",
       "    }\n",
       "\n",
       "    .dataframe tbody tr th {\n",
       "        vertical-align: top;\n",
       "    }\n",
       "\n",
       "    .dataframe thead th {\n",
       "        text-align: right;\n",
       "    }\n",
       "</style>\n",
       "<table border=\"1\" class=\"dataframe\">\n",
       "  <thead>\n",
       "    <tr style=\"text-align: right;\">\n",
       "      <th></th>\n",
       "      <th>Delivery number</th>\n",
       "      <th>Goods</th>\n",
       "      <th>Product Code</th>\n",
       "      <th>Brand</th>\n",
       "      <th>Vendore Code</th>\n",
       "      <th>Size</th>\n",
       "      <th>Barcode</th>\n",
       "      <th>Document Type</th>\n",
       "      <th>Quantity</th>\n",
       "      <th>Selling Price</th>\n",
       "      <th>Sales</th>\n",
       "      <th>Sales commission amount</th>\n",
       "      <th>Discount Approved</th>\n",
       "      <th>Comission percentage</th>\n",
       "      <th>Seller Reward</th>\n",
       "      <th>Warehouse</th>\n",
       "      <th>Payment for</th>\n",
       "      <th>Order Date</th>\n",
       "      <th>Sales Date</th>\n",
       "      <th>-Internal</th>\n",
       "      <th>Retail price after the agreed discount</th>\n",
       "      <th>To be paid for goods, Sales Tax</th>\n",
       "      <th>Number of Deliveries</th>\n",
       "      <th>Number of Returns</th>\n",
       "      <th>Cost of logistics, inc.sales tax</th>\n",
       "      <th>Box Type</th>\n",
       "      <th>Discount</th>\n",
       "      <th>Promo Code</th>\n",
       "    </tr>\n",
       "  </thead>\n",
       "  <tbody>\n",
       "    <tr>\n",
       "      <th>0</th>\n",
       "      <td>1634517</td>\n",
       "      <td>Yarn</td>\n",
       "      <td>15120240</td>\n",
       "      <td>Alpine Fair</td>\n",
       "      <td>nzo1-wr/wb</td>\n",
       "      <td>39-41</td>\n",
       "      <td>2000541272018</td>\n",
       "      <td>Sale</td>\n",
       "      <td>0</td>\n",
       "      <td>0</td>\n",
       "      <td>0.0</td>\n",
       "      <td>0.0</td>\n",
       "      <td>0.0</td>\n",
       "      <td>0.0</td>\n",
       "      <td>0.0</td>\n",
       "      <td>Podolsk</td>\n",
       "      <td>Logistics</td>\n",
       "      <td>2020-11-15T00:00:00+03:00</td>\n",
       "      <td>2020-11-15T00:00:00+03:00</td>\n",
       "      <td>1809546947</td>\n",
       "      <td>0.0</td>\n",
       "      <td>0</td>\n",
       "      <td>1</td>\n",
       "      <td>0</td>\n",
       "      <td>20</td>\n",
       "      <td>Mix</td>\n",
       "      <td>0</td>\n",
       "      <td>0</td>\n",
       "    </tr>\n",
       "    <tr>\n",
       "      <th>1</th>\n",
       "      <td>1625587</td>\n",
       "      <td>Socks</td>\n",
       "      <td>15120240</td>\n",
       "      <td>Alpine Fair</td>\n",
       "      <td>nzo1-wr/wb</td>\n",
       "      <td>36-38</td>\n",
       "      <td>2000541272001</td>\n",
       "      <td>Sale</td>\n",
       "      <td>0</td>\n",
       "      <td>0</td>\n",
       "      <td>0.0</td>\n",
       "      <td>0.0</td>\n",
       "      <td>0.0</td>\n",
       "      <td>0.0</td>\n",
       "      <td>0.0</td>\n",
       "      <td>Podolsk</td>\n",
       "      <td>Logistics</td>\n",
       "      <td>2020-11-10T00:00:00+03:00</td>\n",
       "      <td>2020-11-10T00:00:00+03:00</td>\n",
       "      <td>1791240995</td>\n",
       "      <td>0.0</td>\n",
       "      <td>0</td>\n",
       "      <td>1</td>\n",
       "      <td>0</td>\n",
       "      <td>20</td>\n",
       "      <td>Mix</td>\n",
       "      <td>0</td>\n",
       "      <td>0</td>\n",
       "    </tr>\n",
       "    <tr>\n",
       "      <th>2</th>\n",
       "      <td>1625587</td>\n",
       "      <td>Socks</td>\n",
       "      <td>15226402</td>\n",
       "      <td>Alpine Fair</td>\n",
       "      <td>mz14-wrbbg</td>\n",
       "      <td>36-38</td>\n",
       "      <td>2000550776002</td>\n",
       "      <td>Sale</td>\n",
       "      <td>0</td>\n",
       "      <td>0</td>\n",
       "      <td>0.0</td>\n",
       "      <td>0.0</td>\n",
       "      <td>0.0</td>\n",
       "      <td>0.0</td>\n",
       "      <td>0.0</td>\n",
       "      <td>Podolsk</td>\n",
       "      <td>Logistics</td>\n",
       "      <td>2020-11-10T00:00:00+03:00</td>\n",
       "      <td>2020-11-10T00:00:00+03:00</td>\n",
       "      <td>1791275077</td>\n",
       "      <td>0.0</td>\n",
       "      <td>0</td>\n",
       "      <td>1</td>\n",
       "      <td>0</td>\n",
       "      <td>20</td>\n",
       "      <td>Mix</td>\n",
       "      <td>0</td>\n",
       "      <td>0</td>\n",
       "    </tr>\n",
       "    <tr>\n",
       "      <th>3</th>\n",
       "      <td>1625587</td>\n",
       "      <td>Socks</td>\n",
       "      <td>15226402</td>\n",
       "      <td>Alpine Fair</td>\n",
       "      <td>mz14-wrbbg</td>\n",
       "      <td>36-38</td>\n",
       "      <td>2000550776002</td>\n",
       "      <td>Sale</td>\n",
       "      <td>0</td>\n",
       "      <td>0</td>\n",
       "      <td>0.0</td>\n",
       "      <td>0.0</td>\n",
       "      <td>0.0</td>\n",
       "      <td>0.0</td>\n",
       "      <td>0.0</td>\n",
       "      <td>Podolsk</td>\n",
       "      <td>Logistics</td>\n",
       "      <td>2020-11-10T00:00:00+03:00</td>\n",
       "      <td>2020-11-10T00:00:00+03:00</td>\n",
       "      <td>1791252391</td>\n",
       "      <td>0.0</td>\n",
       "      <td>0</td>\n",
       "      <td>1</td>\n",
       "      <td>0</td>\n",
       "      <td>20</td>\n",
       "      <td>Mix</td>\n",
       "      <td>0</td>\n",
       "      <td>0</td>\n",
       "    </tr>\n",
       "    <tr>\n",
       "      <th>4</th>\n",
       "      <td>1625587</td>\n",
       "      <td>Socks</td>\n",
       "      <td>15120240</td>\n",
       "      <td>Alpine Fair</td>\n",
       "      <td>nzo1-wr/wb</td>\n",
       "      <td>36-38</td>\n",
       "      <td>2000541272001</td>\n",
       "      <td>Sale</td>\n",
       "      <td>0</td>\n",
       "      <td>0</td>\n",
       "      <td>0.0</td>\n",
       "      <td>0.0</td>\n",
       "      <td>0.0</td>\n",
       "      <td>0.0</td>\n",
       "      <td>0.0</td>\n",
       "      <td>Podolsk</td>\n",
       "      <td>Logistics</td>\n",
       "      <td>2020-11-09T00:00:00+03:00</td>\n",
       "      <td>2020-11-09T00:00:00+03:00</td>\n",
       "      <td>1791240801</td>\n",
       "      <td>0.0</td>\n",
       "      <td>0</td>\n",
       "      <td>1</td>\n",
       "      <td>0</td>\n",
       "      <td>20</td>\n",
       "      <td>Mix</td>\n",
       "      <td>0</td>\n",
       "      <td>0</td>\n",
       "    </tr>\n",
       "  </tbody>\n",
       "</table>\n",
       "</div>"
      ],
      "text/plain": [
       "   Delivery number   Goods  Product Code        Brand Vendore Code   Size  \\\n",
       "0           1634517   Yarn      15120240  Alpine Fair   nzo1-wr/wb  39-41   \n",
       "1           1625587  Socks      15120240  Alpine Fair   nzo1-wr/wb  36-38   \n",
       "2           1625587  Socks      15226402  Alpine Fair   mz14-wrbbg  36-38   \n",
       "3           1625587  Socks      15226402  Alpine Fair   mz14-wrbbg  36-38   \n",
       "4           1625587  Socks      15120240  Alpine Fair   nzo1-wr/wb  36-38   \n",
       "\n",
       "         Barcode Document Type  Quantity  Selling Price  Sales  \\\n",
       "0  2000541272018          Sale         0              0    0.0   \n",
       "1  2000541272001          Sale         0              0    0.0   \n",
       "2  2000550776002          Sale         0              0    0.0   \n",
       "3  2000550776002          Sale         0              0    0.0   \n",
       "4  2000541272001          Sale         0              0    0.0   \n",
       "\n",
       "   Sales commission amount  Discount Approved  Comission percentage  \\\n",
       "0                      0.0                0.0                   0.0   \n",
       "1                      0.0                0.0                   0.0   \n",
       "2                      0.0                0.0                   0.0   \n",
       "3                      0.0                0.0                   0.0   \n",
       "4                      0.0                0.0                   0.0   \n",
       "\n",
       "   Seller Reward Warehouse Payment for                 Order Date  \\\n",
       "0            0.0   Podolsk   Logistics  2020-11-15T00:00:00+03:00   \n",
       "1            0.0   Podolsk   Logistics  2020-11-10T00:00:00+03:00   \n",
       "2            0.0   Podolsk   Logistics  2020-11-10T00:00:00+03:00   \n",
       "3            0.0   Podolsk   Logistics  2020-11-10T00:00:00+03:00   \n",
       "4            0.0   Podolsk   Logistics  2020-11-09T00:00:00+03:00   \n",
       "\n",
       "                  Sales Date   -Internal  \\\n",
       "0  2020-11-15T00:00:00+03:00  1809546947   \n",
       "1  2020-11-10T00:00:00+03:00  1791240995   \n",
       "2  2020-11-10T00:00:00+03:00  1791275077   \n",
       "3  2020-11-10T00:00:00+03:00  1791252391   \n",
       "4  2020-11-09T00:00:00+03:00  1791240801   \n",
       "\n",
       "   Retail price after the agreed discount  To be paid for goods, Sales Tax  \\\n",
       "0                                     0.0                                0   \n",
       "1                                     0.0                                0   \n",
       "2                                     0.0                                0   \n",
       "3                                     0.0                                0   \n",
       "4                                     0.0                                0   \n",
       "\n",
       "   Number of Deliveries  Number of Returns  Cost of logistics, inc.sales tax  \\\n",
       "0                     1                  0                                20   \n",
       "1                     1                  0                                20   \n",
       "2                     1                  0                                20   \n",
       "3                     1                  0                                20   \n",
       "4                     1                  0                                20   \n",
       "\n",
       "  Box Type  Discount  Promo Code  \n",
       "0      Mix         0           0  \n",
       "1      Mix         0           0  \n",
       "2      Mix         0           0  \n",
       "3      Mix         0           0  \n",
       "4      Mix         0           0  "
      ]
     },
     "execution_count": 39,
     "metadata": {},
     "output_type": "execute_result"
    }
   ],
   "source": [
    "sales.head()"
   ]
  },
  {
   "cell_type": "code",
   "execution_count": 41,
   "id": "1a68d539",
   "metadata": {},
   "outputs": [
    {
     "data": {
      "text/plain": [
       "array(['nzo1-wr/wb', 'mz14-wrbbg', 'pr1-5-dgray', 'pr1-dgray',\n",
       "       'pr1-white', 'mz7-black', 'mz11j-white', 'mz11j-wh/gr',\n",
       "       'mz7-dgray', 'pr1-5-white', 'nzo1-wb/wg', 'nzo1-gw/bg',\n",
       "       'mz11-dgray', 'mz11-black', 'mz11j-lgray', 'pr2-dbeige',\n",
       "       'mz23-gray', 'jl28-linen', 'jl2-linen', 'jl17-beige', 'jl17-black',\n",
       "       'jl11-black', 'jl4-gray', 'jl11-white'], dtype=object)"
      ]
     },
     "execution_count": 41,
     "metadata": {},
     "output_type": "execute_result"
    }
   ],
   "source": [
    "df['Vendore Code'].unique()"
   ]
  },
  {
   "cell_type": "code",
   "execution_count": 48,
   "id": "9a4db525",
   "metadata": {},
   "outputs": [
    {
     "data": {
      "text/plain": [
       "24"
      ]
     },
     "execution_count": 48,
     "metadata": {},
     "output_type": "execute_result"
    }
   ],
   "source": [
    "df['Vendore Code'].nunique() #count distinct values"
   ]
  },
  {
   "cell_type": "code",
   "execution_count": 49,
   "id": "a3ce0652",
   "metadata": {},
   "outputs": [
    {
     "data": {
      "text/plain": [
       "5"
      ]
     },
     "execution_count": 49,
     "metadata": {},
     "output_type": "execute_result"
    }
   ],
   "source": [
    "df['Warehouse'].nunique()"
   ]
  },
  {
   "cell_type": "code",
   "execution_count": 40,
   "id": "d4bbb27f",
   "metadata": {},
   "outputs": [],
   "source": [
    "sales.to_excel(r'sales.xlsx', index=False)"
   ]
  },
  {
   "cell_type": "code",
   "execution_count": null,
   "id": "8227c31d",
   "metadata": {},
   "outputs": [],
   "source": []
  },
  {
   "cell_type": "code",
   "execution_count": null,
   "id": "d064c13f",
   "metadata": {},
   "outputs": [],
   "source": []
  },
  {
   "cell_type": "code",
   "execution_count": null,
   "id": "f7a3068e",
   "metadata": {},
   "outputs": [],
   "source": []
  },
  {
   "cell_type": "code",
   "execution_count": null,
   "id": "9c9c4996",
   "metadata": {},
   "outputs": [],
   "source": []
  },
  {
   "cell_type": "code",
   "execution_count": null,
   "id": "86ea707e",
   "metadata": {},
   "outputs": [],
   "source": []
  },
  {
   "cell_type": "code",
   "execution_count": null,
   "id": "8842d696",
   "metadata": {},
   "outputs": [],
   "source": []
  },
  {
   "cell_type": "code",
   "execution_count": null,
   "id": "bd05d940",
   "metadata": {},
   "outputs": [],
   "source": []
  },
  {
   "cell_type": "code",
   "execution_count": null,
   "id": "d1750cab",
   "metadata": {},
   "outputs": [],
   "source": []
  }
 ],
 "metadata": {
  "hide_input": false,
  "kernelspec": {
   "display_name": "Python 3",
   "language": "python",
   "name": "python3"
  },
  "language_info": {
   "codemirror_mode": {
    "name": "ipython",
    "version": 3
   },
   "file_extension": ".py",
   "mimetype": "text/x-python",
   "name": "python",
   "nbconvert_exporter": "python",
   "pygments_lexer": "ipython3",
   "version": "3.9.5"
  },
  "latex_envs": {
   "LaTeX_envs_menu_present": true,
   "autoclose": true,
   "autocomplete": true,
   "bibliofile": "biblio.bib",
   "cite_by": "apalike",
   "current_citInitial": 1,
   "eqLabelWithNumbers": true,
   "eqNumInitial": 1,
   "hotkeys": {
    "equation": "Ctrl-E",
    "itemize": "Ctrl-I"
   },
   "labels_anchors": false,
   "latex_user_defs": false,
   "report_style_numbering": false,
   "user_envs_cfg": true
  },
  "toc": {
   "base_numbering": 1,
   "nav_menu": {},
   "number_sections": true,
   "sideBar": true,
   "skip_h1_title": false,
   "title_cell": "Table of Contents",
   "title_sidebar": "Contents",
   "toc_cell": false,
   "toc_position": {},
   "toc_section_display": true,
   "toc_window_display": false
  },
  "varInspector": {
   "cols": {
    "lenName": 16,
    "lenType": 16,
    "lenVar": 40
   },
   "kernels_config": {
    "python": {
     "delete_cmd_postfix": "",
     "delete_cmd_prefix": "del ",
     "library": "var_list.py",
     "varRefreshCmd": "print(var_dic_list())"
    },
    "r": {
     "delete_cmd_postfix": ") ",
     "delete_cmd_prefix": "rm(",
     "library": "var_list.r",
     "varRefreshCmd": "cat(var_dic_list()) "
    }
   },
   "types_to_exclude": [
    "module",
    "function",
    "builtin_function_or_method",
    "instance",
    "_Feature"
   ],
   "window_display": false
  }
 },
 "nbformat": 4,
 "nbformat_minor": 5
}
