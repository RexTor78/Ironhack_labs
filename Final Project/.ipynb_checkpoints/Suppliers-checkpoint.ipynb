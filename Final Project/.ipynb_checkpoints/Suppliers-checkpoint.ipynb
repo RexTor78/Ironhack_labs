{
 "cells": [
  {
   "cell_type": "code",
   "execution_count": 2,
   "id": "842cb717",
   "metadata": {},
   "outputs": [],
   "source": [
    "import pandas as pd \n",
    "import numpy as np\n"
   ]
  },
  {
   "cell_type": "code",
   "execution_count": 3,
   "id": "790283d1",
   "metadata": {},
   "outputs": [],
   "source": [
    "df=pd.read_excel('supplier-goods-newest-16680-2020-10-26-2020-11-15-qjcegykxn.xlsx')"
   ]
  },
  {
   "cell_type": "code",
   "execution_count": 5,
   "id": "db2cb288",
   "metadata": {},
   "outputs": [],
   "source": [
    "pd.options.display.max_columns = None"
   ]
  },
  {
   "cell_type": "code",
   "execution_count": 6,
   "id": "da377412",
   "metadata": {},
   "outputs": [
    {
     "data": {
      "text/html": [
       "<div>\n",
       "<style scoped>\n",
       "    .dataframe tbody tr th:only-of-type {\n",
       "        vertical-align: middle;\n",
       "    }\n",
       "\n",
       "    .dataframe tbody tr th {\n",
       "        vertical-align: top;\n",
       "    }\n",
       "\n",
       "    .dataframe thead th {\n",
       "        text-align: right;\n",
       "    }\n",
       "</style>\n",
       "<table border=\"1\" class=\"dataframe\">\n",
       "  <thead>\n",
       "    <tr style=\"text-align: right;\">\n",
       "      <th></th>\n",
       "      <th>Brand</th>\n",
       "      <th>Goods</th>\n",
       "      <th>Season</th>\n",
       "      <th>Collection</th>\n",
       "      <th>Item Name</th>\n",
       "      <th>Vendore Code</th>\n",
       "      <th>Product Code</th>\n",
       "      <th>Bar Code</th>\n",
       "      <th>Size</th>\n",
       "      <th>Contract</th>\n",
       "      <th>Warehouse</th>\n",
       "      <th>Received, pc.</th>\n",
       "      <th>Received, cost</th>\n",
       "      <th>Ordered, pc.</th>\n",
       "      <th>Ordered, cost</th>\n",
       "      <th>Purchased, pc.</th>\n",
       "      <th>Purchased, cost</th>\n",
       "      <th>Current balance, pc.</th>\n",
       "      <th>Unnamed: 18</th>\n",
       "      <th>Unnamed: 19</th>\n",
       "      <th>Unnamed: 20</th>\n",
       "      <th>Unnamed: 21</th>\n",
       "      <th>Unnamed: 22</th>\n",
       "      <th>Unnamed: 23</th>\n",
       "      <th>Unnamed: 24</th>\n",
       "      <th>Unnamed: 25</th>\n",
       "    </tr>\n",
       "  </thead>\n",
       "  <tbody>\n",
       "    <tr>\n",
       "      <th>0</th>\n",
       "      <td>Alpine Fair</td>\n",
       "      <td>Yarn</td>\n",
       "      <td>All Season</td>\n",
       "      <td>NaN</td>\n",
       "      <td>Носки, мягкий след, 6 пар</td>\n",
       "      <td>ml17-black</td>\n",
       "      <td>12668975</td>\n",
       "      <td>2.000341e+12</td>\n",
       "      <td>39-41</td>\n",
       "      <td>Agent Contract IE Korkmazov A.Kh.</td>\n",
       "      <td>Krasnodar</td>\n",
       "      <td>0</td>\n",
       "      <td>0</td>\n",
       "      <td>0</td>\n",
       "      <td>0.0</td>\n",
       "      <td>0</td>\n",
       "      <td>0.0</td>\n",
       "      <td>14</td>\n",
       "      <td>NaN</td>\n",
       "      <td>NaN</td>\n",
       "      <td>NaN</td>\n",
       "      <td>NaN</td>\n",
       "      <td>NaN</td>\n",
       "      <td>NaN</td>\n",
       "      <td>NaN</td>\n",
       "      <td>NaN</td>\n",
       "    </tr>\n",
       "    <tr>\n",
       "      <th>1</th>\n",
       "      <td>Alpine Fair</td>\n",
       "      <td>Socks</td>\n",
       "      <td>All Season</td>\n",
       "      <td>NaN</td>\n",
       "      <td>Носки, мягкий след, 6 пар</td>\n",
       "      <td>ml17-white</td>\n",
       "      <td>12668976</td>\n",
       "      <td>2.000341e+12</td>\n",
       "      <td>45-46</td>\n",
       "      <td>Agent Contract IE Korkmazov A.Kh.</td>\n",
       "      <td>Krasnodar</td>\n",
       "      <td>0</td>\n",
       "      <td>0</td>\n",
       "      <td>0</td>\n",
       "      <td>0.0</td>\n",
       "      <td>0</td>\n",
       "      <td>0.0</td>\n",
       "      <td>6</td>\n",
       "      <td>NaN</td>\n",
       "      <td>NaN</td>\n",
       "      <td>NaN</td>\n",
       "      <td>NaN</td>\n",
       "      <td>NaN</td>\n",
       "      <td>NaN</td>\n",
       "      <td>NaN</td>\n",
       "      <td>NaN</td>\n",
       "    </tr>\n",
       "    <tr>\n",
       "      <th>2</th>\n",
       "      <td>Alpine Fair</td>\n",
       "      <td>Socks</td>\n",
       "      <td>All Season</td>\n",
       "      <td>NaN</td>\n",
       "      <td>Носки из верблюжьей шерсти, 2 пары</td>\n",
       "      <td>nzv1-dbeige</td>\n",
       "      <td>17666015</td>\n",
       "      <td>2.000861e+12</td>\n",
       "      <td>45-46</td>\n",
       "      <td>Agent Contract IE Korkmazov A.Kh.</td>\n",
       "      <td>Podolsk</td>\n",
       "      <td>0</td>\n",
       "      <td>0</td>\n",
       "      <td>0</td>\n",
       "      <td>0.0</td>\n",
       "      <td>0</td>\n",
       "      <td>0.0</td>\n",
       "      <td>8</td>\n",
       "      <td>NaN</td>\n",
       "      <td>NaN</td>\n",
       "      <td>NaN</td>\n",
       "      <td>NaN</td>\n",
       "      <td>NaN</td>\n",
       "      <td>NaN</td>\n",
       "      <td>NaN</td>\n",
       "      <td>NaN</td>\n",
       "    </tr>\n",
       "    <tr>\n",
       "      <th>3</th>\n",
       "      <td>Alpine Fair</td>\n",
       "      <td>Socks</td>\n",
       "      <td>Winter</td>\n",
       "      <td>NaN</td>\n",
       "      <td>Носки женские, 6 пар</td>\n",
       "      <td>jl4-gray</td>\n",
       "      <td>12475428</td>\n",
       "      <td>4.650100e+12</td>\n",
       "      <td>39-41</td>\n",
       "      <td>Agent Contract IE Korkmazov A.Kh.</td>\n",
       "      <td>Podolsk</td>\n",
       "      <td>0</td>\n",
       "      <td>0</td>\n",
       "      <td>0</td>\n",
       "      <td>0.0</td>\n",
       "      <td>0</td>\n",
       "      <td>0.0</td>\n",
       "      <td>14</td>\n",
       "      <td>NaN</td>\n",
       "      <td>NaN</td>\n",
       "      <td>NaN</td>\n",
       "      <td>NaN</td>\n",
       "      <td>NaN</td>\n",
       "      <td>NaN</td>\n",
       "      <td>NaN</td>\n",
       "      <td>NaN</td>\n",
       "    </tr>\n",
       "    <tr>\n",
       "      <th>4</th>\n",
       "      <td>Alpine Fair</td>\n",
       "      <td>Socks</td>\n",
       "      <td>All Season</td>\n",
       "      <td>NaN</td>\n",
       "      <td>Носки женские, 6 пар</td>\n",
       "      <td>jl4-white</td>\n",
       "      <td>12475429</td>\n",
       "      <td>4.650100e+12</td>\n",
       "      <td>39-41</td>\n",
       "      <td>Agent Contract IE Korkmazov A.Kh.</td>\n",
       "      <td>Krasnodar</td>\n",
       "      <td>0</td>\n",
       "      <td>0</td>\n",
       "      <td>0</td>\n",
       "      <td>0.0</td>\n",
       "      <td>0</td>\n",
       "      <td>0.0</td>\n",
       "      <td>17</td>\n",
       "      <td>NaN</td>\n",
       "      <td>NaN</td>\n",
       "      <td>NaN</td>\n",
       "      <td>NaN</td>\n",
       "      <td>NaN</td>\n",
       "      <td>NaN</td>\n",
       "      <td>NaN</td>\n",
       "      <td>NaN</td>\n",
       "    </tr>\n",
       "  </tbody>\n",
       "</table>\n",
       "</div>"
      ],
      "text/plain": [
       "         Brand  Goods      Season  Collection  \\\n",
       "0  Alpine Fair   Yarn  All Season         NaN   \n",
       "1  Alpine Fair  Socks  All Season         NaN   \n",
       "2  Alpine Fair  Socks  All Season         NaN   \n",
       "3  Alpine Fair  Socks      Winter         NaN   \n",
       "4  Alpine Fair  Socks  All Season         NaN   \n",
       "\n",
       "                            Item Name Vendore Code  Product Code  \\\n",
       "0           Носки, мягкий след, 6 пар   ml17-black      12668975   \n",
       "1           Носки, мягкий след, 6 пар   ml17-white      12668976   \n",
       "2  Носки из верблюжьей шерсти, 2 пары  nzv1-dbeige      17666015   \n",
       "3                Носки женские, 6 пар     jl4-gray      12475428   \n",
       "4                Носки женские, 6 пар    jl4-white      12475429   \n",
       "\n",
       "       Bar Code   Size                           Contract  Warehouse  \\\n",
       "0  2.000341e+12  39-41  Agent Contract IE Korkmazov A.Kh.  Krasnodar   \n",
       "1  2.000341e+12  45-46  Agent Contract IE Korkmazov A.Kh.  Krasnodar   \n",
       "2  2.000861e+12  45-46  Agent Contract IE Korkmazov A.Kh.    Podolsk   \n",
       "3  4.650100e+12  39-41  Agent Contract IE Korkmazov A.Kh.    Podolsk   \n",
       "4  4.650100e+12  39-41  Agent Contract IE Korkmazov A.Kh.  Krasnodar   \n",
       "\n",
       "   Received, pc.  Received, cost  Ordered, pc.  Ordered, cost  Purchased, pc.  \\\n",
       "0              0               0             0            0.0               0   \n",
       "1              0               0             0            0.0               0   \n",
       "2              0               0             0            0.0               0   \n",
       "3              0               0             0            0.0               0   \n",
       "4              0               0             0            0.0               0   \n",
       "\n",
       "   Purchased, cost  Current balance, pc.  Unnamed: 18  Unnamed: 19  \\\n",
       "0              0.0                    14          NaN          NaN   \n",
       "1              0.0                     6          NaN          NaN   \n",
       "2              0.0                     8          NaN          NaN   \n",
       "3              0.0                    14          NaN          NaN   \n",
       "4              0.0                    17          NaN          NaN   \n",
       "\n",
       "   Unnamed: 20  Unnamed: 21  Unnamed: 22  Unnamed: 23  Unnamed: 24  \\\n",
       "0          NaN          NaN          NaN          NaN          NaN   \n",
       "1          NaN          NaN          NaN          NaN          NaN   \n",
       "2          NaN          NaN          NaN          NaN          NaN   \n",
       "3          NaN          NaN          NaN          NaN          NaN   \n",
       "4          NaN          NaN          NaN          NaN          NaN   \n",
       "\n",
       "   Unnamed: 25  \n",
       "0          NaN  \n",
       "1          NaN  \n",
       "2          NaN  \n",
       "3          NaN  \n",
       "4          NaN  "
      ]
     },
     "execution_count": 6,
     "metadata": {},
     "output_type": "execute_result"
    }
   ],
   "source": [
    "df.head()"
   ]
  },
  {
   "cell_type": "code",
   "execution_count": 8,
   "id": "663704db",
   "metadata": {},
   "outputs": [
    {
     "name": "stdout",
     "output_type": "stream",
     "text": [
      "<class 'pandas.core.frame.DataFrame'>\n",
      "RangeIndex: 168 entries, 0 to 167\n",
      "Data columns (total 26 columns):\n",
      " #   Column                Non-Null Count  Dtype  \n",
      "---  ------                --------------  -----  \n",
      " 0   Brand                 168 non-null    object \n",
      " 1   Goods                 168 non-null    object \n",
      " 2   Season                142 non-null    object \n",
      " 3   Collection            0 non-null      float64\n",
      " 4   Item Name             168 non-null    object \n",
      " 5   Vendore Code          168 non-null    object \n",
      " 6   Product Code          168 non-null    int64  \n",
      " 7   Bar Code              167 non-null    float64\n",
      " 8   Size                  168 non-null    object \n",
      " 9   Contract              168 non-null    object \n",
      " 10  Warehouse             168 non-null    object \n",
      " 11  Received, pc.         168 non-null    int64  \n",
      " 12  Received, cost        168 non-null    int64  \n",
      " 13  Ordered, pc.          168 non-null    int64  \n",
      " 14  Ordered, cost         168 non-null    float64\n",
      " 15  Purchased, pc.        168 non-null    int64  \n",
      " 16  Purchased, cost       168 non-null    float64\n",
      " 17  Current balance, pc.  168 non-null    int64  \n",
      " 18  Unnamed: 18           0 non-null      float64\n",
      " 19  Unnamed: 19           0 non-null      float64\n",
      " 20  Unnamed: 20           0 non-null      float64\n",
      " 21  Unnamed: 21           0 non-null      float64\n",
      " 22  Unnamed: 22           0 non-null      float64\n",
      " 23  Unnamed: 23           0 non-null      float64\n",
      " 24  Unnamed: 24           0 non-null      float64\n",
      " 25  Unnamed: 25           0 non-null      float64\n",
      "dtypes: float64(12), int64(6), object(8)\n",
      "memory usage: 34.2+ KB\n"
     ]
    }
   ],
   "source": [
    "df.info()"
   ]
  },
  {
   "cell_type": "code",
   "execution_count": 9,
   "id": "114e4dde",
   "metadata": {},
   "outputs": [
    {
     "data": {
      "text/plain": [
       "(168, 26)"
      ]
     },
     "execution_count": 9,
     "metadata": {},
     "output_type": "execute_result"
    }
   ],
   "source": [
    "df.shape"
   ]
  },
  {
   "cell_type": "code",
   "execution_count": 11,
   "id": "b0589cb5",
   "metadata": {},
   "outputs": [],
   "source": [
    "df.drop(['Collection','Unnamed: 18','Unnamed: 19','Unnamed: 20','Unnamed: 21','Unnamed: 22','Unnamed: 23','Unnamed: 24','Unnamed: 25'], axis=1, inplace=True)"
   ]
  },
  {
   "cell_type": "code",
   "execution_count": 12,
   "id": "9102fc8b",
   "metadata": {},
   "outputs": [
    {
     "data": {
      "text/plain": [
       "(168, 17)"
      ]
     },
     "execution_count": 12,
     "metadata": {},
     "output_type": "execute_result"
    }
   ],
   "source": [
    "df.shape"
   ]
  },
  {
   "cell_type": "code",
   "execution_count": 13,
   "id": "52f3764d",
   "metadata": {},
   "outputs": [
    {
     "data": {
      "text/html": [
       "<div>\n",
       "<style scoped>\n",
       "    .dataframe tbody tr th:only-of-type {\n",
       "        vertical-align: middle;\n",
       "    }\n",
       "\n",
       "    .dataframe tbody tr th {\n",
       "        vertical-align: top;\n",
       "    }\n",
       "\n",
       "    .dataframe thead th {\n",
       "        text-align: right;\n",
       "    }\n",
       "</style>\n",
       "<table border=\"1\" class=\"dataframe\">\n",
       "  <thead>\n",
       "    <tr style=\"text-align: right;\">\n",
       "      <th></th>\n",
       "      <th>Brand</th>\n",
       "      <th>Goods</th>\n",
       "      <th>Season</th>\n",
       "      <th>Item Name</th>\n",
       "      <th>Vendore Code</th>\n",
       "      <th>Product Code</th>\n",
       "      <th>Bar Code</th>\n",
       "      <th>Size</th>\n",
       "      <th>Contract</th>\n",
       "      <th>Warehouse</th>\n",
       "      <th>Received, pc.</th>\n",
       "      <th>Received, cost</th>\n",
       "      <th>Ordered, pc.</th>\n",
       "      <th>Ordered, cost</th>\n",
       "      <th>Purchased, pc.</th>\n",
       "      <th>Purchased, cost</th>\n",
       "      <th>Current balance, pc.</th>\n",
       "    </tr>\n",
       "  </thead>\n",
       "  <tbody>\n",
       "    <tr>\n",
       "      <th>0</th>\n",
       "      <td>Alpine Fair</td>\n",
       "      <td>Yarn</td>\n",
       "      <td>All Season</td>\n",
       "      <td>Носки, мягкий след, 6 пар</td>\n",
       "      <td>ml17-black</td>\n",
       "      <td>12668975</td>\n",
       "      <td>2.000341e+12</td>\n",
       "      <td>39-41</td>\n",
       "      <td>Agent Contract IE Korkmazov A.Kh.</td>\n",
       "      <td>Krasnodar</td>\n",
       "      <td>0</td>\n",
       "      <td>0</td>\n",
       "      <td>0</td>\n",
       "      <td>0.0</td>\n",
       "      <td>0</td>\n",
       "      <td>0.0</td>\n",
       "      <td>14</td>\n",
       "    </tr>\n",
       "    <tr>\n",
       "      <th>1</th>\n",
       "      <td>Alpine Fair</td>\n",
       "      <td>Socks</td>\n",
       "      <td>All Season</td>\n",
       "      <td>Носки, мягкий след, 6 пар</td>\n",
       "      <td>ml17-white</td>\n",
       "      <td>12668976</td>\n",
       "      <td>2.000341e+12</td>\n",
       "      <td>45-46</td>\n",
       "      <td>Agent Contract IE Korkmazov A.Kh.</td>\n",
       "      <td>Krasnodar</td>\n",
       "      <td>0</td>\n",
       "      <td>0</td>\n",
       "      <td>0</td>\n",
       "      <td>0.0</td>\n",
       "      <td>0</td>\n",
       "      <td>0.0</td>\n",
       "      <td>6</td>\n",
       "    </tr>\n",
       "    <tr>\n",
       "      <th>2</th>\n",
       "      <td>Alpine Fair</td>\n",
       "      <td>Socks</td>\n",
       "      <td>All Season</td>\n",
       "      <td>Носки из верблюжьей шерсти, 2 пары</td>\n",
       "      <td>nzv1-dbeige</td>\n",
       "      <td>17666015</td>\n",
       "      <td>2.000861e+12</td>\n",
       "      <td>45-46</td>\n",
       "      <td>Agent Contract IE Korkmazov A.Kh.</td>\n",
       "      <td>Podolsk</td>\n",
       "      <td>0</td>\n",
       "      <td>0</td>\n",
       "      <td>0</td>\n",
       "      <td>0.0</td>\n",
       "      <td>0</td>\n",
       "      <td>0.0</td>\n",
       "      <td>8</td>\n",
       "    </tr>\n",
       "    <tr>\n",
       "      <th>3</th>\n",
       "      <td>Alpine Fair</td>\n",
       "      <td>Socks</td>\n",
       "      <td>Winter</td>\n",
       "      <td>Носки женские, 6 пар</td>\n",
       "      <td>jl4-gray</td>\n",
       "      <td>12475428</td>\n",
       "      <td>4.650100e+12</td>\n",
       "      <td>39-41</td>\n",
       "      <td>Agent Contract IE Korkmazov A.Kh.</td>\n",
       "      <td>Podolsk</td>\n",
       "      <td>0</td>\n",
       "      <td>0</td>\n",
       "      <td>0</td>\n",
       "      <td>0.0</td>\n",
       "      <td>0</td>\n",
       "      <td>0.0</td>\n",
       "      <td>14</td>\n",
       "    </tr>\n",
       "    <tr>\n",
       "      <th>4</th>\n",
       "      <td>Alpine Fair</td>\n",
       "      <td>Socks</td>\n",
       "      <td>All Season</td>\n",
       "      <td>Носки женские, 6 пар</td>\n",
       "      <td>jl4-white</td>\n",
       "      <td>12475429</td>\n",
       "      <td>4.650100e+12</td>\n",
       "      <td>39-41</td>\n",
       "      <td>Agent Contract IE Korkmazov A.Kh.</td>\n",
       "      <td>Krasnodar</td>\n",
       "      <td>0</td>\n",
       "      <td>0</td>\n",
       "      <td>0</td>\n",
       "      <td>0.0</td>\n",
       "      <td>0</td>\n",
       "      <td>0.0</td>\n",
       "      <td>17</td>\n",
       "    </tr>\n",
       "  </tbody>\n",
       "</table>\n",
       "</div>"
      ],
      "text/plain": [
       "         Brand  Goods      Season                           Item Name  \\\n",
       "0  Alpine Fair   Yarn  All Season           Носки, мягкий след, 6 пар   \n",
       "1  Alpine Fair  Socks  All Season           Носки, мягкий след, 6 пар   \n",
       "2  Alpine Fair  Socks  All Season  Носки из верблюжьей шерсти, 2 пары   \n",
       "3  Alpine Fair  Socks      Winter                Носки женские, 6 пар   \n",
       "4  Alpine Fair  Socks  All Season                Носки женские, 6 пар   \n",
       "\n",
       "  Vendore Code  Product Code      Bar Code   Size  \\\n",
       "0   ml17-black      12668975  2.000341e+12  39-41   \n",
       "1   ml17-white      12668976  2.000341e+12  45-46   \n",
       "2  nzv1-dbeige      17666015  2.000861e+12  45-46   \n",
       "3     jl4-gray      12475428  4.650100e+12  39-41   \n",
       "4    jl4-white      12475429  4.650100e+12  39-41   \n",
       "\n",
       "                            Contract  Warehouse  Received, pc.  \\\n",
       "0  Agent Contract IE Korkmazov A.Kh.  Krasnodar              0   \n",
       "1  Agent Contract IE Korkmazov A.Kh.  Krasnodar              0   \n",
       "2  Agent Contract IE Korkmazov A.Kh.    Podolsk              0   \n",
       "3  Agent Contract IE Korkmazov A.Kh.    Podolsk              0   \n",
       "4  Agent Contract IE Korkmazov A.Kh.  Krasnodar              0   \n",
       "\n",
       "   Received, cost  Ordered, pc.  Ordered, cost  Purchased, pc.  \\\n",
       "0               0             0            0.0               0   \n",
       "1               0             0            0.0               0   \n",
       "2               0             0            0.0               0   \n",
       "3               0             0            0.0               0   \n",
       "4               0             0            0.0               0   \n",
       "\n",
       "   Purchased, cost  Current balance, pc.  \n",
       "0              0.0                    14  \n",
       "1              0.0                     6  \n",
       "2              0.0                     8  \n",
       "3              0.0                    14  \n",
       "4              0.0                    17  "
      ]
     },
     "execution_count": 13,
     "metadata": {},
     "output_type": "execute_result"
    }
   ],
   "source": [
    "df.head()"
   ]
  },
  {
   "cell_type": "code",
   "execution_count": 15,
   "id": "ed470b11",
   "metadata": {},
   "outputs": [
    {
     "data": {
      "text/plain": [
       "143"
      ]
     },
     "execution_count": 15,
     "metadata": {},
     "output_type": "execute_result"
    }
   ],
   "source": [
    "(df['Received, pc.']==0).sum()"
   ]
  },
  {
   "cell_type": "code",
   "execution_count": 16,
   "id": "723ec93b",
   "metadata": {},
   "outputs": [
    {
     "data": {
      "text/plain": [
       "143"
      ]
     },
     "execution_count": 16,
     "metadata": {},
     "output_type": "execute_result"
    }
   ],
   "source": [
    "(df['Received, cost']==0).sum()"
   ]
  },
  {
   "cell_type": "code",
   "execution_count": 17,
   "id": "56819417",
   "metadata": {},
   "outputs": [
    {
     "data": {
      "text/plain": [
       "105"
      ]
     },
     "execution_count": 17,
     "metadata": {},
     "output_type": "execute_result"
    }
   ],
   "source": [
    "(df['Ordered, pc.']==0).sum()"
   ]
  },
  {
   "cell_type": "code",
   "execution_count": 18,
   "id": "78a9736b",
   "metadata": {},
   "outputs": [
    {
     "data": {
      "text/plain": [
       "105"
      ]
     },
     "execution_count": 18,
     "metadata": {},
     "output_type": "execute_result"
    }
   ],
   "source": [
    "(df['Ordered, cost']==0).sum()"
   ]
  },
  {
   "cell_type": "code",
   "execution_count": 19,
   "id": "aed31cf7",
   "metadata": {},
   "outputs": [
    {
     "data": {
      "text/plain": [
       "115"
      ]
     },
     "execution_count": 19,
     "metadata": {},
     "output_type": "execute_result"
    }
   ],
   "source": [
    "(df['Purchased, pc.']==0).sum()"
   ]
  },
  {
   "cell_type": "code",
   "execution_count": 20,
   "id": "a7b7b69b",
   "metadata": {},
   "outputs": [
    {
     "data": {
      "text/plain": [
       "115"
      ]
     },
     "execution_count": 20,
     "metadata": {},
     "output_type": "execute_result"
    }
   ],
   "source": [
    "(df['Purchased, cost']==0).sum()"
   ]
  },
  {
   "cell_type": "code",
   "execution_count": 31,
   "id": "003ec258",
   "metadata": {},
   "outputs": [
    {
     "data": {
      "text/plain": [
       "array(['Krasnodar', 'Podolsk', 'Saint Petersburg', 'Novosibirsk', 'Kazan',\n",
       "       'Ekaterinburg'], dtype=object)"
      ]
     },
     "execution_count": 31,
     "metadata": {},
     "output_type": "execute_result"
    }
   ],
   "source": [
    "df['Warehouse'].unique()"
   ]
  },
  {
   "cell_type": "code",
   "execution_count": 32,
   "id": "72eda80f",
   "metadata": {},
   "outputs": [
    {
     "data": {
      "text/plain": [
       "array(['Agent Contract IE Korkmazov A.Kh.', '0100-1545 Agent'],\n",
       "      dtype=object)"
      ]
     },
     "execution_count": 32,
     "metadata": {},
     "output_type": "execute_result"
    }
   ],
   "source": [
    "df['Contract'].unique()"
   ]
  },
  {
   "cell_type": "code",
   "execution_count": null,
   "id": "763993c6",
   "metadata": {},
   "outputs": [],
   "source": []
  },
  {
   "cell_type": "code",
   "execution_count": 21,
   "id": "9a0b9240",
   "metadata": {},
   "outputs": [],
   "source": [
    "df.to_excel('supplier-goods-newest.xlsx')"
   ]
  },
  {
   "cell_type": "code",
   "execution_count": null,
   "id": "714d21f4",
   "metadata": {},
   "outputs": [],
   "source": []
  },
  {
   "cell_type": "code",
   "execution_count": 22,
   "id": "237e3446",
   "metadata": {},
   "outputs": [],
   "source": [
    "d4=pd.read_excel('report_2021_7_21.xlsx')"
   ]
  },
  {
   "cell_type": "code",
   "execution_count": 23,
   "id": "c4443357",
   "metadata": {},
   "outputs": [
    {
     "data": {
      "text/html": [
       "<div>\n",
       "<style scoped>\n",
       "    .dataframe tbody tr th:only-of-type {\n",
       "        vertical-align: middle;\n",
       "    }\n",
       "\n",
       "    .dataframe tbody tr th {\n",
       "        vertical-align: top;\n",
       "    }\n",
       "\n",
       "    .dataframe thead th {\n",
       "        text-align: right;\n",
       "    }\n",
       "</style>\n",
       "<table border=\"1\" class=\"dataframe\">\n",
       "  <thead>\n",
       "    <tr style=\"text-align: right;\">\n",
       "      <th></th>\n",
       "      <th>Brand</th>\n",
       "      <th>Week</th>\n",
       "      <th>Day</th>\n",
       "      <th>Vendore Code</th>\n",
       "      <th>Current Balance</th>\n",
       "      <th>Sales, pc.</th>\n",
       "      <th>Sales, rub.</th>\n",
       "      <th>Ordered goods, pc.</th>\n",
       "      <th>Cost of the goods ordered</th>\n",
       "    </tr>\n",
       "  </thead>\n",
       "  <tbody>\n",
       "    <tr>\n",
       "      <th>0</th>\n",
       "      <td>Alpine Fair</td>\n",
       "      <td>44</td>\n",
       "      <td>2020-10-26</td>\n",
       "      <td>pr2-dbeige</td>\n",
       "      <td>0</td>\n",
       "      <td>1</td>\n",
       "      <td>437.82</td>\n",
       "      <td>1</td>\n",
       "      <td>437.82</td>\n",
       "    </tr>\n",
       "    <tr>\n",
       "      <th>1</th>\n",
       "      <td>Alpine Fair</td>\n",
       "      <td>44</td>\n",
       "      <td>2020-10-26</td>\n",
       "      <td>jl2-linen</td>\n",
       "      <td>0</td>\n",
       "      <td>1</td>\n",
       "      <td>338.85</td>\n",
       "      <td>0</td>\n",
       "      <td>0.00</td>\n",
       "    </tr>\n",
       "    <tr>\n",
       "      <th>2</th>\n",
       "      <td>Alpine Fair</td>\n",
       "      <td>44</td>\n",
       "      <td>2020-10-26</td>\n",
       "      <td>nzo1-wb/wg</td>\n",
       "      <td>0</td>\n",
       "      <td>2</td>\n",
       "      <td>869.04</td>\n",
       "      <td>7</td>\n",
       "      <td>2824.38</td>\n",
       "    </tr>\n",
       "    <tr>\n",
       "      <th>3</th>\n",
       "      <td>Alpine Fair</td>\n",
       "      <td>44</td>\n",
       "      <td>2020-10-26</td>\n",
       "      <td>ml2-1-black</td>\n",
       "      <td>0</td>\n",
       "      <td>0</td>\n",
       "      <td>0.00</td>\n",
       "      <td>1</td>\n",
       "      <td>338.85</td>\n",
       "    </tr>\n",
       "    <tr>\n",
       "      <th>4</th>\n",
       "      <td>Alpine Fair</td>\n",
       "      <td>44</td>\n",
       "      <td>2020-10-26</td>\n",
       "      <td>nzo1-gw/bg</td>\n",
       "      <td>0</td>\n",
       "      <td>4</td>\n",
       "      <td>1738.08</td>\n",
       "      <td>3</td>\n",
       "      <td>1303.56</td>\n",
       "    </tr>\n",
       "  </tbody>\n",
       "</table>\n",
       "</div>"
      ],
      "text/plain": [
       "         Brand  Week        Day Vendore Code  Current Balance  Sales, pc.  \\\n",
       "0  Alpine Fair    44 2020-10-26   pr2-dbeige                0           1   \n",
       "1  Alpine Fair    44 2020-10-26    jl2-linen                0           1   \n",
       "2  Alpine Fair    44 2020-10-26   nzo1-wb/wg                0           2   \n",
       "3  Alpine Fair    44 2020-10-26  ml2-1-black                0           0   \n",
       "4  Alpine Fair    44 2020-10-26   nzo1-gw/bg                0           4   \n",
       "\n",
       "   Sales, rub.  Ordered goods, pc.  Cost of the goods ordered  \n",
       "0       437.82                   1                     437.82  \n",
       "1       338.85                   0                       0.00  \n",
       "2       869.04                   7                    2824.38  \n",
       "3         0.00                   1                     338.85  \n",
       "4      1738.08                   3                    1303.56  "
      ]
     },
     "execution_count": 23,
     "metadata": {},
     "output_type": "execute_result"
    }
   ],
   "source": [
    "d4.head()"
   ]
  },
  {
   "cell_type": "code",
   "execution_count": 24,
   "id": "cb013e94",
   "metadata": {},
   "outputs": [
    {
     "name": "stdout",
     "output_type": "stream",
     "text": [
      "<class 'pandas.core.frame.DataFrame'>\n",
      "RangeIndex: 319 entries, 0 to 318\n",
      "Data columns (total 9 columns):\n",
      " #   Column                     Non-Null Count  Dtype         \n",
      "---  ------                     --------------  -----         \n",
      " 0   Brand                      319 non-null    object        \n",
      " 1   Week                       319 non-null    int64         \n",
      " 2   Day                        319 non-null    datetime64[ns]\n",
      " 3   Vendore Code               319 non-null    object        \n",
      " 4   Current Balance            319 non-null    int64         \n",
      " 5   Sales, pc.                 319 non-null    int64         \n",
      " 6   Sales, rub.                319 non-null    float64       \n",
      " 7   Ordered goods, pc.         319 non-null    int64         \n",
      " 8   Cost of the goods ordered  319 non-null    float64       \n",
      "dtypes: datetime64[ns](1), float64(2), int64(4), object(2)\n",
      "memory usage: 22.6+ KB\n"
     ]
    }
   ],
   "source": [
    "d4.info()"
   ]
  },
  {
   "cell_type": "code",
   "execution_count": 25,
   "id": "5a0ca158",
   "metadata": {},
   "outputs": [
    {
     "data": {
      "text/plain": [
       "303"
      ]
     },
     "execution_count": 25,
     "metadata": {},
     "output_type": "execute_result"
    }
   ],
   "source": [
    "(d4['Current Balance']==0).sum()"
   ]
  },
  {
   "cell_type": "code",
   "execution_count": 26,
   "id": "98b6a871",
   "metadata": {},
   "outputs": [
    {
     "data": {
      "text/plain": [
       "1289"
      ]
     },
     "execution_count": 26,
     "metadata": {},
     "output_type": "execute_result"
    }
   ],
   "source": [
    "(d4['Current Balance']).sum()"
   ]
  },
  {
   "cell_type": "code",
   "execution_count": 29,
   "id": "935c504d",
   "metadata": {},
   "outputs": [
    {
     "data": {
      "text/plain": [
       "array([44, 45, 46], dtype=int64)"
      ]
     },
     "execution_count": 29,
     "metadata": {},
     "output_type": "execute_result"
    }
   ],
   "source": [
    "d4['Week'].unique()"
   ]
  },
  {
   "cell_type": "code",
   "execution_count": null,
   "id": "3b012844",
   "metadata": {},
   "outputs": [],
   "source": []
  }
 ],
 "metadata": {
  "kernelspec": {
   "display_name": "Python 3",
   "language": "python",
   "name": "python3"
  },
  "language_info": {
   "codemirror_mode": {
    "name": "ipython",
    "version": 3
   },
   "file_extension": ".py",
   "mimetype": "text/x-python",
   "name": "python",
   "nbconvert_exporter": "python",
   "pygments_lexer": "ipython3",
   "version": "3.9.5"
  },
  "latex_envs": {
   "LaTeX_envs_menu_present": true,
   "autoclose": true,
   "autocomplete": true,
   "bibliofile": "biblio.bib",
   "cite_by": "apalike",
   "current_citInitial": 1,
   "eqLabelWithNumbers": true,
   "eqNumInitial": 1,
   "hotkeys": {
    "equation": "Ctrl-E",
    "itemize": "Ctrl-I"
   },
   "labels_anchors": false,
   "latex_user_defs": false,
   "report_style_numbering": false,
   "user_envs_cfg": true
  },
  "toc": {
   "base_numbering": 1,
   "nav_menu": {},
   "number_sections": true,
   "sideBar": true,
   "skip_h1_title": false,
   "title_cell": "Table of Contents",
   "title_sidebar": "Contents",
   "toc_cell": false,
   "toc_position": {},
   "toc_section_display": true,
   "toc_window_display": false
  },
  "varInspector": {
   "cols": {
    "lenName": 16,
    "lenType": 16,
    "lenVar": 40
   },
   "kernels_config": {
    "python": {
     "delete_cmd_postfix": "",
     "delete_cmd_prefix": "del ",
     "library": "var_list.py",
     "varRefreshCmd": "print(var_dic_list())"
    },
    "r": {
     "delete_cmd_postfix": ") ",
     "delete_cmd_prefix": "rm(",
     "library": "var_list.r",
     "varRefreshCmd": "cat(var_dic_list()) "
    }
   },
   "types_to_exclude": [
    "module",
    "function",
    "builtin_function_or_method",
    "instance",
    "_Feature"
   ],
   "window_display": false
  }
 },
 "nbformat": 4,
 "nbformat_minor": 5
}
