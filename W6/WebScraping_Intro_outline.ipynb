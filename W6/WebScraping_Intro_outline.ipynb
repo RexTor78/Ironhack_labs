{
 "cells": [
  {
   "cell_type": "markdown",
   "id": "273dc65e",
   "metadata": {},
   "source": [
    "# Webscraping one page using beautiful soup \n",
    "\n",
    "### Tools for scraping \n",
    "\n",
    "+ https://www.crummy.com/software/BeautifulSoup/bs4/doc/  (this is what we will use in lectures)\n",
    "\n",
    "+ https://scrapy.org/\n",
    "\n",
    "+ https://selenium-python.readthedocs.io/\n",
    "\n"
   ]
  },
  {
   "cell_type": "markdown",
   "id": "official-driving",
   "metadata": {},
   "source": [
    "## Dormouse HTML Code \n"
   ]
  },
  {
   "cell_type": "code",
   "execution_count": 1,
   "id": "disturbed-debate",
   "metadata": {},
   "outputs": [],
   "source": [
    "#create the variable\n",
    "\n",
    "html_doc =\"\"\"\n",
    "<!DOCTYPE html>\n",
    "<html><head><title>The Dormouse's story</title></head>\n",
    "<body>\n",
    "<p class=\"title\"><b>The Dormouse's story</b></p>\n",
    "\n",
    "<p class=\"story\">Once upon a time there were three little sisters; and their names were\n",
    "<a href=\"http://example.com/elsie\" class=\"sister\" id=\"link1\">Elsie</a>,\n",
    "<a href=\"http://example.com/lacie\" class=\"sister\" id=\"link2\">Lacie</a> and\n",
    "<a href=\"http://example.com/tillie\" class=\"sister\" id=\"link3\">Tillie</a>;\n",
    "and they lived at the bottom of a well.</p>\n",
    "\n",
    "<p class=\"story\">...</p>\n",
    "</html>\n",
    "\"\"\""
   ]
  },
  {
   "cell_type": "code",
   "execution_count": 2,
   "id": "4b3b6f7b",
   "metadata": {},
   "outputs": [
    {
     "data": {
      "text/plain": [
       "'\\n<!DOCTYPE html>\\n<html><head><title>The Dormouse\\'s story</title></head>\\n<body>\\n<p class=\"title\"><b>The Dormouse\\'s story</b></p>\\n\\n<p class=\"story\">Once upon a time there were three little sisters; and their names were\\n<a href=\"http://example.com/elsie\" class=\"sister\" id=\"link1\">Elsie</a>,\\n<a href=\"http://example.com/lacie\" class=\"sister\" id=\"link2\">Lacie</a> and\\n<a href=\"http://example.com/tillie\" class=\"sister\" id=\"link3\">Tillie</a>;\\nand they lived at the bottom of a well.</p>\\n\\n<p class=\"story\">...</p>\\n</html>\\n'"
      ]
     },
     "execution_count": 2,
     "metadata": {},
     "output_type": "execute_result"
    }
   ],
   "source": [
    "html_doc"
   ]
  },
  {
   "cell_type": "code",
   "execution_count": 3,
   "id": "0997bb3f",
   "metadata": {},
   "outputs": [],
   "source": [
    "# after installing as conda install -c anaconda beautifulsoup4\n",
    "\n",
    "#Import needed libraries - BeautifulSoup\n",
    "from bs4 import BeautifulSoup\n",
    "\n"
   ]
  },
  {
   "cell_type": "code",
   "execution_count": 4,
   "id": "removed-bishop",
   "metadata": {},
   "outputs": [],
   "source": [
    "# parse (create) the soup \n",
    "soup_mouse=BeautifulSoup(html_doc,'html.parser')"
   ]
  },
  {
   "cell_type": "code",
   "execution_count": 5,
   "id": "f9781e30",
   "metadata": {},
   "outputs": [
    {
     "data": {
      "text/plain": [
       "\n",
       "<!DOCTYPE html>\n",
       "\n",
       "<html><head><title>The Dormouse's story</title></head>\n",
       "<body>\n",
       "<p class=\"title\"><b>The Dormouse's story</b></p>\n",
       "<p class=\"story\">Once upon a time there were three little sisters; and their names were\n",
       "<a class=\"sister\" href=\"http://example.com/elsie\" id=\"link1\">Elsie</a>,\n",
       "<a class=\"sister\" href=\"http://example.com/lacie\" id=\"link2\">Lacie</a> and\n",
       "<a class=\"sister\" href=\"http://example.com/tillie\" id=\"link3\">Tillie</a>;\n",
       "and they lived at the bottom of a well.</p>\n",
       "<p class=\"story\">...</p>\n",
       "</body></html>"
      ]
     },
     "execution_count": 5,
     "metadata": {},
     "output_type": "execute_result"
    }
   ],
   "source": [
    "soup_mouse"
   ]
  },
  {
   "cell_type": "code",
   "execution_count": 6,
   "id": "outstanding-relation",
   "metadata": {},
   "outputs": [
    {
     "data": {
      "text/plain": [
       "<bound method Tag.prettify of \n",
       "<!DOCTYPE html>\n",
       "\n",
       "<html><head><title>The Dormouse's story</title></head>\n",
       "<body>\n",
       "<p class=\"title\"><b>The Dormouse's story</b></p>\n",
       "<p class=\"story\">Once upon a time there were three little sisters; and their names were\n",
       "<a class=\"sister\" href=\"http://example.com/elsie\" id=\"link1\">Elsie</a>,\n",
       "<a class=\"sister\" href=\"http://example.com/lacie\" id=\"link2\">Lacie</a> and\n",
       "<a class=\"sister\" href=\"http://example.com/tillie\" id=\"link3\">Tillie</a>;\n",
       "and they lived at the bottom of a well.</p>\n",
       "<p class=\"story\">...</p>\n",
       "</body></html>\n",
       ">"
      ]
     },
     "execution_count": 6,
     "metadata": {},
     "output_type": "execute_result"
    }
   ],
   "source": [
    "# prettify the soup \n",
    "soup_mouse.prettify"
   ]
  },
  {
   "cell_type": "markdown",
   "id": "59d97f9d",
   "metadata": {},
   "source": [
    "Option 1 - using beautiful soup the \"HTML\" way  "
   ]
  },
  {
   "cell_type": "code",
   "execution_count": 7,
   "id": "1e715f94",
   "metadata": {},
   "outputs": [
    {
     "data": {
      "text/plain": [
       "<title>The Dormouse's story</title>"
      ]
     },
     "execution_count": 7,
     "metadata": {},
     "output_type": "execute_result"
    }
   ],
   "source": [
    "# using basic tree navigation to access single elements\n",
    "soup_mouse.title"
   ]
  },
  {
   "cell_type": "code",
   "execution_count": 8,
   "id": "3ef54e0c",
   "metadata": {},
   "outputs": [
    {
     "data": {
      "text/plain": [
       "\"The Dormouse's story\""
      ]
     },
     "execution_count": 8,
     "metadata": {},
     "output_type": "execute_result"
    }
   ],
   "source": [
    "soup_mouse.title.string"
   ]
  },
  {
   "cell_type": "code",
   "execution_count": 9,
   "id": "2724e188",
   "metadata": {},
   "outputs": [
    {
     "data": {
      "text/plain": [
       "<body>\n",
       "<p class=\"title\"><b>The Dormouse's story</b></p>\n",
       "<p class=\"story\">Once upon a time there were three little sisters; and their names were\n",
       "<a class=\"sister\" href=\"http://example.com/elsie\" id=\"link1\">Elsie</a>,\n",
       "<a class=\"sister\" href=\"http://example.com/lacie\" id=\"link2\">Lacie</a> and\n",
       "<a class=\"sister\" href=\"http://example.com/tillie\" id=\"link3\">Tillie</a>;\n",
       "and they lived at the bottom of a well.</p>\n",
       "<p class=\"story\">...</p>\n",
       "</body>"
      ]
     },
     "execution_count": 9,
     "metadata": {},
     "output_type": "execute_result"
    }
   ],
   "source": [
    "soup_mouse.body"
   ]
  },
  {
   "cell_type": "code",
   "execution_count": 10,
   "id": "4f685c15",
   "metadata": {},
   "outputs": [
    {
     "data": {
      "text/plain": [
       "<p class=\"title\"><b>The Dormouse's story</b></p>"
      ]
     },
     "execution_count": 10,
     "metadata": {},
     "output_type": "execute_result"
    }
   ],
   "source": [
    "soup_mouse.p"
   ]
  },
  {
   "cell_type": "code",
   "execution_count": null,
   "id": "06b46c24",
   "metadata": {},
   "outputs": [],
   "source": []
  },
  {
   "cell_type": "code",
   "execution_count": null,
   "id": "334bf12d",
   "metadata": {},
   "outputs": [],
   "source": []
  },
  {
   "cell_type": "code",
   "execution_count": null,
   "id": "63fd731e",
   "metadata": {},
   "outputs": [],
   "source": []
  },
  {
   "cell_type": "code",
   "execution_count": 11,
   "id": "1ceac952",
   "metadata": {},
   "outputs": [],
   "source": [
    "# find elements of the tag using find_all()"
   ]
  },
  {
   "cell_type": "code",
   "execution_count": 12,
   "id": "18223cf4",
   "metadata": {
    "scrolled": true
   },
   "outputs": [
    {
     "data": {
      "text/plain": [
       "[<p class=\"title\"><b>The Dormouse's story</b></p>,\n",
       " <p class=\"story\">Once upon a time there were three little sisters; and their names were\n",
       " <a class=\"sister\" href=\"http://example.com/elsie\" id=\"link1\">Elsie</a>,\n",
       " <a class=\"sister\" href=\"http://example.com/lacie\" id=\"link2\">Lacie</a> and\n",
       " <a class=\"sister\" href=\"http://example.com/tillie\" id=\"link3\">Tillie</a>;\n",
       " and they lived at the bottom of a well.</p>,\n",
       " <p class=\"story\">...</p>]"
      ]
     },
     "execution_count": 12,
     "metadata": {},
     "output_type": "execute_result"
    }
   ],
   "source": [
    "soup_mouse.find_all('p')"
   ]
  },
  {
   "cell_type": "code",
   "execution_count": 13,
   "id": "c2bdd4da",
   "metadata": {},
   "outputs": [
    {
     "data": {
      "text/plain": [
       "[<a class=\"sister\" href=\"http://example.com/elsie\" id=\"link1\">Elsie</a>,\n",
       " <a class=\"sister\" href=\"http://example.com/lacie\" id=\"link2\">Lacie</a>,\n",
       " <a class=\"sister\" href=\"http://example.com/tillie\" id=\"link3\">Tillie</a>]"
      ]
     },
     "execution_count": 13,
     "metadata": {},
     "output_type": "execute_result"
    }
   ],
   "source": [
    "soup_mouse.find_all('a')"
   ]
  },
  {
   "cell_type": "code",
   "execution_count": 14,
   "id": "94394ec2",
   "metadata": {
    "scrolled": true
   },
   "outputs": [
    {
     "data": {
      "text/plain": [
       "<head><title>The Dormouse's story</title></head>"
      ]
     },
     "execution_count": 14,
     "metadata": {},
     "output_type": "execute_result"
    }
   ],
   "source": [
    "soup_mouse.title.parent"
   ]
  },
  {
   "cell_type": "code",
   "execution_count": 15,
   "id": "6cad75a1",
   "metadata": {},
   "outputs": [
    {
     "name": "stdout",
     "output_type": "stream",
     "text": [
      "<!DOCTYPE html>\n",
      "<html>\n",
      " <head>\n",
      "  <title>\n",
      "   The Dormouse's story\n",
      "  </title>\n",
      " </head>\n",
      " <body>\n",
      "  <p class=\"title\">\n",
      "   <b>\n",
      "    The Dormouse's story\n",
      "   </b>\n",
      "  </p>\n",
      "  <p class=\"story\">\n",
      "   Once upon a time there were three little sisters; and their names were\n",
      "   <a class=\"sister\" href=\"http://example.com/elsie\" id=\"link1\">\n",
      "    Elsie\n",
      "   </a>\n",
      "   ,\n",
      "   <a class=\"sister\" href=\"http://example.com/lacie\" id=\"link2\">\n",
      "    Lacie\n",
      "   </a>\n",
      "   and\n",
      "   <a class=\"sister\" href=\"http://example.com/tillie\" id=\"link3\">\n",
      "    Tillie\n",
      "   </a>\n",
      "   ;\n",
      "and they lived at the bottom of a well.\n",
      "  </p>\n",
      "  <p class=\"story\">\n",
      "   ...\n",
      "  </p>\n",
      " </body>\n",
      "</html>\n",
      "\n"
     ]
    }
   ],
   "source": [
    "print(soup_mouse.prettify())"
   ]
  },
  {
   "cell_type": "code",
   "execution_count": 16,
   "id": "87c2b3a0",
   "metadata": {},
   "outputs": [],
   "source": [
    "p_tags=soup_mouse.find_all('p')"
   ]
  },
  {
   "cell_type": "code",
   "execution_count": 17,
   "id": "2fd6ee47",
   "metadata": {},
   "outputs": [
    {
     "name": "stdout",
     "output_type": "stream",
     "text": [
      "The Dormouse's story\n",
      "Once upon a time there were three little sisters; and their names were\n",
      "Elsie,\n",
      "Lacie and\n",
      "Tillie;\n",
      "and they lived at the bottom of a well.\n",
      "...\n"
     ]
    }
   ],
   "source": [
    "for p in p_tags:\n",
    "    print(p.get_text())"
   ]
  },
  {
   "cell_type": "code",
   "execution_count": 18,
   "id": "ffd993f1",
   "metadata": {},
   "outputs": [],
   "source": [
    "a_tags= soup_mouse.find_all('a')"
   ]
  },
  {
   "cell_type": "code",
   "execution_count": 19,
   "id": "78eb2f4b",
   "metadata": {},
   "outputs": [
    {
     "data": {
      "text/plain": [
       "[<a class=\"sister\" href=\"http://example.com/elsie\" id=\"link1\">Elsie</a>,\n",
       " <a class=\"sister\" href=\"http://example.com/lacie\" id=\"link2\">Lacie</a>,\n",
       " <a class=\"sister\" href=\"http://example.com/tillie\" id=\"link3\">Tillie</a>]"
      ]
     },
     "execution_count": 19,
     "metadata": {},
     "output_type": "execute_result"
    }
   ],
   "source": [
    "a_tags"
   ]
  },
  {
   "cell_type": "code",
   "execution_count": 20,
   "id": "5f19e914",
   "metadata": {},
   "outputs": [
    {
     "name": "stdout",
     "output_type": "stream",
     "text": [
      "http://example.com/elsie\n",
      "http://example.com/lacie\n",
      "http://example.com/tillie\n"
     ]
    }
   ],
   "source": [
    "for atag in a_tags:\n",
    "    print(atag.get('href'))"
   ]
  },
  {
   "cell_type": "code",
   "execution_count": null,
   "id": "6f38a04b",
   "metadata": {},
   "outputs": [],
   "source": []
  },
  {
   "cell_type": "code",
   "execution_count": null,
   "id": "6a6bd711",
   "metadata": {},
   "outputs": [],
   "source": []
  },
  {
   "cell_type": "markdown",
   "id": "conscious-alabama",
   "metadata": {},
   "source": [
    "## Option 2 - using beautiful soup the \"CSS\" way"
   ]
  },
  {
   "cell_type": "markdown",
   "id": "ddffb58d",
   "metadata": {},
   "source": [
    "As we will be be using css selectors, let's learn first the syntax of css selectors playing this game: https://flukeout.github.io/\n",
    "\n",
    "Everyone should reach level 12!"
   ]
  },
  {
   "cell_type": "code",
   "execution_count": 21,
   "id": "20ace1d2",
   "metadata": {},
   "outputs": [],
   "source": [
    "# using select()"
   ]
  },
  {
   "cell_type": "markdown",
   "id": "e6b93616",
   "metadata": {},
   "source": [
    "We can combine the `select()` method with other bs4 methods, such as `get_text()`.\n",
    "\n",
    "`get_text()`, however, can only be applied to single elements, while `select()` might return multiple elements. It's common to iterate through the output of `select()`"
   ]
  },
  {
   "cell_type": "code",
   "execution_count": 22,
   "id": "ea9e53c2",
   "metadata": {},
   "outputs": [
    {
     "data": {
      "text/plain": [
       "[<a class=\"sister\" href=\"http://example.com/lacie\" id=\"link2\">Lacie</a>]"
      ]
     },
     "execution_count": 22,
     "metadata": {},
     "output_type": "execute_result"
    }
   ],
   "source": [
    "soup_mouse.select('#link2')"
   ]
  },
  {
   "cell_type": "code",
   "execution_count": 23,
   "id": "bf842d58",
   "metadata": {},
   "outputs": [
    {
     "data": {
      "text/plain": [
       "[<a class=\"sister\" href=\"http://example.com/elsie\" id=\"link1\">Elsie</a>,\n",
       " <a class=\"sister\" href=\"http://example.com/lacie\" id=\"link2\">Lacie</a>,\n",
       " <a class=\"sister\" href=\"http://example.com/tillie\" id=\"link3\">Tillie</a>]"
      ]
     },
     "execution_count": 23,
     "metadata": {},
     "output_type": "execute_result"
    }
   ],
   "source": [
    "soup_mouse.select('.sister')"
   ]
  },
  {
   "cell_type": "code",
   "execution_count": 24,
   "id": "bb45da91",
   "metadata": {},
   "outputs": [
    {
     "data": {
      "text/plain": [
       "[<a class=\"sister\" href=\"http://example.com/elsie\" id=\"link1\">Elsie</a>]"
      ]
     },
     "execution_count": 24,
     "metadata": {},
     "output_type": "execute_result"
    }
   ],
   "source": [
    "soup_mouse.select('#link1')"
   ]
  },
  {
   "cell_type": "code",
   "execution_count": 25,
   "id": "601c92ca",
   "metadata": {},
   "outputs": [
    {
     "data": {
      "text/plain": [
       "[<a class=\"sister\" href=\"http://example.com/elsie\" id=\"link1\">Elsie</a>,\n",
       " <a class=\"sister\" href=\"http://example.com/lacie\" id=\"link2\">Lacie</a>,\n",
       " <a class=\"sister\" href=\"http://example.com/tillie\" id=\"link3\">Tillie</a>]"
      ]
     },
     "execution_count": 25,
     "metadata": {},
     "output_type": "execute_result"
    }
   ],
   "source": [
    "soup_mouse.select('a')"
   ]
  },
  {
   "cell_type": "code",
   "execution_count": 26,
   "id": "3bf6479d",
   "metadata": {},
   "outputs": [
    {
     "name": "stdout",
     "output_type": "stream",
     "text": [
      "Elsie\n",
      "Lacie\n",
      "Tillie\n"
     ]
    }
   ],
   "source": [
    "for a in soup_mouse.select('a'):\n",
    "    print(a.get_text())"
   ]
  },
  {
   "cell_type": "code",
   "execution_count": 27,
   "id": "601cf40d",
   "metadata": {},
   "outputs": [
    {
     "name": "stdout",
     "output_type": "stream",
     "text": [
      "Once upon a time there were three little sisters; and their names were\n",
      "Elsie,\n",
      "Lacie and\n",
      "Tillie;\n",
      "and they lived at the bottom of a well.\n",
      "...\n"
     ]
    }
   ],
   "source": [
    "for p in soup_mouse.select('p.story'):\n",
    "    print(p.get_text())"
   ]
  },
  {
   "cell_type": "code",
   "execution_count": 28,
   "id": "fb241a75",
   "metadata": {},
   "outputs": [
    {
     "name": "stdout",
     "output_type": "stream",
     "text": [
      "<p class=\"story\">...</p>\n"
     ]
    }
   ],
   "source": [
    "print(soup_mouse.select('p.story')[1])"
   ]
  },
  {
   "cell_type": "code",
   "execution_count": null,
   "id": "71d7a8d2",
   "metadata": {},
   "outputs": [],
   "source": []
  },
  {
   "cell_type": "markdown",
   "id": "protected-provision",
   "metadata": {},
   "source": [
    "useful links for the lecture : \n",
    "    \n",
    "    https://www.w3schools.com/cssref/css_selectors.asp\n",
    "    https://www.w3schools.com/tags/default.asp\n",
    "    https://www.w3schools.com/css/css_syntax.ASP\n",
    "    https://www.imdb.com/chart/top/"
   ]
  },
  {
   "cell_type": "markdown",
   "id": "8c8a9c87",
   "metadata": {},
   "source": [
    "## Activity \n",
    "\n",
    "Write code to extract and print the following contents (not including the html tags, only human-readable text): \n",
    "\n",
    "1. All the \"fun facts\"\n",
    "\n",
    "2. The names of all the places\n",
    "\n",
    "3. The content (name and fact) of all the cities (only cities, not countries) \n",
    "\n",
    "4. The names (not facts!) of all the cities (not countries)\n"
   ]
  },
  {
   "cell_type": "code",
   "execution_count": 29,
   "id": "b085766e",
   "metadata": {},
   "outputs": [],
   "source": [
    "geography = \"\"\"\n",
    "<!DOCTYPE html>\n",
    "<html>\n",
    "<head> Geography</head>\n",
    "<body>\n",
    "\n",
    "<div class=\"city\">\n",
    "  <h2>London</h2>\n",
    "  <p>London is the most popular tourist destination in the world.</p>\n",
    "</div>\n",
    "\n",
    "<div class=\"city\">\n",
    "  <h2>Paris</h2>\n",
    "  <p>Paris was originally a Roman City called Lutetia.</p>\n",
    "</div>\n",
    "\n",
    "<div class=\"country\">\n",
    "  <h2>Spain</h2>\n",
    "  <p>Spain produces 43,8% of all the world's Olive Oil.</p>\n",
    "</div>\n",
    "\n",
    "</body>\n",
    "</html>\n",
    "\"\"\""
   ]
  },
  {
   "cell_type": "code",
   "execution_count": 30,
   "id": "e098240a",
   "metadata": {},
   "outputs": [],
   "source": [
    "soup=BeautifulSoup(geography, 'html.parser')"
   ]
  },
  {
   "cell_type": "code",
   "execution_count": 31,
   "id": "33bb9a80",
   "metadata": {},
   "outputs": [
    {
     "name": "stdout",
     "output_type": "stream",
     "text": [
      "<!DOCTYPE html>\n",
      "<html>\n",
      " <head>\n",
      "  Geography\n",
      " </head>\n",
      " <body>\n",
      "  <div class=\"city\">\n",
      "   <h2>\n",
      "    London\n",
      "   </h2>\n",
      "   <p>\n",
      "    London is the most popular tourist destination in the world.\n",
      "   </p>\n",
      "  </div>\n",
      "  <div class=\"city\">\n",
      "   <h2>\n",
      "    Paris\n",
      "   </h2>\n",
      "   <p>\n",
      "    Paris was originally a Roman City called Lutetia.\n",
      "   </p>\n",
      "  </div>\n",
      "  <div class=\"country\">\n",
      "   <h2>\n",
      "    Spain\n",
      "   </h2>\n",
      "   <p>\n",
      "    Spain produces 43,8% of all the world's Olive Oil.\n",
      "   </p>\n",
      "  </div>\n",
      " </body>\n",
      "</html>\n",
      "\n"
     ]
    }
   ],
   "source": [
    "print(soup.prettify())"
   ]
  },
  {
   "cell_type": "code",
   "execution_count": 32,
   "id": "b3426d22",
   "metadata": {},
   "outputs": [
    {
     "name": "stdout",
     "output_type": "stream",
     "text": [
      "London is the most popular tourist destination in the world.\n",
      "Paris was originally a Roman City called Lutetia.\n",
      "Spain produces 43,8% of all the world's Olive Oil.\n"
     ]
    }
   ],
   "source": [
    "# 1. All the \"fun facts\"\n",
    "for i in soup.find_all('p'):\n",
    "    print(i.get_text())"
   ]
  },
  {
   "cell_type": "markdown",
   "id": "75b9771b",
   "metadata": {},
   "source": [
    "example : \n",
    "    \n",
    "\n",
    "**Paris was originally a Roman City called Lutetia**\n"
   ]
  },
  {
   "cell_type": "code",
   "execution_count": 33,
   "id": "4deaf42a",
   "metadata": {},
   "outputs": [
    {
     "name": "stdout",
     "output_type": "stream",
     "text": [
      "London\n",
      "Paris\n",
      "Spain\n"
     ]
    }
   ],
   "source": [
    "# 2. The names of all the places.\n",
    "for i in soup.find_all('h2'):\n",
    "    print(i.get_text())"
   ]
  },
  {
   "cell_type": "code",
   "execution_count": null,
   "id": "06a17a44",
   "metadata": {},
   "outputs": [],
   "source": []
  },
  {
   "cell_type": "markdown",
   "id": "090d6185",
   "metadata": {},
   "source": [
    "example: \n",
    "\n",
    "**Paris**"
   ]
  },
  {
   "cell_type": "code",
   "execution_count": 34,
   "id": "5c479a6b",
   "metadata": {},
   "outputs": [
    {
     "name": "stdout",
     "output_type": "stream",
     "text": [
      "\n",
      "London\n",
      "London is the most popular tourist destination in the world.\n",
      "\n",
      "\n",
      "Paris\n",
      "Paris was originally a Roman City called Lutetia.\n",
      "\n"
     ]
    }
   ],
   "source": [
    "# 3. All the content (name and fact) of all the cities (only cities, not countries!)\n",
    "\n",
    "for i in soup.find_all('div',{'class':'city'}):\n",
    "    print(i.get_text())"
   ]
  },
  {
   "cell_type": "markdown",
   "id": "2d1a3774",
   "metadata": {},
   "source": [
    "example: \n",
    "    \n",
    "**Paris**\n",
    "\n",
    "**Paris was originally a Roman City called Lutetia.**"
   ]
  },
  {
   "cell_type": "code",
   "execution_count": 35,
   "id": "dbe5ccb5",
   "metadata": {},
   "outputs": [
    {
     "name": "stdout",
     "output_type": "stream",
     "text": [
      "London\n",
      "Paris\n"
     ]
    }
   ],
   "source": [
    "# 4. The names (not facts!) of all the cities (not countries!)\n",
    "\n",
    "for i in soup.find_all('div',{'class':'city'}):\n",
    "    print(i.h2.get_text())"
   ]
  },
  {
   "cell_type": "code",
   "execution_count": 36,
   "id": "b86d077e",
   "metadata": {},
   "outputs": [
    {
     "name": "stdout",
     "output_type": "stream",
     "text": [
      "\n",
      "h2Londonh2\n",
      "h2London is the most popular tourist destination in the world.h2\n",
      "\n",
      "\n",
      "h2Parish2\n",
      "h2Paris was originally a Roman City called Lutetia.h2\n",
      "\n"
     ]
    }
   ],
   "source": [
    "for i in soup.find_all('div',{'class':'city'}):\n",
    "    print(i.get_text('h2'))"
   ]
  },
  {
   "cell_type": "code",
   "execution_count": null,
   "id": "96ad65f9",
   "metadata": {},
   "outputs": [],
   "source": []
  },
  {
   "cell_type": "markdown",
   "id": "2802fb64",
   "metadata": {},
   "source": [
    "## Scraping the IMDB top 250\n",
    "\n",
    "Let's go to https://www.imdb.com/chart/top, where we'll see the top 250 movies according to IMDb ratings.\n",
    "\n",
    "Notice how each movie has the following elements:\n",
    "\n",
    "- Title\n",
    "\n",
    "- Release Year\n",
    "\n",
    "- IMDb rating\n",
    "\n",
    "- Director & main stars (they appear when you hover over the title)\n",
    "\n",
    "Our objective is going to be to scrape this information and store it in a pandas dataframe."
   ]
  },
  {
   "cell_type": "code",
   "execution_count": 37,
   "id": "00a710ee",
   "metadata": {},
   "outputs": [],
   "source": [
    "# 1. importing libraries- BeautifulSoup, requests, pandas\n",
    "import requests\n",
    "import pandas as pd\n",
    "\n",
    "# 2. find url and store it in avariable\n",
    "url = \"https://www.imdb.com/chart/top\"\n",
    "\n",
    "# 3. download html with a get request\n",
    "response = requests.get(url)"
   ]
  },
  {
   "cell_type": "code",
   "execution_count": 38,
   "id": "0f5c8333",
   "metadata": {},
   "outputs": [
    {
     "data": {
      "text/plain": [
       "200"
      ]
     },
     "execution_count": 38,
     "metadata": {},
     "output_type": "execute_result"
    }
   ],
   "source": [
    "#check response status code \n",
    "response.status_code"
   ]
  },
  {
   "cell_type": "code",
   "execution_count": 39,
   "id": "2497ab30",
   "metadata": {},
   "outputs": [],
   "source": [
    "#parse and store the contents of the url call\n",
    "soup=BeautifulSoup(response.content, 'html.parser')"
   ]
  },
  {
   "cell_type": "code",
   "execution_count": 40,
   "id": "falling-helicopter",
   "metadata": {},
   "outputs": [],
   "source": [
    "#prettify the soup \n"
   ]
  },
  {
   "cell_type": "markdown",
   "id": "dd045694",
   "metadata": {},
   "source": [
    "### Query the soup to get movie title, actors, director, year \n"
   ]
  },
  {
   "cell_type": "code",
   "execution_count": 41,
   "id": "e943384d",
   "metadata": {},
   "outputs": [
    {
     "data": {
      "text/plain": [
       "'La lista de Schindler'"
      ]
     },
     "execution_count": 41,
     "metadata": {},
     "output_type": "execute_result"
    }
   ],
   "source": [
    "soup.select('td.titleColumn a')[5].text"
   ]
  },
  {
   "cell_type": "code",
   "execution_count": 42,
   "id": "04bb26b7",
   "metadata": {},
   "outputs": [
    {
     "data": {
      "text/plain": [
       "'Steven Spielberg (dir.), Liam Neeson, Ralph Fiennes'"
      ]
     },
     "execution_count": 42,
     "metadata": {},
     "output_type": "execute_result"
    }
   ],
   "source": [
    "soup.select('td.titleColumn a')[5]['title']"
   ]
  },
  {
   "cell_type": "code",
   "execution_count": 43,
   "id": "6f0fc53a",
   "metadata": {},
   "outputs": [],
   "source": [
    "# the director and main stars are in the same tag, but as a value of the attribute \"title\"\n",
    "# we can access attributes as key-value pairs of dictionaries: using [\"key\"] to get the value:\n",
    "\n",
    "# instead of [\"title\"] we could use .get(\"title\"): choose whatever you prefer"
   ]
  },
  {
   "cell_type": "code",
   "execution_count": 44,
   "id": "b8a55e1b",
   "metadata": {},
   "outputs": [
    {
     "data": {
      "text/plain": [
       "'(1993)'"
      ]
     },
     "execution_count": 44,
     "metadata": {},
     "output_type": "execute_result"
    }
   ],
   "source": [
    "soup.select('td.titleColumn span.secondaryInfo')[5].text"
   ]
  },
  {
   "cell_type": "code",
   "execution_count": 45,
   "id": "a480696f",
   "metadata": {},
   "outputs": [],
   "source": [
    "# the years are inside a 'span' tag with the 'secondaryInfo' class\n",
    "# we also specify the parent tag and its class, which is the same we used before\n",
    "# the years are inside parentheses, but we'll take care of that later"
   ]
  },
  {
   "cell_type": "code",
   "execution_count": null,
   "id": "0d29f6fb",
   "metadata": {},
   "outputs": [],
   "source": []
  },
  {
   "cell_type": "code",
   "execution_count": null,
   "id": "9e911d2b",
   "metadata": {},
   "outputs": [],
   "source": []
  },
  {
   "cell_type": "code",
   "execution_count": null,
   "id": "cc112bf0",
   "metadata": {},
   "outputs": [],
   "source": []
  },
  {
   "cell_type": "markdown",
   "id": "violent-acquisition",
   "metadata": {},
   "source": [
    "### Once we have a method working for one movie, we can apply it for all the movies\n",
    "\n",
    "- loop through movies\n",
    "- pick up title, director, actors, year\n",
    "\n",
    "+ store in a list\n",
    "\n",
    "- for example \n",
    "\n",
    "**movie_lst = soup.select(\"td.titleColumn a\")**\n",
    "\n",
    "**yr_lst = soup.select(\"td.titleColumn span.secondaryInfo\")**"
   ]
  },
  {
   "cell_type": "code",
   "execution_count": 46,
   "id": "2aaba711",
   "metadata": {},
   "outputs": [],
   "source": [
    "## install tqqm.notebook using conda install -c conda-forge tqdm\n",
    "from tqdm.notebook import tqdm"
   ]
  },
  {
   "cell_type": "code",
   "execution_count": 47,
   "id": "5743d9b5",
   "metadata": {},
   "outputs": [],
   "source": [
    "title=[]\n",
    "dir_stars=[]\n",
    "year=[]\n",
    "len_movies=len(soup.select('td.titleColumn a'))"
   ]
  },
  {
   "cell_type": "code",
   "execution_count": 48,
   "id": "af8accb4",
   "metadata": {},
   "outputs": [
    {
     "data": {
      "application/vnd.jupyter.widget-view+json": {
       "model_id": "0d1ef0c6c38d48208a2dcb880e08d3bd",
       "version_major": 2,
       "version_minor": 0
      },
      "text/plain": [
       "  0%|          | 0/250 [00:00<?, ?it/s]"
      ]
     },
     "metadata": {},
     "output_type": "display_data"
    }
   ],
   "source": [
    "for i in tqdm (range(len_movies)):\n",
    "    title.append(soup.select('td.titleColumn a')[i].text)\n",
    "    dir_stars.append(soup.select('td.titleColumn a')[i]['title'])\n",
    "    year.append(soup.select('td.titleColumn span.secondaryInfo')[i].text)"
   ]
  },
  {
   "cell_type": "code",
   "execution_count": 49,
   "id": "9ad67912",
   "metadata": {},
   "outputs": [
    {
     "data": {
      "text/plain": [
       "['(1994)',\n",
       " '(1972)',\n",
       " '(1974)',\n",
       " '(2008)',\n",
       " '(1957)',\n",
       " '(1993)',\n",
       " '(2003)',\n",
       " '(1994)',\n",
       " '(1966)',\n",
       " '(2001)',\n",
       " '(1999)',\n",
       " '(1994)',\n",
       " '(2010)',\n",
       " '(2002)',\n",
       " '(1980)',\n",
       " '(1999)',\n",
       " '(1990)',\n",
       " '(1975)',\n",
       " '(1954)',\n",
       " '(1995)',\n",
       " '(1991)',\n",
       " '(2002)',\n",
       " '(1997)',\n",
       " '(1946)',\n",
       " '(1977)',\n",
       " '(1998)',\n",
       " '(2001)',\n",
       " '(2014)',\n",
       " '(1999)',\n",
       " '(2019)',\n",
       " '(1994)',\n",
       " '(1962)',\n",
       " '(1995)',\n",
       " '(2002)',\n",
       " '(1985)',\n",
       " '(1991)',\n",
       " '(1960)',\n",
       " '(1936)',\n",
       " '(1994)',\n",
       " '(1998)',\n",
       " '(1931)',\n",
       " '(2000)',\n",
       " '(1988)',\n",
       " '(2014)',\n",
       " '(2006)',\n",
       " '(2011)',\n",
       " '(2006)',\n",
       " '(1942)',\n",
       " '(1968)',\n",
       " '(1954)',\n",
       " '(1988)',\n",
       " '(1979)',\n",
       " '(1979)',\n",
       " '(2000)',\n",
       " '(1981)',\n",
       " '(1940)',\n",
       " '(2006)',\n",
       " '(2012)',\n",
       " '(1957)',\n",
       " '(1950)',\n",
       " '(2008)',\n",
       " '(1980)',\n",
       " '(2018)',\n",
       " '(1957)',\n",
       " '(2019)',\n",
       " '(1964)',\n",
       " '(2018)',\n",
       " '(2003)',\n",
       " '(1997)',\n",
       " '(2020)',\n",
       " '(2016)',\n",
       " '(1984)',\n",
       " '(2012)',\n",
       " '(1986)',\n",
       " '(2017)',\n",
       " '(1981)',\n",
       " '(2018)',\n",
       " '(2019)',\n",
       " '(1963)',\n",
       " '(1999)',\n",
       " '(1995)',\n",
       " '(1995)',\n",
       " '(1955)',\n",
       " '(1984)',\n",
       " '(2009)',\n",
       " '(2009)',\n",
       " '(1997)',\n",
       " '(1983)',\n",
       " '(1968)',\n",
       " '(1992)',\n",
       " '(1931)',\n",
       " '(2007)',\n",
       " '(1958)',\n",
       " '(1941)',\n",
       " '(2012)',\n",
       " '(1985)',\n",
       " '(2000)',\n",
       " '(1952)',\n",
       " '(1959)',\n",
       " '(2004)',\n",
       " '(1948)',\n",
       " '(1952)',\n",
       " '(1962)',\n",
       " '(1921)',\n",
       " '(1987)',\n",
       " '(2016)',\n",
       " '(2020)',\n",
       " '(1971)',\n",
       " '(1927)',\n",
       " '(1976)',\n",
       " '(1944)',\n",
       " '(1973)',\n",
       " '(1960)',\n",
       " '(2019)',\n",
       " '(2011)',\n",
       " '(2010)',\n",
       " '(2001)',\n",
       " '(2000)',\n",
       " '(1983)',\n",
       " '(2010)',\n",
       " '(1962)',\n",
       " '(1965)',\n",
       " '(2009)',\n",
       " '(1989)',\n",
       " '(1997)',\n",
       " '(1995)',\n",
       " '(1950)',\n",
       " '(1961)',\n",
       " '(1985)',\n",
       " '(1988)',\n",
       " '(1975)',\n",
       " '(2018)',\n",
       " '(2004)',\n",
       " '(2005)',\n",
       " '(1950)',\n",
       " '(1959)',\n",
       " '(1992)',\n",
       " '(1997)',\n",
       " '(2004)',\n",
       " '(2013)',\n",
       " '(1963)',\n",
       " '(1961)',\n",
       " '(1995)',\n",
       " '(1948)',\n",
       " '(2006)',\n",
       " '(2007)',\n",
       " '(2001)',\n",
       " '(2009)',\n",
       " '(1980)',\n",
       " '(1988)',\n",
       " '(1974)',\n",
       " '(1998)',\n",
       " '(1925)',\n",
       " '(1954)',\n",
       " '(2017)',\n",
       " '(2007)',\n",
       " '(2010)',\n",
       " '(1957)',\n",
       " '(1980)',\n",
       " '(1982)',\n",
       " '(1999)',\n",
       " '(2019)',\n",
       " '(2015)',\n",
       " '(2005)',\n",
       " '(1949)',\n",
       " '(1957)',\n",
       " '(1982)',\n",
       " '(1957)',\n",
       " '(1996)',\n",
       " '(1998)',\n",
       " '(1993)',\n",
       " '(2011)',\n",
       " '(2003)',\n",
       " '(1996)',\n",
       " '(2005)',\n",
       " '(2003)',\n",
       " '(1939)',\n",
       " '(2003)',\n",
       " '(1953)',\n",
       " '(1954)',\n",
       " '(1979)',\n",
       " '(1926)',\n",
       " '(2014)',\n",
       " '(1978)',\n",
       " '(1924)',\n",
       " '(2008)',\n",
       " '(2015)',\n",
       " '(2014)',\n",
       " '(1995)',\n",
       " '(1966)',\n",
       " '(2009)',\n",
       " '(2013)',\n",
       " '(1993)',\n",
       " '(1939)',\n",
       " '(2002)',\n",
       " '(2014)',\n",
       " '(2016)',\n",
       " '(1942)',\n",
       " '(2018)',\n",
       " '(1975)',\n",
       " '(1998)',\n",
       " '(2019)',\n",
       " '(2013)',\n",
       " '(1928)',\n",
       " '(2010)',\n",
       " '(2015)',\n",
       " '(1953)',\n",
       " '(1959)',\n",
       " '(2004)',\n",
       " '(1989)',\n",
       " '(1976)',\n",
       " '(1978)',\n",
       " '(2011)',\n",
       " '(1986)',\n",
       " '(2016)',\n",
       " '(1967)',\n",
       " '(1959)',\n",
       " '(2017)',\n",
       " '(1996)',\n",
       " '(2009)',\n",
       " '(1986)',\n",
       " '(1995)',\n",
       " '(1979)',\n",
       " '(2015)',\n",
       " '(2004)',\n",
       " '(1940)',\n",
       " '(2013)',\n",
       " '(2007)',\n",
       " '(1966)',\n",
       " '(2001)',\n",
       " '(2012)',\n",
       " '(2000)',\n",
       " '(2016)',\n",
       " '(1976)',\n",
       " '(2020)',\n",
       " '(2018)',\n",
       " '(2000)',\n",
       " '(1934)',\n",
       " '(1984)',\n",
       " '(1966)',\n",
       " '(2004)',\n",
       " '(2021)',\n",
       " '(1955)',\n",
       " '(1987)',\n",
       " '(1994)',\n",
       " '(1997)',\n",
       " '(1982)',\n",
       " '(2020)',\n",
       " '(1927)',\n",
       " '(2019)']"
      ]
     },
     "execution_count": 49,
     "metadata": {},
     "output_type": "execute_result"
    }
   ],
   "source": [
    "year\n"
   ]
  },
  {
   "cell_type": "code",
   "execution_count": 50,
   "id": "1ee88ddd",
   "metadata": {},
   "outputs": [],
   "source": [
    "movies_top250=pd.DataFrame({'title':title, 'dir_stars':dir_stars,'year':year})"
   ]
  },
  {
   "cell_type": "code",
   "execution_count": 51,
   "id": "a8636fe3",
   "metadata": {},
   "outputs": [
    {
     "data": {
      "text/html": [
       "<div>\n",
       "<style scoped>\n",
       "    .dataframe tbody tr th:only-of-type {\n",
       "        vertical-align: middle;\n",
       "    }\n",
       "\n",
       "    .dataframe tbody tr th {\n",
       "        vertical-align: top;\n",
       "    }\n",
       "\n",
       "    .dataframe thead th {\n",
       "        text-align: right;\n",
       "    }\n",
       "</style>\n",
       "<table border=\"1\" class=\"dataframe\">\n",
       "  <thead>\n",
       "    <tr style=\"text-align: right;\">\n",
       "      <th></th>\n",
       "      <th>title</th>\n",
       "      <th>dir_stars</th>\n",
       "      <th>year</th>\n",
       "    </tr>\n",
       "  </thead>\n",
       "  <tbody>\n",
       "    <tr>\n",
       "      <th>0</th>\n",
       "      <td>Cadena perpetua</td>\n",
       "      <td>Frank Darabont (dir.), Tim Robbins, Morgan Fre...</td>\n",
       "      <td>(1994)</td>\n",
       "    </tr>\n",
       "    <tr>\n",
       "      <th>1</th>\n",
       "      <td>El padrino</td>\n",
       "      <td>Francis Ford Coppola (dir.), Marlon Brando, Al...</td>\n",
       "      <td>(1972)</td>\n",
       "    </tr>\n",
       "    <tr>\n",
       "      <th>2</th>\n",
       "      <td>El padrino: Parte II</td>\n",
       "      <td>Francis Ford Coppola (dir.), Al Pacino, Robert...</td>\n",
       "      <td>(1974)</td>\n",
       "    </tr>\n",
       "    <tr>\n",
       "      <th>3</th>\n",
       "      <td>El caballero oscuro</td>\n",
       "      <td>Christopher Nolan (dir.), Christian Bale, Heat...</td>\n",
       "      <td>(2008)</td>\n",
       "    </tr>\n",
       "    <tr>\n",
       "      <th>4</th>\n",
       "      <td>12 hombres sin piedad</td>\n",
       "      <td>Sidney Lumet (dir.), Henry Fonda, Lee J. Cobb</td>\n",
       "      <td>(1957)</td>\n",
       "    </tr>\n",
       "  </tbody>\n",
       "</table>\n",
       "</div>"
      ],
      "text/plain": [
       "                   title                                          dir_stars  \\\n",
       "0        Cadena perpetua  Frank Darabont (dir.), Tim Robbins, Morgan Fre...   \n",
       "1             El padrino  Francis Ford Coppola (dir.), Marlon Brando, Al...   \n",
       "2   El padrino: Parte II  Francis Ford Coppola (dir.), Al Pacino, Robert...   \n",
       "3    El caballero oscuro  Christopher Nolan (dir.), Christian Bale, Heat...   \n",
       "4  12 hombres sin piedad      Sidney Lumet (dir.), Henry Fonda, Lee J. Cobb   \n",
       "\n",
       "     year  \n",
       "0  (1994)  \n",
       "1  (1972)  \n",
       "2  (1974)  \n",
       "3  (2008)  \n",
       "4  (1957)  "
      ]
     },
     "execution_count": 51,
     "metadata": {},
     "output_type": "execute_result"
    }
   ],
   "source": [
    "movies_top250.head()"
   ]
  },
  {
   "cell_type": "code",
   "execution_count": 52,
   "id": "8cc49d6b",
   "metadata": {},
   "outputs": [
    {
     "data": {
      "text/plain": [
       "250"
      ]
     },
     "execution_count": 52,
     "metadata": {},
     "output_type": "execute_result"
    }
   ],
   "source": [
    "len(dir_stars)"
   ]
  },
  {
   "cell_type": "code",
   "execution_count": null,
   "id": "2506749f",
   "metadata": {},
   "outputs": [],
   "source": []
  },
  {
   "cell_type": "markdown",
   "id": "e812d759",
   "metadata": {},
   "source": [
    "### Cleaning / Wrangling steps for the scraped data \n",
    "\n",
    "An inherent part of web scraping is data cleaning. We managed to get the information we needed, but for it to be useful, we still need some extra steps:\n",
    "\n",
    "- Take the year out of the parentheses: we know we can do that with regex, but string methods such as str.replace() might be simpler to use.\n",
    "\n",
    "- Split dir_stars into 3 columns, one for each person: \"director\", \"star_1\", \"star_2\". This could have been done by filtering when extracting the data from the html document, but it looks easier afterwards:\n",
    "\n",
    "    - The \"(dir.)\" pattern can be removed\n",
    "    - We can split the string at each comma\n",
    "    \n",
    "- Change the data type of the year column to integer.\n"
   ]
  },
  {
   "cell_type": "code",
   "execution_count": 53,
   "id": "636355d8",
   "metadata": {
    "run_control": {
     "marked": true
    }
   },
   "outputs": [],
   "source": [
    "year_clean=[yr.strip(')').strip('(')for yr in year]"
   ]
  },
  {
   "cell_type": "code",
   "execution_count": 54,
   "id": "56e9b6ed",
   "metadata": {},
   "outputs": [
    {
     "data": {
      "text/plain": [
       "['1994',\n",
       " '1972',\n",
       " '1974',\n",
       " '2008',\n",
       " '1957',\n",
       " '1993',\n",
       " '2003',\n",
       " '1994',\n",
       " '1966',\n",
       " '2001',\n",
       " '1999',\n",
       " '1994',\n",
       " '2010',\n",
       " '2002',\n",
       " '1980',\n",
       " '1999',\n",
       " '1990',\n",
       " '1975',\n",
       " '1954',\n",
       " '1995',\n",
       " '1991',\n",
       " '2002',\n",
       " '1997',\n",
       " '1946',\n",
       " '1977',\n",
       " '1998',\n",
       " '2001',\n",
       " '2014',\n",
       " '1999',\n",
       " '2019',\n",
       " '1994',\n",
       " '1962',\n",
       " '1995',\n",
       " '2002',\n",
       " '1985',\n",
       " '1991',\n",
       " '1960',\n",
       " '1936',\n",
       " '1994',\n",
       " '1998',\n",
       " '1931',\n",
       " '2000',\n",
       " '1988',\n",
       " '2014',\n",
       " '2006',\n",
       " '2011',\n",
       " '2006',\n",
       " '1942',\n",
       " '1968',\n",
       " '1954',\n",
       " '1988',\n",
       " '1979',\n",
       " '1979',\n",
       " '2000',\n",
       " '1981',\n",
       " '1940',\n",
       " '2006',\n",
       " '2012',\n",
       " '1957',\n",
       " '1950',\n",
       " '2008',\n",
       " '1980',\n",
       " '2018',\n",
       " '1957',\n",
       " '2019',\n",
       " '1964',\n",
       " '2018',\n",
       " '2003',\n",
       " '1997',\n",
       " '2020',\n",
       " '2016',\n",
       " '1984',\n",
       " '2012',\n",
       " '1986',\n",
       " '2017',\n",
       " '1981',\n",
       " '2018',\n",
       " '2019',\n",
       " '1963',\n",
       " '1999',\n",
       " '1995',\n",
       " '1995',\n",
       " '1955',\n",
       " '1984',\n",
       " '2009',\n",
       " '2009',\n",
       " '1997',\n",
       " '1983',\n",
       " '1968',\n",
       " '1992',\n",
       " '1931',\n",
       " '2007',\n",
       " '1958',\n",
       " '1941',\n",
       " '2012',\n",
       " '1985',\n",
       " '2000',\n",
       " '1952',\n",
       " '1959',\n",
       " '2004',\n",
       " '1948',\n",
       " '1952',\n",
       " '1962',\n",
       " '1921',\n",
       " '1987',\n",
       " '2016',\n",
       " '2020',\n",
       " '1971',\n",
       " '1927',\n",
       " '1976',\n",
       " '1944',\n",
       " '1973',\n",
       " '1960',\n",
       " '2019',\n",
       " '2011',\n",
       " '2010',\n",
       " '2001',\n",
       " '2000',\n",
       " '1983',\n",
       " '2010',\n",
       " '1962',\n",
       " '1965',\n",
       " '2009',\n",
       " '1989',\n",
       " '1997',\n",
       " '1995',\n",
       " '1950',\n",
       " '1961',\n",
       " '1985',\n",
       " '1988',\n",
       " '1975',\n",
       " '2018',\n",
       " '2004',\n",
       " '2005',\n",
       " '1950',\n",
       " '1959',\n",
       " '1992',\n",
       " '1997',\n",
       " '2004',\n",
       " '2013',\n",
       " '1963',\n",
       " '1961',\n",
       " '1995',\n",
       " '1948',\n",
       " '2006',\n",
       " '2007',\n",
       " '2001',\n",
       " '2009',\n",
       " '1980',\n",
       " '1988',\n",
       " '1974',\n",
       " '1998',\n",
       " '1925',\n",
       " '1954',\n",
       " '2017',\n",
       " '2007',\n",
       " '2010',\n",
       " '1957',\n",
       " '1980',\n",
       " '1982',\n",
       " '1999',\n",
       " '2019',\n",
       " '2015',\n",
       " '2005',\n",
       " '1949',\n",
       " '1957',\n",
       " '1982',\n",
       " '1957',\n",
       " '1996',\n",
       " '1998',\n",
       " '1993',\n",
       " '2011',\n",
       " '2003',\n",
       " '1996',\n",
       " '2005',\n",
       " '2003',\n",
       " '1939',\n",
       " '2003',\n",
       " '1953',\n",
       " '1954',\n",
       " '1979',\n",
       " '1926',\n",
       " '2014',\n",
       " '1978',\n",
       " '1924',\n",
       " '2008',\n",
       " '2015',\n",
       " '2014',\n",
       " '1995',\n",
       " '1966',\n",
       " '2009',\n",
       " '2013',\n",
       " '1993',\n",
       " '1939',\n",
       " '2002',\n",
       " '2014',\n",
       " '2016',\n",
       " '1942',\n",
       " '2018',\n",
       " '1975',\n",
       " '1998',\n",
       " '2019',\n",
       " '2013',\n",
       " '1928',\n",
       " '2010',\n",
       " '2015',\n",
       " '1953',\n",
       " '1959',\n",
       " '2004',\n",
       " '1989',\n",
       " '1976',\n",
       " '1978',\n",
       " '2011',\n",
       " '1986',\n",
       " '2016',\n",
       " '1967',\n",
       " '1959',\n",
       " '2017',\n",
       " '1996',\n",
       " '2009',\n",
       " '1986',\n",
       " '1995',\n",
       " '1979',\n",
       " '2015',\n",
       " '2004',\n",
       " '1940',\n",
       " '2013',\n",
       " '2007',\n",
       " '1966',\n",
       " '2001',\n",
       " '2012',\n",
       " '2000',\n",
       " '2016',\n",
       " '1976',\n",
       " '2020',\n",
       " '2018',\n",
       " '2000',\n",
       " '1934',\n",
       " '1984',\n",
       " '1966',\n",
       " '2004',\n",
       " '2021',\n",
       " '1955',\n",
       " '1987',\n",
       " '1994',\n",
       " '1997',\n",
       " '1982',\n",
       " '2020',\n",
       " '1927',\n",
       " '2019']"
      ]
     },
     "execution_count": 54,
     "metadata": {},
     "output_type": "execute_result"
    }
   ],
   "source": [
    "year_clean"
   ]
  },
  {
   "cell_type": "code",
   "execution_count": null,
   "id": "0c5aa2e7",
   "metadata": {},
   "outputs": [],
   "source": [
    "# splitting out the directors from the stars (function). director, star1, star2"
   ]
  },
  {
   "cell_type": "code",
   "execution_count": 55,
   "id": "4bda9a69",
   "metadata": {},
   "outputs": [],
   "source": [
    "director=[]\n",
    "star1=[]\n",
    "star2=[]\n",
    "for movie in dir_stars:\n",
    "    split_list=movie.split(',')\n",
    "    director.append(split_list[0].replace(' (dir.)', ''))\n",
    "    star1.append(split_list[1])\n",
    "    star2.append(split_list[2])"
   ]
  },
  {
   "cell_type": "code",
   "execution_count": null,
   "id": "55a0aa1d",
   "metadata": {},
   "outputs": [],
   "source": []
  },
  {
   "cell_type": "markdown",
   "id": "32cbb20d",
   "metadata": {},
   "source": [
    "### Create data frame from results and preview "
   ]
  },
  {
   "cell_type": "code",
   "execution_count": 56,
   "id": "48392c55",
   "metadata": {},
   "outputs": [],
   "source": [
    "movies_new=pd.DataFrame({'title': title, 'director':director, 'star1':star1, 'star2':star2, 'year':year_clean})"
   ]
  },
  {
   "cell_type": "code",
   "execution_count": 57,
   "id": "679984f5",
   "metadata": {},
   "outputs": [
    {
     "data": {
      "text/html": [
       "<div>\n",
       "<style scoped>\n",
       "    .dataframe tbody tr th:only-of-type {\n",
       "        vertical-align: middle;\n",
       "    }\n",
       "\n",
       "    .dataframe tbody tr th {\n",
       "        vertical-align: top;\n",
       "    }\n",
       "\n",
       "    .dataframe thead th {\n",
       "        text-align: right;\n",
       "    }\n",
       "</style>\n",
       "<table border=\"1\" class=\"dataframe\">\n",
       "  <thead>\n",
       "    <tr style=\"text-align: right;\">\n",
       "      <th></th>\n",
       "      <th>title</th>\n",
       "      <th>director</th>\n",
       "      <th>star1</th>\n",
       "      <th>star2</th>\n",
       "      <th>year</th>\n",
       "    </tr>\n",
       "  </thead>\n",
       "  <tbody>\n",
       "    <tr>\n",
       "      <th>0</th>\n",
       "      <td>Cadena perpetua</td>\n",
       "      <td>Frank Darabont</td>\n",
       "      <td>Tim Robbins</td>\n",
       "      <td>Morgan Freeman</td>\n",
       "      <td>1994</td>\n",
       "    </tr>\n",
       "    <tr>\n",
       "      <th>1</th>\n",
       "      <td>El padrino</td>\n",
       "      <td>Francis Ford Coppola</td>\n",
       "      <td>Marlon Brando</td>\n",
       "      <td>Al Pacino</td>\n",
       "      <td>1972</td>\n",
       "    </tr>\n",
       "    <tr>\n",
       "      <th>2</th>\n",
       "      <td>El padrino: Parte II</td>\n",
       "      <td>Francis Ford Coppola</td>\n",
       "      <td>Al Pacino</td>\n",
       "      <td>Robert De Niro</td>\n",
       "      <td>1974</td>\n",
       "    </tr>\n",
       "    <tr>\n",
       "      <th>3</th>\n",
       "      <td>El caballero oscuro</td>\n",
       "      <td>Christopher Nolan</td>\n",
       "      <td>Christian Bale</td>\n",
       "      <td>Heath Ledger</td>\n",
       "      <td>2008</td>\n",
       "    </tr>\n",
       "    <tr>\n",
       "      <th>4</th>\n",
       "      <td>12 hombres sin piedad</td>\n",
       "      <td>Sidney Lumet</td>\n",
       "      <td>Henry Fonda</td>\n",
       "      <td>Lee J. Cobb</td>\n",
       "      <td>1957</td>\n",
       "    </tr>\n",
       "    <tr>\n",
       "      <th>...</th>\n",
       "      <td>...</td>\n",
       "      <td>...</td>\n",
       "      <td>...</td>\n",
       "      <td>...</td>\n",
       "      <td>...</td>\n",
       "    </tr>\n",
       "    <tr>\n",
       "      <th>245</th>\n",
       "      <td>Neon Genesis Evangelion: The End of Evangelion</td>\n",
       "      <td>Hideaki Anno</td>\n",
       "      <td>Megumi Ogata</td>\n",
       "      <td>Megumi Hayashibara</td>\n",
       "      <td>1997</td>\n",
       "    </tr>\n",
       "    <tr>\n",
       "      <th>246</th>\n",
       "      <td>Fanny y Alexander</td>\n",
       "      <td>Ingmar Bergman</td>\n",
       "      <td>Bertil Guve</td>\n",
       "      <td>Pernilla Allwin</td>\n",
       "      <td>1982</td>\n",
       "    </tr>\n",
       "    <tr>\n",
       "      <th>247</th>\n",
       "      <td>Soul</td>\n",
       "      <td>Pete Docter</td>\n",
       "      <td>Jamie Foxx</td>\n",
       "      <td>Tina Fey</td>\n",
       "      <td>2020</td>\n",
       "    </tr>\n",
       "    <tr>\n",
       "      <th>248</th>\n",
       "      <td>Amanecer</td>\n",
       "      <td>F.W. Murnau</td>\n",
       "      <td>George O'Brien</td>\n",
       "      <td>Janet Gaynor</td>\n",
       "      <td>1927</td>\n",
       "    </tr>\n",
       "    <tr>\n",
       "      <th>249</th>\n",
       "      <td>Milagro en la celda 7</td>\n",
       "      <td>Mehmet Ada Öztekin</td>\n",
       "      <td>Aras Bulut Iynemli</td>\n",
       "      <td>Nisa Sofiya Aksongur</td>\n",
       "      <td>2019</td>\n",
       "    </tr>\n",
       "  </tbody>\n",
       "</table>\n",
       "<p>250 rows × 5 columns</p>\n",
       "</div>"
      ],
      "text/plain": [
       "                                              title              director  \\\n",
       "0                                   Cadena perpetua        Frank Darabont   \n",
       "1                                        El padrino  Francis Ford Coppola   \n",
       "2                              El padrino: Parte II  Francis Ford Coppola   \n",
       "3                               El caballero oscuro     Christopher Nolan   \n",
       "4                             12 hombres sin piedad          Sidney Lumet   \n",
       "..                                              ...                   ...   \n",
       "245  Neon Genesis Evangelion: The End of Evangelion          Hideaki Anno   \n",
       "246                               Fanny y Alexander        Ingmar Bergman   \n",
       "247                                            Soul           Pete Docter   \n",
       "248                                        Amanecer           F.W. Murnau   \n",
       "249                           Milagro en la celda 7    Mehmet Ada Öztekin   \n",
       "\n",
       "                   star1                  star2  year  \n",
       "0            Tim Robbins         Morgan Freeman  1994  \n",
       "1          Marlon Brando              Al Pacino  1972  \n",
       "2              Al Pacino         Robert De Niro  1974  \n",
       "3         Christian Bale           Heath Ledger  2008  \n",
       "4            Henry Fonda            Lee J. Cobb  1957  \n",
       "..                   ...                    ...   ...  \n",
       "245         Megumi Ogata     Megumi Hayashibara  1997  \n",
       "246          Bertil Guve        Pernilla Allwin  1982  \n",
       "247           Jamie Foxx               Tina Fey  2020  \n",
       "248       George O'Brien           Janet Gaynor  1927  \n",
       "249   Aras Bulut Iynemli   Nisa Sofiya Aksongur  2019  \n",
       "\n",
       "[250 rows x 5 columns]"
      ]
     },
     "execution_count": 57,
     "metadata": {},
     "output_type": "execute_result"
    }
   ],
   "source": [
    "movies_new"
   ]
  },
  {
   "cell_type": "code",
   "execution_count": null,
   "id": "31a6744f",
   "metadata": {},
   "outputs": [],
   "source": []
  }
 ],
 "metadata": {
  "kernelspec": {
   "display_name": "Python 3",
   "language": "python",
   "name": "python3"
  },
  "language_info": {
   "codemirror_mode": {
    "name": "ipython",
    "version": 3
   },
   "file_extension": ".py",
   "mimetype": "text/x-python",
   "name": "python",
   "nbconvert_exporter": "python",
   "pygments_lexer": "ipython3",
   "version": "3.9.5"
  },
  "latex_envs": {
   "LaTeX_envs_menu_present": true,
   "autoclose": true,
   "autocomplete": true,
   "bibliofile": "biblio.bib",
   "cite_by": "apalike",
   "current_citInitial": 1,
   "eqLabelWithNumbers": true,
   "eqNumInitial": 1,
   "hotkeys": {
    "equation": "Ctrl-E",
    "itemize": "Ctrl-I"
   },
   "labels_anchors": false,
   "latex_user_defs": false,
   "report_style_numbering": false,
   "user_envs_cfg": true
  },
  "toc": {
   "base_numbering": 1,
   "nav_menu": {},
   "number_sections": true,
   "sideBar": true,
   "skip_h1_title": false,
   "title_cell": "Table of Contents",
   "title_sidebar": "Contents",
   "toc_cell": false,
   "toc_position": {},
   "toc_section_display": true,
   "toc_window_display": false
  },
  "varInspector": {
   "cols": {
    "lenName": 16,
    "lenType": 16,
    "lenVar": 40
   },
   "kernels_config": {
    "python": {
     "delete_cmd_postfix": "",
     "delete_cmd_prefix": "del ",
     "library": "var_list.py",
     "varRefreshCmd": "print(var_dic_list())"
    },
    "r": {
     "delete_cmd_postfix": ") ",
     "delete_cmd_prefix": "rm(",
     "library": "var_list.r",
     "varRefreshCmd": "cat(var_dic_list()) "
    }
   },
   "types_to_exclude": [
    "module",
    "function",
    "builtin_function_or_method",
    "instance",
    "_Feature"
   ],
   "window_display": false
  }
 },
 "nbformat": 4,
 "nbformat_minor": 5
}
