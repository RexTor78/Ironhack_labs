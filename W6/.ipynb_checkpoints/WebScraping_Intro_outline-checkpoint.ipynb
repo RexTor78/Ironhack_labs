{
 "cells": [
  {
   "cell_type": "markdown",
   "id": "273dc65e",
   "metadata": {},
   "source": [
    "# Webscraping one page using beautiful soup \n",
    "\n",
    "### Tools for scraping \n",
    "\n",
    "+ https://www.crummy.com/software/BeautifulSoup/bs4/doc/  (this is what we will use in lectures)\n",
    "\n",
    "+ https://scrapy.org/\n",
    "\n",
    "+ https://selenium-python.readthedocs.io/\n",
    "\n"
   ]
  },
  {
   "cell_type": "markdown",
   "id": "official-driving",
   "metadata": {},
   "source": [
    "## Dormouse HTML Code \n"
   ]
  },
  {
   "cell_type": "code",
   "execution_count": 1,
   "id": "disturbed-debate",
   "metadata": {},
   "outputs": [],
   "source": [
    "#create the variable\n",
    "\n",
    "html_doc =\"\"\"\n",
    "<!DOCTYPE html>\n",
    "<html><head><title>The Dormouse's story</title></head>\n",
    "<body>\n",
    "<p class=\"title\"><b>The Dormouse's story</b></p>\n",
    "\n",
    "<p class=\"story\">Once upon a time there were three little sisters; and their names were\n",
    "<a href=\"http://example.com/elsie\" class=\"sister\" id=\"link1\">Elsie</a>,\n",
    "<a href=\"http://example.com/lacie\" class=\"sister\" id=\"link2\">Lacie</a> and\n",
    "<a href=\"http://example.com/tillie\" class=\"sister\" id=\"link3\">Tillie</a>;\n",
    "and they lived at the bottom of a well.</p>\n",
    "\n",
    "<p class=\"story\">...</p>\n",
    "</html>\n",
    "\"\"\""
   ]
  },
  {
   "cell_type": "code",
   "execution_count": 2,
   "id": "bf2f2f0b",
   "metadata": {},
   "outputs": [
    {
     "data": {
      "text/plain": [
       "'\\n<!DOCTYPE html>\\n<html><head><title>The Dormouse\\'s story</title></head>\\n<body>\\n<p class=\"title\"><b>The Dormouse\\'s story</b></p>\\n\\n<p class=\"story\">Once upon a time there were three little sisters; and their names were\\n<a href=\"http://example.com/elsie\" class=\"sister\" id=\"link1\">Elsie</a>,\\n<a href=\"http://example.com/lacie\" class=\"sister\" id=\"link2\">Lacie</a> and\\n<a href=\"http://example.com/tillie\" class=\"sister\" id=\"link3\">Tillie</a>;\\nand they lived at the bottom of a well.</p>\\n\\n<p class=\"story\">...</p>\\n</html>\\n'"
      ]
     },
     "execution_count": 2,
     "metadata": {},
     "output_type": "execute_result"
    }
   ],
   "source": [
    "html_doc"
   ]
  },
  {
   "cell_type": "code",
   "execution_count": 3,
   "id": "0997bb3f",
   "metadata": {},
   "outputs": [],
   "source": [
    "# after installing as conda install -c anaconda beautifulsoup4\n",
    "\n",
    "#Import needed libraries - BeautifulSoup\n",
    "from bs4 import BeautifulSoup\n",
    "\n"
   ]
  },
  {
   "cell_type": "code",
   "execution_count": 4,
   "id": "removed-bishop",
   "metadata": {},
   "outputs": [],
   "source": [
    "# parse (create) the soup \n",
    "soup_mouse=BeautifulSoup(html_doc,'html.parser')"
   ]
  },
  {
   "cell_type": "code",
   "execution_count": 5,
   "id": "03b8ce34",
   "metadata": {},
   "outputs": [
    {
     "data": {
      "text/plain": [
       "\n",
       "<!DOCTYPE html>\n",
       "\n",
       "<html><head><title>The Dormouse's story</title></head>\n",
       "<body>\n",
       "<p class=\"title\"><b>The Dormouse's story</b></p>\n",
       "<p class=\"story\">Once upon a time there were three little sisters; and their names were\n",
       "<a class=\"sister\" href=\"http://example.com/elsie\" id=\"link1\">Elsie</a>,\n",
       "<a class=\"sister\" href=\"http://example.com/lacie\" id=\"link2\">Lacie</a> and\n",
       "<a class=\"sister\" href=\"http://example.com/tillie\" id=\"link3\">Tillie</a>;\n",
       "and they lived at the bottom of a well.</p>\n",
       "<p class=\"story\">...</p>\n",
       "</body></html>"
      ]
     },
     "execution_count": 5,
     "metadata": {},
     "output_type": "execute_result"
    }
   ],
   "source": [
    "soup_mouse"
   ]
  },
  {
   "cell_type": "code",
   "execution_count": 7,
   "id": "outstanding-relation",
   "metadata": {},
   "outputs": [
    {
     "data": {
      "text/plain": [
       "<bound method Tag.prettify of \n",
       "<!DOCTYPE html>\n",
       "\n",
       "<html><head><title>The Dormouse's story</title></head>\n",
       "<body>\n",
       "<p class=\"title\"><b>The Dormouse's story</b></p>\n",
       "<p class=\"story\">Once upon a time there were three little sisters; and their names were\n",
       "<a class=\"sister\" href=\"http://example.com/elsie\" id=\"link1\">Elsie</a>,\n",
       "<a class=\"sister\" href=\"http://example.com/lacie\" id=\"link2\">Lacie</a> and\n",
       "<a class=\"sister\" href=\"http://example.com/tillie\" id=\"link3\">Tillie</a>;\n",
       "and they lived at the bottom of a well.</p>\n",
       "<p class=\"story\">...</p>\n",
       "</body></html>\n",
       ">"
      ]
     },
     "execution_count": 7,
     "metadata": {},
     "output_type": "execute_result"
    }
   ],
   "source": [
    "# prettify the soup \n",
    "soup_mouse.prettify"
   ]
  },
  {
   "cell_type": "markdown",
   "id": "9695a3bf",
   "metadata": {},
   "source": [
    "Option 1 - using beautiful soup the \"HTML\" way  "
   ]
  },
  {
   "cell_type": "code",
   "execution_count": 9,
   "id": "1e715f94",
   "metadata": {},
   "outputs": [
    {
     "data": {
      "text/plain": [
       "<title>The Dormouse's story</title>"
      ]
     },
     "execution_count": 9,
     "metadata": {},
     "output_type": "execute_result"
    }
   ],
   "source": [
    "# using basic tree navigation to access single elements\n",
    "soup_mouse.title"
   ]
  },
  {
   "cell_type": "code",
   "execution_count": 11,
   "id": "3ef54e0c",
   "metadata": {},
   "outputs": [
    {
     "data": {
      "text/plain": [
       "\"The Dormouse's story\""
      ]
     },
     "execution_count": 11,
     "metadata": {},
     "output_type": "execute_result"
    }
   ],
   "source": [
    "soup_mouse.title.string"
   ]
  },
  {
   "cell_type": "code",
   "execution_count": 12,
   "id": "4bd563b3",
   "metadata": {},
   "outputs": [
    {
     "data": {
      "text/plain": [
       "<body>\n",
       "<p class=\"title\"><b>The Dormouse's story</b></p>\n",
       "<p class=\"story\">Once upon a time there were three little sisters; and their names were\n",
       "<a class=\"sister\" href=\"http://example.com/elsie\" id=\"link1\">Elsie</a>,\n",
       "<a class=\"sister\" href=\"http://example.com/lacie\" id=\"link2\">Lacie</a> and\n",
       "<a class=\"sister\" href=\"http://example.com/tillie\" id=\"link3\">Tillie</a>;\n",
       "and they lived at the bottom of a well.</p>\n",
       "<p class=\"story\">...</p>\n",
       "</body>"
      ]
     },
     "execution_count": 12,
     "metadata": {},
     "output_type": "execute_result"
    }
   ],
   "source": [
    "soup_mouse.body"
   ]
  },
  {
   "cell_type": "code",
   "execution_count": 13,
   "id": "4bb1d849",
   "metadata": {},
   "outputs": [
    {
     "data": {
      "text/plain": [
       "<p class=\"title\"><b>The Dormouse's story</b></p>"
      ]
     },
     "execution_count": 13,
     "metadata": {},
     "output_type": "execute_result"
    }
   ],
   "source": [
    "soup_mouse.p"
   ]
  },
  {
   "cell_type": "code",
   "execution_count": null,
   "id": "67a989e0",
   "metadata": {},
   "outputs": [],
   "source": []
  },
  {
   "cell_type": "code",
   "execution_count": null,
   "id": "d9c7228c",
   "metadata": {},
   "outputs": [],
   "source": []
  },
  {
   "cell_type": "code",
   "execution_count": null,
   "id": "11761d00",
   "metadata": {},
   "outputs": [],
   "source": []
  },
  {
   "cell_type": "code",
   "execution_count": null,
   "id": "1ceac952",
   "metadata": {},
   "outputs": [],
   "source": [
    "# find elements of the tag using find_all()"
   ]
  },
  {
   "cell_type": "code",
   "execution_count": 14,
   "id": "18223cf4",
   "metadata": {
    "scrolled": true
   },
   "outputs": [
    {
     "data": {
      "text/plain": [
       "[<p class=\"title\"><b>The Dormouse's story</b></p>,\n",
       " <p class=\"story\">Once upon a time there were three little sisters; and their names were\n",
       " <a class=\"sister\" href=\"http://example.com/elsie\" id=\"link1\">Elsie</a>,\n",
       " <a class=\"sister\" href=\"http://example.com/lacie\" id=\"link2\">Lacie</a> and\n",
       " <a class=\"sister\" href=\"http://example.com/tillie\" id=\"link3\">Tillie</a>;\n",
       " and they lived at the bottom of a well.</p>,\n",
       " <p class=\"story\">...</p>]"
      ]
     },
     "execution_count": 14,
     "metadata": {},
     "output_type": "execute_result"
    }
   ],
   "source": [
    "soup_mouse.find_all('p')"
   ]
  },
  {
   "cell_type": "code",
   "execution_count": 15,
   "id": "74ab11b2",
   "metadata": {},
   "outputs": [
    {
     "data": {
      "text/plain": [
       "[<a class=\"sister\" href=\"http://example.com/elsie\" id=\"link1\">Elsie</a>,\n",
       " <a class=\"sister\" href=\"http://example.com/lacie\" id=\"link2\">Lacie</a>,\n",
       " <a class=\"sister\" href=\"http://example.com/tillie\" id=\"link3\">Tillie</a>]"
      ]
     },
     "execution_count": 15,
     "metadata": {},
     "output_type": "execute_result"
    }
   ],
   "source": [
    "soup_mouse.find_all('a')"
   ]
  },
  {
   "cell_type": "code",
   "execution_count": 17,
   "id": "96425baa",
   "metadata": {
    "scrolled": true
   },
   "outputs": [
    {
     "data": {
      "text/plain": [
       "<head><title>The Dormouse's story</title></head>"
      ]
     },
     "execution_count": 17,
     "metadata": {},
     "output_type": "execute_result"
    }
   ],
   "source": [
    "soup_mouse.title.parent"
   ]
  },
  {
   "cell_type": "code",
   "execution_count": 18,
   "id": "29084954",
   "metadata": {},
   "outputs": [
    {
     "name": "stdout",
     "output_type": "stream",
     "text": [
      "<!DOCTYPE html>\n",
      "<html>\n",
      " <head>\n",
      "  <title>\n",
      "   The Dormouse's story\n",
      "  </title>\n",
      " </head>\n",
      " <body>\n",
      "  <p class=\"title\">\n",
      "   <b>\n",
      "    The Dormouse's story\n",
      "   </b>\n",
      "  </p>\n",
      "  <p class=\"story\">\n",
      "   Once upon a time there were three little sisters; and their names were\n",
      "   <a class=\"sister\" href=\"http://example.com/elsie\" id=\"link1\">\n",
      "    Elsie\n",
      "   </a>\n",
      "   ,\n",
      "   <a class=\"sister\" href=\"http://example.com/lacie\" id=\"link2\">\n",
      "    Lacie\n",
      "   </a>\n",
      "   and\n",
      "   <a class=\"sister\" href=\"http://example.com/tillie\" id=\"link3\">\n",
      "    Tillie\n",
      "   </a>\n",
      "   ;\n",
      "and they lived at the bottom of a well.\n",
      "  </p>\n",
      "  <p class=\"story\">\n",
      "   ...\n",
      "  </p>\n",
      " </body>\n",
      "</html>\n",
      "\n"
     ]
    }
   ],
   "source": [
    "print(soup_mouse.prettify())"
   ]
  },
  {
   "cell_type": "code",
   "execution_count": 19,
   "id": "e44f71f3",
   "metadata": {},
   "outputs": [],
   "source": [
    "p_tags=soup_mouse.find_all('p')"
   ]
  },
  {
   "cell_type": "code",
   "execution_count": 20,
   "id": "23b0fa01",
   "metadata": {},
   "outputs": [
    {
     "name": "stdout",
     "output_type": "stream",
     "text": [
      "The Dormouse's story\n",
      "Once upon a time there were three little sisters; and their names were\n",
      "Elsie,\n",
      "Lacie and\n",
      "Tillie;\n",
      "and they lived at the bottom of a well.\n",
      "...\n"
     ]
    }
   ],
   "source": [
    "for p in p_tags:\n",
    "    print(p.get_text())"
   ]
  },
  {
   "cell_type": "code",
   "execution_count": 21,
   "id": "9ece96aa",
   "metadata": {},
   "outputs": [],
   "source": [
    "a_tags= soup_mouse.find_all('a')"
   ]
  },
  {
   "cell_type": "code",
   "execution_count": null,
   "id": "a65d361d",
   "metadata": {},
   "outputs": [],
   "source": []
  },
  {
   "cell_type": "code",
   "execution_count": null,
   "id": "641dc51a",
   "metadata": {},
   "outputs": [],
   "source": []
  },
  {
   "cell_type": "code",
   "execution_count": null,
   "id": "2b4f5528",
   "metadata": {},
   "outputs": [],
   "source": []
  },
  {
   "cell_type": "code",
   "execution_count": null,
   "id": "ed50a3bb",
   "metadata": {},
   "outputs": [],
   "source": []
  },
  {
   "cell_type": "markdown",
   "id": "conscious-alabama",
   "metadata": {},
   "source": [
    "## Option 2 - using beautiful soup the \"CSS\" way"
   ]
  },
  {
   "cell_type": "markdown",
   "id": "ddffb58d",
   "metadata": {},
   "source": [
    "As we will be be using css selectors, let's learn first the syntax of css selectors playing this game: https://flukeout.github.io/\n",
    "\n",
    "Everyone should reach level 12!"
   ]
  },
  {
   "cell_type": "code",
   "execution_count": null,
   "id": "20ace1d2",
   "metadata": {},
   "outputs": [],
   "source": [
    "# using select()"
   ]
  },
  {
   "cell_type": "markdown",
   "id": "e6b93616",
   "metadata": {},
   "source": [
    "We can combine the `select()` method with other bs4 methods, such as `get_text()`.\n",
    "\n",
    "`get_text()`, however, can only be applied to single elements, while `select()` might return multiple elements. It's common to iterate through the output of `select()`"
   ]
  },
  {
   "cell_type": "code",
   "execution_count": null,
   "id": "ea9e53c2",
   "metadata": {},
   "outputs": [],
   "source": []
  },
  {
   "cell_type": "code",
   "execution_count": null,
   "id": "bf842d58",
   "metadata": {},
   "outputs": [],
   "source": []
  },
  {
   "cell_type": "markdown",
   "id": "protected-provision",
   "metadata": {},
   "source": [
    "useful links for the lecture : \n",
    "    \n",
    "    https://www.w3schools.com/cssref/css_selectors.asp\n",
    "    https://www.w3schools.com/tags/default.asp\n",
    "    https://www.w3schools.com/css/css_syntax.ASP\n",
    "    https://www.imdb.com/chart/top/"
   ]
  },
  {
   "cell_type": "markdown",
   "id": "8c8a9c87",
   "metadata": {},
   "source": [
    "## Activity \n",
    "\n",
    "Write code to extract and print the following contents (not including the html tags, only human-readable text): \n",
    "\n",
    "1. All the \"fun facts\"\n",
    "\n",
    "2. The names of all the places\n",
    "\n",
    "3. The content (name and fact) of all the cities (only cities, not countries) \n",
    "\n",
    "4. The names (not facts!) of all the cities (not countries)\n"
   ]
  },
  {
   "cell_type": "code",
   "execution_count": null,
   "id": "b085766e",
   "metadata": {},
   "outputs": [],
   "source": [
    "geography = \"\"\"\n",
    "<!DOCTYPE html>\n",
    "<html>\n",
    "<head> Geography</head>\n",
    "<body>\n",
    "\n",
    "<div class=\"city\">\n",
    "  <h2>London</h2>\n",
    "  <p>London is the most popular tourist destination in the world.</p>\n",
    "</div>\n",
    "\n",
    "<div class=\"city\">\n",
    "  <h2>Paris</h2>\n",
    "  <p>Paris was originally a Roman City called Lutetia.</p>\n",
    "</div>\n",
    "\n",
    "<div class=\"country\">\n",
    "  <h2>Spain</h2>\n",
    "  <p>Spain produces 43,8% of all the world's Olive Oil.</p>\n",
    "</div>\n",
    "\n",
    "</body>\n",
    "</html>\n",
    "\"\"\""
   ]
  },
  {
   "cell_type": "code",
   "execution_count": null,
   "id": "e098240a",
   "metadata": {},
   "outputs": [],
   "source": []
  },
  {
   "cell_type": "code",
   "execution_count": null,
   "id": "33bb9a80",
   "metadata": {},
   "outputs": [],
   "source": []
  },
  {
   "cell_type": "code",
   "execution_count": null,
   "id": "b3426d22",
   "metadata": {},
   "outputs": [],
   "source": [
    "# 1. All the \"fun facts\"\n",
    "\n"
   ]
  },
  {
   "cell_type": "markdown",
   "id": "75b9771b",
   "metadata": {},
   "source": [
    "example : \n",
    "    \n",
    "\n",
    "**Paris was originally a Roman City called Lutetia**\n"
   ]
  },
  {
   "cell_type": "code",
   "execution_count": null,
   "id": "4deaf42a",
   "metadata": {},
   "outputs": [],
   "source": [
    "# 2. The names of all the places.\n",
    "\n"
   ]
  },
  {
   "cell_type": "markdown",
   "id": "090d6185",
   "metadata": {},
   "source": [
    "example: \n",
    "\n",
    "**Paris**"
   ]
  },
  {
   "cell_type": "code",
   "execution_count": null,
   "id": "5c479a6b",
   "metadata": {},
   "outputs": [],
   "source": [
    "# 3. All the content (name and fact) of all the cities (only cities, not countries!)\n",
    "\n"
   ]
  },
  {
   "cell_type": "markdown",
   "id": "2d1a3774",
   "metadata": {},
   "source": [
    "example: \n",
    "    \n",
    "**Paris**\n",
    "\n",
    "**Paris was originally a Roman City called Lutetia.**"
   ]
  },
  {
   "cell_type": "code",
   "execution_count": null,
   "id": "dbe5ccb5",
   "metadata": {},
   "outputs": [],
   "source": [
    "# 4. The names (not facts!) of all the cities (not countries!)\n",
    "\n"
   ]
  },
  {
   "cell_type": "code",
   "execution_count": null,
   "id": "b86d077e",
   "metadata": {},
   "outputs": [],
   "source": []
  },
  {
   "cell_type": "code",
   "execution_count": null,
   "id": "96ad65f9",
   "metadata": {},
   "outputs": [],
   "source": []
  },
  {
   "cell_type": "markdown",
   "id": "2802fb64",
   "metadata": {},
   "source": [
    "## Scraping the IMDB top 250\n",
    "\n",
    "Let's go to https://www.imdb.com/chart/top, where we'll see the top 250 movies according to IMDb ratings.\n",
    "\n",
    "Notice how each movie has the following elements:\n",
    "\n",
    "- Title\n",
    "\n",
    "- Release Year\n",
    "\n",
    "- IMDb rating\n",
    "\n",
    "- Director & main stars (they appear when you hover over the title)\n",
    "\n",
    "Our objective is going to be to scrape this information and store it in a pandas dataframe."
   ]
  },
  {
   "cell_type": "code",
   "execution_count": null,
   "id": "00a710ee",
   "metadata": {},
   "outputs": [],
   "source": [
    "# 1. importing libraries- BeautifulSoup, requests, pandas\n",
    "\n",
    "\n",
    "# 2. find url and store it in avariable\n",
    "url = \"https://www.imdb.com/chart/top\"\n",
    "\n",
    "# 3. download html with a get request\n",
    "response = requests.get(url)"
   ]
  },
  {
   "cell_type": "code",
   "execution_count": null,
   "id": "0f5c8333",
   "metadata": {},
   "outputs": [],
   "source": [
    "#check response status code \n"
   ]
  },
  {
   "cell_type": "code",
   "execution_count": null,
   "id": "2497ab30",
   "metadata": {},
   "outputs": [],
   "source": [
    "#parse and store the contents of the url call\n"
   ]
  },
  {
   "cell_type": "code",
   "execution_count": null,
   "id": "falling-helicopter",
   "metadata": {},
   "outputs": [],
   "source": [
    "#prettify the soup \n"
   ]
  },
  {
   "cell_type": "markdown",
   "id": "dd045694",
   "metadata": {},
   "source": [
    "### Query the soup to get movie title, actors, director, year \n"
   ]
  },
  {
   "cell_type": "code",
   "execution_count": null,
   "id": "e943384d",
   "metadata": {},
   "outputs": [],
   "source": []
  },
  {
   "cell_type": "code",
   "execution_count": null,
   "id": "04bb26b7",
   "metadata": {},
   "outputs": [],
   "source": []
  },
  {
   "cell_type": "code",
   "execution_count": null,
   "id": "6f0fc53a",
   "metadata": {},
   "outputs": [],
   "source": [
    "# the director and main stars are in the same tag, but as a value of the attribute \"title\"\n",
    "# we can access attributes as key-value pairs of dictionaries: using [\"key\"] to get the value:\n",
    "\n",
    "# instead of [\"title\"] we could use .get(\"title\"): choose whatever you prefer"
   ]
  },
  {
   "cell_type": "code",
   "execution_count": null,
   "id": "b8a55e1b",
   "metadata": {},
   "outputs": [],
   "source": []
  },
  {
   "cell_type": "code",
   "execution_count": null,
   "id": "a480696f",
   "metadata": {},
   "outputs": [],
   "source": [
    "# the years are inside a 'span' tag with the 'secondaryInfo' class\n",
    "# we also specify the parent tag and its class, which is the same we used before\n",
    "# the years are inside parentheses, but we'll take care of that later"
   ]
  },
  {
   "cell_type": "code",
   "execution_count": null,
   "id": "0d29f6fb",
   "metadata": {},
   "outputs": [],
   "source": []
  },
  {
   "cell_type": "code",
   "execution_count": null,
   "id": "9e911d2b",
   "metadata": {},
   "outputs": [],
   "source": []
  },
  {
   "cell_type": "code",
   "execution_count": null,
   "id": "cc112bf0",
   "metadata": {},
   "outputs": [],
   "source": []
  },
  {
   "cell_type": "markdown",
   "id": "violent-acquisition",
   "metadata": {},
   "source": [
    "### Once we have a method working for one movie, we can apply it for all the movies\n",
    "\n",
    "- loop through movies\n",
    "- pick up title, director, actors, year\n",
    "\n",
    "+ store in a list\n",
    "\n",
    "- for example \n",
    "\n",
    "**movie_lst = soup.select(\"td.titleColumn a\")**\n",
    "\n",
    "**yr_lst = soup.select(\"td.titleColumn span.secondaryInfo\")**"
   ]
  },
  {
   "cell_type": "code",
   "execution_count": null,
   "id": "2aaba711",
   "metadata": {},
   "outputs": [],
   "source": [
    "## install tqqm.notebook using conda install -c conda-forge tqdm\n"
   ]
  },
  {
   "cell_type": "code",
   "execution_count": null,
   "id": "5743d9b5",
   "metadata": {},
   "outputs": [],
   "source": []
  },
  {
   "cell_type": "code",
   "execution_count": null,
   "id": "af8accb4",
   "metadata": {},
   "outputs": [],
   "source": []
  },
  {
   "cell_type": "code",
   "execution_count": null,
   "id": "9ad67912",
   "metadata": {},
   "outputs": [],
   "source": []
  },
  {
   "cell_type": "markdown",
   "id": "e812d759",
   "metadata": {},
   "source": [
    "### Cleaning / Wrangling steps for the scraped data \n",
    "\n",
    "An inherent part of web scraping is data cleaning. We managed to get the information we needed, but for it to be useful, we still need some extra steps:\n",
    "\n",
    "- Take the year out of the parentheses: we know we can do that with regex, but string methods such as str.replace() might be simpler to use.\n",
    "\n",
    "- Split dir_stars into 3 columns, one for each person: \"director\", \"star_1\", \"star_2\". This could have been done by filtering when extracting the data from the html document, but it looks easier afterwards:\n",
    "\n",
    "    - The \"(dir.)\" pattern can be removed\n",
    "    - We can split the string at each comma\n",
    "    \n",
    "- Change the data type of the year column to integer.\n"
   ]
  },
  {
   "cell_type": "code",
   "execution_count": null,
   "id": "636355d8",
   "metadata": {},
   "outputs": [],
   "source": []
  },
  {
   "cell_type": "code",
   "execution_count": null,
   "id": "4bda9a69",
   "metadata": {},
   "outputs": [],
   "source": []
  },
  {
   "cell_type": "code",
   "execution_count": null,
   "id": "55a0aa1d",
   "metadata": {},
   "outputs": [],
   "source": []
  },
  {
   "cell_type": "markdown",
   "id": "32cbb20d",
   "metadata": {},
   "source": [
    "### Create data frame from results and preview "
   ]
  },
  {
   "cell_type": "code",
   "execution_count": null,
   "id": "48392c55",
   "metadata": {},
   "outputs": [],
   "source": []
  },
  {
   "cell_type": "code",
   "execution_count": null,
   "id": "679984f5",
   "metadata": {},
   "outputs": [],
   "source": []
  },
  {
   "cell_type": "code",
   "execution_count": null,
   "id": "31a6744f",
   "metadata": {},
   "outputs": [],
   "source": []
  }
 ],
 "metadata": {
  "kernelspec": {
   "display_name": "Python 3",
   "language": "python",
   "name": "python3"
  },
  "language_info": {
   "codemirror_mode": {
    "name": "ipython",
    "version": 3
   },
   "file_extension": ".py",
   "mimetype": "text/x-python",
   "name": "python",
   "nbconvert_exporter": "python",
   "pygments_lexer": "ipython3",
   "version": "3.9.5"
  },
  "latex_envs": {
   "LaTeX_envs_menu_present": true,
   "autoclose": true,
   "autocomplete": true,
   "bibliofile": "biblio.bib",
   "cite_by": "apalike",
   "current_citInitial": 1,
   "eqLabelWithNumbers": true,
   "eqNumInitial": 1,
   "hotkeys": {
    "equation": "Ctrl-E",
    "itemize": "Ctrl-I"
   },
   "labels_anchors": false,
   "latex_user_defs": false,
   "report_style_numbering": false,
   "user_envs_cfg": true
  },
  "toc": {
   "base_numbering": 1,
   "nav_menu": {},
   "number_sections": true,
   "sideBar": true,
   "skip_h1_title": false,
   "title_cell": "Table of Contents",
   "title_sidebar": "Contents",
   "toc_cell": false,
   "toc_position": {},
   "toc_section_display": true,
   "toc_window_display": false
  },
  "varInspector": {
   "cols": {
    "lenName": 16,
    "lenType": 16,
    "lenVar": 40
   },
   "kernels_config": {
    "python": {
     "delete_cmd_postfix": "",
     "delete_cmd_prefix": "del ",
     "library": "var_list.py",
     "varRefreshCmd": "print(var_dic_list())"
    },
    "r": {
     "delete_cmd_postfix": ") ",
     "delete_cmd_prefix": "rm(",
     "library": "var_list.r",
     "varRefreshCmd": "cat(var_dic_list()) "
    }
   },
   "types_to_exclude": [
    "module",
    "function",
    "builtin_function_or_method",
    "instance",
    "_Feature"
   ],
   "window_display": false
  }
 },
 "nbformat": 4,
 "nbformat_minor": 5
}
