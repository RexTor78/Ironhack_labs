{
 "cells": [
  {
   "cell_type": "code",
   "execution_count": 4,
   "metadata": {},
   "outputs": [
    {
     "name": "stderr",
     "output_type": "stream",
     "text": [
      "ERROR: Invalid requirement: 'pyowm`'\n"
     ]
    },
    {
     "ename": "ModuleNotFoundError",
     "evalue": "No module named 'request'",
     "output_type": "error",
     "traceback": [
      "\u001b[1;31m---------------------------------------------------------------------------\u001b[0m",
      "\u001b[1;31mModuleNotFoundError\u001b[0m                       Traceback (most recent call last)",
      "\u001b[1;32m<ipython-input-4-c001a03df372>\u001b[0m in \u001b[0;36m<module>\u001b[1;34m\u001b[0m\n\u001b[0;32m      5\u001b[0m \u001b[1;32mimport\u001b[0m \u001b[0msys\u001b[0m\u001b[1;33m\u001b[0m\u001b[1;33m\u001b[0m\u001b[0m\n\u001b[0;32m      6\u001b[0m \u001b[0mget_ipython\u001b[0m\u001b[1;33m(\u001b[0m\u001b[1;33m)\u001b[0m\u001b[1;33m.\u001b[0m\u001b[0msystem\u001b[0m\u001b[1;33m(\u001b[0m\u001b[1;34m'{sys.executable} -m pip install pyowm`'\u001b[0m\u001b[1;33m)\u001b[0m\u001b[1;33m\u001b[0m\u001b[1;33m\u001b[0m\u001b[0m\n\u001b[1;32m----> 7\u001b[1;33m \u001b[1;32mimport\u001b[0m \u001b[0mrequest\u001b[0m\u001b[1;33m\u001b[0m\u001b[1;33m\u001b[0m\u001b[0m\n\u001b[0m",
      "\u001b[1;31mModuleNotFoundError\u001b[0m: No module named 'request'"
     ]
    }
   ],
   "source": [
    "## OpenWeatherMap API\n",
    "\n",
    "# A nice person wrote a Python wrapper, which can be found here: https://github.com/csparpa/pyowm\n",
    "\n",
    "import sys\n",
    "!{sys.executable} -m pip install pyowm`\n",
    "import request"
   ]
  },
  {
   "cell_type": "markdown",
   "metadata": {},
   "source": [
    "Create an account here: https://home.openweathermap.org/users/sign_up\n",
    "\n",
    "Then Sign in and go to the \"Keys\" tab."
   ]
  },
  {
   "cell_type": "code",
   "execution_count": 1,
   "metadata": {},
   "outputs": [],
   "source": [
    "#create owm key \n",
    "OWM_key=\"7721c39fc555a1ad9edcdf327ad5385a\"  "
   ]
  },
  {
   "cell_type": "code",
   "execution_count": 2,
   "metadata": {},
   "outputs": [
    {
     "ename": "NameError",
     "evalue": "name 'requests' is not defined",
     "output_type": "error",
     "traceback": [
      "\u001b[1;31m---------------------------------------------------------------------------\u001b[0m",
      "\u001b[1;31mNameError\u001b[0m                                 Traceback (most recent call last)",
      "\u001b[1;32m<ipython-input-2-4998b7b4f4f7>\u001b[0m in \u001b[0;36m<module>\u001b[1;34m\u001b[0m\n\u001b[1;32m----> 1\u001b[1;33m \u001b[0mresponse\u001b[0m\u001b[1;33m=\u001b[0m\u001b[0mrequests\u001b[0m\u001b[1;33m.\u001b[0m\u001b[0mget\u001b[0m\u001b[1;33m(\u001b[0m\u001b[1;34m\"http://api.openweathermap.org/data/2.5/air_pollution/history?lat=2.161165&lon=-41.689858&start=1622412000&end=1626040800&appid=\"\u001b[0m\u001b[1;33m+\u001b[0m\u001b[0mOWM_key\u001b[0m \u001b[1;33m)\u001b[0m\u001b[1;33m\u001b[0m\u001b[1;33m\u001b[0m\u001b[0m\n\u001b[0m\u001b[0;32m      2\u001b[0m \u001b[0mresponse\u001b[0m\u001b[1;33m.\u001b[0m\u001b[0mstatus_code\u001b[0m\u001b[1;33m\u001b[0m\u001b[1;33m\u001b[0m\u001b[0m\n",
      "\u001b[1;31mNameError\u001b[0m: name 'requests' is not defined"
     ]
    }
   ],
   "source": [
    "response=requests.get(\"http://api.openweathermap.org/data/2.5/air_pollution/history?lat=2.161165&lon=-41.689858&start=1622412000&end=1626040800&appid=\"+OWM_key )\n",
    "response.status_code"
   ]
  },
  {
   "cell_type": "code",
   "execution_count": null,
   "metadata": {},
   "outputs": [],
   "source": [
    "response.json()"
   ]
  },
  {
   "cell_type": "code",
   "execution_count": null,
   "metadata": {},
   "outputs": [],
   "source": []
  },
  {
   "cell_type": "code",
   "execution_count": null,
   "metadata": {},
   "outputs": [],
   "source": [
    "import seaborn as sns\n",
    "\n",
    "# nested dictionary!\n",
    "data = response.json()\n",
    "\n",
    "# get all data from it. First, explore the structure with .keys(), .items() etc.\n",
    "# in order to know how to write the following lines\n",
    "\n",
    "timestamps = [entry['dt'] for entry in response.json()['list']]\n",
    "co_values = [entry['components']['co'] for entry in response.json()['list']]\n",
    "no2_values = [entry['components']['no2'] for entry in response.json()['list']]\n",
    "nh3_values = [entry['components']['nh3'] for entry in response.json()['list']]\n",
    "o3_values = [entry['components']['o3'] for entry in response.json()['list']]\n",
    "\n",
    "\n",
    "# build the flat dataframe\n",
    "df = pd.DataFrame({'timestamps':timestamps,\n",
    "                   'co_values':co_values,\n",
    "                   'no2_values':no2_values,\n",
    "                   'nh3_values':nh3_values,\n",
    "                   'o3_values':o3_values,\n",
    "                    # etc for more values \n",
    "                  })\n",
    "\n",
    "# convert the UNIX time column to actual datetime\n",
    "df['timestamps'] = pd.to_datetime(df['timestamps'], unit='s')\n",
    "\n",
    "# conventional way of getting the data from that nested dictionary without list comprehension\n",
    "# for entry in response.json()['list']:\n",
    "#    print(entry['dt'])"
   ]
  },
  {
   "cell_type": "markdown",
   "metadata": {},
   "source": [
    "### Plot"
   ]
  },
  {
   "cell_type": "code",
   "execution_count": null,
   "metadata": {},
   "outputs": [],
   "source": [
    "# libraries\n",
    "import matplotlib.pyplot as plt\n",
    "import numpy as np\n",
    "import pandas as pd\n",
    "\n",
    "\n",
    "# Change the style of plot\n",
    "plt.style.use('seaborn-darkgrid')\n",
    " \n",
    "# Create a color palette\n",
    "palette = plt.get_cmap('Set1')\n",
    "\n",
    "fig, ax = plt.subplots(figsize=(14,10))\n",
    " \n",
    "# Plot multiple lines\n",
    "num=0\n",
    "for column in df.drop('timestamps', axis=1):\n",
    "    num+=1\n",
    "    plt.plot(df['timestamps'],\n",
    "             df[column],\n",
    "             marker='',\n",
    "             color=palette(num),\n",
    "             linewidth=1,\n",
    "             alpha=0.9,\n",
    "             label=column,\n",
    "            )\n",
    "\n",
    "# Add legend\n",
    "plt.legend(loc=2, ncol=2)\n",
    " \n",
    "# Add titles\n",
    "plt.title(\"A (bad) Spaghetti plot\", loc='left', fontsize=12, fontweight=0, color='orange')\n",
    "plt.xlabel(\"Time\")\n",
    "plt.ylabel(\"microgramm / m^3\")\n",
    "\n",
    "# Show the graph\n",
    "plt.show()"
   ]
  },
  {
   "cell_type": "code",
   "execution_count": null,
   "metadata": {},
   "outputs": [],
   "source": [
    "# less complicated using the pandas built in plot function - not the matplotlib one\n",
    "\n",
    "df.set_index('timestamps')\n",
    "df.plot.line(x='timestamps')"
   ]
  },
  {
   "cell_type": "markdown",
   "metadata": {},
   "source": [
    "This is not a nice plot though, since the CO-values scatter over a way bigger range than all the other values, so it is better to create plots for each pollution variant or outsource at least CO to another diagram"
   ]
  },
  {
   "cell_type": "code",
   "execution_count": null,
   "metadata": {},
   "outputs": [],
   "source": [
    "df.plot.line(x='timestamps',\n",
    "             y=['no2_values', 'nh3_values'],\n",
    "             ylabel=\"µg / m³\",\n",
    "             xlabel=\"time\",\n",
    "            figsize=(16,8));"
   ]
  },
  {
   "cell_type": "code",
   "execution_count": null,
   "metadata": {},
   "outputs": [],
   "source": [
    "# plotting O3 and CO on another chart, because their order of magnitude is different\n",
    "df.plot.line(x='timestamps',\n",
    "             y=['o3_values', 'co_values'],\n",
    "             color={\"o3_values\": \"pink\",\n",
    "                    \"co_values\": \"red\"},\n",
    "             ylabel=\"µg / m³\",\n",
    "             xlabel=\"time\",\n",
    "             figsize=(16,8)\n",
    "            );"
   ]
  },
  {
   "cell_type": "code",
   "execution_count": null,
   "metadata": {},
   "outputs": [],
   "source": []
  }
 ],
 "metadata": {
  "kernelspec": {
   "display_name": "Python 3",
   "language": "python",
   "name": "python3"
  },
  "language_info": {
   "codemirror_mode": {
    "name": "ipython",
    "version": 3
   },
   "file_extension": ".py",
   "mimetype": "text/x-python",
   "name": "python",
   "nbconvert_exporter": "python",
   "pygments_lexer": "ipython3",
   "version": "3.9.5"
  },
  "latex_envs": {
   "LaTeX_envs_menu_present": true,
   "autoclose": true,
   "autocomplete": true,
   "bibliofile": "biblio.bib",
   "cite_by": "apalike",
   "current_citInitial": 1,
   "eqLabelWithNumbers": true,
   "eqNumInitial": 1,
   "hotkeys": {
    "equation": "Ctrl-E",
    "itemize": "Ctrl-I"
   },
   "labels_anchors": false,
   "latex_user_defs": false,
   "report_style_numbering": false,
   "user_envs_cfg": true
  },
  "toc": {
   "base_numbering": 1,
   "nav_menu": {},
   "number_sections": true,
   "sideBar": true,
   "skip_h1_title": false,
   "title_cell": "Table of Contents",
   "title_sidebar": "Contents",
   "toc_cell": false,
   "toc_position": {},
   "toc_section_display": true,
   "toc_window_display": false
  },
  "varInspector": {
   "cols": {
    "lenName": 16,
    "lenType": 16,
    "lenVar": 40
   },
   "kernels_config": {
    "python": {
     "delete_cmd_postfix": "",
     "delete_cmd_prefix": "del ",
     "library": "var_list.py",
     "varRefreshCmd": "print(var_dic_list())"
    },
    "r": {
     "delete_cmd_postfix": ") ",
     "delete_cmd_prefix": "rm(",
     "library": "var_list.r",
     "varRefreshCmd": "cat(var_dic_list()) "
    }
   },
   "types_to_exclude": [
    "module",
    "function",
    "builtin_function_or_method",
    "instance",
    "_Feature"
   ],
   "window_display": false
  }
 },
 "nbformat": 4,
 "nbformat_minor": 4
}
