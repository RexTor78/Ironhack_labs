{
 "cells": [
  {
   "cell_type": "markdown",
   "metadata": {
    "id": "bL0COZycSWSX"
   },
   "source": [
    "## Importing libraries"
   ]
  },
  {
   "cell_type": "code",
   "execution_count": null,
   "metadata": {
    "executionInfo": {
     "elapsed": 1057,
     "status": "ok",
     "timestamp": 1603792221185,
     "user": {
      "displayName": "Ignacio Soteras",
      "photoUrl": "",
      "userId": "02050793736257155229"
     },
     "user_tz": -60
    },
    "id": "Vck0bYw4SYaF"
   },
   "outputs": [],
   "source": [
    "import pandas as pd\n",
    "import numpy as np\n",
    "import datetime\n",
    "import matplotlib.pyplot as plt\n",
    "import seaborn as sns\n",
    "sns.set_style(\"whitegrid\")\n",
    "%matplotlib inline\n",
    "# option so we can always see all columns\n",
    "pd.set_option('display.max_columns', None)"
   ]
  },
  {
   "cell_type": "code",
   "execution_count": null,
   "metadata": {
    "executionInfo": {
     "elapsed": 756,
     "status": "ok",
     "timestamp": 1603792237847,
     "user": {
      "displayName": "Ignacio Soteras",
      "photoUrl": "",
      "userId": "02050793736257155229"
     },
     "user_tz": -60
    },
    "id": "9kHoDSBaSLbe"
   },
   "outputs": [],
   "source": [
    "data = pd.read_csv('unit4_partially_processed.csv') \n",
    "data.head()"
   ]
  },
  {
   "cell_type": "markdown",
   "metadata": {
    "id": "jgfgvwWrPCGR"
   },
   "source": [
    "### Feature engineering - a few more examples"
   ]
  },
  {
   "cell_type": "markdown",
   "metadata": {
    "id": "edazW1ZzPFmo"
   },
   "source": [
    "Add your notes here : \n",
    "\n"
   ]
  },
  {
   "cell_type": "code",
   "execution_count": null,
   "metadata": {
    "colab": {
     "base_uri": "https://localhost:8080/",
     "height": 34
    },
    "executionInfo": {
     "elapsed": 1168,
     "status": "ok",
     "timestamp": 1603792332977,
     "user": {
      "displayName": "Ignacio Soteras",
      "photoUrl": "",
      "userId": "02050793736257155229"
     },
     "user_tz": -60
    },
    "id": "LIFYMZi8SjW-",
    "outputId": "342287d0-155c-4a44-9810-4240e0188d03"
   },
   "outputs": [],
   "source": [
    "len(data[data['DOB'] == 0])"
   ]
  },
  {
   "cell_type": "markdown",
   "metadata": {
    "id": "1lRvuoZtTSXH"
   },
   "source": [
    "NOTE : In the DOB column, the format is YYMM. We will use this info to get the year when they were born."
   ]
  },
  {
   "cell_type": "code",
   "execution_count": null,
   "metadata": {
    "id": "saz7RCv8e506"
   },
   "outputs": [],
   "source": [
    "def year(x):\n",
    "  x =str(x)\n",
    "  if (len(x) < 4):\n",
    "    return np.nan\n",
    "  else:\n",
    "    return int(x[:2])"
   ]
  },
  {
   "cell_type": "code",
   "execution_count": null,
   "metadata": {
    "executionInfo": {
     "elapsed": 815,
     "status": "ok",
     "timestamp": 1603792615102,
     "user": {
      "displayName": "Ignacio Soteras",
      "photoUrl": "",
      "userId": "02050793736257155229"
     },
     "user_tz": -60
    },
    "id": "_oKZcT5iTVKY"
   },
   "outputs": [],
   "source": [
    "import re\n",
    "def year(x):\n",
    "    x = str(x)\n",
    "    if len(x)<4:\n",
    "        return np.nan\n",
    "    else:\n",
    "        pattern = '\\d\\d'\n",
    "        yr = re.findall(pattern,x)[0]\n",
    "        return int(yr)"
   ]
  },
  {
   "cell_type": "markdown",
   "metadata": {
    "id": "G5xe5yXETeho"
   },
   "source": [
    "NOTE : our reference year is 1997 because the data is from a 1997 study."
   ]
  },
  {
   "cell_type": "code",
   "execution_count": null,
   "metadata": {
    "executionInfo": {
     "elapsed": 749,
     "status": "ok",
     "timestamp": 1603792742937,
     "user": {
      "displayName": "Ignacio Soteras",
      "photoUrl": "",
      "userId": "02050793736257155229"
     },
     "user_tz": -60
    },
    "id": "P1u6DV-oTf7g"
   },
   "outputs": [],
   "source": [
    "data['year'] = list(map(year, data['DOB']))\n",
    "data['age'] = 97 - data['year']\n",
    "\n",
    "data['age'] = data['age'].fillna(np.mean(data['age']))"
   ]
  },
  {
   "cell_type": "code",
   "execution_count": null,
   "metadata": {
    "executionInfo": {
     "elapsed": 867,
     "status": "ok",
     "timestamp": 1603792745459,
     "user": {
      "displayName": "Ignacio Soteras",
      "photoUrl": "",
      "userId": "02050793736257155229"
     },
     "user_tz": -60
    },
    "id": "HXnPsxARTsPR"
   },
   "outputs": [],
   "source": [
    "# Now we can drop the column DOB as we have extracted the information we need from this column\n",
    "data = data.drop(['DOB'], axis=1)\n",
    "data = data.drop(['year'], axis=1)"
   ]
  },
  {
   "cell_type": "code",
   "execution_count": null,
   "metadata": {
    "colab": {
     "base_uri": "https://localhost:8080/",
     "height": 215
    },
    "executionInfo": {
     "elapsed": 775,
     "status": "ok",
     "timestamp": 1603792747832,
     "user": {
      "displayName": "Ignacio Soteras",
      "photoUrl": "",
      "userId": "02050793736257155229"
     },
     "user_tz": -60
    },
    "id": "IS3y14FJTxd_",
    "outputId": "0fe2f265-a519-4c65-aea1-4737e4408ff1"
   },
   "outputs": [],
   "source": [
    "data.head()"
   ]
  },
  {
   "cell_type": "markdown",
   "metadata": {
    "id": "HJDIjjuqWhN2"
   },
   "source": [
    "### Feature selection- the challenge : which columns should we keep for our model?\n",
    "\n",
    "- tip 1 - check null values to drop a column \n",
    "- tip 2 - sense check which columns are likely to be useful to answer the question at hand... \n",
    "- tip 3 - check multicollinearity for numerical variables using correlation/ heat maps etc \n",
    "\n",
    "Things you can do : (your notes here)\n",
    "\n",
    "- \n",
    "- \n",
    "- \n",
    "\n",
    "\n",
    "\n"
   ]
  },
  {
   "cell_type": "code",
   "execution_count": null,
   "metadata": {
    "colab": {
     "base_uri": "https://localhost:8080/",
     "height": 534
    },
    "executionInfo": {
     "elapsed": 2217,
     "status": "ok",
     "timestamp": 1603796485101,
     "user": {
      "displayName": "Ignacio Soteras",
      "photoUrl": "",
      "userId": "02050793736257155229"
     },
     "user_tz": -60
    },
    "id": "BFAcI_Kls_P0",
    "outputId": "eddd8bb2-0cbf-4be1-9558-e7fb40a1ba26"
   },
   "outputs": [],
   "source": [
    "# corrrelation matrix \n",
    "data_corr = data[['INCOME', 'HV1', 'HV2', 'IC1', 'IC2', 'IC3', 'IC4', 'NUMPROM', 'CARDPROM', 'NGIFTALL', 'TIMELAG', 'AVGGIFT']]\n",
    "corr_matrix=data_corr.corr(method='pearson')\n",
    "fig, ax = plt.subplots(figsize=(10, 8))\n",
    "ax = sns.heatmap(corr_matrix, annot=True)\n",
    "plt.show()"
   ]
  },
  {
   "cell_type": "markdown",
   "metadata": {},
   "source": [
    "### why is multi collinearity a problem for linear regression ? \n",
    "\n",
    "Your notes here : \n",
    "\n",
    "- \n",
    "- \n",
    "- \n",
    "\n",
    "\n",
    "### How does the correlation matrix help ? \n",
    "\n",
    "Your notes here : \n",
    "\n",
    "- \n",
    "- \n",
    "- \n",
    "\n"
   ]
  },
  {
   "cell_type": "code",
   "execution_count": null,
   "metadata": {
    "colab": {
     "base_uri": "https://localhost:8080/",
     "height": 402
    },
    "executionInfo": {
     "elapsed": 862,
     "status": "ok",
     "timestamp": 1603797216251,
     "user": {
      "displayName": "Ignacio Soteras",
      "photoUrl": "",
      "userId": "02050793736257155229"
     },
     "user_tz": -60
    },
    "id": "pNlJ60Shw1tb",
    "outputId": "4971aa6c-862d-4548-d917-2315f5467ff8"
   },
   "outputs": [],
   "source": [
    "corr_matrix # numeric less colourful version"
   ]
  },
  {
   "cell_type": "markdown",
   "metadata": {
    "id": "IEp5e5J9z4a9"
   },
   "source": [
    "### what can you see? do we need to investigate further ? \n",
    "\n",
    "what can we do to confirm the correlation? \n",
    "\n",
    "your notes here : \n",
    "\n",
    "- \n",
    "- \n",
    "- \n"
   ]
  },
  {
   "cell_type": "code",
   "execution_count": null,
   "metadata": {
    "colab": {
     "base_uri": "https://localhost:8080/",
     "height": 458
    },
    "executionInfo": {
     "elapsed": 11723,
     "status": "ok",
     "timestamp": 1603796638274,
     "user": {
      "displayName": "Ignacio Soteras",
      "photoUrl": "",
      "userId": "02050793736257155229"
     },
     "user_tz": -60
    },
    "id": "oqQjl7JFz3X5",
    "outputId": "e9322cd2-60b0-4919-c88e-61f877f25c52"
   },
   "outputs": [],
   "source": [
    "sns.jointplot(x=\"HV1\", y=\"HV2\", data=data_corr, kind='reg',joint_kws={'line_kws':{'color':'black'}})\n"
   ]
  },
  {
   "cell_type": "code",
   "execution_count": null,
   "metadata": {
    "colab": {
     "base_uri": "https://localhost:8080/",
     "height": 458
    },
    "executionInfo": {
     "elapsed": 17337,
     "status": "ok",
     "timestamp": 1603796710174,
     "user": {
      "displayName": "Ignacio Soteras",
      "photoUrl": "",
      "userId": "02050793736257155229"
     },
     "user_tz": -60
    },
    "id": "Snytk3yc0e2I",
    "outputId": "ed909815-649a-41dc-dfe8-431f5e6d7d5a"
   },
   "outputs": [],
   "source": [
    "sns.jointplot(x=\"HV1\", y=\"IC1\", data=data_corr, kind='reg',joint_kws={'line_kws':{'color':'black'}})"
   ]
  },
  {
   "cell_type": "code",
   "execution_count": null,
   "metadata": {
    "colab": {
     "base_uri": "https://localhost:8080/",
     "height": 458
    },
    "executionInfo": {
     "elapsed": 12023,
     "status": "ok",
     "timestamp": 1603796752094,
     "user": {
      "displayName": "Ignacio Soteras",
      "photoUrl": "",
      "userId": "02050793736257155229"
     },
     "user_tz": -60
    },
    "id": "ojky0W5X2cJK",
    "outputId": "08e5036e-c4dc-4e1d-9da6-21857d8198c8"
   },
   "outputs": [],
   "source": [
    "sns.jointplot(x=\"HV1\", y=\"IC2\", data=data_corr, kind='reg',joint_kws={'line_kws':{'color':'black'}})"
   ]
  },
  {
   "cell_type": "code",
   "execution_count": null,
   "metadata": {
    "colab": {
     "base_uri": "https://localhost:8080/",
     "height": 458
    },
    "executionInfo": {
     "elapsed": 11925,
     "status": "ok",
     "timestamp": 1603796786937,
     "user": {
      "displayName": "Ignacio Soteras",
      "photoUrl": "",
      "userId": "02050793736257155229"
     },
     "user_tz": -60
    },
    "id": "N-579tEY2rxN",
    "outputId": "778c5b2a-357e-4e7a-9e6f-40b72b2872bd"
   },
   "outputs": [],
   "source": [
    "sns.jointplot(x=\"HV1\", y=\"IC3\", data=data_corr, kind='reg',joint_kws={'line_kws':{'color':'black'}})"
   ]
  },
  {
   "cell_type": "code",
   "execution_count": null,
   "metadata": {
    "id": "VIWDu_zP2769"
   },
   "outputs": [],
   "source": [
    "sns.jointplot(x=\"HV1\", y=\"IC4\", data=data_corr, kind='reg',joint_kws={'line_kws':{'color':'black'}})"
   ]
  },
  {
   "cell_type": "code",
   "execution_count": null,
   "metadata": {
    "id": "sXSM-6qH3Nv0"
   },
   "outputs": [],
   "source": [
    "sns.jointplot(x=\"IC1\", y=\"IC2\", data=data_corr, kind='reg',joint_kws={'line_kws':{'color':'black'}})"
   ]
  },
  {
   "cell_type": "markdown",
   "metadata": {},
   "source": [
    "### what if anything has this revealed ? Can we drop some features at this stage? \n",
    "\n",
    "your notes here : \n",
    "\n",
    "- \n",
    "- \n",
    "- \n",
    "\n"
   ]
  },
  {
   "cell_type": "markdown",
   "metadata": {
    "id": "CHBbXlNf3Z4e"
   },
   "source": [
    "#### what about calculating a line of best fit using linear regression, between two variables ? "
   ]
  },
  {
   "cell_type": "code",
   "execution_count": null,
   "metadata": {
    "executionInfo": {
     "elapsed": 785,
     "status": "ok",
     "timestamp": 1603796797520,
     "user": {
      "displayName": "Ignacio Soteras",
      "photoUrl": "",
      "userId": "02050793736257155229"
     },
     "user_tz": -60
    },
    "id": "453ujBkP3lLa"
   },
   "outputs": [],
   "source": [
    "from sklearn.linear_model import LinearRegression\n",
    "from sklearn.metrics import r2_score\n"
   ]
  },
  {
   "cell_type": "markdown",
   "metadata": {},
   "source": [
    "\n",
    "### what is r2 score? and can I 100% rely on it?\n",
    "https://blog.minitab.com/blog/adventures-in-statistics-2/regression-analysis-how-do-i-interpret-r-squared-and-assess-the-goodness-of-fit\n",
    "\n",
    "your notes here : \n",
    "\n",
    "- \n",
    "- \n",
    "- \n",
    "\n",
    "\n",
    "\n",
    "### what is VIF? \n",
    "https://www.statisticshowto.com/variance-inflation-factor/\n",
    "\n",
    "your notes here : \n",
    "\n",
    "- \n",
    "- \n",
    "- \n",
    "\n"
   ]
  },
  {
   "cell_type": "code",
   "execution_count": null,
   "metadata": {
    "colab": {
     "base_uri": "https://localhost:8080/",
     "height": 50
    },
    "executionInfo": {
     "elapsed": 780,
     "status": "ok",
     "timestamp": 1603796841781,
     "user": {
      "displayName": "Ignacio Soteras",
      "photoUrl": "",
      "userId": "02050793736257155229"
     },
     "user_tz": -60
    },
    "id": "aW57r-UI3ghM",
    "outputId": "2b415cf0-09f1-4a7a-851b-e61424b96f9c"
   },
   "outputs": [],
   "source": [
    "model = LinearRegression().fit(data_corr[['HV1']], data_corr[['HV2']])\n",
    "model_r2 = model.score(data_corr[['HV1']], data_corr[['HV2']])\n",
    "model_vif = 1/(1-model_r2)\n",
    "print(\"The R2 of the model is: %5.3f\" % (model_r2))\n",
    "print(\"The VIF of the model is: %5.3f\" % (model_vif))"
   ]
  },
  {
   "cell_type": "code",
   "execution_count": null,
   "metadata": {
    "colab": {
     "base_uri": "https://localhost:8080/",
     "height": 50
    },
    "executionInfo": {
     "elapsed": 791,
     "status": "ok",
     "timestamp": 1603797018045,
     "user": {
      "displayName": "Ignacio Soteras",
      "photoUrl": "",
      "userId": "02050793736257155229"
     },
     "user_tz": -60
    },
    "id": "zEcdLNE0496F",
    "outputId": "a390ad65-d40f-45d8-c4dd-e069f7e1a31c"
   },
   "outputs": [],
   "source": [
    "model = LinearRegression().fit(data_corr[['IC1']], data_corr[['IC2']])\n",
    "model_r2 = model.score(data_corr[['IC1']], data_corr[['IC2']])\n",
    "model_vif = 1/(1-model_r2)\n",
    "print(\"The R2 of the model is: %5.3f\" % (model_r2))\n",
    "print(\"The VIF of the model is: %5.3f\" % (model_vif))"
   ]
  },
  {
   "cell_type": "markdown",
   "metadata": {
    "id": "PwUxVhGE6TdD"
   },
   "source": [
    "#### Let's see how we can automate some feature selection based on VIF."
   ]
  },
  {
   "cell_type": "code",
   "execution_count": null,
   "metadata": {
    "executionInfo": {
     "elapsed": 850,
     "status": "ok",
     "timestamp": 1603797359710,
     "user": {
      "displayName": "Ignacio Soteras",
      "photoUrl": "",
      "userId": "02050793736257155229"
     },
     "user_tz": -60
    },
    "id": "B-szORje6Y-G"
   },
   "outputs": [],
   "source": [
    "from statsmodels.stats.outliers_influence import variance_inflation_factor\n",
    "from statsmodels.tools.tools import add_constant"
   ]
  },
  {
   "cell_type": "code",
   "execution_count": null,
   "metadata": {
    "colab": {
     "base_uri": "https://localhost:8080/",
     "height": 34
    },
    "executionInfo": {
     "elapsed": 678,
     "status": "ok",
     "timestamp": 1603797743232,
     "user": {
      "displayName": "Ignacio Soteras",
      "photoUrl": "",
      "userId": "02050793736257155229"
     },
     "user_tz": -60
    },
    "id": "-i5TgUby-8jR",
    "outputId": "dc21a3fd-d172-4abb-ab35-f8502d45188e"
   },
   "outputs": [],
   "source": [
    "data_corr.shape"
   ]
  },
  {
   "cell_type": "markdown",
   "metadata": {},
   "source": [
    "NOTE: before using these techniques you must ensure there are no Nulls or NANs in my data - as these functions cannot handle missing values "
   ]
  },
  {
   "cell_type": "code",
   "execution_count": null,
   "metadata": {},
   "outputs": [],
   "source": [
    "data_corr.isnull().sum().sort_values(ascending=False)"
   ]
  },
  {
   "cell_type": "markdown",
   "metadata": {},
   "source": [
    "As we can see there are loads of missing values in timelag. we have been through various methods to interpolate, predict, or drop these values already. \n",
    "Lets use the simple replace with mean technique for this exercise"
   ]
  },
  {
   "cell_type": "code",
   "execution_count": null,
   "metadata": {},
   "outputs": [],
   "source": [
    "data_corr.fillna(data_corr.mean(), inplace=True)\n"
   ]
  },
  {
   "cell_type": "code",
   "execution_count": null,
   "metadata": {},
   "outputs": [],
   "source": [
    "#remember to check this has worked as expected "
   ]
  },
  {
   "cell_type": "code",
   "execution_count": null,
   "metadata": {
    "executionInfo": {
     "elapsed": 1565,
     "status": "ok",
     "timestamp": 1603797745486,
     "user": {
      "displayName": "Ignacio Soteras",
      "photoUrl": "",
      "userId": "02050793736257155229"
     },
     "user_tz": -60
    },
    "id": "uhxme1Pm6eV9"
   },
   "outputs": [],
   "source": [
    "# VIF function: \n",
    "# We are using add_constant here as the VIF method in python expects the addition of a constant terms in the X features.\n",
    "# (namely the intercept term). It uses OLS but does not add the constant itself. \n",
    "\n",
    "vif = {}\n",
    "data_corr = add_constant(data_corr)\n",
    "#data_corr\n",
    "\n",
    "for i in np.arange(data_corr.shape[1]):\n",
    "    column_name = data_corr.columns[i]\n",
    "    value = variance_inflation_factor(np.array(data_corr), i)\n",
    "    vif[column_name] = value\n"
   ]
  },
  {
   "cell_type": "code",
   "execution_count": null,
   "metadata": {
    "executionInfo": {
     "elapsed": 2707,
     "status": "ok",
     "timestamp": 1603798018245,
     "user": {
      "displayName": "Ignacio Soteras",
      "photoUrl": "",
      "userId": "02050793736257155229"
     },
     "user_tz": -60
    },
    "id": "FX3GV3pK66Rh"
   },
   "outputs": [],
   "source": [
    "# Code to use the variance_inflation_factor technique to remove highly correlated columns\n",
    "\n",
    "flag = True\n",
    "threshold = 50\n",
    "data_corr = add_constant(data_corr)\n",
    "while flag is True:\n",
    "    #print(data_corr.head())\n",
    "    flag = False\n",
    "    values = [variance_inflation_factor(np.array(data_corr), i) for i in np.arange(data_corr.shape[1])]\n",
    "    #print(values)\n",
    "    if max(values)> threshold:\n",
    "        col_index = values.index(max(values))\n",
    "        column_name = data_corr.columns[col_index]\n",
    "        data_corr = data_corr.drop([column_name], axis=1)\n",
    "        flag = True"
   ]
  },
  {
   "cell_type": "markdown",
   "metadata": {},
   "source": [
    "#### Summary re effects of Multicollinearity:\n",
    "\n",
    "Your Notes here \n",
    "\n",
    "-\n",
    "\n",
    "-\n",
    "\n",
    "-\n",
    "\n"
   ]
  },
  {
   "cell_type": "markdown",
   "metadata": {
    "id": "8IGAXT7F-Oe6"
   },
   "source": [
    "# Activity\n",
    "\n",
    "Comparing the VIF method and the correlation matrix to perform feature selection.\n",
    "\n",
    "Do you think it is better to use VIF or correlation matrix threshold for feature selection? "
   ]
  },
  {
   "cell_type": "code",
   "execution_count": null,
   "metadata": {
    "id": "Bk6Z_i5K-ZtE"
   },
   "outputs": [],
   "source": [
    "# using corr\n",
    "\n",
    "flag= True\n",
    "while flag is True:\n",
    "    flag = False\n",
    "    for i in range(1, corr_matrix.shape[1]):\n",
    "        if corr_matrix.iloc[i,range(i)].max() > 0.9:\n",
    "            print(corr_matrix.columns[corr_matrix.iloc[i,range(i)].argmax()])\n",
    "            col_name = corr_matrix.columns[corr_matrix.iloc[i,range(i)].argmax()]\n",
    "            corr_matrix.drop([col_name], axis=1, inplace=True)\n",
    "            corr_matrix.drop([col_name], inplace=True)\n",
    "\n",
    "            flag = True\n",
    "            break\n",
    "\n",
    "print(corr_matrix.columns)"
   ]
  },
  {
   "cell_type": "code",
   "execution_count": null,
   "metadata": {
    "id": "EIAHIT-e_yc9"
   },
   "outputs": [],
   "source": [
    "# using VIF\n",
    "\n",
    "flag = True\n",
    "threshold = 50\n",
    "data_corr = add_constant(data_corr)\n",
    "while flag is True:\n",
    "    #print(data_corr.head())\n",
    "    flag = False\n",
    "    values = [variance_inflation_factor(np.array(data_corr), i) for i in np.arange(data_corr.shape[1])]\n",
    "    #print(values)\n",
    "    if max(values)> threshold:\n",
    "        col_index = values.index(max(values))\n",
    "        column_name = data_corr.columns[col_index]\n",
    "        data_corr = data_corr.drop([column_name], axis=1)\n",
    "        flag = True\n",
    "\n",
    "print(data_corr.columns)"
   ]
  },
  {
   "cell_type": "markdown",
   "metadata": {},
   "source": [
    "### Chi-square tests for independence of categorical variables\n",
    "\n",
    "Your notes here : \n",
    "\n",
    "- \n",
    "-\n",
    "-\n",
    " "
   ]
  },
  {
   "cell_type": "markdown",
   "metadata": {},
   "source": [
    "https://towardsdatascience.com/chi-square-test-for-feature-selection-in-machine-learning-206b1f0b8223"
   ]
  },
  {
   "cell_type": "code",
   "execution_count": null,
   "metadata": {},
   "outputs": [],
   "source": [
    "data_crosstab = pd.crosstab(data['DOMAIN'], data['RFA_2'], margins = False)\n",
    "data_crosstab"
   ]
  },
  {
   "cell_type": "markdown",
   "metadata": {},
   "source": [
    "What did the contingency table show ? \n",
    "\n",
    "your notes here \n",
    "\n",
    "- \n",
    "-\n",
    "- \n",
    "\n",
    "H0 (Null Hypothesis) - assumes that there is no association between the two variables.\n",
    "\n",
    "Ha (Alternate Hypothesis) - assumes that there is an association between the two variables. "
   ]
  },
  {
   "cell_type": "markdown",
   "metadata": {},
   "source": [
    "#### What are the three important values that we measure in order to calculate the Chi-square test statistic?\n",
    "\n",
    "Your notes here: \n",
    "    \n",
    "    - \n",
    "    - \n",
    "    - "
   ]
  },
  {
   "cell_type": "code",
   "execution_count": null,
   "metadata": {},
   "outputs": [],
   "source": [
    "from scipy.stats import chi2_contingency\n",
    "chi2_contingency(data_crosstab, correction=False)\n"
   ]
  },
  {
   "cell_type": "markdown",
   "metadata": {},
   "source": [
    "#### What did you learn using the chi squared test and are there any further columns/features we could drop at this stage ? \n",
    "\n",
    "Your notes here : \n",
    "\n",
    "-\n",
    "-\n",
    "-"
   ]
  },
  {
   "cell_type": "code",
   "execution_count": null,
   "metadata": {},
   "outputs": [],
   "source": []
  }
 ],
 "metadata": {
  "colab": {
   "authorship_tag": "ABX9TyMnA+rP1XhsFJ3b/q+dp0WD",
   "name": "Lesson 1-4 Key Concepts.ipynb",
   "provenance": [],
   "toc_visible": true
  },
  "kernelspec": {
   "display_name": "Python 3",
   "language": "python",
   "name": "python3"
  },
  "language_info": {
   "codemirror_mode": {
    "name": "ipython",
    "version": 3
   },
   "file_extension": ".py",
   "mimetype": "text/x-python",
   "name": "python",
   "nbconvert_exporter": "python",
   "pygments_lexer": "ipython3",
   "version": "3.8.3"
  }
 },
 "nbformat": 4,
 "nbformat_minor": 1
}
