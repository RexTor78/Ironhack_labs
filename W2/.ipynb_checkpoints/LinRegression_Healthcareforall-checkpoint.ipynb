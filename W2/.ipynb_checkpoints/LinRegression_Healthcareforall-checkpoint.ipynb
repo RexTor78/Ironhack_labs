{
 "cells": [
  {
   "cell_type": "markdown",
   "metadata": {},
   "source": [
    "# Applying linear regression model to Healthcare for all case study"
   ]
  },
  {
   "cell_type": "markdown",
   "metadata": {},
   "source": [
    "## Get our tookit - import modules / libraries "
   ]
  },
  {
   "cell_type": "code",
   "execution_count": 1,
   "metadata": {},
   "outputs": [],
   "source": [
    "# pandas, numpy, matplotlib, %matplotlib inline, seaborn \n",
    "import pandas as pd\n",
    "import numpy as np\n",
    "import matplotlib.pyplot as plt\n",
    "import seaborn as sns\n",
    "%matplotlib inline"
   ]
  },
  {
   "cell_type": "code",
   "execution_count": 3,
   "metadata": {},
   "outputs": [],
   "source": [
    "#import the model\n",
    "from sklearn import linear_model\n",
    "#import evaluation metrics\n",
    "from sklearn.metrics import mean_squared_error, r2_score"
   ]
  },
  {
   "cell_type": "markdown",
   "metadata": {},
   "source": [
    "This is an ordinary least squares Linear Regression.\n",
    "\n",
    "LinearRegression fits a linear model with coefficients w = (w1, …, wp) to minimize the residual sum of squares between the observed targets in the dataset, and the targets predicted by the linear approximation.\n",
    "\n",
    "Linear Regression Pros and Cons \n",
    "\n",
    "+ Pros: Easy to interpret results, computationally inexpensive\n",
    "+ Cons: Poorly models nonlinear data\n",
    "+ Works with: Numeric values, nominal values, normally distributed data "
   ]
  },
  {
   "cell_type": "markdown",
   "metadata": {},
   "source": [
    "## Get the data, review the shape and clarify headings. \n",
    "\n",
    "If any data clean steps are needed, do that now"
   ]
  },
  {
   "cell_type": "code",
   "execution_count": 4,
   "metadata": {},
   "outputs": [
    {
     "data": {
      "text/html": [
       "<div>\n",
       "<style scoped>\n",
       "    .dataframe tbody tr th:only-of-type {\n",
       "        vertical-align: middle;\n",
       "    }\n",
       "\n",
       "    .dataframe tbody tr th {\n",
       "        vertical-align: top;\n",
       "    }\n",
       "\n",
       "    .dataframe thead th {\n",
       "        text-align: right;\n",
       "    }\n",
       "</style>\n",
       "<table border=\"1\" class=\"dataframe\">\n",
       "  <thead>\n",
       "    <tr style=\"text-align: right;\">\n",
       "      <th></th>\n",
       "      <th>id</th>\n",
       "      <th>state</th>\n",
       "      <th>gender</th>\n",
       "      <th>median_household_val</th>\n",
       "      <th>ic1</th>\n",
       "      <th>ic4</th>\n",
       "      <th>hvp1</th>\n",
       "      <th>ic5</th>\n",
       "      <th>pobc1</th>\n",
       "      <th>pobc2</th>\n",
       "      <th>median_household_income</th>\n",
       "      <th>ic3</th>\n",
       "      <th>avggift</th>\n",
       "      <th>tcode</th>\n",
       "      <th>dob</th>\n",
       "      <th>domain</th>\n",
       "      <th>target_d</th>\n",
       "    </tr>\n",
       "  </thead>\n",
       "  <tbody>\n",
       "    <tr>\n",
       "      <th>0</th>\n",
       "      <td>44060</td>\n",
       "      <td>FL</td>\n",
       "      <td>Male</td>\n",
       "      <td>1158.437751</td>\n",
       "      <td>392</td>\n",
       "      <td>520.0</td>\n",
       "      <td>7</td>\n",
       "      <td>21975.0</td>\n",
       "      <td>6</td>\n",
       "      <td>16</td>\n",
       "      <td>430.0</td>\n",
       "      <td>466</td>\n",
       "      <td>28.000000</td>\n",
       "      <td>1</td>\n",
       "      <td>1901</td>\n",
       "      <td>C2</td>\n",
       "      <td>100.0</td>\n",
       "    </tr>\n",
       "    <tr>\n",
       "      <th>1</th>\n",
       "      <td>96093</td>\n",
       "      <td>IL</td>\n",
       "      <td>Male</td>\n",
       "      <td>537.000000</td>\n",
       "      <td>365</td>\n",
       "      <td>473.0</td>\n",
       "      <td>0</td>\n",
       "      <td>19387.0</td>\n",
       "      <td>1</td>\n",
       "      <td>89</td>\n",
       "      <td>415.0</td>\n",
       "      <td>410</td>\n",
       "      <td>5.666667</td>\n",
       "      <td>0</td>\n",
       "      <td>0</td>\n",
       "      <td>T2</td>\n",
       "      <td>7.0</td>\n",
       "    </tr>\n",
       "    <tr>\n",
       "      <th>2</th>\n",
       "      <td>43333</td>\n",
       "      <td>FL</td>\n",
       "      <td>Female</td>\n",
       "      <td>725.000000</td>\n",
       "      <td>301</td>\n",
       "      <td>436.0</td>\n",
       "      <td>3</td>\n",
       "      <td>18837.0</td>\n",
       "      <td>11</td>\n",
       "      <td>17</td>\n",
       "      <td>340.0</td>\n",
       "      <td>361</td>\n",
       "      <td>4.111111</td>\n",
       "      <td>0</td>\n",
       "      <td>2501</td>\n",
       "      <td>C2</td>\n",
       "      <td>5.0</td>\n",
       "    </tr>\n",
       "    <tr>\n",
       "      <th>3</th>\n",
       "      <td>21885</td>\n",
       "      <td>NC</td>\n",
       "      <td>Male</td>\n",
       "      <td>1158.437751</td>\n",
       "      <td>401</td>\n",
       "      <td>413.0</td>\n",
       "      <td>7</td>\n",
       "      <td>14014.0</td>\n",
       "      <td>1</td>\n",
       "      <td>74</td>\n",
       "      <td>407.0</td>\n",
       "      <td>399</td>\n",
       "      <td>27.277778</td>\n",
       "      <td>0</td>\n",
       "      <td>2208</td>\n",
       "      <td>T2</td>\n",
       "      <td>38.0</td>\n",
       "    </tr>\n",
       "    <tr>\n",
       "      <th>4</th>\n",
       "      <td>190108</td>\n",
       "      <td>FL</td>\n",
       "      <td>Female</td>\n",
       "      <td>995.000000</td>\n",
       "      <td>252</td>\n",
       "      <td>348.0</td>\n",
       "      <td>0</td>\n",
       "      <td>17991.0</td>\n",
       "      <td>5</td>\n",
       "      <td>6</td>\n",
       "      <td>280.0</td>\n",
       "      <td>316</td>\n",
       "      <td>6.000000</td>\n",
       "      <td>28</td>\n",
       "      <td>0</td>\n",
       "      <td>C2</td>\n",
       "      <td>5.0</td>\n",
       "    </tr>\n",
       "  </tbody>\n",
       "</table>\n",
       "</div>"
      ],
      "text/plain": [
       "       id state  gender  median_household_val  ic1    ic4  hvp1      ic5  \\\n",
       "0   44060    FL    Male           1158.437751  392  520.0     7  21975.0   \n",
       "1   96093    IL    Male            537.000000  365  473.0     0  19387.0   \n",
       "2   43333    FL  Female            725.000000  301  436.0     3  18837.0   \n",
       "3   21885    NC    Male           1158.437751  401  413.0     7  14014.0   \n",
       "4  190108    FL  Female            995.000000  252  348.0     0  17991.0   \n",
       "\n",
       "   pobc1  pobc2  median_household_income  ic3    avggift  tcode   dob domain  \\\n",
       "0      6     16                    430.0  466  28.000000      1  1901     C2   \n",
       "1      1     89                    415.0  410   5.666667      0     0     T2   \n",
       "2     11     17                    340.0  361   4.111111      0  2501     C2   \n",
       "3      1     74                    407.0  399  27.277778      0  2208     T2   \n",
       "4      5      6                    280.0  316   6.000000     28     0     C2   \n",
       "\n",
       "   target_d  \n",
       "0     100.0  \n",
       "1       7.0  \n",
       "2       5.0  \n",
       "3      38.0  \n",
       "4       5.0  "
      ]
     },
     "execution_count": 4,
     "metadata": {},
     "output_type": "execute_result"
    }
   ],
   "source": [
    "data=pd.read_csv('C:\\\\Users\\hecto\\PreWorks\\W2/end_thurs_cleaned.csv')    # import csv file\n",
    "data.head()   "
   ]
  },
  {
   "cell_type": "code",
   "execution_count": null,
   "metadata": {},
   "outputs": [],
   "source": []
  },
  {
   "cell_type": "code",
   "execution_count": null,
   "metadata": {},
   "outputs": [],
   "source": []
  },
  {
   "cell_type": "code",
   "execution_count": null,
   "metadata": {},
   "outputs": [],
   "source": []
  },
  {
   "cell_type": "markdown",
   "metadata": {},
   "source": [
    "### Isolate the numeric data \n",
    "\n",
    "We can only work with numeric data without pre-processing (see later section), so first we must separate our data into numeric and non numeric. "
   ]
  },
  {
   "cell_type": "code",
   "execution_count": 6,
   "metadata": {},
   "outputs": [],
   "source": [
    "data_num=data.select_dtypes(include=np.number)\n"
   ]
  },
  {
   "cell_type": "code",
   "execution_count": 24,
   "metadata": {},
   "outputs": [
    {
     "data": {
      "text/html": [
       "<div>\n",
       "<style scoped>\n",
       "    .dataframe tbody tr th:only-of-type {\n",
       "        vertical-align: middle;\n",
       "    }\n",
       "\n",
       "    .dataframe tbody tr th {\n",
       "        vertical-align: top;\n",
       "    }\n",
       "\n",
       "    .dataframe thead th {\n",
       "        text-align: right;\n",
       "    }\n",
       "</style>\n",
       "<table border=\"1\" class=\"dataframe\">\n",
       "  <thead>\n",
       "    <tr style=\"text-align: right;\">\n",
       "      <th></th>\n",
       "      <th>id</th>\n",
       "      <th>state</th>\n",
       "      <th>gender</th>\n",
       "      <th>median_household_val</th>\n",
       "      <th>ic1</th>\n",
       "      <th>ic4</th>\n",
       "      <th>hvp1</th>\n",
       "      <th>ic5</th>\n",
       "      <th>pobc1</th>\n",
       "      <th>pobc2</th>\n",
       "      <th>median_household_income</th>\n",
       "      <th>ic3</th>\n",
       "      <th>avggift</th>\n",
       "      <th>tcode</th>\n",
       "      <th>dob</th>\n",
       "      <th>domain</th>\n",
       "      <th>target_d</th>\n",
       "    </tr>\n",
       "  </thead>\n",
       "  <tbody>\n",
       "    <tr>\n",
       "      <th>0</th>\n",
       "      <td>44060</td>\n",
       "      <td>FL</td>\n",
       "      <td>Male</td>\n",
       "      <td>1158.437751</td>\n",
       "      <td>392</td>\n",
       "      <td>520.0</td>\n",
       "      <td>7</td>\n",
       "      <td>21975.0</td>\n",
       "      <td>6</td>\n",
       "      <td>16</td>\n",
       "      <td>430.0</td>\n",
       "      <td>466</td>\n",
       "      <td>28.000000</td>\n",
       "      <td>1</td>\n",
       "      <td>1901</td>\n",
       "      <td>C2</td>\n",
       "      <td>100.0</td>\n",
       "    </tr>\n",
       "    <tr>\n",
       "      <th>1</th>\n",
       "      <td>96093</td>\n",
       "      <td>IL</td>\n",
       "      <td>Male</td>\n",
       "      <td>537.000000</td>\n",
       "      <td>365</td>\n",
       "      <td>473.0</td>\n",
       "      <td>0</td>\n",
       "      <td>19387.0</td>\n",
       "      <td>1</td>\n",
       "      <td>89</td>\n",
       "      <td>415.0</td>\n",
       "      <td>410</td>\n",
       "      <td>5.666667</td>\n",
       "      <td>0</td>\n",
       "      <td>0</td>\n",
       "      <td>T2</td>\n",
       "      <td>7.0</td>\n",
       "    </tr>\n",
       "    <tr>\n",
       "      <th>2</th>\n",
       "      <td>43333</td>\n",
       "      <td>FL</td>\n",
       "      <td>Female</td>\n",
       "      <td>725.000000</td>\n",
       "      <td>301</td>\n",
       "      <td>436.0</td>\n",
       "      <td>3</td>\n",
       "      <td>18837.0</td>\n",
       "      <td>11</td>\n",
       "      <td>17</td>\n",
       "      <td>340.0</td>\n",
       "      <td>361</td>\n",
       "      <td>4.111111</td>\n",
       "      <td>0</td>\n",
       "      <td>2501</td>\n",
       "      <td>C2</td>\n",
       "      <td>5.0</td>\n",
       "    </tr>\n",
       "    <tr>\n",
       "      <th>3</th>\n",
       "      <td>21885</td>\n",
       "      <td>NC</td>\n",
       "      <td>Male</td>\n",
       "      <td>1158.437751</td>\n",
       "      <td>401</td>\n",
       "      <td>413.0</td>\n",
       "      <td>7</td>\n",
       "      <td>14014.0</td>\n",
       "      <td>1</td>\n",
       "      <td>74</td>\n",
       "      <td>407.0</td>\n",
       "      <td>399</td>\n",
       "      <td>27.277778</td>\n",
       "      <td>0</td>\n",
       "      <td>2208</td>\n",
       "      <td>T2</td>\n",
       "      <td>38.0</td>\n",
       "    </tr>\n",
       "    <tr>\n",
       "      <th>4</th>\n",
       "      <td>190108</td>\n",
       "      <td>FL</td>\n",
       "      <td>Female</td>\n",
       "      <td>995.000000</td>\n",
       "      <td>252</td>\n",
       "      <td>348.0</td>\n",
       "      <td>0</td>\n",
       "      <td>17991.0</td>\n",
       "      <td>5</td>\n",
       "      <td>6</td>\n",
       "      <td>280.0</td>\n",
       "      <td>316</td>\n",
       "      <td>6.000000</td>\n",
       "      <td>28</td>\n",
       "      <td>0</td>\n",
       "      <td>C2</td>\n",
       "      <td>5.0</td>\n",
       "    </tr>\n",
       "    <tr>\n",
       "      <th>5</th>\n",
       "      <td>100640</td>\n",
       "      <td>IL</td>\n",
       "      <td>Male</td>\n",
       "      <td>764.000000</td>\n",
       "      <td>457</td>\n",
       "      <td>501.0</td>\n",
       "      <td>1</td>\n",
       "      <td>16022.0</td>\n",
       "      <td>2</td>\n",
       "      <td>75</td>\n",
       "      <td>477.0</td>\n",
       "      <td>480</td>\n",
       "      <td>25.571429</td>\n",
       "      <td>1</td>\n",
       "      <td>6104</td>\n",
       "      <td>S2</td>\n",
       "      <td>30.0</td>\n",
       "    </tr>\n",
       "    <tr>\n",
       "      <th>6</th>\n",
       "      <td>18581</td>\n",
       "      <td>NC</td>\n",
       "      <td>Female</td>\n",
       "      <td>775.000000</td>\n",
       "      <td>318</td>\n",
       "      <td>419.0</td>\n",
       "      <td>5</td>\n",
       "      <td>13491.0</td>\n",
       "      <td>0</td>\n",
       "      <td>73</td>\n",
       "      <td>364.0</td>\n",
       "      <td>380</td>\n",
       "      <td>4.625000</td>\n",
       "      <td>0</td>\n",
       "      <td>4407</td>\n",
       "      <td>R2</td>\n",
       "      <td>12.0</td>\n",
       "    </tr>\n",
       "    <tr>\n",
       "      <th>7</th>\n",
       "      <td>119038</td>\n",
       "      <td>TX</td>\n",
       "      <td>Male</td>\n",
       "      <td>890.000000</td>\n",
       "      <td>519</td>\n",
       "      <td>560.0</td>\n",
       "      <td>0</td>\n",
       "      <td>17872.0</td>\n",
       "      <td>2</td>\n",
       "      <td>46</td>\n",
       "      <td>525.0</td>\n",
       "      <td>551</td>\n",
       "      <td>6.175000</td>\n",
       "      <td>1002</td>\n",
       "      <td>0</td>\n",
       "      <td>C1</td>\n",
       "      <td>7.0</td>\n",
       "    </tr>\n",
       "    <tr>\n",
       "      <th>8</th>\n",
       "      <td>173223</td>\n",
       "      <td>CA</td>\n",
       "      <td>Female</td>\n",
       "      <td>1158.437751</td>\n",
       "      <td>184</td>\n",
       "      <td>250.0</td>\n",
       "      <td>0</td>\n",
       "      <td>8708.0</td>\n",
       "      <td>2</td>\n",
       "      <td>63</td>\n",
       "      <td>206.0</td>\n",
       "      <td>235</td>\n",
       "      <td>8.818182</td>\n",
       "      <td>0</td>\n",
       "      <td>1801</td>\n",
       "      <td>T2</td>\n",
       "      <td>10.0</td>\n",
       "    </tr>\n",
       "    <tr>\n",
       "      <th>9</th>\n",
       "      <td>141720</td>\n",
       "      <td>NV</td>\n",
       "      <td>Female</td>\n",
       "      <td>1569.000000</td>\n",
       "      <td>673</td>\n",
       "      <td>781.0</td>\n",
       "      <td>22</td>\n",
       "      <td>25775.0</td>\n",
       "      <td>3</td>\n",
       "      <td>44</td>\n",
       "      <td>672.0</td>\n",
       "      <td>785</td>\n",
       "      <td>13.000000</td>\n",
       "      <td>28</td>\n",
       "      <td>5401</td>\n",
       "      <td>T1</td>\n",
       "      <td>5.0</td>\n",
       "    </tr>\n",
       "    <tr>\n",
       "      <th>10</th>\n",
       "      <td>186272</td>\n",
       "      <td>CA</td>\n",
       "      <td>Female</td>\n",
       "      <td>3515.000000</td>\n",
       "      <td>521</td>\n",
       "      <td>588.0</td>\n",
       "      <td>97</td>\n",
       "      <td>20068.0</td>\n",
       "      <td>11</td>\n",
       "      <td>54</td>\n",
       "      <td>565.0</td>\n",
       "      <td>549</td>\n",
       "      <td>8.640000</td>\n",
       "      <td>2</td>\n",
       "      <td>3401</td>\n",
       "      <td>U1</td>\n",
       "      <td>10.0</td>\n",
       "    </tr>\n",
       "    <tr>\n",
       "      <th>11</th>\n",
       "      <td>154301</td>\n",
       "      <td>Cali</td>\n",
       "      <td>Female</td>\n",
       "      <td>1026.000000</td>\n",
       "      <td>459</td>\n",
       "      <td>496.0</td>\n",
       "      <td>1</td>\n",
       "      <td>13803.0</td>\n",
       "      <td>12</td>\n",
       "      <td>52</td>\n",
       "      <td>470.0</td>\n",
       "      <td>491</td>\n",
       "      <td>11.250000</td>\n",
       "      <td>2</td>\n",
       "      <td>2801</td>\n",
       "      <td>T2</td>\n",
       "      <td>10.0</td>\n",
       "    </tr>\n",
       "    <tr>\n",
       "      <th>12</th>\n",
       "      <td>189722</td>\n",
       "      <td>AP</td>\n",
       "      <td>Male</td>\n",
       "      <td>0.000000</td>\n",
       "      <td>0</td>\n",
       "      <td>0.0</td>\n",
       "      <td>0</td>\n",
       "      <td>0.0</td>\n",
       "      <td>0</td>\n",
       "      <td>0</td>\n",
       "      <td>0.0</td>\n",
       "      <td>0</td>\n",
       "      <td>5.727273</td>\n",
       "      <td>1</td>\n",
       "      <td>0</td>\n",
       "      <td>0</td>\n",
       "      <td>6.0</td>\n",
       "    </tr>\n",
       "    <tr>\n",
       "      <th>13</th>\n",
       "      <td>73699</td>\n",
       "      <td>MI</td>\n",
       "      <td>Female</td>\n",
       "      <td>890.000000</td>\n",
       "      <td>463</td>\n",
       "      <td>523.0</td>\n",
       "      <td>1</td>\n",
       "      <td>9493.0</td>\n",
       "      <td>5</td>\n",
       "      <td>53</td>\n",
       "      <td>474.0</td>\n",
       "      <td>512</td>\n",
       "      <td>11.285714</td>\n",
       "      <td>1</td>\n",
       "      <td>5102</td>\n",
       "      <td>S1</td>\n",
       "      <td>15.0</td>\n",
       "    </tr>\n",
       "    <tr>\n",
       "      <th>14</th>\n",
       "      <td>31977</td>\n",
       "      <td>FL</td>\n",
       "      <td>Female</td>\n",
       "      <td>1513.000000</td>\n",
       "      <td>521</td>\n",
       "      <td>702.0</td>\n",
       "      <td>31</td>\n",
       "      <td>28124.0</td>\n",
       "      <td>3</td>\n",
       "      <td>24</td>\n",
       "      <td>599.0</td>\n",
       "      <td>615</td>\n",
       "      <td>18.500000</td>\n",
       "      <td>2</td>\n",
       "      <td>2701</td>\n",
       "      <td>T1</td>\n",
       "      <td>28.0</td>\n",
       "    </tr>\n",
       "    <tr>\n",
       "      <th>15</th>\n",
       "      <td>44336</td>\n",
       "      <td>FL</td>\n",
       "      <td>Female</td>\n",
       "      <td>948.000000</td>\n",
       "      <td>330</td>\n",
       "      <td>411.0</td>\n",
       "      <td>4</td>\n",
       "      <td>17728.0</td>\n",
       "      <td>6</td>\n",
       "      <td>8</td>\n",
       "      <td>365.0</td>\n",
       "      <td>368</td>\n",
       "      <td>15.000000</td>\n",
       "      <td>0</td>\n",
       "      <td>6501</td>\n",
       "      <td>C2</td>\n",
       "      <td>15.0</td>\n",
       "    </tr>\n",
       "    <tr>\n",
       "      <th>16</th>\n",
       "      <td>127823</td>\n",
       "      <td>TX</td>\n",
       "      <td>Female</td>\n",
       "      <td>258.000000</td>\n",
       "      <td>64</td>\n",
       "      <td>74.0</td>\n",
       "      <td>0</td>\n",
       "      <td>4236.0</td>\n",
       "      <td>0</td>\n",
       "      <td>94</td>\n",
       "      <td>60.0</td>\n",
       "      <td>93</td>\n",
       "      <td>5.450000</td>\n",
       "      <td>2</td>\n",
       "      <td>2301</td>\n",
       "      <td>C3</td>\n",
       "      <td>6.0</td>\n",
       "    </tr>\n",
       "    <tr>\n",
       "      <th>17</th>\n",
       "      <td>150739</td>\n",
       "      <td>CA</td>\n",
       "      <td>Unknown</td>\n",
       "      <td>1951.000000</td>\n",
       "      <td>556</td>\n",
       "      <td>625.0</td>\n",
       "      <td>44</td>\n",
       "      <td>17208.0</td>\n",
       "      <td>10</td>\n",
       "      <td>66</td>\n",
       "      <td>578.0</td>\n",
       "      <td>619</td>\n",
       "      <td>9.681818</td>\n",
       "      <td>2</td>\n",
       "      <td>5410</td>\n",
       "      <td>S1</td>\n",
       "      <td>12.0</td>\n",
       "    </tr>\n",
       "    <tr>\n",
       "      <th>18</th>\n",
       "      <td>114721</td>\n",
       "      <td>OK</td>\n",
       "      <td>Female</td>\n",
       "      <td>1040.000000</td>\n",
       "      <td>472</td>\n",
       "      <td>656.0</td>\n",
       "      <td>0</td>\n",
       "      <td>26962.0</td>\n",
       "      <td>2</td>\n",
       "      <td>56</td>\n",
       "      <td>609.0</td>\n",
       "      <td>579</td>\n",
       "      <td>11.666667</td>\n",
       "      <td>0</td>\n",
       "      <td>0</td>\n",
       "      <td>C2</td>\n",
       "      <td>15.0</td>\n",
       "    </tr>\n",
       "    <tr>\n",
       "      <th>19</th>\n",
       "      <td>111795</td>\n",
       "      <td>AR</td>\n",
       "      <td>Female</td>\n",
       "      <td>603.000000</td>\n",
       "      <td>208</td>\n",
       "      <td>341.0</td>\n",
       "      <td>2</td>\n",
       "      <td>12038.0</td>\n",
       "      <td>1</td>\n",
       "      <td>70</td>\n",
       "      <td>264.0</td>\n",
       "      <td>288</td>\n",
       "      <td>5.000000</td>\n",
       "      <td>0</td>\n",
       "      <td>0</td>\n",
       "      <td>0</td>\n",
       "      <td>5.0</td>\n",
       "    </tr>\n",
       "    <tr>\n",
       "      <th>20</th>\n",
       "      <td>64480</td>\n",
       "      <td>IN</td>\n",
       "      <td>Female</td>\n",
       "      <td>526.000000</td>\n",
       "      <td>277</td>\n",
       "      <td>370.0</td>\n",
       "      <td>1</td>\n",
       "      <td>12826.0</td>\n",
       "      <td>1</td>\n",
       "      <td>80</td>\n",
       "      <td>336.0</td>\n",
       "      <td>317</td>\n",
       "      <td>7.142857</td>\n",
       "      <td>28</td>\n",
       "      <td>0</td>\n",
       "      <td>T2</td>\n",
       "      <td>10.0</td>\n",
       "    </tr>\n",
       "    <tr>\n",
       "      <th>21</th>\n",
       "      <td>87259</td>\n",
       "      <td>MT</td>\n",
       "      <td>Male</td>\n",
       "      <td>717.000000</td>\n",
       "      <td>302</td>\n",
       "      <td>432.0</td>\n",
       "      <td>1</td>\n",
       "      <td>15614.0</td>\n",
       "      <td>1</td>\n",
       "      <td>53</td>\n",
       "      <td>458.0</td>\n",
       "      <td>349</td>\n",
       "      <td>9.700000</td>\n",
       "      <td>2</td>\n",
       "      <td>4304</td>\n",
       "      <td>C1</td>\n",
       "      <td>25.0</td>\n",
       "    </tr>\n",
       "    <tr>\n",
       "      <th>22</th>\n",
       "      <td>115823</td>\n",
       "      <td>TX</td>\n",
       "      <td>Male</td>\n",
       "      <td>1011.000000</td>\n",
       "      <td>593</td>\n",
       "      <td>650.0</td>\n",
       "      <td>1</td>\n",
       "      <td>17606.0</td>\n",
       "      <td>5</td>\n",
       "      <td>61</td>\n",
       "      <td>588.0</td>\n",
       "      <td>650</td>\n",
       "      <td>6.500000</td>\n",
       "      <td>0</td>\n",
       "      <td>0</td>\n",
       "      <td>S1</td>\n",
       "      <td>15.0</td>\n",
       "    </tr>\n",
       "    <tr>\n",
       "      <th>23</th>\n",
       "      <td>95701</td>\n",
       "      <td>IL</td>\n",
       "      <td>Male</td>\n",
       "      <td>1063.000000</td>\n",
       "      <td>255</td>\n",
       "      <td>317.0</td>\n",
       "      <td>3</td>\n",
       "      <td>14023.0</td>\n",
       "      <td>16</td>\n",
       "      <td>53</td>\n",
       "      <td>260.0</td>\n",
       "      <td>312</td>\n",
       "      <td>8.372791</td>\n",
       "      <td>1</td>\n",
       "      <td>4406</td>\n",
       "      <td>S2</td>\n",
       "      <td>5.0</td>\n",
       "    </tr>\n",
       "    <tr>\n",
       "      <th>24</th>\n",
       "      <td>5172</td>\n",
       "      <td>IL</td>\n",
       "      <td>Male</td>\n",
       "      <td>291.000000</td>\n",
       "      <td>136</td>\n",
       "      <td>212.0</td>\n",
       "      <td>0</td>\n",
       "      <td>8370.0</td>\n",
       "      <td>5</td>\n",
       "      <td>67</td>\n",
       "      <td>168.0</td>\n",
       "      <td>180</td>\n",
       "      <td>10.611111</td>\n",
       "      <td>1</td>\n",
       "      <td>6105</td>\n",
       "      <td>R3</td>\n",
       "      <td>10.0</td>\n",
       "    </tr>\n",
       "    <tr>\n",
       "      <th>25</th>\n",
       "      <td>152486</td>\n",
       "      <td>CA</td>\n",
       "      <td>Male</td>\n",
       "      <td>1538.000000</td>\n",
       "      <td>271</td>\n",
       "      <td>393.0</td>\n",
       "      <td>11</td>\n",
       "      <td>15627.0</td>\n",
       "      <td>5</td>\n",
       "      <td>49</td>\n",
       "      <td>317.0</td>\n",
       "      <td>342</td>\n",
       "      <td>5.500000</td>\n",
       "      <td>1</td>\n",
       "      <td>2401</td>\n",
       "      <td>S2</td>\n",
       "      <td>5.0</td>\n",
       "    </tr>\n",
       "    <tr>\n",
       "      <th>26</th>\n",
       "      <td>153880</td>\n",
       "      <td>WI</td>\n",
       "      <td>Female</td>\n",
       "      <td>592.000000</td>\n",
       "      <td>244</td>\n",
       "      <td>392.0</td>\n",
       "      <td>1</td>\n",
       "      <td>12220.0</td>\n",
       "      <td>3</td>\n",
       "      <td>74</td>\n",
       "      <td>341.0</td>\n",
       "      <td>306</td>\n",
       "      <td>12.500000</td>\n",
       "      <td>2</td>\n",
       "      <td>5001</td>\n",
       "      <td>S1</td>\n",
       "      <td>5.0</td>\n",
       "    </tr>\n",
       "    <tr>\n",
       "      <th>27</th>\n",
       "      <td>101855</td>\n",
       "      <td>MO</td>\n",
       "      <td>Male</td>\n",
       "      <td>871.000000</td>\n",
       "      <td>340</td>\n",
       "      <td>416.0</td>\n",
       "      <td>6</td>\n",
       "      <td>15336.0</td>\n",
       "      <td>0</td>\n",
       "      <td>71</td>\n",
       "      <td>385.0</td>\n",
       "      <td>365</td>\n",
       "      <td>7.857143</td>\n",
       "      <td>1</td>\n",
       "      <td>2401</td>\n",
       "      <td>C2</td>\n",
       "      <td>10.0</td>\n",
       "    </tr>\n",
       "    <tr>\n",
       "      <th>28</th>\n",
       "      <td>62932</td>\n",
       "      <td>IN</td>\n",
       "      <td>Male</td>\n",
       "      <td>403.000000</td>\n",
       "      <td>174</td>\n",
       "      <td>264.0</td>\n",
       "      <td>1</td>\n",
       "      <td>9704.0</td>\n",
       "      <td>0</td>\n",
       "      <td>45</td>\n",
       "      <td>240.0</td>\n",
       "      <td>201</td>\n",
       "      <td>8.000000</td>\n",
       "      <td>1</td>\n",
       "      <td>0</td>\n",
       "      <td>S3</td>\n",
       "      <td>10.0</td>\n",
       "    </tr>\n",
       "    <tr>\n",
       "      <th>29</th>\n",
       "      <td>125930</td>\n",
       "      <td>TX</td>\n",
       "      <td>Female</td>\n",
       "      <td>715.000000</td>\n",
       "      <td>339</td>\n",
       "      <td>396.0</td>\n",
       "      <td>1</td>\n",
       "      <td>12617.0</td>\n",
       "      <td>3</td>\n",
       "      <td>88</td>\n",
       "      <td>378.0</td>\n",
       "      <td>371</td>\n",
       "      <td>6.000000</td>\n",
       "      <td>0</td>\n",
       "      <td>4806</td>\n",
       "      <td>R2</td>\n",
       "      <td>7.5</td>\n",
       "    </tr>\n",
       "  </tbody>\n",
       "</table>\n",
       "</div>"
      ],
      "text/plain": [
       "        id state   gender  median_household_val  ic1    ic4  hvp1      ic5  \\\n",
       "0    44060    FL     Male           1158.437751  392  520.0     7  21975.0   \n",
       "1    96093    IL     Male            537.000000  365  473.0     0  19387.0   \n",
       "2    43333    FL   Female            725.000000  301  436.0     3  18837.0   \n",
       "3    21885    NC     Male           1158.437751  401  413.0     7  14014.0   \n",
       "4   190108    FL   Female            995.000000  252  348.0     0  17991.0   \n",
       "5   100640    IL     Male            764.000000  457  501.0     1  16022.0   \n",
       "6    18581    NC   Female            775.000000  318  419.0     5  13491.0   \n",
       "7   119038    TX     Male            890.000000  519  560.0     0  17872.0   \n",
       "8   173223    CA   Female           1158.437751  184  250.0     0   8708.0   \n",
       "9   141720    NV   Female           1569.000000  673  781.0    22  25775.0   \n",
       "10  186272    CA   Female           3515.000000  521  588.0    97  20068.0   \n",
       "11  154301  Cali   Female           1026.000000  459  496.0     1  13803.0   \n",
       "12  189722    AP     Male              0.000000    0    0.0     0      0.0   \n",
       "13   73699    MI   Female            890.000000  463  523.0     1   9493.0   \n",
       "14   31977    FL   Female           1513.000000  521  702.0    31  28124.0   \n",
       "15   44336    FL   Female            948.000000  330  411.0     4  17728.0   \n",
       "16  127823    TX   Female            258.000000   64   74.0     0   4236.0   \n",
       "17  150739    CA  Unknown           1951.000000  556  625.0    44  17208.0   \n",
       "18  114721    OK   Female           1040.000000  472  656.0     0  26962.0   \n",
       "19  111795    AR   Female            603.000000  208  341.0     2  12038.0   \n",
       "20   64480    IN   Female            526.000000  277  370.0     1  12826.0   \n",
       "21   87259    MT     Male            717.000000  302  432.0     1  15614.0   \n",
       "22  115823    TX     Male           1011.000000  593  650.0     1  17606.0   \n",
       "23   95701    IL     Male           1063.000000  255  317.0     3  14023.0   \n",
       "24    5172    IL     Male            291.000000  136  212.0     0   8370.0   \n",
       "25  152486    CA     Male           1538.000000  271  393.0    11  15627.0   \n",
       "26  153880    WI   Female            592.000000  244  392.0     1  12220.0   \n",
       "27  101855    MO     Male            871.000000  340  416.0     6  15336.0   \n",
       "28   62932    IN     Male            403.000000  174  264.0     1   9704.0   \n",
       "29  125930    TX   Female            715.000000  339  396.0     1  12617.0   \n",
       "\n",
       "    pobc1  pobc2  median_household_income  ic3    avggift  tcode   dob domain  \\\n",
       "0       6     16                    430.0  466  28.000000      1  1901     C2   \n",
       "1       1     89                    415.0  410   5.666667      0     0     T2   \n",
       "2      11     17                    340.0  361   4.111111      0  2501     C2   \n",
       "3       1     74                    407.0  399  27.277778      0  2208     T2   \n",
       "4       5      6                    280.0  316   6.000000     28     0     C2   \n",
       "5       2     75                    477.0  480  25.571429      1  6104     S2   \n",
       "6       0     73                    364.0  380   4.625000      0  4407     R2   \n",
       "7       2     46                    525.0  551   6.175000   1002     0     C1   \n",
       "8       2     63                    206.0  235   8.818182      0  1801     T2   \n",
       "9       3     44                    672.0  785  13.000000     28  5401     T1   \n",
       "10     11     54                    565.0  549   8.640000      2  3401     U1   \n",
       "11     12     52                    470.0  491  11.250000      2  2801     T2   \n",
       "12      0      0                      0.0    0   5.727273      1     0      0   \n",
       "13      5     53                    474.0  512  11.285714      1  5102     S1   \n",
       "14      3     24                    599.0  615  18.500000      2  2701     T1   \n",
       "15      6      8                    365.0  368  15.000000      0  6501     C2   \n",
       "16      0     94                     60.0   93   5.450000      2  2301     C3   \n",
       "17     10     66                    578.0  619   9.681818      2  5410     S1   \n",
       "18      2     56                    609.0  579  11.666667      0     0     C2   \n",
       "19      1     70                    264.0  288   5.000000      0     0      0   \n",
       "20      1     80                    336.0  317   7.142857     28     0     T2   \n",
       "21      1     53                    458.0  349   9.700000      2  4304     C1   \n",
       "22      5     61                    588.0  650   6.500000      0     0     S1   \n",
       "23     16     53                    260.0  312   8.372791      1  4406     S2   \n",
       "24      5     67                    168.0  180  10.611111      1  6105     R3   \n",
       "25      5     49                    317.0  342   5.500000      1  2401     S2   \n",
       "26      3     74                    341.0  306  12.500000      2  5001     S1   \n",
       "27      0     71                    385.0  365   7.857143      1  2401     C2   \n",
       "28      0     45                    240.0  201   8.000000      1     0     S3   \n",
       "29      3     88                    378.0  371   6.000000      0  4806     R2   \n",
       "\n",
       "    target_d  \n",
       "0      100.0  \n",
       "1        7.0  \n",
       "2        5.0  \n",
       "3       38.0  \n",
       "4        5.0  \n",
       "5       30.0  \n",
       "6       12.0  \n",
       "7        7.0  \n",
       "8       10.0  \n",
       "9        5.0  \n",
       "10      10.0  \n",
       "11      10.0  \n",
       "12       6.0  \n",
       "13      15.0  \n",
       "14      28.0  \n",
       "15      15.0  \n",
       "16       6.0  \n",
       "17      12.0  \n",
       "18      15.0  \n",
       "19       5.0  \n",
       "20      10.0  \n",
       "21      25.0  \n",
       "22      15.0  \n",
       "23       5.0  \n",
       "24      10.0  \n",
       "25       5.0  \n",
       "26       5.0  \n",
       "27      10.0  \n",
       "28      10.0  \n",
       "29       7.5  "
      ]
     },
     "execution_count": 24,
     "metadata": {},
     "output_type": "execute_result"
    }
   ],
   "source": [
    "data.head(30)"
   ]
  },
  {
   "cell_type": "code",
   "execution_count": null,
   "metadata": {},
   "outputs": [],
   "source": []
  },
  {
   "cell_type": "markdown",
   "metadata": {},
   "source": [
    "## clarify the objective including determining the label (column) we wish to predict\n",
    "\n",
    "once the label has been identified, set that as y and remove that field from the other data (X)"
   ]
  },
  {
   "cell_type": "markdown",
   "metadata": {},
   "source": [
    "Our objective:\n",
    "\n",
    "Given a predictor variable X and a response variable y, we fit a straight line to this data that minimizes the distance—most commonly the average squared distance—between the sample points and the fitted line. We can now use the intercept and slope learned from this data to predict the outcome variable of new data.\n"
   ]
  },
  {
   "cell_type": "code",
   "execution_count": 13,
   "metadata": {},
   "outputs": [],
   "source": [
    "y=data_num['target_d']"
   ]
  },
  {
   "cell_type": "code",
   "execution_count": 14,
   "metadata": {},
   "outputs": [],
   "source": [
    "X=data_num.drop(['target_d'], axis=1)"
   ]
  },
  {
   "cell_type": "code",
   "execution_count": 15,
   "metadata": {},
   "outputs": [
    {
     "name": "stdout",
     "output_type": "stream",
     "text": [
      "<class 'pandas.core.frame.DataFrame'>\n",
      "RangeIndex: 3993 entries, 0 to 3992\n",
      "Data columns (total 13 columns):\n",
      " #   Column                   Non-Null Count  Dtype  \n",
      "---  ------                   --------------  -----  \n",
      " 0   id                       3993 non-null   int64  \n",
      " 1   median_household_val     3993 non-null   float64\n",
      " 2   ic1                      3993 non-null   int64  \n",
      " 3   ic4                      3993 non-null   float64\n",
      " 4   hvp1                     3993 non-null   int64  \n",
      " 5   ic5                      3993 non-null   float64\n",
      " 6   pobc1                    3993 non-null   int64  \n",
      " 7   pobc2                    3993 non-null   int64  \n",
      " 8   median_household_income  3993 non-null   float64\n",
      " 9   ic3                      3993 non-null   int64  \n",
      " 10  avggift                  3993 non-null   float64\n",
      " 11  tcode                    3993 non-null   int64  \n",
      " 12  dob                      3993 non-null   int64  \n",
      "dtypes: float64(5), int64(8)\n",
      "memory usage: 405.7 KB\n"
     ]
    }
   ],
   "source": [
    "X.info()"
   ]
  },
  {
   "cell_type": "code",
   "execution_count": 16,
   "metadata": {},
   "outputs": [],
   "source": [
    "lm=linear_model.LinearRegression()"
   ]
  },
  {
   "cell_type": "markdown",
   "metadata": {},
   "source": [
    "### If we were to simply apply the linear regression now : "
   ]
  },
  {
   "cell_type": "code",
   "execution_count": 17,
   "metadata": {},
   "outputs": [],
   "source": [
    "# define the model \n",
    "#? donation amount- can be predicted, given all the other numerical information we have \n",
    "# Ho Ha - we can predict how much someone will give depending on where they live- (excl gender)"
   ]
  },
  {
   "cell_type": "code",
   "execution_count": 18,
   "metadata": {},
   "outputs": [
    {
     "data": {
      "text/plain": [
       "0.2451016184485082"
      ]
     },
     "execution_count": 18,
     "metadata": {},
     "output_type": "execute_result"
    }
   ],
   "source": [
    "# fit the model to our data (only numerical data)\n",
    "line=lm.fit(X,y)\n",
    "# calculate a score - R2 score \n",
    "lm.score(X,y)"
   ]
  },
  {
   "cell_type": "code",
   "execution_count": 19,
   "metadata": {},
   "outputs": [
    {
     "data": {
      "text/plain": [
       "array([26.01107541, 11.69960974, 11.42975158, ..., 15.72846135,\n",
       "       17.23815538, 17.54930339])"
      ]
     },
     "execution_count": 19,
     "metadata": {},
     "output_type": "execute_result"
    }
   ],
   "source": [
    "#get predictions\n",
    "\n",
    "predictions  = lm.predict(X)\n",
    "predictions"
   ]
  },
  {
   "cell_type": "markdown",
   "metadata": {},
   "source": [
    "### Measure the accuracy of linear regression "
   ]
  },
  {
   "cell_type": "markdown",
   "metadata": {},
   "source": [
    "One of the primary measures of accuracy we can use in linear regression is r2\n",
    "\n",
    "r-squared tells us goodness of fit, ie how well the regression model fits the observed data. For example, an r-squared of 60% reveals that 60% of the data fit the regression model. Generally, a higher r-squared indicates a better fit for the model. We want a single score to tell us how well the regression predictions approximate the real data points. An R2 of 1 indicates that the regression predictions perfectly fit the data. "
   ]
  },
  {
   "cell_type": "code",
   "execution_count": 20,
   "metadata": {},
   "outputs": [
    {
     "data": {
      "text/plain": [
       "0.2451016184485082"
      ]
     },
     "execution_count": 20,
     "metadata": {},
     "output_type": "execute_result"
    }
   ],
   "source": [
    "r2_score(y, predictions)"
   ]
  },
  {
   "cell_type": "code",
   "execution_count": 21,
   "metadata": {},
   "outputs": [
    {
     "data": {
      "text/plain": [
       "121.78536264658759"
      ]
     },
     "execution_count": 21,
     "metadata": {},
     "output_type": "execute_result"
    }
   ],
   "source": [
    "mean_squared_error(y, predictions)"
   ]
  },
  {
   "cell_type": "markdown",
   "metadata": {},
   "source": [
    "The intercept (often labeled the constant) is the expected mean value of Y when all X=0. Start with a regression equation with one predictor, X. If X sometimes equals 0, the intercept is simply the expected mean value of Y at that value. \n",
    "\n",
    "If X never equals 0, then the intercept has no intrinsic meaning."
   ]
  },
  {
   "cell_type": "code",
   "execution_count": 22,
   "metadata": {},
   "outputs": [
    {
     "data": {
      "text/plain": [
       "6.6185137072119335"
      ]
     },
     "execution_count": 22,
     "metadata": {},
     "output_type": "execute_result"
    }
   ],
   "source": [
    "lm.intercept_"
   ]
  },
  {
   "cell_type": "markdown",
   "metadata": {},
   "source": [
    "In linear regression, coefficients are the values that multiply the predictor values. \n",
    "\n",
    "The sign of each coefficient indicates the direction of the relationship between a predictor variable and the response variable.\n",
    "\n",
    "A positive sign indicates that as the predictor variable increases, the response variable also increases.\n",
    "A negative sign indicates that as the predictor variable increases, the response variable decreases.\n",
    "\n",
    "The coefficient value represents the mean change in the response given a one unit change in the predictor. For example, if a coefficient is +3, the mean response value increases by 3 for every one unit change in the predictor."
   ]
  },
  {
   "cell_type": "code",
   "execution_count": 23,
   "metadata": {},
   "outputs": [
    {
     "data": {
      "text/plain": [
       "array([ 6.33569118e-06, -3.81271632e-04, -7.45221899e-03,  1.89632971e-03,\n",
       "        5.70037966e-03,  6.75957467e-05, -2.11513889e-02, -1.40665425e-02,\n",
       "        3.06036428e-03,  4.42434475e-03,  5.96237947e-01, -1.27279727e-04,\n",
       "        1.28714505e-04])"
      ]
     },
     "execution_count": 23,
     "metadata": {},
     "output_type": "execute_result"
    }
   ],
   "source": [
    "lm.coef_"
   ]
  },
  {
   "cell_type": "markdown",
   "metadata": {},
   "source": [
    "# Pre processing"
   ]
  },
  {
   "cell_type": "markdown",
   "metadata": {},
   "source": [
    "In Pre Processing the data analyst makes best efforts to give the ML model a 'fighting chance':\n",
    "* cleaning the data, dealing with nulls, outliers \n",
    "* removing similar columns which present a multicollinearity risk\n",
    "* eliminating heavily skewed data points through re-scaling \n",
    "* transforming all non numeric variables into numbers \n",
    "\n",
    "We will also need an important step to ensure relevance :\n",
    "* To determine whether our machine learning algorithm not only performs well on the training set but also generalizes well to new data, we will  randomly divide the dataset into a separate training and test set. \n",
    "* We use the training set to train and optimize our machine learning model, while we keep the test set until the very end to evaluate the final model."
   ]
  },
  {
   "cell_type": "markdown",
   "metadata": {},
   "source": [
    "### split the data into numeric and categorical features (columns) for pre processing - except the label "
   ]
  },
  {
   "cell_type": "code",
   "execution_count": 37,
   "metadata": {},
   "outputs": [],
   "source": [
    "#define the y predictor variable \n",
    "y=data['target_d'] "
   ]
  },
  {
   "cell_type": "code",
   "execution_count": 38,
   "metadata": {},
   "outputs": [],
   "source": [
    "#drop y from x \n",
    "data=data.drop(['target_d'],axis=1)"
   ]
  },
  {
   "cell_type": "code",
   "execution_count": 39,
   "metadata": {},
   "outputs": [],
   "source": [
    "X_num = data.select_dtypes(include = np.number)"
   ]
  },
  {
   "cell_type": "code",
   "execution_count": null,
   "metadata": {},
   "outputs": [],
   "source": []
  },
  {
   "cell_type": "code",
   "execution_count": 40,
   "metadata": {},
   "outputs": [],
   "source": [
    "X_cat = data.select_dtypes(include = object)"
   ]
  },
  {
   "cell_type": "code",
   "execution_count": null,
   "metadata": {},
   "outputs": [],
   "source": [
    "\n"
   ]
  },
  {
   "cell_type": "markdown",
   "metadata": {},
   "source": [
    "## Check for multicollinearity "
   ]
  },
  {
   "cell_type": "code",
   "execution_count": 41,
   "metadata": {},
   "outputs": [
    {
     "data": {
      "image/png": "[encoded data removed]",
      "text/plain": [
       "<Figure size 720x576 with 2 Axes>"
      ]
     },
     "metadata": {
      "needs_background": "light"
     },
     "output_type": "display_data"
    }
   ],
   "source": [
    "correlations_matrix=data.corr()\n",
    "mask=np.zeros_like(correlations_matrix)\n",
    "mask[np.triu_indices_from(mask)]=True\n",
    "fig,ax=plt.subplots(figsize=(10,8))\n",
    "ax= sns.heatmap(correlations_matrix, mask=mask, annot=True)\n",
    "plt.show()"
   ]
  },
  {
   "cell_type": "code",
   "execution_count": 42,
   "metadata": {},
   "outputs": [
    {
     "data": {
      "image/png": "[encoded data removed]",
      "text/plain": [
       "<Figure size 720x576 with 2 Axes>"
      ]
     },
     "metadata": {
      "needs_background": "light"
     },
     "output_type": "display_data"
    }
   ],
   "source": [
    "correlations_matrix=data.corr()\n",
    "mask=np.zeros_like(correlations_matrix)\n",
    "mask[np.triu_indices_from(mask)]=True\n",
    "fig,ax=plt.subplots(figsize=(10,8))\n",
    "ax= sns.heatmap(correlations_matrix, mask=mask, annot=True, cmap='seismic', center=0)\n",
    "plt.show()"
   ]
  },
  {
   "cell_type": "raw",
   "metadata": {},
   "source": []
  },
  {
   "cell_type": "code",
   "execution_count": null,
   "metadata": {},
   "outputs": [],
   "source": []
  },
  {
   "cell_type": "code",
   "execution_count": null,
   "metadata": {},
   "outputs": [],
   "source": []
  },
  {
   "cell_type": "markdown",
   "metadata": {},
   "source": [
    "### if any columns are highly correlated, we should drop them now "
   ]
  },
  {
   "cell_type": "code",
   "execution_count": 43,
   "metadata": {},
   "outputs": [],
   "source": [
    "X_num=X_num.drop(['ic3','ic4','hvp1','id'],axis=1)"
   ]
  },
  {
   "cell_type": "code",
   "execution_count": 44,
   "metadata": {},
   "outputs": [
    {
     "data": {
      "text/plain": [
       "Index(['median_household_val', 'ic1', 'ic5', 'pobc1', 'pobc2',\n",
       "       'median_household_income', 'avggift', 'tcode', 'dob'],\n",
       "      dtype='object')"
      ]
     },
     "execution_count": 44,
     "metadata": {},
     "output_type": "execute_result"
    }
   ],
   "source": [
    "X_num.columns"
   ]
  },
  {
   "cell_type": "markdown",
   "metadata": {},
   "source": [
    "## Check and transform for normality, skewness, outliers using histograms and distribution plots - numerical data"
   ]
  },
  {
   "cell_type": "code",
   "execution_count": 45,
   "metadata": {},
   "outputs": [],
   "source": [
    "#more EDA - box plots and histograms"
   ]
  },
  {
   "cell_type": "code",
   "execution_count": 46,
   "metadata": {},
   "outputs": [
    {
     "data": {
      "image/png": "[encoded data removed]",
      "text/plain": [
       "<Figure size 1080x1440 with 9 Axes>"
      ]
     },
     "metadata": {
      "needs_background": "light"
     },
     "output_type": "display_data"
    }
   ],
   "source": [
    "X_num.hist(figsize=(15,20));"
   ]
  },
  {
   "cell_type": "code",
   "execution_count": 35,
   "metadata": {},
   "outputs": [
    {
     "data": {
      "text/plain": [
       "<AxesSubplot:xlabel='ic5'>"
      ]
     },
     "execution_count": 35,
     "metadata": {},
     "output_type": "execute_result"
    },
    {
     "data": {
      "image/png": "[encoded data removed]",
      "text/plain": [
       "<Figure size 432x288 with 1 Axes>"
      ]
     },
     "metadata": {
      "needs_background": "light"
     },
     "output_type": "display_data"
    }
   ],
   "source": [
    "sns.boxplot(x=X_num['ic5'])"
   ]
  },
  {
   "cell_type": "code",
   "execution_count": 47,
   "metadata": {},
   "outputs": [
    {
     "data": {
      "text/plain": [
       "<AxesSubplot:xlabel='tcode'>"
      ]
     },
     "execution_count": 47,
     "metadata": {},
     "output_type": "execute_result"
    },
    {
     "data": {
      "image/png": "[encoded data removed]",
      "text/plain": [
       "<Figure size 432x288 with 1 Axes>"
      ]
     },
     "metadata": {
      "needs_background": "light"
     },
     "output_type": "display_data"
    }
   ],
   "source": [
    "sns.boxplot(x=X_num['tcode'])"
   ]
  },
  {
   "cell_type": "code",
   "execution_count": 50,
   "metadata": {},
   "outputs": [
    {
     "data": {
      "text/plain": [
       "<AxesSubplot:xlabel='avggift'>"
      ]
     },
     "execution_count": 50,
     "metadata": {},
     "output_type": "execute_result"
    },
    {
     "data": {
      "image/png": "[encoded data removed]",
      "text/plain": [
       "<Figure size 432x288 with 1 Axes>"
      ]
     },
     "metadata": {
      "needs_background": "light"
     },
     "output_type": "display_data"
    }
   ],
   "source": [
    "sns.boxplot(x=X_num['avggift'])"
   ]
  },
  {
   "cell_type": "code",
   "execution_count": 48,
   "metadata": {},
   "outputs": [],
   "source": []
  },
  {
   "cell_type": "markdown",
   "metadata": {},
   "source": [
    "### are there any other numerical columns we want to drop now because they are not correlated atall to the target variable?"
   ]
  },
  {
   "cell_type": "code",
   "execution_count": 51,
   "metadata": {},
   "outputs": [
    {
     "ename": "KeyError",
     "evalue": "\"['tcode'] not found in axis\"",
     "output_type": "error",
     "traceback": [
      "\u001b[1;31m---------------------------------------------------------------------------\u001b[0m",
      "\u001b[1;31mKeyError\u001b[0m                                  Traceback (most recent call last)",
      "\u001b[1;32m<ipython-input-51-6987921b53c8>\u001b[0m in \u001b[0;36m<module>\u001b[1;34m\u001b[0m\n\u001b[1;32m----> 1\u001b[1;33m \u001b[0mX_num\u001b[0m\u001b[1;33m=\u001b[0m\u001b[0mX_num\u001b[0m\u001b[1;33m.\u001b[0m\u001b[0mdrop\u001b[0m\u001b[1;33m(\u001b[0m\u001b[1;33m[\u001b[0m\u001b[1;34m'tcode'\u001b[0m\u001b[1;33m]\u001b[0m\u001b[1;33m,\u001b[0m\u001b[0maxis\u001b[0m\u001b[1;33m=\u001b[0m\u001b[1;36m1\u001b[0m\u001b[1;33m)\u001b[0m\u001b[1;33m\u001b[0m\u001b[1;33m\u001b[0m\u001b[0m\n\u001b[0m",
      "\u001b[1;32mC:\\ProgramData\\Anaconda3\\lib\\site-packages\\pandas\\core\\frame.py\u001b[0m in \u001b[0;36mdrop\u001b[1;34m(self, labels, axis, index, columns, level, inplace, errors)\u001b[0m\n\u001b[0;32m   4161\u001b[0m                 \u001b[0mweight\u001b[0m  \u001b[1;36m1.0\u001b[0m     \u001b[1;36m0.8\u001b[0m\u001b[1;33m\u001b[0m\u001b[1;33m\u001b[0m\u001b[0m\n\u001b[0;32m   4162\u001b[0m         \"\"\"\n\u001b[1;32m-> 4163\u001b[1;33m         return super().drop(\n\u001b[0m\u001b[0;32m   4164\u001b[0m             \u001b[0mlabels\u001b[0m\u001b[1;33m=\u001b[0m\u001b[0mlabels\u001b[0m\u001b[1;33m,\u001b[0m\u001b[1;33m\u001b[0m\u001b[1;33m\u001b[0m\u001b[0m\n\u001b[0;32m   4165\u001b[0m             \u001b[0maxis\u001b[0m\u001b[1;33m=\u001b[0m\u001b[0maxis\u001b[0m\u001b[1;33m,\u001b[0m\u001b[1;33m\u001b[0m\u001b[1;33m\u001b[0m\u001b[0m\n",
      "\u001b[1;32mC:\\ProgramData\\Anaconda3\\lib\\site-packages\\pandas\\core\\generic.py\u001b[0m in \u001b[0;36mdrop\u001b[1;34m(self, labels, axis, index, columns, level, inplace, errors)\u001b[0m\n\u001b[0;32m   3885\u001b[0m         \u001b[1;32mfor\u001b[0m \u001b[0maxis\u001b[0m\u001b[1;33m,\u001b[0m \u001b[0mlabels\u001b[0m \u001b[1;32min\u001b[0m \u001b[0maxes\u001b[0m\u001b[1;33m.\u001b[0m\u001b[0mitems\u001b[0m\u001b[1;33m(\u001b[0m\u001b[1;33m)\u001b[0m\u001b[1;33m:\u001b[0m\u001b[1;33m\u001b[0m\u001b[1;33m\u001b[0m\u001b[0m\n\u001b[0;32m   3886\u001b[0m             \u001b[1;32mif\u001b[0m \u001b[0mlabels\u001b[0m \u001b[1;32mis\u001b[0m \u001b[1;32mnot\u001b[0m \u001b[1;32mNone\u001b[0m\u001b[1;33m:\u001b[0m\u001b[1;33m\u001b[0m\u001b[1;33m\u001b[0m\u001b[0m\n\u001b[1;32m-> 3887\u001b[1;33m                 \u001b[0mobj\u001b[0m \u001b[1;33m=\u001b[0m \u001b[0mobj\u001b[0m\u001b[1;33m.\u001b[0m\u001b[0m_drop_axis\u001b[0m\u001b[1;33m(\u001b[0m\u001b[0mlabels\u001b[0m\u001b[1;33m,\u001b[0m \u001b[0maxis\u001b[0m\u001b[1;33m,\u001b[0m \u001b[0mlevel\u001b[0m\u001b[1;33m=\u001b[0m\u001b[0mlevel\u001b[0m\u001b[1;33m,\u001b[0m \u001b[0merrors\u001b[0m\u001b[1;33m=\u001b[0m\u001b[0merrors\u001b[0m\u001b[1;33m)\u001b[0m\u001b[1;33m\u001b[0m\u001b[1;33m\u001b[0m\u001b[0m\n\u001b[0m\u001b[0;32m   3888\u001b[0m \u001b[1;33m\u001b[0m\u001b[0m\n\u001b[0;32m   3889\u001b[0m         \u001b[1;32mif\u001b[0m \u001b[0minplace\u001b[0m\u001b[1;33m:\u001b[0m\u001b[1;33m\u001b[0m\u001b[1;33m\u001b[0m\u001b[0m\n",
      "\u001b[1;32mC:\\ProgramData\\Anaconda3\\lib\\site-packages\\pandas\\core\\generic.py\u001b[0m in \u001b[0;36m_drop_axis\u001b[1;34m(self, labels, axis, level, errors)\u001b[0m\n\u001b[0;32m   3919\u001b[0m                 \u001b[0mnew_axis\u001b[0m \u001b[1;33m=\u001b[0m \u001b[0maxis\u001b[0m\u001b[1;33m.\u001b[0m\u001b[0mdrop\u001b[0m\u001b[1;33m(\u001b[0m\u001b[0mlabels\u001b[0m\u001b[1;33m,\u001b[0m \u001b[0mlevel\u001b[0m\u001b[1;33m=\u001b[0m\u001b[0mlevel\u001b[0m\u001b[1;33m,\u001b[0m \u001b[0merrors\u001b[0m\u001b[1;33m=\u001b[0m\u001b[0merrors\u001b[0m\u001b[1;33m)\u001b[0m\u001b[1;33m\u001b[0m\u001b[1;33m\u001b[0m\u001b[0m\n\u001b[0;32m   3920\u001b[0m             \u001b[1;32melse\u001b[0m\u001b[1;33m:\u001b[0m\u001b[1;33m\u001b[0m\u001b[1;33m\u001b[0m\u001b[0m\n\u001b[1;32m-> 3921\u001b[1;33m                 \u001b[0mnew_axis\u001b[0m \u001b[1;33m=\u001b[0m \u001b[0maxis\u001b[0m\u001b[1;33m.\u001b[0m\u001b[0mdrop\u001b[0m\u001b[1;33m(\u001b[0m\u001b[0mlabels\u001b[0m\u001b[1;33m,\u001b[0m \u001b[0merrors\u001b[0m\u001b[1;33m=\u001b[0m\u001b[0merrors\u001b[0m\u001b[1;33m)\u001b[0m\u001b[1;33m\u001b[0m\u001b[1;33m\u001b[0m\u001b[0m\n\u001b[0m\u001b[0;32m   3922\u001b[0m             \u001b[0mresult\u001b[0m \u001b[1;33m=\u001b[0m \u001b[0mself\u001b[0m\u001b[1;33m.\u001b[0m\u001b[0mreindex\u001b[0m\u001b[1;33m(\u001b[0m\u001b[1;33m**\u001b[0m\u001b[1;33m{\u001b[0m\u001b[0maxis_name\u001b[0m\u001b[1;33m:\u001b[0m \u001b[0mnew_axis\u001b[0m\u001b[1;33m}\u001b[0m\u001b[1;33m)\u001b[0m\u001b[1;33m\u001b[0m\u001b[1;33m\u001b[0m\u001b[0m\n\u001b[0;32m   3923\u001b[0m \u001b[1;33m\u001b[0m\u001b[0m\n",
      "\u001b[1;32mC:\\ProgramData\\Anaconda3\\lib\\site-packages\\pandas\\core\\indexes\\base.py\u001b[0m in \u001b[0;36mdrop\u001b[1;34m(self, labels, errors)\u001b[0m\n\u001b[0;32m   5280\u001b[0m         \u001b[1;32mif\u001b[0m \u001b[0mmask\u001b[0m\u001b[1;33m.\u001b[0m\u001b[0many\u001b[0m\u001b[1;33m(\u001b[0m\u001b[1;33m)\u001b[0m\u001b[1;33m:\u001b[0m\u001b[1;33m\u001b[0m\u001b[1;33m\u001b[0m\u001b[0m\n\u001b[0;32m   5281\u001b[0m             \u001b[1;32mif\u001b[0m \u001b[0merrors\u001b[0m \u001b[1;33m!=\u001b[0m \u001b[1;34m\"ignore\"\u001b[0m\u001b[1;33m:\u001b[0m\u001b[1;33m\u001b[0m\u001b[1;33m\u001b[0m\u001b[0m\n\u001b[1;32m-> 5282\u001b[1;33m                 \u001b[1;32mraise\u001b[0m \u001b[0mKeyError\u001b[0m\u001b[1;33m(\u001b[0m\u001b[1;34mf\"{labels[mask]} not found in axis\"\u001b[0m\u001b[1;33m)\u001b[0m\u001b[1;33m\u001b[0m\u001b[1;33m\u001b[0m\u001b[0m\n\u001b[0m\u001b[0;32m   5283\u001b[0m             \u001b[0mindexer\u001b[0m \u001b[1;33m=\u001b[0m \u001b[0mindexer\u001b[0m\u001b[1;33m[\u001b[0m\u001b[1;33m~\u001b[0m\u001b[0mmask\u001b[0m\u001b[1;33m]\u001b[0m\u001b[1;33m\u001b[0m\u001b[1;33m\u001b[0m\u001b[0m\n\u001b[0;32m   5284\u001b[0m         \u001b[1;32mreturn\u001b[0m \u001b[0mself\u001b[0m\u001b[1;33m.\u001b[0m\u001b[0mdelete\u001b[0m\u001b[1;33m(\u001b[0m\u001b[0mindexer\u001b[0m\u001b[1;33m)\u001b[0m\u001b[1;33m\u001b[0m\u001b[1;33m\u001b[0m\u001b[0m\n",
      "\u001b[1;31mKeyError\u001b[0m: \"['tcode'] not found in axis\""
     ]
    }
   ],
   "source": [
    "X_num=X_num.drop(['tcode'],axis=1)"
   ]
  },
  {
   "cell_type": "code",
   "execution_count": null,
   "metadata": {},
   "outputs": [],
   "source": []
  },
  {
   "cell_type": "code",
   "execution_count": null,
   "metadata": {},
   "outputs": [],
   "source": []
  },
  {
   "cell_type": "markdown",
   "metadata": {},
   "source": [
    "### if we identify outliers, they can be removed by calculating the IQR (inter quartile range)"
   ]
  },
  {
   "cell_type": "code",
   "execution_count": 54,
   "metadata": {},
   "outputs": [],
   "source": [
    "iqr=np.percentile(X_num['ic5'],75)-np.percentile(X_num['ic5'],25)\n",
    "upper_limit=np.percentile(X_num['ic5'],75)+(1.5*iqr)\n",
    "lower_limit=np.percentile(X_num['ic5'],25)-(1.5*iqr)\n",
    "excl_outliers=X_num[(X_num['ic5']>lower_limit)&(X_num['ic5']<upper_limit)]\n"
   ]
  },
  {
   "cell_type": "code",
   "execution_count": 55,
   "metadata": {},
   "outputs": [
    {
     "data": {
      "text/plain": [
       "<AxesSubplot:xlabel='ic5'>"
      ]
     },
     "execution_count": 55,
     "metadata": {},
     "output_type": "execute_result"
    },
    {
     "data": {
      "image/png": "[encoded data removed]",
      "text/plain": [
       "<Figure size 432x288 with 1 Axes>"
      ]
     },
     "metadata": {
      "needs_background": "light"
     },
     "output_type": "display_data"
    }
   ],
   "source": [
    "sns.boxplot(x=excl_outliers['ic5'])"
   ]
  },
  {
   "cell_type": "code",
   "execution_count": 56,
   "metadata": {},
   "outputs": [
    {
     "data": {
      "text/plain": [
       "(3753, 8)"
      ]
     },
     "execution_count": 56,
     "metadata": {},
     "output_type": "execute_result"
    }
   ],
   "source": [
    "excl_outliers.shape"
   ]
  },
  {
   "cell_type": "code",
   "execution_count": 57,
   "metadata": {},
   "outputs": [
    {
     "name": "stdout",
     "output_type": "stream",
     "text": [
      "<class 'pandas.core.frame.DataFrame'>\n",
      "Int64Index: 3753 entries, 0 to 3992\n",
      "Data columns (total 8 columns):\n",
      " #   Column                   Non-Null Count  Dtype  \n",
      "---  ------                   --------------  -----  \n",
      " 0   median_household_val     3753 non-null   float64\n",
      " 1   ic1                      3753 non-null   int64  \n",
      " 2   ic5                      3753 non-null   float64\n",
      " 3   pobc1                    3753 non-null   int64  \n",
      " 4   pobc2                    3753 non-null   int64  \n",
      " 5   median_household_income  3753 non-null   float64\n",
      " 6   avggift                  3753 non-null   float64\n",
      " 7   dob                      3753 non-null   int64  \n",
      "dtypes: float64(4), int64(4)\n",
      "memory usage: 263.9 KB\n"
     ]
    }
   ],
   "source": [
    "excl_outliers.info()"
   ]
  },
  {
   "cell_type": "code",
   "execution_count": 58,
   "metadata": {},
   "outputs": [
    {
     "data": {
      "text/plain": [
       "<bound method NDFrame.describe of       median_household_val  ic1      ic5  pobc1  pobc2  \\\n",
       "0              1158.437751  392  21975.0      6     16   \n",
       "1               537.000000  365  19387.0      1     89   \n",
       "2               725.000000  301  18837.0     11     17   \n",
       "3              1158.437751  401  14014.0      1     74   \n",
       "4               995.000000  252  17991.0      5      6   \n",
       "...                    ...  ...      ...    ...    ...   \n",
       "3988            632.000000  279  12653.0      1     71   \n",
       "3989            595.000000  252  11132.0      8     11   \n",
       "3990           2707.000000  507  16165.0     24     54   \n",
       "3991           2666.000000  535  24745.0     22     45   \n",
       "3992            444.000000  225  10088.0      1     86   \n",
       "\n",
       "      median_household_income    avggift   dob  \n",
       "0                       430.0  28.000000  1901  \n",
       "1                       415.0   5.666667     0  \n",
       "2                       340.0   4.111111  2501  \n",
       "3                       407.0  27.277778  2208  \n",
       "4                       280.0   6.000000     0  \n",
       "...                       ...        ...   ...  \n",
       "3988                    336.0   8.533333     0  \n",
       "3989                    263.0  14.692308  2501  \n",
       "3990                    504.0  12.117647  4001  \n",
       "3991                    609.0  12.333333  4401  \n",
       "3992                    264.0  17.142857   405  \n",
       "\n",
       "[3753 rows x 8 columns]>"
      ]
     },
     "execution_count": 58,
     "metadata": {},
     "output_type": "execute_result"
    }
   ],
   "source": [
    "excl_outliers.describe"
   ]
  },
  {
   "cell_type": "code",
   "execution_count": 60,
   "metadata": {},
   "outputs": [
    {
     "data": {
      "text/plain": [
       "<AxesSubplot:>"
      ]
     },
     "execution_count": 60,
     "metadata": {},
     "output_type": "execute_result"
    },
    {
     "data": {
      "image/png": "[encoded data removed]",
      "text/plain": [
       "<Figure size 432x288 with 1 Axes>"
      ]
     },
     "metadata": {
      "needs_background": "light"
     },
     "output_type": "display_data"
    }
   ],
   "source": [
    "X_num['ic5'].hist()"
   ]
  },
  {
   "cell_type": "markdown",
   "metadata": {},
   "source": [
    "### After making any changes to the data - replot to see the impact "
   ]
  },
  {
   "cell_type": "code",
   "execution_count": null,
   "metadata": {},
   "outputs": [],
   "source": []
  },
  {
   "cell_type": "code",
   "execution_count": null,
   "metadata": {},
   "outputs": [],
   "source": []
  },
  {
   "cell_type": "code",
   "execution_count": null,
   "metadata": {},
   "outputs": [],
   "source": []
  },
  {
   "cell_type": "markdown",
   "metadata": {},
   "source": [
    "## Re-scaling transformation methods - for one or more skewed columns or a column with distant, legitimate outliers"
   ]
  },
  {
   "cell_type": "markdown",
   "metadata": {},
   "source": [
    "### Log transformation"
   ]
  },
  {
   "cell_type": "code",
   "execution_count": 5,
   "metadata": {},
   "outputs": [
    {
     "data": {
      "image/png": "[encoded data removed]",
      "text/plain": [
       "<IPython.core.display.Image object>"
      ]
     },
     "execution_count": 5,
     "metadata": {},
     "output_type": "execute_result"
    }
   ],
   "source": [
    "from IPython.display import Image\n",
    "Image(\"logvlinear.png\")"
   ]
  },
  {
   "cell_type": "markdown",
   "metadata": {},
   "source": [
    "##### warning \n",
    "\n",
    "Warning, some values might become -inf with this method, so we will have to filter those values out and then replace them with sensible values. If there are too many such values in a column, this method cannot be used. "
   ]
  },
  {
   "cell_type": "code",
   "execution_count": 63,
   "metadata": {},
   "outputs": [
    {
     "name": "stderr",
     "output_type": "stream",
     "text": [
      "<ipython-input-63-dda6fc5e8b82>:2: RuntimeWarning: divide by zero encountered in log\n",
      "  x=np.log(x)\n"
     ]
    }
   ],
   "source": [
    "def log_transform_clean(x):\n",
    "    x=np.log(x)\n",
    "    if np.isfinite(x):\n",
    "        return x\n",
    "    else:\n",
    "        return np.NAN\n",
    "    \n",
    "X_num['ic5_log']=list(map(log_transform_clean, X_num['ic5']))"
   ]
  },
  {
   "cell_type": "code",
   "execution_count": 65,
   "metadata": {},
   "outputs": [
    {
     "data": {
      "text/plain": [
       "<AxesSubplot:>"
      ]
     },
     "execution_count": 65,
     "metadata": {},
     "output_type": "execute_result"
    },
    {
     "data": {
      "image/png": "[encoded data removed]",
      "text/plain": [
       "<Figure size 432x288 with 1 Axes>"
      ]
     },
     "metadata": {
      "needs_background": "light"
     },
     "output_type": "display_data"
    }
   ],
   "source": [
    "X_num['ic5_log'].hist()"
   ]
  },
  {
   "cell_type": "code",
   "execution_count": 67,
   "metadata": {},
   "outputs": [],
   "source": [
    "X_num['ic5_log']=X_num['ic5_log'].fillna(np.mean(X_num['ic5_log']))"
   ]
  },
  {
   "cell_type": "code",
   "execution_count": 68,
   "metadata": {
    "run_control": {
     "marked": true
    }
   },
   "outputs": [
    {
     "name": "stdout",
     "output_type": "stream",
     "text": [
      "<class 'pandas.core.frame.DataFrame'>\n",
      "RangeIndex: 3993 entries, 0 to 3992\n",
      "Data columns (total 9 columns):\n",
      " #   Column                   Non-Null Count  Dtype  \n",
      "---  ------                   --------------  -----  \n",
      " 0   median_household_val     3993 non-null   float64\n",
      " 1   ic1                      3993 non-null   int64  \n",
      " 2   ic5                      3993 non-null   float64\n",
      " 3   pobc1                    3993 non-null   int64  \n",
      " 4   pobc2                    3993 non-null   int64  \n",
      " 5   median_household_income  3993 non-null   float64\n",
      " 6   avggift                  3993 non-null   float64\n",
      " 7   dob                      3993 non-null   int64  \n",
      " 8   ic5_log                  3993 non-null   float64\n",
      "dtypes: float64(5), int64(4)\n",
      "memory usage: 280.9 KB\n"
     ]
    }
   ],
   "source": [
    "X_num.info()"
   ]
  },
  {
   "cell_type": "code",
   "execution_count": null,
   "metadata": {},
   "outputs": [],
   "source": []
  },
  {
   "cell_type": "markdown",
   "metadata": {},
   "source": [
    "### After making any changes to the data - replot to see the impact "
   ]
  },
  {
   "cell_type": "code",
   "execution_count": null,
   "metadata": {},
   "outputs": [],
   "source": []
  },
  {
   "cell_type": "code",
   "execution_count": null,
   "metadata": {},
   "outputs": [],
   "source": []
  },
  {
   "cell_type": "code",
   "execution_count": null,
   "metadata": {},
   "outputs": [],
   "source": []
  },
  {
   "cell_type": "markdown",
   "metadata": {},
   "source": [
    "### if satisfied with a proposed change, replace the column "
   ]
  },
  {
   "cell_type": "code",
   "execution_count": 69,
   "metadata": {},
   "outputs": [],
   "source": [
    "X_num=X_num.drop(['ic5'],axis=1)"
   ]
  },
  {
   "cell_type": "code",
   "execution_count": null,
   "metadata": {},
   "outputs": [],
   "source": []
  },
  {
   "cell_type": "code",
   "execution_count": null,
   "metadata": {},
   "outputs": [],
   "source": []
  },
  {
   "cell_type": "markdown",
   "metadata": {},
   "source": [
    "### Box cox transformation for making data normal\n",
    "\n",
    "Return a dataset transformed by a Box-Cox power transformation.\n",
    "\n",
    "##### warning this method requires the data be positive. We can filter out negative values and replace with the mean\n",
    "\n",
    "Box cox trans requires SCIPY - go to terminal and on your env install scipy \n",
    "\n",
    "using \n",
    "\n",
    "> conda install -c anaconda scipy\n",
    "\n",
    "then \n",
    "\n",
    "> from scipy import stats"
   ]
  },
  {
   "cell_type": "code",
   "execution_count": 6,
   "metadata": {},
   "outputs": [
    {
     "data": {
      "image/png": "[encoded data removed]",
      "text/plain": [
       "<IPython.core.display.Image object>"
      ]
     },
     "execution_count": 6,
     "metadata": {},
     "output_type": "execute_result"
    }
   ],
   "source": [
    "Image(\"before_and_after.png\")"
   ]
  },
  {
   "cell_type": "code",
   "execution_count": null,
   "metadata": {},
   "outputs": [],
   "source": []
  },
  {
   "cell_type": "code",
   "execution_count": null,
   "metadata": {},
   "outputs": [],
   "source": []
  },
  {
   "cell_type": "code",
   "execution_count": null,
   "metadata": {},
   "outputs": [],
   "source": []
  },
  {
   "cell_type": "code",
   "execution_count": null,
   "metadata": {},
   "outputs": [],
   "source": []
  },
  {
   "cell_type": "markdown",
   "metadata": {},
   "source": [
    "### After making any changes to the data - replot to see the impact "
   ]
  },
  {
   "cell_type": "code",
   "execution_count": null,
   "metadata": {},
   "outputs": [],
   "source": []
  },
  {
   "cell_type": "code",
   "execution_count": null,
   "metadata": {},
   "outputs": [],
   "source": []
  },
  {
   "cell_type": "code",
   "execution_count": null,
   "metadata": {},
   "outputs": [],
   "source": []
  },
  {
   "cell_type": "markdown",
   "metadata": {},
   "source": [
    "### if satisfied with a proposed change, replace the column "
   ]
  },
  {
   "cell_type": "code",
   "execution_count": null,
   "metadata": {},
   "outputs": [],
   "source": []
  },
  {
   "cell_type": "code",
   "execution_count": null,
   "metadata": {},
   "outputs": [],
   "source": []
  },
  {
   "cell_type": "code",
   "execution_count": null,
   "metadata": {},
   "outputs": [],
   "source": []
  },
  {
   "cell_type": "code",
   "execution_count": null,
   "metadata": {},
   "outputs": [],
   "source": []
  },
  {
   "cell_type": "code",
   "execution_count": null,
   "metadata": {},
   "outputs": [],
   "source": []
  },
  {
   "cell_type": "markdown",
   "metadata": {},
   "source": [
    "## sklearn rescaling methods - for many columns at once"
   ]
  },
  {
   "cell_type": "markdown",
   "metadata": {},
   "source": [
    "### numerical rescaling - common options \n",
    "\n",
    "+ Normalizer \n",
    "\n",
    "+ StandardScaler\n",
    "\n",
    "+ MinMaxScaler\n",
    "\n",
    "[compare the effects of scalers](https://scikit-learn.org/stable/auto_examples/preprocessing/plot_all_scaling.html)\n",
    "\n",
    "[when to use which](https://towardsdatascience.com/scale-standardize-or-normalize-with-scikit-learn-6ccc7d176a02)\n",
    "\n",
    "- Use MinMaxScaler as your default\n",
    "- Use RobustScaler if you have outliers and can handle a larger range\n",
    "- Use StandardScaler if you need normalized features\n",
    "- Use Normalizer sparingly - it normalizes rows, not columns\n",
    "\n",
    "\n",
    "##### check the shape of each normalised numerical X before going further. "
   ]
  },
  {
   "cell_type": "code",
   "execution_count": null,
   "metadata": {},
   "outputs": [],
   "source": [
    "# option 1 standardising all numeric features / rescaling using Normalizer "
   ]
  },
  {
   "cell_type": "code",
   "execution_count": null,
   "metadata": {},
   "outputs": [],
   "source": []
  },
  {
   "cell_type": "code",
   "execution_count": null,
   "metadata": {},
   "outputs": [],
   "source": [
    "#option 2 standardising all numeric features / rescaling using Standard Scaler"
   ]
  },
  {
   "cell_type": "code",
   "execution_count": null,
   "metadata": {},
   "outputs": [],
   "source": []
  },
  {
   "cell_type": "code",
   "execution_count": null,
   "metadata": {},
   "outputs": [],
   "source": [
    "#option 3 standardising all numeric features / rescaling using MinMax scaler\n"
   ]
  },
  {
   "cell_type": "code",
   "execution_count": 70,
   "metadata": {},
   "outputs": [],
   "source": [
    "from sklearn.preprocessing import MinMaxScaler\n",
    "transform=MinMaxScaler().fit(X_num)\n",
    "x_mmscaled=transform.transform(X_num)"
   ]
  },
  {
   "cell_type": "code",
   "execution_count": 71,
   "metadata": {},
   "outputs": [
    {
     "data": {
      "text/plain": [
       "(3993, 8)"
      ]
     },
     "execution_count": 71,
     "metadata": {},
     "output_type": "execute_result"
    }
   ],
   "source": [
    "x_mmscaled.shape\n"
   ]
  },
  {
   "cell_type": "code",
   "execution_count": 72,
   "metadata": {},
   "outputs": [
    {
     "data": {
      "text/plain": [
       "(3993, 8)"
      ]
     },
     "execution_count": 72,
     "metadata": {},
     "output_type": "execute_result"
    }
   ],
   "source": [
    "X_num.shape"
   ]
  },
  {
   "cell_type": "code",
   "execution_count": 74,
   "metadata": {},
   "outputs": [],
   "source": [
    "scaled=pd.DataFrame(x_mmscaled)"
   ]
  },
  {
   "cell_type": "code",
   "execution_count": 75,
   "metadata": {
    "run_control": {
     "marked": true
    }
   },
   "outputs": [
    {
     "data": {
      "text/plain": [
       "array([[<AxesSubplot:title={'center':'0'}>,\n",
       "        <AxesSubplot:title={'center':'1'}>,\n",
       "        <AxesSubplot:title={'center':'2'}>],\n",
       "       [<AxesSubplot:title={'center':'3'}>,\n",
       "        <AxesSubplot:title={'center':'4'}>,\n",
       "        <AxesSubplot:title={'center':'5'}>],\n",
       "       [<AxesSubplot:title={'center':'6'}>,\n",
       "        <AxesSubplot:title={'center':'7'}>, <AxesSubplot:>]], dtype=object)"
      ]
     },
     "execution_count": 75,
     "metadata": {},
     "output_type": "execute_result"
    },
    {
     "data": {
      "image/png": "[encoded data removed]",
      "text/plain": [
       "<Figure size 1080x1440 with 9 Axes>"
      ]
     },
     "metadata": {
      "needs_background": "light"
     },
     "output_type": "display_data"
    }
   ],
   "source": [
    "scaled.hist(figsize=(15,20))"
   ]
  },
  {
   "cell_type": "code",
   "execution_count": 76,
   "metadata": {},
   "outputs": [],
   "source": [
    "from sklearn.preprocessing import RobustScaler\n",
    "robust=RobustScaler().fit(X_num)\n",
    "x_robust=robust.transform(X_num)\n"
   ]
  },
  {
   "cell_type": "code",
   "execution_count": null,
   "metadata": {},
   "outputs": [],
   "source": [
    "scaled=pd.DataFrame(x_robust)"
   ]
  },
  {
   "cell_type": "code",
   "execution_count": 79,
   "metadata": {},
   "outputs": [
    {
     "data": {
      "text/plain": [
       "array([[<AxesSubplot:title={'center':'0'}>,\n",
       "        <AxesSubplot:title={'center':'1'}>,\n",
       "        <AxesSubplot:title={'center':'2'}>],\n",
       "       [<AxesSubplot:title={'center':'3'}>,\n",
       "        <AxesSubplot:title={'center':'4'}>,\n",
       "        <AxesSubplot:title={'center':'5'}>],\n",
       "       [<AxesSubplot:title={'center':'6'}>,\n",
       "        <AxesSubplot:title={'center':'7'}>, <AxesSubplot:>]], dtype=object)"
      ]
     },
     "execution_count": 79,
     "metadata": {},
     "output_type": "execute_result"
    },
    {
     "data": {
      "image/png": "[encoded data removed]",
      "text/plain": [
       "<Figure size 1080x1440 with 9 Axes>"
      ]
     },
     "metadata": {
      "needs_background": "light"
     },
     "output_type": "display_data"
    }
   ],
   "source": [
    "scaled.hist(figsize=(15,20))"
   ]
  },
  {
   "cell_type": "code",
   "execution_count": null,
   "metadata": {},
   "outputs": [],
   "source": []
  },
  {
   "cell_type": "markdown",
   "metadata": {},
   "source": [
    "### at this stage you could check the histograms to see the best scaling approach"
   ]
  },
  {
   "cell_type": "code",
   "execution_count": null,
   "metadata": {},
   "outputs": [],
   "source": []
  },
  {
   "cell_type": "code",
   "execution_count": null,
   "metadata": {},
   "outputs": [],
   "source": []
  },
  {
   "cell_type": "markdown",
   "metadata": {},
   "source": [
    "### select which numerical transformation process you will use - this replaces X_num"
   ]
  },
  {
   "cell_type": "code",
   "execution_count": 80,
   "metadata": {},
   "outputs": [],
   "source": [
    "X_num=x_robust"
   ]
  },
  {
   "cell_type": "markdown",
   "metadata": {},
   "source": [
    "## pre processing categorical columns "
   ]
  },
  {
   "cell_type": "code",
   "execution_count": 81,
   "metadata": {
    "scrolled": true
   },
   "outputs": [
    {
     "data": {
      "text/html": [
       "<div>\n",
       "<style scoped>\n",
       "    .dataframe tbody tr th:only-of-type {\n",
       "        vertical-align: middle;\n",
       "    }\n",
       "\n",
       "    .dataframe tbody tr th {\n",
       "        vertical-align: top;\n",
       "    }\n",
       "\n",
       "    .dataframe thead th {\n",
       "        text-align: right;\n",
       "    }\n",
       "</style>\n",
       "<table border=\"1\" class=\"dataframe\">\n",
       "  <thead>\n",
       "    <tr style=\"text-align: right;\">\n",
       "      <th></th>\n",
       "      <th>state</th>\n",
       "      <th>gender</th>\n",
       "      <th>domain</th>\n",
       "    </tr>\n",
       "  </thead>\n",
       "  <tbody>\n",
       "    <tr>\n",
       "      <th>0</th>\n",
       "      <td>FL</td>\n",
       "      <td>Male</td>\n",
       "      <td>C2</td>\n",
       "    </tr>\n",
       "    <tr>\n",
       "      <th>1</th>\n",
       "      <td>IL</td>\n",
       "      <td>Male</td>\n",
       "      <td>T2</td>\n",
       "    </tr>\n",
       "    <tr>\n",
       "      <th>2</th>\n",
       "      <td>FL</td>\n",
       "      <td>Female</td>\n",
       "      <td>C2</td>\n",
       "    </tr>\n",
       "    <tr>\n",
       "      <th>3</th>\n",
       "      <td>NC</td>\n",
       "      <td>Male</td>\n",
       "      <td>T2</td>\n",
       "    </tr>\n",
       "    <tr>\n",
       "      <th>4</th>\n",
       "      <td>FL</td>\n",
       "      <td>Female</td>\n",
       "      <td>C2</td>\n",
       "    </tr>\n",
       "    <tr>\n",
       "      <th>...</th>\n",
       "      <td>...</td>\n",
       "      <td>...</td>\n",
       "      <td>...</td>\n",
       "    </tr>\n",
       "    <tr>\n",
       "      <th>3988</th>\n",
       "      <td>MI</td>\n",
       "      <td>Female</td>\n",
       "      <td>0</td>\n",
       "    </tr>\n",
       "    <tr>\n",
       "      <th>3989</th>\n",
       "      <td>FL</td>\n",
       "      <td>Male</td>\n",
       "      <td>T2</td>\n",
       "    </tr>\n",
       "    <tr>\n",
       "      <th>3990</th>\n",
       "      <td>CA</td>\n",
       "      <td>Female</td>\n",
       "      <td>U1</td>\n",
       "    </tr>\n",
       "    <tr>\n",
       "      <th>3991</th>\n",
       "      <td>CA</td>\n",
       "      <td>Male</td>\n",
       "      <td>S1</td>\n",
       "    </tr>\n",
       "    <tr>\n",
       "      <th>3992</th>\n",
       "      <td>MI</td>\n",
       "      <td>Male</td>\n",
       "      <td>R2</td>\n",
       "    </tr>\n",
       "  </tbody>\n",
       "</table>\n",
       "<p>3993 rows × 3 columns</p>\n",
       "</div>"
      ],
      "text/plain": [
       "     state  gender domain\n",
       "0       FL    Male     C2\n",
       "1       IL    Male     T2\n",
       "2       FL  Female     C2\n",
       "3       NC    Male     T2\n",
       "4       FL  Female     C2\n",
       "...    ...     ...    ...\n",
       "3988    MI  Female      0\n",
       "3989    FL    Male     T2\n",
       "3990    CA  Female     U1\n",
       "3991    CA    Male     S1\n",
       "3992    MI    Male     R2\n",
       "\n",
       "[3993 rows x 3 columns]"
      ]
     },
     "execution_count": 81,
     "metadata": {},
     "output_type": "execute_result"
    }
   ],
   "source": [
    "#review categorical data \n",
    "X_cat"
   ]
  },
  {
   "cell_type": "code",
   "execution_count": 83,
   "metadata": {},
   "outputs": [
    {
     "data": {
      "text/plain": [
       "Female     2276\n",
       "Male       1648\n",
       "Unknown      69\n",
       "Name: gender, dtype: int64"
      ]
     },
     "execution_count": 83,
     "metadata": {},
     "output_type": "execute_result"
    }
   ],
   "source": [
    "X_cat['gender'].value_counts()"
   ]
  },
  {
   "cell_type": "code",
   "execution_count": null,
   "metadata": {},
   "outputs": [],
   "source": []
  },
  {
   "cell_type": "markdown",
   "metadata": {},
   "source": [
    "### Are there any categorical features we want to drop ? "
   ]
  },
  {
   "cell_type": "code",
   "execution_count": null,
   "metadata": {},
   "outputs": [],
   "source": [
    "#no keeping"
   ]
  },
  {
   "cell_type": "code",
   "execution_count": null,
   "metadata": {},
   "outputs": [],
   "source": []
  },
  {
   "cell_type": "markdown",
   "metadata": {},
   "source": [
    "### Turning categories into numbers "
   ]
  },
  {
   "cell_type": "markdown",
   "metadata": {},
   "source": [
    "#### One hot encoder \n",
    "\n",
    "[Explanation of OHE](https://hackernoon.com/what-is-one-hot-encoding-why-and-when-do-you-have-to-use-it-e3c6186d008f)"
   ]
  },
  {
   "cell_type": "code",
   "execution_count": 84,
   "metadata": {},
   "outputs": [
    {
     "data": {
      "text/plain": [
       "array([[0., 0., 0., ..., 0., 0., 0.],\n",
       "       [0., 0., 0., ..., 0., 0., 0.],\n",
       "       [0., 0., 0., ..., 0., 0., 0.],\n",
       "       ...,\n",
       "       [0., 0., 0., ..., 0., 0., 0.],\n",
       "       [0., 0., 0., ..., 0., 0., 0.],\n",
       "       [0., 0., 0., ..., 0., 0., 0.]])"
      ]
     },
     "execution_count": 84,
     "metadata": {},
     "output_type": "execute_result"
    }
   ],
   "source": [
    "#option 1 using OHE \n",
    "from sklearn.preprocessing import OneHotEncoder\n",
    "encoder = OneHotEncoder(handle_unknown='error', drop='first').fit(X_cat)\n",
    "encoded = encoder.transform(X_cat).toarray()\n",
    "encoded\n"
   ]
  },
  {
   "cell_type": "markdown",
   "metadata": {},
   "source": [
    "#### Label encoding \n",
    "\n",
    "[explanation of LE](https://www.geeksforgeeks.org/ml-label-encoding-of-datasets-in-python/)"
   ]
  },
  {
   "cell_type": "code",
   "execution_count": 86,
   "metadata": {},
   "outputs": [
    {
     "data": {
      "text/plain": [
       "array([1, 1, 0, ..., 0, 1, 1])"
      ]
     },
     "execution_count": 86,
     "metadata": {},
     "output_type": "execute_result"
    }
   ],
   "source": [
    "#option 1 using LE- orders by value counts\n",
    "#LE is for one column at the time\n",
    "from sklearn import preprocessing\n",
    "le = preprocessing.LabelEncoder()\n",
    "le.fit(X_cat['gender'])\n",
    "le.transform(X_cat['gender']) \n"
   ]
  },
  {
   "cell_type": "markdown",
   "metadata": {},
   "source": [
    "#### Get Dummies \n",
    "\n",
    "[explanation of getting dummies](https://www.geeksforgeeks.org/python-pandas-get_dummies-method/)"
   ]
  },
  {
   "cell_type": "code",
   "execution_count": 88,
   "metadata": {},
   "outputs": [],
   "source": [
    "X_cat_new=pd.get_dummies(X_cat, columns=['gender'])"
   ]
  },
  {
   "cell_type": "code",
   "execution_count": 89,
   "metadata": {},
   "outputs": [
    {
     "data": {
      "text/html": [
       "<div>\n",
       "<style scoped>\n",
       "    .dataframe tbody tr th:only-of-type {\n",
       "        vertical-align: middle;\n",
       "    }\n",
       "\n",
       "    .dataframe tbody tr th {\n",
       "        vertical-align: top;\n",
       "    }\n",
       "\n",
       "    .dataframe thead th {\n",
       "        text-align: right;\n",
       "    }\n",
       "</style>\n",
       "<table border=\"1\" class=\"dataframe\">\n",
       "  <thead>\n",
       "    <tr style=\"text-align: right;\">\n",
       "      <th></th>\n",
       "      <th>state</th>\n",
       "      <th>domain</th>\n",
       "      <th>gender_Female</th>\n",
       "      <th>gender_Male</th>\n",
       "      <th>gender_Unknown</th>\n",
       "    </tr>\n",
       "  </thead>\n",
       "  <tbody>\n",
       "    <tr>\n",
       "      <th>0</th>\n",
       "      <td>FL</td>\n",
       "      <td>C2</td>\n",
       "      <td>0</td>\n",
       "      <td>1</td>\n",
       "      <td>0</td>\n",
       "    </tr>\n",
       "    <tr>\n",
       "      <th>1</th>\n",
       "      <td>IL</td>\n",
       "      <td>T2</td>\n",
       "      <td>0</td>\n",
       "      <td>1</td>\n",
       "      <td>0</td>\n",
       "    </tr>\n",
       "    <tr>\n",
       "      <th>2</th>\n",
       "      <td>FL</td>\n",
       "      <td>C2</td>\n",
       "      <td>1</td>\n",
       "      <td>0</td>\n",
       "      <td>0</td>\n",
       "    </tr>\n",
       "    <tr>\n",
       "      <th>3</th>\n",
       "      <td>NC</td>\n",
       "      <td>T2</td>\n",
       "      <td>0</td>\n",
       "      <td>1</td>\n",
       "      <td>0</td>\n",
       "    </tr>\n",
       "    <tr>\n",
       "      <th>4</th>\n",
       "      <td>FL</td>\n",
       "      <td>C2</td>\n",
       "      <td>1</td>\n",
       "      <td>0</td>\n",
       "      <td>0</td>\n",
       "    </tr>\n",
       "    <tr>\n",
       "      <th>...</th>\n",
       "      <td>...</td>\n",
       "      <td>...</td>\n",
       "      <td>...</td>\n",
       "      <td>...</td>\n",
       "      <td>...</td>\n",
       "    </tr>\n",
       "    <tr>\n",
       "      <th>3988</th>\n",
       "      <td>MI</td>\n",
       "      <td>0</td>\n",
       "      <td>1</td>\n",
       "      <td>0</td>\n",
       "      <td>0</td>\n",
       "    </tr>\n",
       "    <tr>\n",
       "      <th>3989</th>\n",
       "      <td>FL</td>\n",
       "      <td>T2</td>\n",
       "      <td>0</td>\n",
       "      <td>1</td>\n",
       "      <td>0</td>\n",
       "    </tr>\n",
       "    <tr>\n",
       "      <th>3990</th>\n",
       "      <td>CA</td>\n",
       "      <td>U1</td>\n",
       "      <td>1</td>\n",
       "      <td>0</td>\n",
       "      <td>0</td>\n",
       "    </tr>\n",
       "    <tr>\n",
       "      <th>3991</th>\n",
       "      <td>CA</td>\n",
       "      <td>S1</td>\n",
       "      <td>0</td>\n",
       "      <td>1</td>\n",
       "      <td>0</td>\n",
       "    </tr>\n",
       "    <tr>\n",
       "      <th>3992</th>\n",
       "      <td>MI</td>\n",
       "      <td>R2</td>\n",
       "      <td>0</td>\n",
       "      <td>1</td>\n",
       "      <td>0</td>\n",
       "    </tr>\n",
       "  </tbody>\n",
       "</table>\n",
       "<p>3993 rows × 5 columns</p>\n",
       "</div>"
      ],
      "text/plain": [
       "     state domain  gender_Female  gender_Male  gender_Unknown\n",
       "0       FL     C2              0            1               0\n",
       "1       IL     T2              0            1               0\n",
       "2       FL     C2              1            0               0\n",
       "3       NC     T2              0            1               0\n",
       "4       FL     C2              1            0               0\n",
       "...    ...    ...            ...          ...             ...\n",
       "3988    MI      0              1            0               0\n",
       "3989    FL     T2              0            1               0\n",
       "3990    CA     U1              1            0               0\n",
       "3991    CA     S1              0            1               0\n",
       "3992    MI     R2              0            1               0\n",
       "\n",
       "[3993 rows x 5 columns]"
      ]
     },
     "execution_count": 89,
     "metadata": {},
     "output_type": "execute_result"
    }
   ],
   "source": [
    "X_cat_new"
   ]
  },
  {
   "cell_type": "code",
   "execution_count": 94,
   "metadata": {},
   "outputs": [],
   "source": [
    "X_cat_new=pd.get_dummies(X_cat, columns=['gender'],drop_first=True)"
   ]
  },
  {
   "cell_type": "code",
   "execution_count": 95,
   "metadata": {},
   "outputs": [
    {
     "data": {
      "text/html": [
       "<div>\n",
       "<style scoped>\n",
       "    .dataframe tbody tr th:only-of-type {\n",
       "        vertical-align: middle;\n",
       "    }\n",
       "\n",
       "    .dataframe tbody tr th {\n",
       "        vertical-align: top;\n",
       "    }\n",
       "\n",
       "    .dataframe thead th {\n",
       "        text-align: right;\n",
       "    }\n",
       "</style>\n",
       "<table border=\"1\" class=\"dataframe\">\n",
       "  <thead>\n",
       "    <tr style=\"text-align: right;\">\n",
       "      <th></th>\n",
       "      <th>state</th>\n",
       "      <th>domain</th>\n",
       "      <th>gender_Male</th>\n",
       "      <th>gender_Unknown</th>\n",
       "    </tr>\n",
       "  </thead>\n",
       "  <tbody>\n",
       "    <tr>\n",
       "      <th>0</th>\n",
       "      <td>FL</td>\n",
       "      <td>C2</td>\n",
       "      <td>1</td>\n",
       "      <td>0</td>\n",
       "    </tr>\n",
       "    <tr>\n",
       "      <th>1</th>\n",
       "      <td>IL</td>\n",
       "      <td>T2</td>\n",
       "      <td>1</td>\n",
       "      <td>0</td>\n",
       "    </tr>\n",
       "    <tr>\n",
       "      <th>2</th>\n",
       "      <td>FL</td>\n",
       "      <td>C2</td>\n",
       "      <td>0</td>\n",
       "      <td>0</td>\n",
       "    </tr>\n",
       "    <tr>\n",
       "      <th>3</th>\n",
       "      <td>NC</td>\n",
       "      <td>T2</td>\n",
       "      <td>1</td>\n",
       "      <td>0</td>\n",
       "    </tr>\n",
       "    <tr>\n",
       "      <th>4</th>\n",
       "      <td>FL</td>\n",
       "      <td>C2</td>\n",
       "      <td>0</td>\n",
       "      <td>0</td>\n",
       "    </tr>\n",
       "    <tr>\n",
       "      <th>...</th>\n",
       "      <td>...</td>\n",
       "      <td>...</td>\n",
       "      <td>...</td>\n",
       "      <td>...</td>\n",
       "    </tr>\n",
       "    <tr>\n",
       "      <th>3988</th>\n",
       "      <td>MI</td>\n",
       "      <td>0</td>\n",
       "      <td>0</td>\n",
       "      <td>0</td>\n",
       "    </tr>\n",
       "    <tr>\n",
       "      <th>3989</th>\n",
       "      <td>FL</td>\n",
       "      <td>T2</td>\n",
       "      <td>1</td>\n",
       "      <td>0</td>\n",
       "    </tr>\n",
       "    <tr>\n",
       "      <th>3990</th>\n",
       "      <td>CA</td>\n",
       "      <td>U1</td>\n",
       "      <td>0</td>\n",
       "      <td>0</td>\n",
       "    </tr>\n",
       "    <tr>\n",
       "      <th>3991</th>\n",
       "      <td>CA</td>\n",
       "      <td>S1</td>\n",
       "      <td>1</td>\n",
       "      <td>0</td>\n",
       "    </tr>\n",
       "    <tr>\n",
       "      <th>3992</th>\n",
       "      <td>MI</td>\n",
       "      <td>R2</td>\n",
       "      <td>1</td>\n",
       "      <td>0</td>\n",
       "    </tr>\n",
       "  </tbody>\n",
       "</table>\n",
       "<p>3993 rows × 4 columns</p>\n",
       "</div>"
      ],
      "text/plain": [
       "     state domain  gender_Male  gender_Unknown\n",
       "0       FL     C2            1               0\n",
       "1       IL     T2            1               0\n",
       "2       FL     C2            0               0\n",
       "3       NC     T2            1               0\n",
       "4       FL     C2            0               0\n",
       "...    ...    ...          ...             ...\n",
       "3988    MI      0            0               0\n",
       "3989    FL     T2            1               0\n",
       "3990    CA     U1            0               0\n",
       "3991    CA     S1            1               0\n",
       "3992    MI     R2            1               0\n",
       "\n",
       "[3993 rows x 4 columns]"
      ]
     },
     "execution_count": 95,
     "metadata": {},
     "output_type": "execute_result"
    }
   ],
   "source": [
    "X_cat_new"
   ]
  },
  {
   "cell_type": "code",
   "execution_count": 96,
   "metadata": {
    "scrolled": true
   },
   "outputs": [
    {
     "data": {
      "text/html": [
       "<div>\n",
       "<style scoped>\n",
       "    .dataframe tbody tr th:only-of-type {\n",
       "        vertical-align: middle;\n",
       "    }\n",
       "\n",
       "    .dataframe tbody tr th {\n",
       "        vertical-align: top;\n",
       "    }\n",
       "\n",
       "    .dataframe thead th {\n",
       "        text-align: right;\n",
       "    }\n",
       "</style>\n",
       "<table border=\"1\" class=\"dataframe\">\n",
       "  <thead>\n",
       "    <tr style=\"text-align: right;\">\n",
       "      <th></th>\n",
       "      <th>gender_Male</th>\n",
       "      <th>gender_Unknown</th>\n",
       "      <th>state_AE</th>\n",
       "      <th>state_AK</th>\n",
       "      <th>state_AL</th>\n",
       "      <th>state_AP</th>\n",
       "      <th>state_AR</th>\n",
       "      <th>state_AZ</th>\n",
       "      <th>state_Arizona</th>\n",
       "      <th>state_CA</th>\n",
       "      <th>...</th>\n",
       "      <th>domain_S1</th>\n",
       "      <th>domain_S2</th>\n",
       "      <th>domain_S3</th>\n",
       "      <th>domain_T1</th>\n",
       "      <th>domain_T2</th>\n",
       "      <th>domain_T3</th>\n",
       "      <th>domain_U1</th>\n",
       "      <th>domain_U2</th>\n",
       "      <th>domain_U3</th>\n",
       "      <th>domain_U4</th>\n",
       "    </tr>\n",
       "  </thead>\n",
       "  <tbody>\n",
       "    <tr>\n",
       "      <th>0</th>\n",
       "      <td>1</td>\n",
       "      <td>0</td>\n",
       "      <td>0</td>\n",
       "      <td>0</td>\n",
       "      <td>0</td>\n",
       "      <td>0</td>\n",
       "      <td>0</td>\n",
       "      <td>0</td>\n",
       "      <td>0</td>\n",
       "      <td>0</td>\n",
       "      <td>...</td>\n",
       "      <td>0</td>\n",
       "      <td>0</td>\n",
       "      <td>0</td>\n",
       "      <td>0</td>\n",
       "      <td>0</td>\n",
       "      <td>0</td>\n",
       "      <td>0</td>\n",
       "      <td>0</td>\n",
       "      <td>0</td>\n",
       "      <td>0</td>\n",
       "    </tr>\n",
       "    <tr>\n",
       "      <th>1</th>\n",
       "      <td>1</td>\n",
       "      <td>0</td>\n",
       "      <td>0</td>\n",
       "      <td>0</td>\n",
       "      <td>0</td>\n",
       "      <td>0</td>\n",
       "      <td>0</td>\n",
       "      <td>0</td>\n",
       "      <td>0</td>\n",
       "      <td>0</td>\n",
       "      <td>...</td>\n",
       "      <td>0</td>\n",
       "      <td>0</td>\n",
       "      <td>0</td>\n",
       "      <td>0</td>\n",
       "      <td>1</td>\n",
       "      <td>0</td>\n",
       "      <td>0</td>\n",
       "      <td>0</td>\n",
       "      <td>0</td>\n",
       "      <td>0</td>\n",
       "    </tr>\n",
       "    <tr>\n",
       "      <th>2</th>\n",
       "      <td>0</td>\n",
       "      <td>0</td>\n",
       "      <td>0</td>\n",
       "      <td>0</td>\n",
       "      <td>0</td>\n",
       "      <td>0</td>\n",
       "      <td>0</td>\n",
       "      <td>0</td>\n",
       "      <td>0</td>\n",
       "      <td>0</td>\n",
       "      <td>...</td>\n",
       "      <td>0</td>\n",
       "      <td>0</td>\n",
       "      <td>0</td>\n",
       "      <td>0</td>\n",
       "      <td>0</td>\n",
       "      <td>0</td>\n",
       "      <td>0</td>\n",
       "      <td>0</td>\n",
       "      <td>0</td>\n",
       "      <td>0</td>\n",
       "    </tr>\n",
       "    <tr>\n",
       "      <th>3</th>\n",
       "      <td>1</td>\n",
       "      <td>0</td>\n",
       "      <td>0</td>\n",
       "      <td>0</td>\n",
       "      <td>0</td>\n",
       "      <td>0</td>\n",
       "      <td>0</td>\n",
       "      <td>0</td>\n",
       "      <td>0</td>\n",
       "      <td>0</td>\n",
       "      <td>...</td>\n",
       "      <td>0</td>\n",
       "      <td>0</td>\n",
       "      <td>0</td>\n",
       "      <td>0</td>\n",
       "      <td>1</td>\n",
       "      <td>0</td>\n",
       "      <td>0</td>\n",
       "      <td>0</td>\n",
       "      <td>0</td>\n",
       "      <td>0</td>\n",
       "    </tr>\n",
       "    <tr>\n",
       "      <th>4</th>\n",
       "      <td>0</td>\n",
       "      <td>0</td>\n",
       "      <td>0</td>\n",
       "      <td>0</td>\n",
       "      <td>0</td>\n",
       "      <td>0</td>\n",
       "      <td>0</td>\n",
       "      <td>0</td>\n",
       "      <td>0</td>\n",
       "      <td>0</td>\n",
       "      <td>...</td>\n",
       "      <td>0</td>\n",
       "      <td>0</td>\n",
       "      <td>0</td>\n",
       "      <td>0</td>\n",
       "      <td>0</td>\n",
       "      <td>0</td>\n",
       "      <td>0</td>\n",
       "      <td>0</td>\n",
       "      <td>0</td>\n",
       "      <td>0</td>\n",
       "    </tr>\n",
       "    <tr>\n",
       "      <th>...</th>\n",
       "      <td>...</td>\n",
       "      <td>...</td>\n",
       "      <td>...</td>\n",
       "      <td>...</td>\n",
       "      <td>...</td>\n",
       "      <td>...</td>\n",
       "      <td>...</td>\n",
       "      <td>...</td>\n",
       "      <td>...</td>\n",
       "      <td>...</td>\n",
       "      <td>...</td>\n",
       "      <td>...</td>\n",
       "      <td>...</td>\n",
       "      <td>...</td>\n",
       "      <td>...</td>\n",
       "      <td>...</td>\n",
       "      <td>...</td>\n",
       "      <td>...</td>\n",
       "      <td>...</td>\n",
       "      <td>...</td>\n",
       "      <td>...</td>\n",
       "    </tr>\n",
       "    <tr>\n",
       "      <th>3988</th>\n",
       "      <td>0</td>\n",
       "      <td>0</td>\n",
       "      <td>0</td>\n",
       "      <td>0</td>\n",
       "      <td>0</td>\n",
       "      <td>0</td>\n",
       "      <td>0</td>\n",
       "      <td>0</td>\n",
       "      <td>0</td>\n",
       "      <td>0</td>\n",
       "      <td>...</td>\n",
       "      <td>0</td>\n",
       "      <td>0</td>\n",
       "      <td>0</td>\n",
       "      <td>0</td>\n",
       "      <td>0</td>\n",
       "      <td>0</td>\n",
       "      <td>0</td>\n",
       "      <td>0</td>\n",
       "      <td>0</td>\n",
       "      <td>0</td>\n",
       "    </tr>\n",
       "    <tr>\n",
       "      <th>3989</th>\n",
       "      <td>1</td>\n",
       "      <td>0</td>\n",
       "      <td>0</td>\n",
       "      <td>0</td>\n",
       "      <td>0</td>\n",
       "      <td>0</td>\n",
       "      <td>0</td>\n",
       "      <td>0</td>\n",
       "      <td>0</td>\n",
       "      <td>0</td>\n",
       "      <td>...</td>\n",
       "      <td>0</td>\n",
       "      <td>0</td>\n",
       "      <td>0</td>\n",
       "      <td>0</td>\n",
       "      <td>1</td>\n",
       "      <td>0</td>\n",
       "      <td>0</td>\n",
       "      <td>0</td>\n",
       "      <td>0</td>\n",
       "      <td>0</td>\n",
       "    </tr>\n",
       "    <tr>\n",
       "      <th>3990</th>\n",
       "      <td>0</td>\n",
       "      <td>0</td>\n",
       "      <td>0</td>\n",
       "      <td>0</td>\n",
       "      <td>0</td>\n",
       "      <td>0</td>\n",
       "      <td>0</td>\n",
       "      <td>0</td>\n",
       "      <td>0</td>\n",
       "      <td>1</td>\n",
       "      <td>...</td>\n",
       "      <td>0</td>\n",
       "      <td>0</td>\n",
       "      <td>0</td>\n",
       "      <td>0</td>\n",
       "      <td>0</td>\n",
       "      <td>0</td>\n",
       "      <td>1</td>\n",
       "      <td>0</td>\n",
       "      <td>0</td>\n",
       "      <td>0</td>\n",
       "    </tr>\n",
       "    <tr>\n",
       "      <th>3991</th>\n",
       "      <td>1</td>\n",
       "      <td>0</td>\n",
       "      <td>0</td>\n",
       "      <td>0</td>\n",
       "      <td>0</td>\n",
       "      <td>0</td>\n",
       "      <td>0</td>\n",
       "      <td>0</td>\n",
       "      <td>0</td>\n",
       "      <td>1</td>\n",
       "      <td>...</td>\n",
       "      <td>1</td>\n",
       "      <td>0</td>\n",
       "      <td>0</td>\n",
       "      <td>0</td>\n",
       "      <td>0</td>\n",
       "      <td>0</td>\n",
       "      <td>0</td>\n",
       "      <td>0</td>\n",
       "      <td>0</td>\n",
       "      <td>0</td>\n",
       "    </tr>\n",
       "    <tr>\n",
       "      <th>3992</th>\n",
       "      <td>1</td>\n",
       "      <td>0</td>\n",
       "      <td>0</td>\n",
       "      <td>0</td>\n",
       "      <td>0</td>\n",
       "      <td>0</td>\n",
       "      <td>0</td>\n",
       "      <td>0</td>\n",
       "      <td>0</td>\n",
       "      <td>0</td>\n",
       "      <td>...</td>\n",
       "      <td>0</td>\n",
       "      <td>0</td>\n",
       "      <td>0</td>\n",
       "      <td>0</td>\n",
       "      <td>0</td>\n",
       "      <td>0</td>\n",
       "      <td>0</td>\n",
       "      <td>0</td>\n",
       "      <td>0</td>\n",
       "      <td>0</td>\n",
       "    </tr>\n",
       "  </tbody>\n",
       "</table>\n",
       "<p>3993 rows × 69 columns</p>\n",
       "</div>"
      ],
      "text/plain": [
       "      gender_Male  gender_Unknown  state_AE  state_AK  state_AL  state_AP  \\\n",
       "0               1               0         0         0         0         0   \n",
       "1               1               0         0         0         0         0   \n",
       "2               0               0         0         0         0         0   \n",
       "3               1               0         0         0         0         0   \n",
       "4               0               0         0         0         0         0   \n",
       "...           ...             ...       ...       ...       ...       ...   \n",
       "3988            0               0         0         0         0         0   \n",
       "3989            1               0         0         0         0         0   \n",
       "3990            0               0         0         0         0         0   \n",
       "3991            1               0         0         0         0         0   \n",
       "3992            1               0         0         0         0         0   \n",
       "\n",
       "      state_AR  state_AZ  state_Arizona  state_CA  ...  domain_S1  domain_S2  \\\n",
       "0            0         0              0         0  ...          0          0   \n",
       "1            0         0              0         0  ...          0          0   \n",
       "2            0         0              0         0  ...          0          0   \n",
       "3            0         0              0         0  ...          0          0   \n",
       "4            0         0              0         0  ...          0          0   \n",
       "...        ...       ...            ...       ...  ...        ...        ...   \n",
       "3988         0         0              0         0  ...          0          0   \n",
       "3989         0         0              0         0  ...          0          0   \n",
       "3990         0         0              0         1  ...          0          0   \n",
       "3991         0         0              0         1  ...          1          0   \n",
       "3992         0         0              0         0  ...          0          0   \n",
       "\n",
       "      domain_S3  domain_T1  domain_T2  domain_T3  domain_U1  domain_U2  \\\n",
       "0             0          0          0          0          0          0   \n",
       "1             0          0          1          0          0          0   \n",
       "2             0          0          0          0          0          0   \n",
       "3             0          0          1          0          0          0   \n",
       "4             0          0          0          0          0          0   \n",
       "...         ...        ...        ...        ...        ...        ...   \n",
       "3988          0          0          0          0          0          0   \n",
       "3989          0          0          1          0          0          0   \n",
       "3990          0          0          0          0          1          0   \n",
       "3991          0          0          0          0          0          0   \n",
       "3992          0          0          0          0          0          0   \n",
       "\n",
       "      domain_U3  domain_U4  \n",
       "0             0          0  \n",
       "1             0          0  \n",
       "2             0          0  \n",
       "3             0          0  \n",
       "4             0          0  \n",
       "...         ...        ...  \n",
       "3988          0          0  \n",
       "3989          0          0  \n",
       "3990          0          0  \n",
       "3991          0          0  \n",
       "3992          0          0  \n",
       "\n",
       "[3993 rows x 69 columns]"
      ]
     },
     "execution_count": 96,
     "metadata": {},
     "output_type": "execute_result"
    }
   ],
   "source": [
    "X_cat_new=pd.get_dummies(X_cat, columns=['gender','state','domain'],drop_first=True)\n",
    "X_cat_new"
   ]
  },
  {
   "cell_type": "code",
   "execution_count": 101,
   "metadata": {},
   "outputs": [
    {
     "ename": "Exception",
     "evalue": "Data must be 1-dimensional",
     "output_type": "error",
     "traceback": [
      "\u001b[1;31m---------------------------------------------------------------------------\u001b[0m",
      "\u001b[1;31mException\u001b[0m                                 Traceback (most recent call last)",
      "\u001b[1;32m<ipython-input-101-280a23d629f6>\u001b[0m in \u001b[0;36m<module>\u001b[1;34m\u001b[0m\n\u001b[1;32m----> 1\u001b[1;33m \u001b[0mX_cat_new\u001b[0m\u001b[1;33m=\u001b[0m\u001b[0mpd\u001b[0m\u001b[1;33m.\u001b[0m\u001b[0mget_dummies\u001b[0m\u001b[1;33m(\u001b[0m\u001b[0mX_cat\u001b[0m\u001b[1;33m,\u001b[0m \u001b[0mcolumns\u001b[0m\u001b[1;33m=\u001b[0m\u001b[1;33m[\u001b[0m\u001b[1;34m'gender'\u001b[0m\u001b[1;33m,\u001b[0m\u001b[1;34m'state'\u001b[0m\u001b[1;33m,\u001b[0m\u001b[1;34m'domain'\u001b[0m\u001b[1;33m]\u001b[0m\u001b[1;33m)\u001b[0m\u001b[1;33m\u001b[0m\u001b[1;33m\u001b[0m\u001b[0m\n\u001b[0m\u001b[0;32m      2\u001b[0m \u001b[0mX_cat_new\u001b[0m\u001b[1;33m\u001b[0m\u001b[1;33m\u001b[0m\u001b[0m\n",
      "\u001b[1;32mC:\\ProgramData\\Anaconda3\\lib\\site-packages\\pandas\\core\\reshape\\reshape.py\u001b[0m in \u001b[0;36mget_dummies\u001b[1;34m(data, prefix, prefix_sep, dummy_na, columns, sparse, drop_first, dtype)\u001b[0m\n\u001b[0;32m    899\u001b[0m         \u001b[0mresult\u001b[0m \u001b[1;33m=\u001b[0m \u001b[0mconcat\u001b[0m\u001b[1;33m(\u001b[0m\u001b[0mwith_dummies\u001b[0m\u001b[1;33m,\u001b[0m \u001b[0maxis\u001b[0m\u001b[1;33m=\u001b[0m\u001b[1;36m1\u001b[0m\u001b[1;33m)\u001b[0m\u001b[1;33m\u001b[0m\u001b[1;33m\u001b[0m\u001b[0m\n\u001b[0;32m    900\u001b[0m     \u001b[1;32melse\u001b[0m\u001b[1;33m:\u001b[0m\u001b[1;33m\u001b[0m\u001b[1;33m\u001b[0m\u001b[0m\n\u001b[1;32m--> 901\u001b[1;33m         result = _get_dummies_1d(\n\u001b[0m\u001b[0;32m    902\u001b[0m             \u001b[0mdata\u001b[0m\u001b[1;33m,\u001b[0m\u001b[1;33m\u001b[0m\u001b[1;33m\u001b[0m\u001b[0m\n\u001b[0;32m    903\u001b[0m             \u001b[0mprefix\u001b[0m\u001b[1;33m,\u001b[0m\u001b[1;33m\u001b[0m\u001b[1;33m\u001b[0m\u001b[0m\n",
      "\u001b[1;32mC:\\ProgramData\\Anaconda3\\lib\\site-packages\\pandas\\core\\reshape\\reshape.py\u001b[0m in \u001b[0;36m_get_dummies_1d\u001b[1;34m(data, prefix, prefix_sep, dummy_na, sparse, drop_first, dtype)\u001b[0m\n\u001b[0;32m    923\u001b[0m \u001b[1;33m\u001b[0m\u001b[0m\n\u001b[0;32m    924\u001b[0m     \u001b[1;31m# Series avoids inconsistent NaN handling\u001b[0m\u001b[1;33m\u001b[0m\u001b[1;33m\u001b[0m\u001b[1;33m\u001b[0m\u001b[0m\n\u001b[1;32m--> 925\u001b[1;33m     \u001b[0mcodes\u001b[0m\u001b[1;33m,\u001b[0m \u001b[0mlevels\u001b[0m \u001b[1;33m=\u001b[0m \u001b[0mfactorize_from_iterable\u001b[0m\u001b[1;33m(\u001b[0m\u001b[0mSeries\u001b[0m\u001b[1;33m(\u001b[0m\u001b[0mdata\u001b[0m\u001b[1;33m)\u001b[0m\u001b[1;33m)\u001b[0m\u001b[1;33m\u001b[0m\u001b[1;33m\u001b[0m\u001b[0m\n\u001b[0m\u001b[0;32m    926\u001b[0m \u001b[1;33m\u001b[0m\u001b[0m\n\u001b[0;32m    927\u001b[0m     \u001b[1;32mif\u001b[0m \u001b[0mdtype\u001b[0m \u001b[1;32mis\u001b[0m \u001b[1;32mNone\u001b[0m\u001b[1;33m:\u001b[0m\u001b[1;33m\u001b[0m\u001b[1;33m\u001b[0m\u001b[0m\n",
      "\u001b[1;32mC:\\ProgramData\\Anaconda3\\lib\\site-packages\\pandas\\core\\series.py\u001b[0m in \u001b[0;36m__init__\u001b[1;34m(self, data, index, dtype, name, copy, fastpath)\u001b[0m\n\u001b[0;32m    325\u001b[0m                     \u001b[0mdata\u001b[0m \u001b[1;33m=\u001b[0m \u001b[0mdata\u001b[0m\u001b[1;33m.\u001b[0m\u001b[0mcopy\u001b[0m\u001b[1;33m(\u001b[0m\u001b[1;33m)\u001b[0m\u001b[1;33m\u001b[0m\u001b[1;33m\u001b[0m\u001b[0m\n\u001b[0;32m    326\u001b[0m             \u001b[1;32melse\u001b[0m\u001b[1;33m:\u001b[0m\u001b[1;33m\u001b[0m\u001b[1;33m\u001b[0m\u001b[0m\n\u001b[1;32m--> 327\u001b[1;33m                 \u001b[0mdata\u001b[0m \u001b[1;33m=\u001b[0m \u001b[0msanitize_array\u001b[0m\u001b[1;33m(\u001b[0m\u001b[0mdata\u001b[0m\u001b[1;33m,\u001b[0m \u001b[0mindex\u001b[0m\u001b[1;33m,\u001b[0m \u001b[0mdtype\u001b[0m\u001b[1;33m,\u001b[0m \u001b[0mcopy\u001b[0m\u001b[1;33m,\u001b[0m \u001b[0mraise_cast_failure\u001b[0m\u001b[1;33m=\u001b[0m\u001b[1;32mTrue\u001b[0m\u001b[1;33m)\u001b[0m\u001b[1;33m\u001b[0m\u001b[1;33m\u001b[0m\u001b[0m\n\u001b[0m\u001b[0;32m    328\u001b[0m \u001b[1;33m\u001b[0m\u001b[0m\n\u001b[0;32m    329\u001b[0m                 \u001b[0mdata\u001b[0m \u001b[1;33m=\u001b[0m \u001b[0mSingleBlockManager\u001b[0m\u001b[1;33m.\u001b[0m\u001b[0mfrom_array\u001b[0m\u001b[1;33m(\u001b[0m\u001b[0mdata\u001b[0m\u001b[1;33m,\u001b[0m \u001b[0mindex\u001b[0m\u001b[1;33m)\u001b[0m\u001b[1;33m\u001b[0m\u001b[1;33m\u001b[0m\u001b[0m\n",
      "\u001b[1;32mC:\\ProgramData\\Anaconda3\\lib\\site-packages\\pandas\\core\\construction.py\u001b[0m in \u001b[0;36msanitize_array\u001b[1;34m(data, index, dtype, copy, raise_cast_failure)\u001b[0m\n\u001b[0;32m    494\u001b[0m     \u001b[1;32melif\u001b[0m \u001b[0msubarr\u001b[0m\u001b[1;33m.\u001b[0m\u001b[0mndim\u001b[0m \u001b[1;33m>\u001b[0m \u001b[1;36m1\u001b[0m\u001b[1;33m:\u001b[0m\u001b[1;33m\u001b[0m\u001b[1;33m\u001b[0m\u001b[0m\n\u001b[0;32m    495\u001b[0m         \u001b[1;32mif\u001b[0m \u001b[0misinstance\u001b[0m\u001b[1;33m(\u001b[0m\u001b[0mdata\u001b[0m\u001b[1;33m,\u001b[0m \u001b[0mnp\u001b[0m\u001b[1;33m.\u001b[0m\u001b[0mndarray\u001b[0m\u001b[1;33m)\u001b[0m\u001b[1;33m:\u001b[0m\u001b[1;33m\u001b[0m\u001b[1;33m\u001b[0m\u001b[0m\n\u001b[1;32m--> 496\u001b[1;33m             \u001b[1;32mraise\u001b[0m \u001b[0mException\u001b[0m\u001b[1;33m(\u001b[0m\u001b[1;34m\"Data must be 1-dimensional\"\u001b[0m\u001b[1;33m)\u001b[0m\u001b[1;33m\u001b[0m\u001b[1;33m\u001b[0m\u001b[0m\n\u001b[0m\u001b[0;32m    497\u001b[0m         \u001b[1;32melse\u001b[0m\u001b[1;33m:\u001b[0m\u001b[1;33m\u001b[0m\u001b[1;33m\u001b[0m\u001b[0m\n\u001b[0;32m    498\u001b[0m             \u001b[0msubarr\u001b[0m \u001b[1;33m=\u001b[0m \u001b[0mcom\u001b[0m\u001b[1;33m.\u001b[0m\u001b[0masarray_tuplesafe\u001b[0m\u001b[1;33m(\u001b[0m\u001b[0mdata\u001b[0m\u001b[1;33m,\u001b[0m \u001b[0mdtype\u001b[0m\u001b[1;33m=\u001b[0m\u001b[0mdtype\u001b[0m\u001b[1;33m)\u001b[0m\u001b[1;33m\u001b[0m\u001b[1;33m\u001b[0m\u001b[0m\n",
      "\u001b[1;31mException\u001b[0m: Data must be 1-dimensional"
     ]
    }
   ],
   "source": [
    "X_cat_new=pd.get_dummies(X_cat, columns=['gender','state','domain'])\n",
    "X_cat_new"
   ]
  },
  {
   "cell_type": "markdown",
   "metadata": {},
   "source": [
    "### select which categorical transformation process you will use - this replaces X_cat"
   ]
  },
  {
   "cell_type": "code",
   "execution_count": 97,
   "metadata": {},
   "outputs": [],
   "source": [
    "X_cat=encoded"
   ]
  },
  {
   "cell_type": "code",
   "execution_count": 98,
   "metadata": {},
   "outputs": [
    {
     "data": {
      "text/plain": [
       "(3993,)"
      ]
     },
     "execution_count": 98,
     "metadata": {},
     "output_type": "execute_result"
    }
   ],
   "source": [
    "y.shape"
   ]
  },
  {
   "cell_type": "code",
   "execution_count": 99,
   "metadata": {},
   "outputs": [
    {
     "data": {
      "text/plain": [
       "(3993, 69)"
      ]
     },
     "execution_count": 99,
     "metadata": {},
     "output_type": "execute_result"
    }
   ],
   "source": [
    "X_cat.shape"
   ]
  },
  {
   "cell_type": "code",
   "execution_count": 100,
   "metadata": {},
   "outputs": [
    {
     "data": {
      "text/plain": [
       "(3993, 8)"
      ]
     },
     "execution_count": 100,
     "metadata": {},
     "output_type": "execute_result"
    }
   ],
   "source": [
    "X_num.shape"
   ]
  },
  {
   "cell_type": "code",
   "execution_count": null,
   "metadata": {},
   "outputs": [],
   "source": []
  },
  {
   "cell_type": "markdown",
   "metadata": {},
   "source": [
    "# bring categorical and numerical X back together \n",
    "\n",
    "\n",
    "**check the shape of the arrays to ensure no rows have been lost**"
   ]
  },
  {
   "cell_type": "code",
   "execution_count": 103,
   "metadata": {
    "run_control": {
     "marked": true
    }
   },
   "outputs": [],
   "source": [
    "X=np.concatenate((X_num,X_cat),axis=1)"
   ]
  },
  {
   "cell_type": "code",
   "execution_count": 104,
   "metadata": {},
   "outputs": [
    {
     "data": {
      "text/plain": [
       "(3993,)"
      ]
     },
     "execution_count": 104,
     "metadata": {},
     "output_type": "execute_result"
    }
   ],
   "source": [
    "y.shape"
   ]
  },
  {
   "cell_type": "code",
   "execution_count": null,
   "metadata": {},
   "outputs": [],
   "source": []
  },
  {
   "cell_type": "code",
   "execution_count": null,
   "metadata": {},
   "outputs": [],
   "source": []
  },
  {
   "cell_type": "markdown",
   "metadata": {},
   "source": [
    "**check the shape of the y array, X and y should have an equal no of rows**\n"
   ]
  },
  {
   "cell_type": "code",
   "execution_count": null,
   "metadata": {},
   "outputs": [],
   "source": []
  },
  {
   "cell_type": "code",
   "execution_count": null,
   "metadata": {},
   "outputs": [],
   "source": []
  },
  {
   "cell_type": "markdown",
   "metadata": {},
   "source": [
    "# Split the data into train and test, randomly, as a %, using \n",
    "\n",
    "> from sklearn.model_selection import train_test_split\n"
   ]
  },
  {
   "cell_type": "code",
   "execution_count": 105,
   "metadata": {},
   "outputs": [],
   "source": [
    "from sklearn.model_selection import train_test_split"
   ]
  },
  {
   "cell_type": "code",
   "execution_count": 107,
   "metadata": {},
   "outputs": [],
   "source": [
    "X_train, X_test, y_train, y_test=train_test_split(X,y, test_size=0.4, random_state=40)"
   ]
  },
  {
   "cell_type": "raw",
   "metadata": {},
   "source": []
  },
  {
   "cell_type": "code",
   "execution_count": null,
   "metadata": {},
   "outputs": [],
   "source": []
  },
  {
   "cell_type": "markdown",
   "metadata": {},
   "source": [
    "# Apply the model again - to pre processed data"
   ]
  },
  {
   "cell_type": "markdown",
   "metadata": {},
   "source": [
    "## confirm our objective :\n",
    "+ what are we seeking to predict \n",
    "+ how will we measure our success? "
   ]
  },
  {
   "cell_type": "code",
   "execution_count": 109,
   "metadata": {},
   "outputs": [
    {
     "data": {
      "text/plain": [
       "-1.78270943021244e+20"
      ]
     },
     "execution_count": 109,
     "metadata": {},
     "output_type": "execute_result"
    }
   ],
   "source": [
    "# apply the model\n",
    "lm=linear_model.LinearRegression()\n",
    "model=lm.fit(X_train,y_train) #teach  the model to find the line to best fit\n",
    "predictions=lm.predict(X_test) #run predictions based on X_test (we cannot see y_test)\n",
    "r2_score(y_test,predictions) #compare y_test to predictions"
   ]
  },
  {
   "cell_type": "code",
   "execution_count": null,
   "metadata": {},
   "outputs": [],
   "source": []
  },
  {
   "cell_type": "code",
   "execution_count": null,
   "metadata": {},
   "outputs": [],
   "source": []
  },
  {
   "cell_type": "code",
   "execution_count": null,
   "metadata": {},
   "outputs": [],
   "source": []
  },
  {
   "cell_type": "markdown",
   "metadata": {},
   "source": [
    "## Additional Evaluation Metrics for LR\n",
    "\n",
    "https://medium.com/analytics-vidhya/mae-mse-rmse-coefficient-of-determination-adjusted-r-squared-which-metric-is-better-cd0326a5697e"
   ]
  },
  {
   "cell_type": "markdown",
   "metadata": {},
   "source": [
    "MSE (mean squared error) represents the average of the squared difference between the original and predicted values in the data set. It measures the variance of the residuals.\n",
    "\n",
    "\n",
    "A residual is the vertical distance between a data point and the regression line. Each data point has one residual. They are positive if they are above the regression line and negative if they are below the regression line. ... In other words, the residual is the error that isn't explained by the regression line"
   ]
  },
  {
   "cell_type": "code",
   "execution_count": 110,
   "metadata": {},
   "outputs": [],
   "source": [
    "mse=mean_squared_error(y_test, predictions)"
   ]
  },
  {
   "cell_type": "markdown",
   "metadata": {},
   "source": []
  },
  {
   "cell_type": "markdown",
   "metadata": {},
   "source": []
  },
  {
   "cell_type": "markdown",
   "metadata": {},
   "source": [
    "RMSE (Root Mean Squared Error) is the square root of Mean Squared error. It measures the standard deviation of residuals."
   ]
  },
  {
   "cell_type": "code",
   "execution_count": null,
   "metadata": {},
   "outputs": [],
   "source": []
  },
  {
   "cell_type": "code",
   "execution_count": null,
   "metadata": {},
   "outputs": [],
   "source": []
  },
  {
   "cell_type": "markdown",
   "metadata": {},
   "source": [
    "Lets calculate R2 again and see if it has improved after pre processing "
   ]
  },
  {
   "cell_type": "code",
   "execution_count": null,
   "metadata": {},
   "outputs": [],
   "source": []
  },
  {
   "cell_type": "code",
   "execution_count": null,
   "metadata": {},
   "outputs": [],
   "source": []
  },
  {
   "cell_type": "markdown",
   "metadata": {},
   "source": [
    "The adjusted R-squared is a modified version of R-squared that adjusts for the number of predictors in a regression model. It is calculated as:\n",
    "\n",
    "Adjusted R2 = 1 – [(1-R2)*(n-1)/(n-p-1)]\n",
    "\n",
    "where:\n",
    "\n",
    "* R2: The R2 of the model\n",
    "* n: The number of observations\n",
    "* p: The number of predictor variables"
   ]
  },
  {
   "cell_type": "code",
   "execution_count": null,
   "metadata": {},
   "outputs": [],
   "source": []
  },
  {
   "cell_type": "code",
   "execution_count": null,
   "metadata": {},
   "outputs": [],
   "source": []
  },
  {
   "cell_type": "markdown",
   "metadata": {},
   "source": [
    "# How might we improve our model? Why is our LR model so inaccurate? "
   ]
  },
  {
   "cell_type": "code",
   "execution_count": null,
   "metadata": {},
   "outputs": [],
   "source": []
  },
  {
   "cell_type": "code",
   "execution_count": null,
   "metadata": {},
   "outputs": [],
   "source": []
  },
  {
   "cell_type": "code",
   "execution_count": null,
   "metadata": {},
   "outputs": [],
   "source": []
  },
  {
   "cell_type": "code",
   "execution_count": null,
   "metadata": {},
   "outputs": [],
   "source": []
  }
 ],
 "metadata": {
  "kernelspec": {
   "display_name": "Python 3",
   "language": "python",
   "name": "python3"
  },
  "language_info": {
   "codemirror_mode": {
    "name": "ipython",
    "version": 3
   },
   "file_extension": ".py",
   "mimetype": "text/x-python",
   "name": "python",
   "nbconvert_exporter": "python",
   "pygments_lexer": "ipython3",
   "version": "3.8.5"
  },
  "latex_envs": {
   "LaTeX_envs_menu_present": true,
   "autoclose": true,
   "autocomplete": true,
   "bibliofile": "biblio.bib",
   "cite_by": "apalike",
   "current_citInitial": 1,
   "eqLabelWithNumbers": true,
   "eqNumInitial": 1,
   "hotkeys": {
    "equation": "Ctrl-E",
    "itemize": "Ctrl-I"
   },
   "labels_anchors": false,
   "latex_user_defs": false,
   "report_style_numbering": false,
   "user_envs_cfg": true
  },
  "toc": {
   "base_numbering": 1,
   "nav_menu": {},
   "number_sections": true,
   "sideBar": true,
   "skip_h1_title": false,
   "title_cell": "Table of Contents",
   "title_sidebar": "Contents",
   "toc_cell": false,
   "toc_position": {},
   "toc_section_display": true,
   "toc_window_display": false
  },
  "varInspector": {
   "cols": {
    "lenName": 16,
    "lenType": 16,
    "lenVar": 40
   },
   "kernels_config": {
    "python": {
     "delete_cmd_postfix": "",
     "delete_cmd_prefix": "del ",
     "library": "var_list.py",
     "varRefreshCmd": "print(var_dic_list())"
    },
    "r": {
     "delete_cmd_postfix": ") ",
     "delete_cmd_prefix": "rm(",
     "library": "var_list.r",
     "varRefreshCmd": "cat(var_dic_list()) "
    }
   },
   "types_to_exclude": [
    "module",
    "function",
    "builtin_function_or_method",
    "instance",
    "_Feature"
   ],
   "window_display": false
  }
 },
 "nbformat": 4,
 "nbformat_minor": 2
}
