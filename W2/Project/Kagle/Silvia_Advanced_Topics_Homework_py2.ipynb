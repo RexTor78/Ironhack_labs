{
 "cells": [
  {
   "cell_type": "markdown",
   "metadata": {},
   "source": [
    "<p><a name=\"home\"></a></p>\n",
    "# Homework"
   ]
  },
  {
   "cell_type": "markdown",
   "metadata": {},
   "source": [
    "### Problem 1\n",
    "\n",
    "- Define a function called `search()` that takes a keyword and the name of a file as input. \n",
    "- Open the file and iterate through the file object line by line. If you find the keyword in the line, yield it.\n",
    "- Also show how would you call the function and iterate through the generator."
   ]
  },
  {
   "cell_type": "code",
   "execution_count": 12,
   "metadata": {},
   "outputs": [],
   "source": [
    "def search(keyword, filename):\n",
    "    f = open(filename,'r')\n",
    "    lines = r.readlines()\n",
    "    for i in lines:\n",
    "        if keyword in i:\n",
    "            yield i"
   ]
  },
  {
   "cell_type": "markdown",
   "metadata": {},
   "source": [
    "### Problem 2\n",
    "\n",
    "Flatten a list:\n",
    "\n",
    "- Write a function called `chain_list()` to turn [[1, 2, 3], [4, 5], [6, 7, 8]] into [1, 2, 3, 4, 5, 6, 7, 8].\n",
    "- Check the [itertools](https://docs.python.org/2/library/itertools.html) packages and see if you can find a function that does the same thing. **Note**: it returns a generator instead of a list."
   ]
  },
  {
   "cell_type": "code",
   "execution_count": 14,
   "metadata": {},
   "outputs": [],
   "source": [
    "import itertools as it"
   ]
  },
  {
   "cell_type": "code",
   "execution_count": 40,
   "metadata": {},
   "outputs": [],
   "source": [
    "def chain_list(nested_list):\n",
    "    L = []\n",
    "    for innerlist in nested_list:\n",
    "        for i in innerlist:\n",
    "            L += [i]\n",
    "    return L"
   ]
  },
  {
   "cell_type": "code",
   "execution_count": 41,
   "metadata": {},
   "outputs": [
    {
     "data": {
      "text/plain": [
       "[1, 2, 3, 4, 5, 6, 7, 8]"
      ]
     },
     "execution_count": 41,
     "metadata": {},
     "output_type": "execute_result"
    }
   ],
   "source": [
    "chain_list([[1, 2, 3], [4, 5], [6, 7, 8]])"
   ]
  },
  {
   "cell_type": "markdown",
   "metadata": {},
   "source": [
    "### Problem 3\n",
    "\n",
    "- Create a class called `BankAccount` with the following attributes and methods:\n",
    " - Attributes: \n",
    "   - name(string): instance variable, make it private;\n",
    "   - balance(number): instance variable, make it private;\n",
    " - Methods: \n",
    "   - `__init__(self, name, balance)`: initialize a BankAccount object with a string and a number.\n",
    "   - `deposit(self, n)`: add n to the balance\n",
    "   - `withdraw(self, n)`: subtract n from the balance, if n > balance, `raise ValueError(\"You don't have enough money!\")`\n",
    "   - `check_balance`: print out the remaining balance of the account. "
   ]
  },
  {
   "cell_type": "code",
   "execution_count": 63,
   "metadata": {},
   "outputs": [],
   "source": [
    "class BankAccount(object):\n",
    "    \n",
    "    def __init__(self,name,balance):\n",
    "        self.b = balance\n",
    "    \n",
    "    def deposit(self,n):\n",
    "        self.b += n\n",
    "    \n",
    "    def withdraw(self,n):\n",
    "        if self.b < n :\n",
    "            print \"ValueError: You don't have enough money!\"\n",
    "        else:\n",
    "            self.b = self.b - n\n",
    "            \n",
    "        \n",
    "    def check_balance(self):\n",
    "        print self.b"
   ]
  },
  {
   "cell_type": "code",
   "execution_count": 64,
   "metadata": {},
   "outputs": [
    {
     "name": "stdout",
     "output_type": "stream",
     "text": [
      "2000\n",
      "ValueError: You don't have enough money!\n"
     ]
    }
   ],
   "source": [
    "account = BankAccount('Test', 2000)\n",
    "account.check_balance() # 2000\n",
    "account.deposit(500)\n",
    "account.withdraw(3000) # ValueError: You don't have enough money!"
   ]
  },
  {
   "cell_type": "code",
   "execution_count": 65,
   "metadata": {},
   "outputs": [
    {
     "name": "stdout",
     "output_type": "stream",
     "text": [
      "500\n"
     ]
    }
   ],
   "source": [
    "account.withdraw(2000) # 500\n",
    "account.check_balance()"
   ]
  }
 ],
 "metadata": {
  "kernelspec": {
   "display_name": "Python 2",
   "language": "python",
   "name": "python2"
  },
  "language_info": {
   "codemirror_mode": {
    "name": "ipython",
    "version": 2
   },
   "file_extension": ".py",
   "mimetype": "text/x-python",
   "name": "python",
   "nbconvert_exporter": "python",
   "pygments_lexer": "ipython2",
   "version": "2.7.14"
  }
 },
 "nbformat": 4,
 "nbformat_minor": 1
}
