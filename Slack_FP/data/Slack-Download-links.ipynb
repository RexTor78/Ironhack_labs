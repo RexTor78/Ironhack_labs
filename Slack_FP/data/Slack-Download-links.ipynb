{
 "cells": [
  {
   "cell_type": "code",
   "execution_count": 1,
   "id": "f83b95b9",
   "metadata": {
    "run_control": {
     "marked": true
    }
   },
   "outputs": [],
   "source": [
    "import json\n",
    "import pandas as pd\n",
    "import numpy as np\n",
    "import os \n",
    "from os import listdir\n",
    "from os.path import isfile, join\n",
    "from datetime import datetime\n",
    "import time\n",
    "import datetime\n",
    "from os import walk"
   ]
  },
  {
   "cell_type": "code",
   "execution_count": 2,
   "id": "9fd3d186",
   "metadata": {},
   "outputs": [
    {
     "name": "stdout",
     "output_type": "stream",
     "text": [
      "['berlin-get-together', 'channels.json', 'data-memes', 'data-resources', 'data-viz-beauties', 'general', 'getting_started_tips', 'integration_logs.json', 'katas', 'lab-questions', 'music', 'project-questions', 'random', 'room4', 'users.json']\n"
     ]
    }
   ],
   "source": [
    "dir='C:\\\\Users\\hecto\\PreWorks\\Ironhack_labs\\Slack_FP\\Slack/'\n",
    "fol = os.listdir(dir)\n",
    "print(fol)"
   ]
  },
  {
   "cell_type": "code",
   "execution_count": 3,
   "id": "1785c626",
   "metadata": {},
   "outputs": [
    {
     "data": {
      "text/plain": [
       "['random',\n",
       " 'data-resources',\n",
       " 'getting_started_tips',\n",
       " 'katas',\n",
       " 'berlin-get-together',\n",
       " 'project-questions',\n",
       " 'music',\n",
       " 'general',\n",
       " 'room4',\n",
       " 'data-memes',\n",
       " 'lab-questions',\n",
       " 'data-viz-beauties']"
      ]
     },
     "execution_count": 3,
     "metadata": {},
     "output_type": "execute_result"
    }
   ],
   "source": [
    "dchannels=[file for file in fol if file.endswith('json')]\n",
    "channels=list(set(fol)-set(dchannels))\n",
    "channels"
   ]
  },
  {
   "cell_type": "code",
   "execution_count": null,
   "id": "5d5b006b",
   "metadata": {},
   "outputs": [],
   "source": [
    "date_time = []\n",
    "user = []\n",
    "text = []\n",
    "file_content = []\n",
    "reactions = []\n",
    "reactions_user=[]\n",
    "replies_user = []\n",
    "reply_users=[]\n",
    "channel=[]\n",
    "replies_time=[]\n",
    "link=[]\n",
    "file_url=[]\n",
    "for c in channels:\n",
    "    files = [f for f in listdir(\"slack/\" +c) if isfile(join(\"slack/\" +c, f))]\n",
    "\n",
    "    for file in files:\n",
    "        data=json.load(open( \"slack/\"+c +\"/\" + file,encoding='utf-8'))\n",
    "\n",
    "        for message in data:\n",
    "            channel.append(c)\n",
    "            date_time.append(datetime.fromtimestamp(float(message[\"ts\"])))\n",
    "            if 'files' in message.keys():\n",
    "                for i in message['files']:\n",
    "                    file_url.append(i['url_private_download'])\n",
    "            else:\n",
    "                file_url.append(0)\n",
    "            if 'attachments' in message.keys():\n",
    "                if 'title_link' in 'attachments':\n",
    "                    for i in message['attachments']:\n",
    "                        link.append(i['title_link'])\n",
    "                else:\n",
    "                    link.append(0)"
   ]
  },
  {
   "cell_type": "code",
   "execution_count": null,
   "id": "f36bf3d0",
   "metadata": {},
   "outputs": [],
   "source": [
    "def time_conversor(x):\n",
    "    return datetime.utcfromtimestamp(x).strftime('%Y-%m-%d')"
   ]
  },
  {
   "cell_type": "code",
   "execution_count": 4,
   "id": "b1630b00",
   "metadata": {},
   "outputs": [],
   "source": [
    "data=pd.read_csv('Final_data.csv')"
   ]
  },
  {
   "cell_type": "code",
   "execution_count": null,
   "id": "0d012f30",
   "metadata": {},
   "outputs": [],
   "source": [
    "data"
   ]
  },
  {
   "cell_type": "code",
   "execution_count": 52,
   "id": "e62fd10e",
   "metadata": {},
   "outputs": [],
   "source": [
    "def day():\n",
    "    day=input('Enter day (yyyy-mm-dd) to search link or files:').lower()\n",
    "    n=range(len('title_link'))\n",
    "    if data['date'].all()==day:\n",
    "        for c in channels:\n",
    "            files = [f for f in listdir(\"slack/\" +c) if isfile(join(\"slack/\" +c, f))]\n",
    "            for file in files:\n",
    "                dat=json.load(open( \"slack/\"+c +\"/\" + file,encoding='utf-8'))\n",
    "                for message in dat:\n",
    "                    if 'attachments' in message.keys():\n",
    "                        for i in n:\n",
    "                            link=[]\n",
    "                            if 'title_link' in message['attachments'][i].keys():\n",
    "                                link.append(message['attachments'][i]['title_link'])\n",
    "                                print(link)\n",
    "                            else:\n",
    "                                print('No files in this day')\n",
    "                                return day \n",
    "                    #else:\n",
    "                        #print('No files in this day')\n",
    "    #else:\n",
    "        #print('No messages in this day')\n",
    "           \n",
    "    \n",
    "    "
   ]
  },
  {
   "cell_type": "code",
   "execution_count": 53,
   "id": "fc73f874",
   "metadata": {},
   "outputs": [
    {
     "name": "stdout",
     "output_type": "stream",
     "text": [
      "Enter day (yyyy-mm-dd) to search link or files:2021-07-20\n"
     ]
    }
   ],
   "source": [
    "day()"
   ]
  },
  {
   "cell_type": "code",
   "execution_count": null,
   "id": "7166b406",
   "metadata": {
    "run_control": {
     "marked": true
    }
   },
   "outputs": [],
   "source": [
    "\n",
    "datetime.datetime.fromtimestamp(float(dat[0]['ts'])).strftime('%Y-%m-%d')"
   ]
  },
  {
   "cell_type": "code",
   "execution_count": 20,
   "id": "7c21e2b8",
   "metadata": {},
   "outputs": [
    {
     "data": {
      "text/plain": [
       "0       2021-06-09\n",
       "1       2021-06-09\n",
       "2       2021-06-09\n",
       "3       2021-06-09\n",
       "4       2021-06-09\n",
       "           ...    \n",
       "1822    2021-07-14\n",
       "1823    2021-07-14\n",
       "1824    2021-07-15\n",
       "1825    2021-07-15\n",
       "1826    2021-07-20\n",
       "Name: date, Length: 1827, dtype: object"
      ]
     },
     "execution_count": 20,
     "metadata": {},
     "output_type": "execute_result"
    }
   ],
   "source": [
    "data['date']"
   ]
  },
  {
   "cell_type": "code",
   "execution_count": 54,
   "id": "64d2f121",
   "metadata": {},
   "outputs": [
    {
     "name": "stdout",
     "output_type": "stream",
     "text": [
      "['https://www.youtube.com/watch?v=cbX0xwKORjk']\n"
     ]
    },
    {
     "ename": "IndexError",
     "evalue": "list index out of range",
     "output_type": "error",
     "traceback": [
      "\u001b[1;31m---------------------------------------------------------------------------\u001b[0m",
      "\u001b[1;31mIndexError\u001b[0m                                Traceback (most recent call last)",
      "\u001b[1;32m<ipython-input-54-137df1d120b6>\u001b[0m in \u001b[0;36m<module>\u001b[1;34m\u001b[0m\n\u001b[0;32m      8\u001b[0m                 \u001b[1;32mif\u001b[0m \u001b[1;34m'attachments'\u001b[0m \u001b[1;32min\u001b[0m \u001b[0mmessage\u001b[0m\u001b[1;33m.\u001b[0m\u001b[0mkeys\u001b[0m\u001b[1;33m(\u001b[0m\u001b[1;33m)\u001b[0m\u001b[1;33m:\u001b[0m\u001b[1;33m\u001b[0m\u001b[1;33m\u001b[0m\u001b[0m\n\u001b[0;32m      9\u001b[0m                     \u001b[1;32mfor\u001b[0m \u001b[0mi\u001b[0m \u001b[1;32min\u001b[0m \u001b[0mn\u001b[0m\u001b[1;33m:\u001b[0m\u001b[1;33m\u001b[0m\u001b[1;33m\u001b[0m\u001b[0m\n\u001b[1;32m---> 10\u001b[1;33m                         \u001b[1;32mif\u001b[0m \u001b[1;34m'title_link'\u001b[0m \u001b[1;32min\u001b[0m \u001b[0mmessage\u001b[0m\u001b[1;33m[\u001b[0m\u001b[1;34m'attachments'\u001b[0m\u001b[1;33m]\u001b[0m\u001b[1;33m[\u001b[0m\u001b[0mi\u001b[0m\u001b[1;33m]\u001b[0m\u001b[1;33m.\u001b[0m\u001b[0mkeys\u001b[0m\u001b[1;33m(\u001b[0m\u001b[1;33m)\u001b[0m\u001b[1;33m:\u001b[0m\u001b[1;33m\u001b[0m\u001b[1;33m\u001b[0m\u001b[0m\n\u001b[0m\u001b[0;32m     11\u001b[0m                             \u001b[0mlink\u001b[0m\u001b[1;33m.\u001b[0m\u001b[0mappend\u001b[0m\u001b[1;33m(\u001b[0m\u001b[0mmessage\u001b[0m\u001b[1;33m[\u001b[0m\u001b[1;34m'attachments'\u001b[0m\u001b[1;33m]\u001b[0m\u001b[1;33m[\u001b[0m\u001b[0mi\u001b[0m\u001b[1;33m]\u001b[0m\u001b[1;33m[\u001b[0m\u001b[1;34m'title_link'\u001b[0m\u001b[1;33m]\u001b[0m\u001b[1;33m)\u001b[0m\u001b[1;33m\u001b[0m\u001b[1;33m\u001b[0m\u001b[0m\n\u001b[0;32m     12\u001b[0m                             \u001b[0mprint\u001b[0m\u001b[1;33m(\u001b[0m\u001b[0mlink\u001b[0m\u001b[1;33m)\u001b[0m\u001b[1;33m\u001b[0m\u001b[1;33m\u001b[0m\u001b[0m\n",
      "\u001b[1;31mIndexError\u001b[0m: list index out of range"
     ]
    }
   ],
   "source": [
    "    n=range(len('title_link'))\n",
    "    link=[]   \n",
    "    for c in channels:\n",
    "            files = [f for f in listdir(\"slack/\" +c) if isfile(join(\"slack/\" +c, f))]\n",
    "            for file in files:\n",
    "                dat=json.load(open( \"slack/\"+c +\"/\" + file,encoding='utf-8'))\n",
    "                for message in dat:\n",
    "                    if 'attachments' in message.keys():\n",
    "                        for i in n:\n",
    "                            if 'title_link' in message['attachments'][i].keys():\n",
    "                                link.append(message['attachments'][i]['title_link'])\n",
    "                                print(link)\n",
    "                    \n",
    "                            \n",
    "    "
   ]
  },
  {
   "cell_type": "code",
   "execution_count": null,
   "id": "a5a06dfc",
   "metadata": {},
   "outputs": [],
   "source": [
    "for channel in channels:\n",
    "    for file in os.listdir(channel):\n",
    "        if 'json' in file:\n",
    "            json_path=os.path.join(channel,file)\n",
    "            json_data= pd_read_json(json_path, lines=True)\n",
    "            data.list.append(json_data)\n",
    "print(data.list)"
   ]
  },
  {
   "cell_type": "code",
   "execution_count": null,
   "id": "8b62fb01",
   "metadata": {},
   "outputs": [],
   "source": [
    "for c in channels:\n",
    "    files1 = [f for f in listdir(\"slack/\" +c) if isfile(join(\"slack/\" +c, f))]\n",
    "\n"
   ]
  },
  {
   "cell_type": "code",
   "execution_count": null,
   "id": "b6d55a79",
   "metadata": {},
   "outputs": [],
   "source": [
    "files1"
   ]
  },
  {
   "cell_type": "code",
   "execution_count": null,
   "id": "835ed580",
   "metadata": {},
   "outputs": [],
   "source": [
    "    for file in files1:\n",
    "        data=json.load(open( \"slack/\"+c +\"/\" + file,encoding='utf-8'))"
   ]
  },
  {
   "cell_type": "code",
   "execution_count": null,
   "id": "8598f09b",
   "metadata": {},
   "outputs": [],
   "source": [
    "data"
   ]
  },
  {
   "cell_type": "code",
   "execution_count": null,
   "id": "5905c57c",
   "metadata": {},
   "outputs": [],
   "source": [
    "files={}\n",
    "for i in range(len(channels)):\n",
    "    files[i]=[f for f in listdir(\"slack/\"+channels[i]+'/' ) if isfile(join(\"slack/\"+channels[i]+'/' , f))]"
   ]
  },
  {
   "cell_type": "code",
   "execution_count": null,
   "id": "3e10113f",
   "metadata": {},
   "outputs": [],
   "source": [
    "filch={channels:value for channels, value in zip(channels,files.values())}"
   ]
  },
  {
   "cell_type": "code",
   "execution_count": null,
   "id": "0157bde9",
   "metadata": {},
   "outputs": [],
   "source": [
    "for channel in filch:\n",
    "    c=[filch[channel]]\n"
   ]
  },
  {
   "cell_type": "code",
   "execution_count": null,
   "id": "1d02c6fd",
   "metadata": {},
   "outputs": [],
   "source": [
    "fileschannel=dict(zip(channels,files.values()))"
   ]
  },
  {
   "cell_type": "code",
   "execution_count": null,
   "id": "943b2b8e",
   "metadata": {},
   "outputs": [],
   "source": [
    "fileschannel.values()"
   ]
  },
  {
   "cell_type": "code",
   "execution_count": null,
   "id": "36736ae9",
   "metadata": {},
   "outputs": [],
   "source": []
  },
  {
   "cell_type": "code",
   "execution_count": null,
   "id": "f35ef211",
   "metadata": {},
   "outputs": [],
   "source": []
  },
  {
   "cell_type": "code",
   "execution_count": null,
   "id": "0046a037",
   "metadata": {},
   "outputs": [],
   "source": []
  },
  {
   "cell_type": "code",
   "execution_count": null,
   "id": "781cae9a",
   "metadata": {},
   "outputs": [],
   "source": []
  },
  {
   "cell_type": "code",
   "execution_count": null,
   "id": "968d2223",
   "metadata": {},
   "outputs": [],
   "source": []
  },
  {
   "cell_type": "code",
   "execution_count": null,
   "id": "75e19960",
   "metadata": {},
   "outputs": [],
   "source": []
  },
  {
   "cell_type": "code",
   "execution_count": null,
   "id": "c83930ae",
   "metadata": {},
   "outputs": [],
   "source": []
  },
  {
   "cell_type": "code",
   "execution_count": null,
   "id": "cec0a841",
   "metadata": {},
   "outputs": [],
   "source": []
  }
 ],
 "metadata": {
  "hide_input": false,
  "kernelspec": {
   "display_name": "Python 3",
   "language": "python",
   "name": "python3"
  },
  "language_info": {
   "codemirror_mode": {
    "name": "ipython",
    "version": 3
   },
   "file_extension": ".py",
   "mimetype": "text/x-python",
   "name": "python",
   "nbconvert_exporter": "python",
   "pygments_lexer": "ipython3",
   "version": "3.9.5"
  },
  "latex_envs": {
   "LaTeX_envs_menu_present": true,
   "autoclose": true,
   "autocomplete": true,
   "bibliofile": "biblio.bib",
   "cite_by": "apalike",
   "current_citInitial": 1,
   "eqLabelWithNumbers": true,
   "eqNumInitial": 1,
   "hotkeys": {
    "equation": "Ctrl-E",
    "itemize": "Ctrl-I"
   },
   "labels_anchors": false,
   "latex_user_defs": false,
   "report_style_numbering": false,
   "user_envs_cfg": true
  },
  "toc": {
   "base_numbering": 1,
   "nav_menu": {},
   "number_sections": true,
   "sideBar": true,
   "skip_h1_title": false,
   "title_cell": "Table of Contents",
   "title_sidebar": "Contents",
   "toc_cell": false,
   "toc_position": {},
   "toc_section_display": true,
   "toc_window_display": false
  },
  "varInspector": {
   "cols": {
    "lenName": 16,
    "lenType": 16,
    "lenVar": 40
   },
   "kernels_config": {
    "python": {
     "delete_cmd_postfix": "",
     "delete_cmd_prefix": "del ",
     "library": "var_list.py",
     "varRefreshCmd": "print(var_dic_list())"
    },
    "r": {
     "delete_cmd_postfix": ") ",
     "delete_cmd_prefix": "rm(",
     "library": "var_list.r",
     "varRefreshCmd": "cat(var_dic_list()) "
    }
   },
   "types_to_exclude": [
    "module",
    "function",
    "builtin_function_or_method",
    "instance",
    "_Feature"
   ],
   "window_display": false
  }
 },
 "nbformat": 4,
 "nbformat_minor": 5
}
