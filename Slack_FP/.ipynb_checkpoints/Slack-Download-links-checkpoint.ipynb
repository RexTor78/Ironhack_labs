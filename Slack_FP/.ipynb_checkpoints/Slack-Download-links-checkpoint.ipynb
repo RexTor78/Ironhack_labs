{
 "cells": [
  {
   "cell_type": "code",
   "execution_count": 1,
   "id": "f83b95b9",
   "metadata": {
    "run_control": {
     "marked": true
    }
   },
   "outputs": [],
   "source": [
    "import json\n",
    "import pandas as pd\n",
    "import numpy as np\n",
    "import os \n",
    "from os import listdir\n",
    "from os.path import isfile, join\n",
    "from datetime import datetime\n",
    "import time\n",
    "import datetime\n",
    "from os import walk"
   ]
  },
  {
   "cell_type": "code",
   "execution_count": 2,
   "id": "9fd3d186",
   "metadata": {},
   "outputs": [
    {
     "name": "stdout",
     "output_type": "stream",
     "text": [
      "['berlin-get-together', 'channels.json', 'data-memes', 'data-resources', 'data-viz-beauties', 'general', 'getting_started_tips', 'integration_logs.json', 'katas', 'lab-questions', 'music', 'project-questions', 'random', 'room4', 'users.json']\n"
     ]
    }
   ],
   "source": [
    "dir='C:\\\\Users\\hecto\\PreWorks\\Ironhack_labs\\Slack_FP\\Slack/'\n",
    "fol = os.listdir(dir)\n",
    "print(fol)"
   ]
  },
  {
   "cell_type": "code",
   "execution_count": 3,
   "id": "1785c626",
   "metadata": {},
   "outputs": [
    {
     "data": {
      "text/plain": [
       "['random',\n",
       " 'room4',\n",
       " 'katas',\n",
       " 'data-resources',\n",
       " 'data-memes',\n",
       " 'data-viz-beauties',\n",
       " 'lab-questions',\n",
       " 'general',\n",
       " 'getting_started_tips',\n",
       " 'berlin-get-together',\n",
       " 'music',\n",
       " 'project-questions']"
      ]
     },
     "execution_count": 3,
     "metadata": {},
     "output_type": "execute_result"
    }
   ],
   "source": [
    "dchannels=[file for file in fol if file.endswith('json')]\n",
    "channels=list(set(fol)-set(dchannels))\n",
    "channels"
   ]
  },
  {
   "cell_type": "code",
   "execution_count": null,
   "id": "5d5b006b",
   "metadata": {},
   "outputs": [],
   "source": [
    "date_time = []\n",
    "user = []\n",
    "text = []\n",
    "file_content = []\n",
    "reactions = []\n",
    "reactions_user=[]\n",
    "replies_user = []\n",
    "reply_users=[]\n",
    "channel=[]\n",
    "replies_time=[]\n",
    "link=[]\n",
    "file_url=[]\n",
    "for c in channels:\n",
    "    files = [f for f in listdir(\"slack/\" +c) if isfile(join(\"slack/\" +c, f))]\n",
    "\n",
    "    for file in files:\n",
    "        data=json.load(open( \"slack/\"+c +\"/\" + file,encoding='utf-8'))\n",
    "\n",
    "        for message in data:\n",
    "            channel.append(c)\n",
    "            date_time.append(datetime.fromtimestamp(float(message[\"ts\"])))\n",
    "            if 'files' in message.keys():\n",
    "                for i in message['files']:\n",
    "                    file_url.append(i['url_private_download'])\n",
    "            else:\n",
    "                file_url.append(0)\n",
    "            if 'attachments' in message.keys():\n",
    "                if 'title_link' in 'attachments':\n",
    "                    for i in message['attachments']:\n",
    "                        link.append(i['title_link'])\n",
    "                else:\n",
    "                    link.append(0)"
   ]
  },
  {
   "cell_type": "code",
   "execution_count": 34,
   "id": "f36bf3d0",
   "metadata": {},
   "outputs": [],
   "source": [
    "def time_conversor(x):\n",
    "    return datetime.utcfromtimestamp(x).strftime('%Y-%m-%d')"
   ]
  },
  {
   "cell_type": "code",
   "execution_count": 9,
   "id": "b1630b00",
   "metadata": {},
   "outputs": [],
   "source": [
    "data=pd.read_csv('Final_data.csv')"
   ]
  },
  {
   "cell_type": "code",
   "execution_count": 5,
   "id": "0d012f30",
   "metadata": {},
   "outputs": [
    {
     "data": {
      "text/html": [
       "<div>\n",
       "<style scoped>\n",
       "    .dataframe tbody tr th:only-of-type {\n",
       "        vertical-align: middle;\n",
       "    }\n",
       "\n",
       "    .dataframe tbody tr th {\n",
       "        vertical-align: top;\n",
       "    }\n",
       "\n",
       "    .dataframe thead th {\n",
       "        text-align: right;\n",
       "    }\n",
       "</style>\n",
       "<table border=\"1\" class=\"dataframe\">\n",
       "  <thead>\n",
       "    <tr style=\"text-align: right;\">\n",
       "      <th></th>\n",
       "      <th>user</th>\n",
       "      <th>text</th>\n",
       "      <th>file_content</th>\n",
       "      <th>reactions</th>\n",
       "      <th>channel</th>\n",
       "      <th>reply_users</th>\n",
       "      <th>replies_user</th>\n",
       "      <th>file_url</th>\n",
       "      <th>link</th>\n",
       "      <th>reactions_user</th>\n",
       "      <th>rep_time</th>\n",
       "      <th>date</th>\n",
       "      <th>time</th>\n",
       "      <th>text_words_count</th>\n",
       "      <th>word_freq</th>\n",
       "    </tr>\n",
       "  </thead>\n",
       "  <tbody>\n",
       "    <tr>\n",
       "      <th>0</th>\n",
       "      <td>Sian Davies</td>\n",
       "      <td>&lt;@U021UNQGZC4&gt; has joined the channel</td>\n",
       "      <td>False</td>\n",
       "      <td>0</td>\n",
       "      <td>data-resources</td>\n",
       "      <td>0</td>\n",
       "      <td>0</td>\n",
       "      <td>0</td>\n",
       "      <td>0</td>\n",
       "      <td>0</td>\n",
       "      <td>00:00:00</td>\n",
       "      <td>2021-05-12</td>\n",
       "      <td>09:48:00</td>\n",
       "      <td>8</td>\n",
       "      <td>('has', 5)</td>\n",
       "    </tr>\n",
       "    <tr>\n",
       "      <th>1</th>\n",
       "      <td>Madini Liebscher</td>\n",
       "      <td>&lt;@U0217P72YR5&gt; has joined the channel</td>\n",
       "      <td>False</td>\n",
       "      <td>0</td>\n",
       "      <td>data-resources</td>\n",
       "      <td>0</td>\n",
       "      <td>0</td>\n",
       "      <td>0</td>\n",
       "      <td>0</td>\n",
       "      <td>0</td>\n",
       "      <td>00:00:00</td>\n",
       "      <td>2021-05-12</td>\n",
       "      <td>09:48:00</td>\n",
       "      <td>8</td>\n",
       "      <td>('has', 5)</td>\n",
       "    </tr>\n",
       "    <tr>\n",
       "      <th>2</th>\n",
       "      <td>miguel.simon</td>\n",
       "      <td>&lt;@U021NHS652N&gt; has joined the channel</td>\n",
       "      <td>False</td>\n",
       "      <td>0</td>\n",
       "      <td>data-resources</td>\n",
       "      <td>0</td>\n",
       "      <td>0</td>\n",
       "      <td>0</td>\n",
       "      <td>0</td>\n",
       "      <td>0</td>\n",
       "      <td>00:00:00</td>\n",
       "      <td>2021-05-12</td>\n",
       "      <td>09:48:00</td>\n",
       "      <td>8</td>\n",
       "      <td>('has', 5)</td>\n",
       "    </tr>\n",
       "    <tr>\n",
       "      <th>3</th>\n",
       "      <td>Jonas Tonndorff</td>\n",
       "      <td>&lt;@U021TDD883V&gt; has joined the channel</td>\n",
       "      <td>False</td>\n",
       "      <td>0</td>\n",
       "      <td>data-resources</td>\n",
       "      <td>0</td>\n",
       "      <td>0</td>\n",
       "      <td>0</td>\n",
       "      <td>0</td>\n",
       "      <td>0</td>\n",
       "      <td>00:00:00</td>\n",
       "      <td>2021-05-13</td>\n",
       "      <td>09:52:00</td>\n",
       "      <td>8</td>\n",
       "      <td>('has', 5)</td>\n",
       "    </tr>\n",
       "    <tr>\n",
       "      <th>4</th>\n",
       "      <td>Sian Davies</td>\n",
       "      <td>thread for air pollution data- add the data so...</td>\n",
       "      <td>False</td>\n",
       "      <td>0</td>\n",
       "      <td>data-resources</td>\n",
       "      <td>17</td>\n",
       "      <td>0</td>\n",
       "      <td>0</td>\n",
       "      <td>0</td>\n",
       "      <td>0</td>\n",
       "      <td>09:23:00</td>\n",
       "      <td>2021-06-01</td>\n",
       "      <td>09:17:00</td>\n",
       "      <td>34</td>\n",
       "      <td>('thread', 32)</td>\n",
       "    </tr>\n",
       "    <tr>\n",
       "      <th>...</th>\n",
       "      <td>...</td>\n",
       "      <td>...</td>\n",
       "      <td>...</td>\n",
       "      <td>...</td>\n",
       "      <td>...</td>\n",
       "      <td>...</td>\n",
       "      <td>...</td>\n",
       "      <td>...</td>\n",
       "      <td>...</td>\n",
       "      <td>...</td>\n",
       "      <td>...</td>\n",
       "      <td>...</td>\n",
       "      <td>...</td>\n",
       "      <td>...</td>\n",
       "      <td>...</td>\n",
       "    </tr>\n",
       "    <tr>\n",
       "      <th>1822</th>\n",
       "      <td>Florian Titze</td>\n",
       "      <td>and you can only clone those that have this gr...</td>\n",
       "      <td>True</td>\n",
       "      <td>0</td>\n",
       "      <td>getting_started_tips</td>\n",
       "      <td>0</td>\n",
       "      <td>0</td>\n",
       "      <td>https://files.slack.com/files-pri/T021KE79B9B-...</td>\n",
       "      <td>0</td>\n",
       "      <td>0</td>\n",
       "      <td>00:00:00</td>\n",
       "      <td>2021-06-01</td>\n",
       "      <td>07:34:00</td>\n",
       "      <td>12</td>\n",
       "      <td>('and', 12)</td>\n",
       "    </tr>\n",
       "    <tr>\n",
       "      <th>1823</th>\n",
       "      <td>Uroš Petković</td>\n",
       "      <td>i see</td>\n",
       "      <td>False</td>\n",
       "      <td>0</td>\n",
       "      <td>getting_started_tips</td>\n",
       "      <td>0</td>\n",
       "      <td>0</td>\n",
       "      <td>0</td>\n",
       "      <td>0</td>\n",
       "      <td>0</td>\n",
       "      <td>00:00:00</td>\n",
       "      <td>2021-06-01</td>\n",
       "      <td>07:35:00</td>\n",
       "      <td>2</td>\n",
       "      <td>('i', 3)</td>\n",
       "    </tr>\n",
       "    <tr>\n",
       "      <th>1824</th>\n",
       "      <td>Florian Titze</td>\n",
       "      <td>you can't only clone one folder - you could do...</td>\n",
       "      <td>False</td>\n",
       "      <td>0</td>\n",
       "      <td>getting_started_tips</td>\n",
       "      <td>0</td>\n",
       "      <td>0</td>\n",
       "      <td>0</td>\n",
       "      <td>0</td>\n",
       "      <td>0</td>\n",
       "      <td>00:00:00</td>\n",
       "      <td>2021-06-01</td>\n",
       "      <td>07:35:00</td>\n",
       "      <td>24</td>\n",
       "      <td>('you', 22)</td>\n",
       "    </tr>\n",
       "    <tr>\n",
       "      <th>1825</th>\n",
       "      <td>Uroš Petković</td>\n",
       "      <td>so what do i do then? :slightly_smiling_face:</td>\n",
       "      <td>False</td>\n",
       "      <td>0</td>\n",
       "      <td>getting_started_tips</td>\n",
       "      <td>0</td>\n",
       "      <td>0</td>\n",
       "      <td>0</td>\n",
       "      <td>0</td>\n",
       "      <td>0</td>\n",
       "      <td>00:00:00</td>\n",
       "      <td>2021-06-01</td>\n",
       "      <td>07:35:00</td>\n",
       "      <td>10</td>\n",
       "      <td>('so', 7)</td>\n",
       "    </tr>\n",
       "    <tr>\n",
       "      <th>1826</th>\n",
       "      <td>Florian Titze</td>\n",
       "      <td>Installation of Anaconda on windows:\\nMake sur...</td>\n",
       "      <td>True</td>\n",
       "      <td>0</td>\n",
       "      <td>getting_started_tips</td>\n",
       "      <td>0</td>\n",
       "      <td>0</td>\n",
       "      <td>https://files.slack.com/files-pri/T021KE79B9B-...</td>\n",
       "      <td>0</td>\n",
       "      <td>0</td>\n",
       "      <td>00:00:00</td>\n",
       "      <td>2021-06-01</td>\n",
       "      <td>12:47:00</td>\n",
       "      <td>37</td>\n",
       "      <td>('installation', 29)</td>\n",
       "    </tr>\n",
       "  </tbody>\n",
       "</table>\n",
       "<p>1827 rows × 15 columns</p>\n",
       "</div>"
      ],
      "text/plain": [
       "                  user                                               text  \\\n",
       "0          Sian Davies              <@U021UNQGZC4> has joined the channel   \n",
       "1     Madini Liebscher              <@U0217P72YR5> has joined the channel   \n",
       "2         miguel.simon              <@U021NHS652N> has joined the channel   \n",
       "3      Jonas Tonndorff              <@U021TDD883V> has joined the channel   \n",
       "4          Sian Davies  thread for air pollution data- add the data so...   \n",
       "...                ...                                                ...   \n",
       "1822     Florian Titze  and you can only clone those that have this gr...   \n",
       "1823     Uroš Petković                                              i see   \n",
       "1824     Florian Titze  you can't only clone one folder - you could do...   \n",
       "1825     Uroš Petković      so what do i do then? :slightly_smiling_face:   \n",
       "1826     Florian Titze  Installation of Anaconda on windows:\\nMake sur...   \n",
       "\n",
       "      file_content  reactions               channel  reply_users replies_user  \\\n",
       "0            False          0        data-resources            0            0   \n",
       "1            False          0        data-resources            0            0   \n",
       "2            False          0        data-resources            0            0   \n",
       "3            False          0        data-resources            0            0   \n",
       "4            False          0        data-resources           17            0   \n",
       "...            ...        ...                   ...          ...          ...   \n",
       "1822          True          0  getting_started_tips            0            0   \n",
       "1823         False          0  getting_started_tips            0            0   \n",
       "1824         False          0  getting_started_tips            0            0   \n",
       "1825         False          0  getting_started_tips            0            0   \n",
       "1826          True          0  getting_started_tips            0            0   \n",
       "\n",
       "                                               file_url link reactions_user  \\\n",
       "0                                                     0    0              0   \n",
       "1                                                     0    0              0   \n",
       "2                                                     0    0              0   \n",
       "3                                                     0    0              0   \n",
       "4                                                     0    0              0   \n",
       "...                                                 ...  ...            ...   \n",
       "1822  https://files.slack.com/files-pri/T021KE79B9B-...    0              0   \n",
       "1823                                                  0    0              0   \n",
       "1824                                                  0    0              0   \n",
       "1825                                                  0    0              0   \n",
       "1826  https://files.slack.com/files-pri/T021KE79B9B-...    0              0   \n",
       "\n",
       "      rep_time        date      time  text_words_count             word_freq  \n",
       "0     00:00:00  2021-05-12  09:48:00                 8            ('has', 5)  \n",
       "1     00:00:00  2021-05-12  09:48:00                 8            ('has', 5)  \n",
       "2     00:00:00  2021-05-12  09:48:00                 8            ('has', 5)  \n",
       "3     00:00:00  2021-05-13  09:52:00                 8            ('has', 5)  \n",
       "4     09:23:00  2021-06-01  09:17:00                34        ('thread', 32)  \n",
       "...        ...         ...       ...               ...                   ...  \n",
       "1822  00:00:00  2021-06-01  07:34:00                12           ('and', 12)  \n",
       "1823  00:00:00  2021-06-01  07:35:00                 2              ('i', 3)  \n",
       "1824  00:00:00  2021-06-01  07:35:00                24           ('you', 22)  \n",
       "1825  00:00:00  2021-06-01  07:35:00                10             ('so', 7)  \n",
       "1826  00:00:00  2021-06-01  12:47:00                37  ('installation', 29)  \n",
       "\n",
       "[1827 rows x 15 columns]"
      ]
     },
     "execution_count": 5,
     "metadata": {},
     "output_type": "execute_result"
    }
   ],
   "source": [
    "data"
   ]
  },
  {
   "cell_type": "code",
   "execution_count": 42,
   "id": "e62fd10e",
   "metadata": {},
   "outputs": [],
   "source": [
    "def day():\n",
    "    day=input('Enter day (yyyy-mm-dd) to search link or files:').lower()\n",
    "    link=[]\n",
    "    if data['date'].all()==day:\n",
    "        for c in channels:\n",
    "            files = [f for f in listdir(\"slack/\" +c) if isfile(join(\"slack/\" +c, f))]\n",
    "            for file in files:\n",
    "                dat=json.load(open( \"slack/\"+c +\"/\" + file,encoding='utf-8'))\n",
    "                for message in dat:\n",
    "                    if 'attachments' in message.keys():\n",
    "                        for i in 'attachments':\n",
    "                            if 'title_link' in message['attachments'][i].keys():\n",
    "                                link.append(message['attachments'][range(len['title_link'])]['title_link'])\n",
    "                                print(link)\n",
    "                            else:\n",
    "                                print('No files in this day')\n",
    "                    else:\n",
    "                        print('No files in this day')\n",
    "    else:\n",
    "        print('No messages in this day')\n",
    "            \n",
    "    \n",
    "    "
   ]
  },
  {
   "cell_type": "code",
   "execution_count": 43,
   "id": "fc73f874",
   "metadata": {},
   "outputs": [
    {
     "name": "stdout",
     "output_type": "stream",
     "text": [
      "Enter day (yyyy-mm-dd) to search link or files:2021-07-20\n",
      "No messages in this day\n"
     ]
    }
   ],
   "source": [
    "day()"
   ]
  },
  {
   "cell_type": "code",
   "execution_count": null,
   "id": "7166b406",
   "metadata": {
    "run_control": {
     "marked": true
    }
   },
   "outputs": [],
   "source": [
    "\n",
    "datetime.datetime.fromtimestamp(float(dat[0]['ts'])).strftime('%Y-%m-%d')"
   ]
  },
  {
   "cell_type": "code",
   "execution_count": 39,
   "id": "7c21e2b8",
   "metadata": {},
   "outputs": [
    {
     "data": {
      "text/plain": [
       "0       2021-05-12\n",
       "1       2021-05-12\n",
       "2       2021-05-12\n",
       "3       2021-05-13\n",
       "4       2021-06-01\n",
       "           ...    \n",
       "1822    2021-06-01\n",
       "1823    2021-06-01\n",
       "1824    2021-06-01\n",
       "1825    2021-06-01\n",
       "1826    2021-06-01\n",
       "Name: date, Length: 1827, dtype: object"
      ]
     },
     "execution_count": 39,
     "metadata": {},
     "output_type": "execute_result"
    }
   ],
   "source": [
    "data['date']"
   ]
  },
  {
   "cell_type": "code",
   "execution_count": 48,
   "id": "64d2f121",
   "metadata": {},
   "outputs": [
    {
     "name": "stdout",
     "output_type": "stream",
     "text": [
      "no\n",
      "no\n",
      "no\n",
      "no\n"
     ]
    },
    {
     "ename": "TypeError",
     "evalue": "'builtin_function_or_method' object is not subscriptable",
     "output_type": "error",
     "traceback": [
      "\u001b[1;31m---------------------------------------------------------------------------\u001b[0m",
      "\u001b[1;31mTypeError\u001b[0m                                 Traceback (most recent call last)",
      "\u001b[1;32m<ipython-input-48-a71bfe9fe65e>\u001b[0m in \u001b[0;36m<module>\u001b[1;34m\u001b[0m\n\u001b[0;32m      6\u001b[0m             \u001b[1;32mif\u001b[0m \u001b[1;34m'attachments'\u001b[0m \u001b[1;32min\u001b[0m \u001b[0mmessage\u001b[0m\u001b[1;33m.\u001b[0m\u001b[0mkeys\u001b[0m\u001b[1;33m(\u001b[0m\u001b[1;33m)\u001b[0m\u001b[1;33m:\u001b[0m\u001b[1;33m\u001b[0m\u001b[1;33m\u001b[0m\u001b[0m\n\u001b[0;32m      7\u001b[0m                 \u001b[1;32mfor\u001b[0m \u001b[0mi\u001b[0m \u001b[1;32min\u001b[0m \u001b[1;34m'attachments'\u001b[0m\u001b[1;33m:\u001b[0m\u001b[1;33m\u001b[0m\u001b[1;33m\u001b[0m\u001b[0m\n\u001b[1;32m----> 8\u001b[1;33m                     \u001b[1;32mif\u001b[0m \u001b[1;34m'title_link'\u001b[0m \u001b[1;32min\u001b[0m \u001b[0mmessage\u001b[0m\u001b[1;33m[\u001b[0m\u001b[1;34m'attachments'\u001b[0m\u001b[1;33m]\u001b[0m\u001b[1;33m[\u001b[0m\u001b[0mrange\u001b[0m\u001b[1;33m(\u001b[0m\u001b[0mlen\u001b[0m\u001b[1;33m[\u001b[0m\u001b[1;34m'title_link'\u001b[0m\u001b[1;33m]\u001b[0m\u001b[1;33m)\u001b[0m\u001b[1;33m]\u001b[0m\u001b[1;33m.\u001b[0m\u001b[0mkeys\u001b[0m\u001b[1;33m(\u001b[0m\u001b[1;33m)\u001b[0m\u001b[1;33m:\u001b[0m\u001b[1;33m\u001b[0m\u001b[1;33m\u001b[0m\u001b[0m\n\u001b[0m\u001b[0;32m      9\u001b[0m                         \u001b[0mlink\u001b[0m\u001b[1;33m.\u001b[0m\u001b[0mappend\u001b[0m\u001b[1;33m(\u001b[0m\u001b[0mmessage\u001b[0m\u001b[1;33m[\u001b[0m\u001b[1;34m'attachments'\u001b[0m\u001b[1;33m]\u001b[0m\u001b[1;33m[\u001b[0m\u001b[0mrange\u001b[0m\u001b[1;33m(\u001b[0m\u001b[0mlen\u001b[0m\u001b[1;33m[\u001b[0m\u001b[1;34m'title_link'\u001b[0m\u001b[1;33m]\u001b[0m\u001b[1;33m)\u001b[0m\u001b[1;33m]\u001b[0m\u001b[1;33m[\u001b[0m\u001b[1;34m'title_link'\u001b[0m\u001b[1;33m]\u001b[0m\u001b[1;33m)\u001b[0m\u001b[1;33m\u001b[0m\u001b[1;33m\u001b[0m\u001b[0m\n\u001b[0;32m     10\u001b[0m                         \u001b[0mprint\u001b[0m\u001b[1;33m(\u001b[0m\u001b[0mlink\u001b[0m\u001b[1;33m)\u001b[0m\u001b[1;33m\u001b[0m\u001b[1;33m\u001b[0m\u001b[0m\n",
      "\u001b[1;31mTypeError\u001b[0m: 'builtin_function_or_method' object is not subscriptable"
     ]
    }
   ],
   "source": [
    "        for c in channels:\n",
    "            files = [f for f in listdir(\"slack/\" +c) if isfile(join(\"slack/\" +c, f))]\n",
    "            for file in files:\n",
    "                dat=json.load(open( \"slack/\"+c +\"/\" + file,encoding='utf-8'))\n",
    "                for message in dat:\n",
    "                    if 'attachments' in message.keys():\n",
    "                        for i in 'attachments':\n",
    "                            if 'title_link' in message['attachments'][range(len['title_link'])].keys():\n",
    "                                link.append(message['attachments'][range(len['title_link'])]['title_link'])\n",
    "                                print(link)\n",
    "                            else:\n",
    "                                print('no')\n",
    "                    else:\n",
    "                        print('no')\n",
    "                            \n",
    "    "
   ]
  },
  {
   "cell_type": "code",
   "execution_count": null,
   "id": "a5a06dfc",
   "metadata": {},
   "outputs": [],
   "source": [
    "for channel in channels:\n",
    "    for file in os.listdir(channel):\n",
    "        if 'json' in file:\n",
    "            json_path=os.path.join(channel,file)\n",
    "            json_data= pd_read_json(json_path, lines=True)\n",
    "            data.list.append(json_data)\n",
    "print(data.list)"
   ]
  },
  {
   "cell_type": "code",
   "execution_count": null,
   "id": "8b62fb01",
   "metadata": {},
   "outputs": [],
   "source": [
    "for c in channels:\n",
    "    files1 = [f for f in listdir(\"slack/\" +c) if isfile(join(\"slack/\" +c, f))]\n",
    "\n"
   ]
  },
  {
   "cell_type": "code",
   "execution_count": null,
   "id": "b6d55a79",
   "metadata": {},
   "outputs": [],
   "source": [
    "files1"
   ]
  },
  {
   "cell_type": "code",
   "execution_count": null,
   "id": "835ed580",
   "metadata": {},
   "outputs": [],
   "source": [
    "    for file in files1:\n",
    "        data=json.load(open( \"slack/\"+c +\"/\" + file,encoding='utf-8'))"
   ]
  },
  {
   "cell_type": "code",
   "execution_count": null,
   "id": "8598f09b",
   "metadata": {},
   "outputs": [],
   "source": [
    "data"
   ]
  },
  {
   "cell_type": "code",
   "execution_count": null,
   "id": "5905c57c",
   "metadata": {},
   "outputs": [],
   "source": [
    "files={}\n",
    "for i in range(len(channels)):\n",
    "    files[i]=[f for f in listdir(\"slack/\"+channels[i]+'/' ) if isfile(join(\"slack/\"+channels[i]+'/' , f))]"
   ]
  },
  {
   "cell_type": "code",
   "execution_count": null,
   "id": "3e10113f",
   "metadata": {},
   "outputs": [],
   "source": [
    "filch={channels:value for channels, value in zip(channels,files.values())}"
   ]
  },
  {
   "cell_type": "code",
   "execution_count": null,
   "id": "0157bde9",
   "metadata": {},
   "outputs": [],
   "source": [
    "for channel in filch:\n",
    "    c=[filch[channel]]\n"
   ]
  },
  {
   "cell_type": "code",
   "execution_count": null,
   "id": "1d02c6fd",
   "metadata": {},
   "outputs": [],
   "source": [
    "fileschannel=dict(zip(channels,files.values()))"
   ]
  },
  {
   "cell_type": "code",
   "execution_count": null,
   "id": "943b2b8e",
   "metadata": {},
   "outputs": [],
   "source": [
    "fileschannel.values()"
   ]
  },
  {
   "cell_type": "code",
   "execution_count": null,
   "id": "36736ae9",
   "metadata": {},
   "outputs": [],
   "source": []
  },
  {
   "cell_type": "code",
   "execution_count": null,
   "id": "f35ef211",
   "metadata": {},
   "outputs": [],
   "source": []
  },
  {
   "cell_type": "code",
   "execution_count": null,
   "id": "0046a037",
   "metadata": {},
   "outputs": [],
   "source": []
  },
  {
   "cell_type": "code",
   "execution_count": null,
   "id": "781cae9a",
   "metadata": {},
   "outputs": [],
   "source": []
  },
  {
   "cell_type": "code",
   "execution_count": null,
   "id": "968d2223",
   "metadata": {},
   "outputs": [],
   "source": []
  },
  {
   "cell_type": "code",
   "execution_count": null,
   "id": "75e19960",
   "metadata": {},
   "outputs": [],
   "source": []
  },
  {
   "cell_type": "code",
   "execution_count": null,
   "id": "c83930ae",
   "metadata": {},
   "outputs": [],
   "source": []
  },
  {
   "cell_type": "code",
   "execution_count": null,
   "id": "cec0a841",
   "metadata": {},
   "outputs": [],
   "source": []
  }
 ],
 "metadata": {
  "hide_input": false,
  "kernelspec": {
   "display_name": "Python 3",
   "language": "python",
   "name": "python3"
  },
  "language_info": {
   "codemirror_mode": {
    "name": "ipython",
    "version": 3
   },
   "file_extension": ".py",
   "mimetype": "text/x-python",
   "name": "python",
   "nbconvert_exporter": "python",
   "pygments_lexer": "ipython3",
   "version": "3.9.5"
  },
  "latex_envs": {
   "LaTeX_envs_menu_present": true,
   "autoclose": true,
   "autocomplete": true,
   "bibliofile": "biblio.bib",
   "cite_by": "apalike",
   "current_citInitial": 1,
   "eqLabelWithNumbers": true,
   "eqNumInitial": 1,
   "hotkeys": {
    "equation": "Ctrl-E",
    "itemize": "Ctrl-I"
   },
   "labels_anchors": false,
   "latex_user_defs": false,
   "report_style_numbering": false,
   "user_envs_cfg": true
  },
  "toc": {
   "base_numbering": 1,
   "nav_menu": {},
   "number_sections": true,
   "sideBar": true,
   "skip_h1_title": false,
   "title_cell": "Table of Contents",
   "title_sidebar": "Contents",
   "toc_cell": false,
   "toc_position": {},
   "toc_section_display": true,
   "toc_window_display": false
  },
  "varInspector": {
   "cols": {
    "lenName": 16,
    "lenType": 16,
    "lenVar": 40
   },
   "kernels_config": {
    "python": {
     "delete_cmd_postfix": "",
     "delete_cmd_prefix": "del ",
     "library": "var_list.py",
     "varRefreshCmd": "print(var_dic_list())"
    },
    "r": {
     "delete_cmd_postfix": ") ",
     "delete_cmd_prefix": "rm(",
     "library": "var_list.r",
     "varRefreshCmd": "cat(var_dic_list()) "
    }
   },
   "types_to_exclude": [
    "module",
    "function",
    "builtin_function_or_method",
    "instance",
    "_Feature"
   ],
   "window_display": false
  }
 },
 "nbformat": 4,
 "nbformat_minor": 5
}
