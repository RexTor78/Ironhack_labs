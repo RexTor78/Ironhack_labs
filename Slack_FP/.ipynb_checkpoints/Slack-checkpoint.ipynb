{
 "cells": [
  {
   "cell_type": "code",
   "execution_count": 1,
   "id": "76599154",
   "metadata": {
    "run_control": {
     "marked": true
    }
   },
   "outputs": [],
   "source": [
    "import json\n",
    "import pandas as pd\n",
    "import numpy as np\n",
    "import os \n",
    "from os import listdir\n",
    "from os.path import isfile, join\n",
    "from datetime import datetime"
   ]
  },
  {
   "cell_type": "code",
   "execution_count": 2,
   "id": "c6b2598e",
   "metadata": {},
   "outputs": [
    {
     "name": "stdout",
     "output_type": "stream",
     "text": [
      "['berlin-get-together', 'channels.json', 'data-memes', 'data-resources', 'data-viz-beauties', 'general', 'getting_started_tips', 'integration_logs.json', 'katas', 'lab-questions', 'music', 'project-questions', 'random', 'room4', 'users.json']\n"
     ]
    }
   ],
   "source": [
    "dir='C:\\\\Users\\hecto\\PreWorks\\Ironhack_labs\\Slack_FP\\Slack/'\n",
    "fol = os.listdir(dir)\n",
    "print(fol)"
   ]
  },
  {
   "cell_type": "code",
   "execution_count": 3,
   "id": "37ef1d5e",
   "metadata": {},
   "outputs": [
    {
     "data": {
      "text/plain": [
       "['random',\n",
       " 'project-questions',\n",
       " 'room4',\n",
       " 'getting_started_tips',\n",
       " 'berlin-get-together',\n",
       " 'lab-questions',\n",
       " 'data-resources',\n",
       " 'data-memes',\n",
       " 'katas',\n",
       " 'data-viz-beauties',\n",
       " 'general',\n",
       " 'music']"
      ]
     },
     "execution_count": 3,
     "metadata": {},
     "output_type": "execute_result"
    }
   ],
   "source": [
    "dchannels=[file for file in fol if file.endswith('json')]\n",
    "channels=list(set(fol)-set(dchannels))\n",
    "channels"
   ]
  },
  {
   "cell_type": "code",
   "execution_count": 4,
   "id": "3960f77b",
   "metadata": {},
   "outputs": [],
   "source": [
    "date_time = []\n",
    "user = []\n",
    "text = []\n",
    "file_content = []\n",
    "reactions = []\n",
    "reactions_user=[]\n",
    "replies_user = []\n",
    "reply_users=[]\n",
    "channel=[]\n",
    "replies_time=[]\n",
    "have_link=[]\n",
    "link=[]\n",
    "file_url=[]\n",
    "have_file=[]\n",
    "for c in channels:\n",
    "    files = [f for f in listdir(\"slack/\" +c) if isfile(join(\"slack/\" +c, f))]\n",
    "\n",
    "    for file in files:\n",
    "        data=json.load(open( \"slack/\"+c +\"/\" + file,encoding='utf-8'))\n",
    "\n",
    "        for message in data:\n",
    "            channel.append(c)\n",
    "            date_time.append(message[\"ts\"])\n",
    "            text.append(message['text'])\n",
    "            user.append(message[\"user\"])\n",
    "            file_content.append(\"files\" in message.keys())\n",
    "            \n",
    "            if 'files' in message.keys():\n",
    "                file_url.append(message['files'][0]['url_private_download'])\n",
    "                have_file.append('True')\n",
    "            else:\n",
    "                file_url.append(0)\n",
    "                have_file.append('False')\n",
    "            if 'attachments' in message.keys():\n",
    "                if 'title_link' in message['attachments'][0].keys():\n",
    "                    link.append(message['attachments'][0]['title_link'])\n",
    "                    have_link.append('True')\n",
    "                else:\n",
    "                    link.append(0)\n",
    "                    have_link.append('False')\n",
    "            else:\n",
    "                link.append(0)\n",
    "                have_link.append('False')\n",
    "            if 'reply_users_count' in message.keys():\n",
    "                reply_users.append(message['reply_users_count'])\n",
    "            else: \n",
    "                reply_users.append(0)\n",
    "                    \n",
    "            if 'replies' in message.keys():\n",
    "                replies_time.append(message['replies'][0]['ts'])\n",
    "                replies_user.append(message['replies'][0]['user'])\n",
    "            else: \n",
    "                replies_time.append(0)\n",
    "                replies_user.append(0)\n",
    "            \n",
    "            if 'reactions' in message.keys():\n",
    "                count=0\n",
    "                for reaction in message[\"reactions\"]:\n",
    "                    count=count+reaction['count']\n",
    "                reactions.append(count)\n",
    "            else: \n",
    "                reactions.append(0)\n",
    "            if 'reactions' in message.keys():\n",
    "                reactions_user.append(message['reactions'][0]['users'][0])\n",
    "            else:\n",
    "                reactions_user.append(0)"
   ]
  },
  {
   "cell_type": "code",
   "execution_count": 5,
   "id": "6b712814",
   "metadata": {},
   "outputs": [],
   "source": [
    "df = pd.DataFrame({\"daytime\":date_time,\n",
    "                        \"user\": user,'text':text,'file_content':file_content,'reactions':reactions,\n",
    "                        'replies_time':replies_time,'channel':channel,'reply_users':reply_users,'replies_user':replies_user,\n",
    "                        'have_file':have_file,'have_link':have_link,\n",
    "                        'reactions_user':reactions_user})"
   ]
  },
  {
   "cell_type": "code",
   "execution_count": null,
   "id": "99cda2d8",
   "metadata": {},
   "outputs": [],
   "source": []
  },
  {
   "cell_type": "code",
   "execution_count": null,
   "id": "1e29dc18",
   "metadata": {},
   "outputs": [],
   "source": [
    "\n",
    "df['daytime']=pd.to_numeric(df['daytime'])\n",
    "df['replies_time']=pd.to_numeric(df['replies_time'])\n",
    "df[\"daytime\"] = df[\"daytime\"].apply(lambda x: round(x))\n",
    "df[\"replies_time\"] = df[\"replies_time\"].apply(lambda x: round(x))\n",
    "def time_conversor(x):\n",
    "    return datetime.utcfromtimestamp(x).strftime('%d-%m-%Y %H:%M')\n",
    "df[\"dayt\"] = df[\"daytime\"].apply(lambda x: time_conversor(x))\n",
    "df[\"rep_time\"] = df[\"replies_time\"].apply(lambda x: time_conversor(x))\n",
    "df[\"dayt\"]=df[\"dayt\"].apply(lambda x: datetime.strptime(x,'%d-%m-%Y %H:%M'))\n",
    "df['date'] = pd.to_datetime(df['dayt']).dt.date\n",
    "df['time'] = pd.to_datetime(df['dayt']).dt.time\n",
    "df['rep_time']=df['rep_time'].astype(str)\n",
    "#df_final[\"dayt\"]=df_final[\"dayt\"].apply(lambda x: datetime.strptime(x,'%H:%M'))\n",
    "df['rep_time'] = pd.to_datetime(df['rep_time']).dt.time\n",
    "df.drop(['dayt','daytime','replies_time'], axis=1, inplace=True)"
   ]
  },
  {
   "cell_type": "code",
   "execution_count": null,
   "id": "2f28ff68",
   "metadata": {},
   "outputs": [],
   "source": [
    "users=json.load(open('slack/users.json'))\n",
    "user_id=[]\n",
    "name=[]\n",
    "for user in users:\n",
    "    user_id.append(user['id'])\n",
    "    if 'real_name' in user.keys():\n",
    "        name.append(user['real_name'])\n",
    "    else:\n",
    "        name.append(0)\n",
    "\n",
    "users=dict(zip(user_id,name))"
   ]
  },
  {
   "cell_type": "code",
   "execution_count": null,
   "id": "bae8751e",
   "metadata": {},
   "outputs": [],
   "source": [
    "id_list=list(df['user'])\n",
    "df['user']=[users[item] for item in id_list]\n",
    "rea_list=list(df['reactions_user']) \n",
    "for i, item in enumerate(rea_list):\n",
    "    if item != 0:\n",
    "        rea_list[i]=users[item]\n",
    "df['reactions_user']=rea_list\n",
    "rep_list=list(df['replies_user'])\n",
    "for x, item in enumerate(rep_list):\n",
    "    if item!=0:\n",
    "        rep_list[x]=users[item]\n",
    "df['replies_user']=rep_list"
   ]
  },
  {
   "cell_type": "code",
   "execution_count": null,
   "id": "d42fe7a9",
   "metadata": {},
   "outputs": [],
   "source": [
    "df_channel=df.groupby(['channel']).count()"
   ]
  },
  {
   "cell_type": "code",
   "execution_count": null,
   "id": "e79895a9",
   "metadata": {},
   "outputs": [],
   "source": [
    "df_cuser=df.groupby(['channel','user']).count()"
   ]
  },
  {
   "cell_type": "code",
   "execution_count": null,
   "id": "855833c1",
   "metadata": {},
   "outputs": [],
   "source": [
    "df_channel"
   ]
  },
  {
   "cell_type": "code",
   "execution_count": null,
   "id": "e7baaaaa",
   "metadata": {},
   "outputs": [],
   "source": [
    "df_cuser"
   ]
  },
  {
   "cell_type": "code",
   "execution_count": null,
   "id": "a9f9d774",
   "metadata": {},
   "outputs": [],
   "source": [
    "df_user=df.groupby(['user']).count()"
   ]
  },
  {
   "cell_type": "code",
   "execution_count": null,
   "id": "a7cc3dd1",
   "metadata": {},
   "outputs": [],
   "source": [
    "df_user"
   ]
  },
  {
   "cell_type": "code",
   "execution_count": null,
   "id": "33401416",
   "metadata": {},
   "outputs": [],
   "source": [
    "import seaborn as sns\n",
    "from textblob import TextBlob \n",
    "import matplotlib as plt\n",
    "import docx2txt\n",
    "import nltk\n",
    "from nltk.tokenize import word_tokenize\n",
    "from nltk.text import Text"
   ]
  },
  {
   "cell_type": "code",
   "execution_count": null,
   "id": "9b9cd0fc",
   "metadata": {},
   "outputs": [],
   "source": [
    "text_lenght=[]\n",
    "for i in df['text']:\n",
    "    tokens = nltk.word_tokenize(i)\n",
    "    text_lenght.append(len(tokens))\n"
   ]
  },
  {
   "cell_type": "code",
   "execution_count": null,
   "id": "01142322",
   "metadata": {},
   "outputs": [],
   "source": [
    "df['text_words_count']=text_lenght"
   ]
  },
  {
   "cell_type": "code",
   "execution_count": null,
   "id": "ce9de883",
   "metadata": {},
   "outputs": [],
   "source": [
    "from collections import defaultdict\n",
    "from collections import Counter\n",
    "word_freq=[]\n",
    "times_freq=[]\n",
    "for i in df['text']:\n",
    "    tokens = nltk.word_tokenize(i)\n",
    "    fdist1=nltk.FreqDist(tokens)\n",
    "    clean_w=[word for word in tokens if word.isalpha()]\n",
    "    freq=dict()\n",
    "    for word in clean_w:\n",
    "        word=word.lower()\n",
    "        freq[word]=freq.get(word,0)+1\n",
    "        #w=[] \n",
    "        #w.append((max(freq, key=freq.get)))\n",
    "        #d=defaultdict(int)\n",
    "        for x in freq:\n",
    "            freq[x] +=1\n",
    "            wd=(max(freq.items(), key=lambda x:x[1]))\n",
    "    word_freq.append(wd)\n",
    "   \n"
   ]
  },
  {
   "cell_type": "code",
   "execution_count": null,
   "id": "db268c7f",
   "metadata": {},
   "outputs": [],
   "source": [
    "wd"
   ]
  },
  {
   "cell_type": "code",
   "execution_count": null,
   "id": "300712b7",
   "metadata": {},
   "outputs": [],
   "source": [
    "df['word_freq']=word_freq"
   ]
  },
  {
   "cell_type": "code",
   "execution_count": null,
   "id": "221dd0bb",
   "metadata": {},
   "outputs": [],
   "source": [
    "m = df['word_freq']\n",
    "df[['word_frq','times_frq']] =  m.str.split(\",\", n=1, expand=True)"
   ]
  },
  {
   "cell_type": "code",
   "execution_count": null,
   "id": "34f319d4",
   "metadata": {},
   "outputs": [],
   "source": [
    "df['word_freq']"
   ]
  },
  {
   "cell_type": "code",
   "execution_count": null,
   "id": "68ce4b63",
   "metadata": {},
   "outputs": [],
   "source": [
    "df['times_rep']=df['word_freq'].keys()"
   ]
  },
  {
   "cell_type": "code",
   "execution_count": null,
   "id": "7648af6e",
   "metadata": {},
   "outputs": [],
   "source": [
    "df['word_frq']=df['word_freq'].values()\n"
   ]
  },
  {
   "cell_type": "code",
   "execution_count": null,
   "id": "5e0e854d",
   "metadata": {},
   "outputs": [],
   "source": [
    "df"
   ]
  },
  {
   "cell_type": "code",
   "execution_count": null,
   "id": "6de70411",
   "metadata": {},
   "outputs": [],
   "source": [
    "df.to_csv('Final_data.csv',index=False)"
   ]
  },
  {
   "cell_type": "code",
   "execution_count": null,
   "id": "1a79ca90",
   "metadata": {},
   "outputs": [],
   "source": [
    "df.shape"
   ]
  },
  {
   "cell_type": "code",
   "execution_count": null,
   "id": "646dd613",
   "metadata": {},
   "outputs": [],
   "source": []
  },
  {
   "cell_type": "code",
   "execution_count": null,
   "id": "a6215e7a",
   "metadata": {},
   "outputs": [],
   "source": []
  },
  {
   "cell_type": "code",
   "execution_count": null,
   "id": "76d68562",
   "metadata": {},
   "outputs": [],
   "source": []
  },
  {
   "cell_type": "code",
   "execution_count": null,
   "id": "18a7d130",
   "metadata": {},
   "outputs": [],
   "source": []
  },
  {
   "cell_type": "code",
   "execution_count": null,
   "id": "c366ffbe",
   "metadata": {},
   "outputs": [],
   "source": []
  },
  {
   "cell_type": "code",
   "execution_count": null,
   "id": "36278880",
   "metadata": {},
   "outputs": [],
   "source": []
  },
  {
   "cell_type": "code",
   "execution_count": null,
   "id": "31759805",
   "metadata": {},
   "outputs": [],
   "source": []
  },
  {
   "cell_type": "code",
   "execution_count": null,
   "id": "bda7edc7",
   "metadata": {},
   "outputs": [],
   "source": []
  },
  {
   "cell_type": "code",
   "execution_count": null,
   "id": "78c80552",
   "metadata": {},
   "outputs": [],
   "source": []
  },
  {
   "cell_type": "code",
   "execution_count": null,
   "id": "2b88a31e",
   "metadata": {},
   "outputs": [],
   "source": []
  },
  {
   "cell_type": "code",
   "execution_count": null,
   "id": "050ebb69",
   "metadata": {},
   "outputs": [],
   "source": []
  },
  {
   "cell_type": "code",
   "execution_count": null,
   "id": "f51bce80",
   "metadata": {},
   "outputs": [],
   "source": []
  },
  {
   "cell_type": "code",
   "execution_count": null,
   "id": "c0ed8547",
   "metadata": {},
   "outputs": [],
   "source": []
  },
  {
   "cell_type": "code",
   "execution_count": null,
   "id": "4a303cb9",
   "metadata": {},
   "outputs": [],
   "source": []
  },
  {
   "cell_type": "code",
   "execution_count": null,
   "id": "5a1c0b19",
   "metadata": {},
   "outputs": [],
   "source": []
  }
 ],
 "metadata": {
  "hide_input": false,
  "kernelspec": {
   "display_name": "Python 3",
   "language": "python",
   "name": "python3"
  },
  "language_info": {
   "codemirror_mode": {
    "name": "ipython",
    "version": 3
   },
   "file_extension": ".py",
   "mimetype": "text/x-python",
   "name": "python",
   "nbconvert_exporter": "python",
   "pygments_lexer": "ipython3",
   "version": "3.9.5"
  },
  "latex_envs": {
   "LaTeX_envs_menu_present": true,
   "autoclose": true,
   "autocomplete": true,
   "bibliofile": "biblio.bib",
   "cite_by": "apalike",
   "current_citInitial": 1,
   "eqLabelWithNumbers": true,
   "eqNumInitial": 1,
   "hotkeys": {
    "equation": "Ctrl-E",
    "itemize": "Ctrl-I"
   },
   "labels_anchors": false,
   "latex_user_defs": false,
   "report_style_numbering": false,
   "user_envs_cfg": true
  },
  "toc": {
   "base_numbering": 1,
   "nav_menu": {},
   "number_sections": true,
   "sideBar": true,
   "skip_h1_title": false,
   "title_cell": "Table of Contents",
   "title_sidebar": "Contents",
   "toc_cell": false,
   "toc_position": {},
   "toc_section_display": true,
   "toc_window_display": false
  },
  "varInspector": {
   "cols": {
    "lenName": 16,
    "lenType": 16,
    "lenVar": 40
   },
   "kernels_config": {
    "python": {
     "delete_cmd_postfix": "",
     "delete_cmd_prefix": "del ",
     "library": "var_list.py",
     "varRefreshCmd": "print(var_dic_list())"
    },
    "r": {
     "delete_cmd_postfix": ") ",
     "delete_cmd_prefix": "rm(",
     "library": "var_list.r",
     "varRefreshCmd": "cat(var_dic_list()) "
    }
   },
   "types_to_exclude": [
    "module",
    "function",
    "builtin_function_or_method",
    "instance",
    "_Feature"
   ],
   "window_display": false
  }
 },
 "nbformat": 4,
 "nbformat_minor": 5
}
