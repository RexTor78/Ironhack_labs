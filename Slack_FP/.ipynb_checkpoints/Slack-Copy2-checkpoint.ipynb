{
 "cells": [
  {
   "cell_type": "code",
   "execution_count": 1,
   "id": "1f73fada",
   "metadata": {
    "run_control": {
     "marked": true
    }
   },
   "outputs": [],
   "source": [
    "import json\n",
    "import pandas as pd\n",
    "import numpy as np\n",
    "import os \n",
    "from os import listdir\n",
    "from os.path import isfile, join\n",
    "from datetime import datetime"
   ]
  },
  {
   "cell_type": "code",
   "execution_count": 2,
   "id": "4e1ab9e7",
   "metadata": {},
   "outputs": [
    {
     "name": "stdout",
     "output_type": "stream",
     "text": [
      "['berlin-get-together', 'channels.json', 'data-memes', 'data-resources', 'data-viz-beauties', 'dataqueens', 'flo_standup_group_week5', 'general', 'getting_started_tips', 'integration_logs.json', 'katas', 'lab-questions', 'music', 'project-questions', 'random', 'room4', 'team-project-1', 'users.json']\n"
     ]
    }
   ],
   "source": [
    "dir='C:\\\\Users\\hecto\\PreWorks\\Ironhack_labs\\Slack_FP\\Slack/'\n",
    "fol = os.listdir(dir)\n",
    "print(fol)"
   ]
  },
  {
   "cell_type": "code",
   "execution_count": 3,
   "id": "b3dc1ee4",
   "metadata": {},
   "outputs": [
    {
     "data": {
      "text/plain": [
       "['berlin-get-together',\n",
       " 'data-viz-beauties',\n",
       " 'flo_standup_group_week5',\n",
       " 'room4',\n",
       " 'general',\n",
       " 'music',\n",
       " 'dataqueens',\n",
       " 'data-memes',\n",
       " 'getting_started_tips',\n",
       " 'project-questions',\n",
       " 'data-resources',\n",
       " 'random',\n",
       " 'katas',\n",
       " 'team-project-1',\n",
       " 'lab-questions']"
      ]
     },
     "execution_count": 3,
     "metadata": {},
     "output_type": "execute_result"
    }
   ],
   "source": [
    "dchannels=[file for file in fol if file.endswith('json')]\n",
    "channels=list(set(fol)-set(dchannels))\n",
    "channels"
   ]
  },
  {
   "cell_type": "code",
   "execution_count": 4,
   "id": "5d78445e",
   "metadata": {},
   "outputs": [],
   "source": [
    "#jfiles = [f for f in listdir('slack\\general') if isfile(join('slack\\general', f))]\n",
    "#jfiles"
   ]
  },
  {
   "cell_type": "code",
   "execution_count": 24,
   "id": "7af2215e",
   "metadata": {},
   "outputs": [],
   "source": [
    "date_time = []\n",
    "user = []\n",
    "text = []\n",
    "file_content = []\n",
    "reactions = []\n",
    "reactions_user=[]\n",
    "replies_user = []\n",
    "reply_users=[]\n",
    "channel=[]\n",
    "replies_time=[]\n",
    "link=[]\n",
    "file_url=[]\n",
    "for c in channels:\n",
    "    files = [f for f in listdir(\"slack/\" +c) if isfile(join(\"slack/\" +c, f))]\n",
    "\n",
    "    for file in files:\n",
    "        data=json.load(open( \"slack/\"+c +\"/\" + file,encoding='utf-8'))\n",
    "\n",
    "        for message in data:\n",
    "            channel.append(c)\n",
    "            date_time.append(datetime.fromtimestamp(float(message[\"ts\"])))\n",
    "            if 'files' in message.keys():\n",
    "                for i in message['files']:\n",
    "                    file_url.append(i['url_private_download'])\n",
    "            else:\n",
    "                file_url.append(0)\n",
    "            if 'attachments' in message.keys():\n",
    "                if 'title_link' in 'attachments':\n",
    "                    for i in message['attachments']:\n",
    "                        link.append(i['title_link'])\n",
    "                else:\n",
    "                    link.append(0)"
   ]
  },
  {
   "cell_type": "code",
   "execution_count": 26,
   "id": "28635230",
   "metadata": {},
   "outputs": [
    {
     "data": {
      "text/plain": [
       "2631"
      ]
     },
     "execution_count": 26,
     "metadata": {},
     "output_type": "execute_result"
    }
   ],
   "source": [
    "len(file_url)"
   ]
  },
  {
   "cell_type": "code",
   "execution_count": 25,
   "id": "293763b2",
   "metadata": {},
   "outputs": [
    {
     "data": {
      "text/plain": [
       "2613"
      ]
     },
     "execution_count": 25,
     "metadata": {},
     "output_type": "execute_result"
    }
   ],
   "source": [
    "len(date_time)"
   ]
  },
  {
   "cell_type": "code",
   "execution_count": null,
   "id": "2b85a465",
   "metadata": {},
   "outputs": [],
   "source": [
    "if 'attachments' in message.keys():\n",
    "                if 'title_link' in 'attachments':\n",
    "                    \n",
    "                    link.append(message['attachments'][0]['title_link'])\n",
    "                else:\n",
    "                    link.append(0)\n",
    "            else:\n",
    "                link.append(0)\n",
    "            if 'reply_users_count' in message.keys():\n",
    "                reply_users.append(message['reply_users_count'])\n",
    "            else: \n",
    "                reply_users.append(0)\n",
    "                    \n",
    "            if 'replies' in message.keys():\n",
    "                replies_time.append(message['replies'][0]['ts'])\n",
    "                replies_user.append(message['replies'][0]['user'])\n",
    "            else: \n",
    "                replies_time.append(0)\n",
    "                replies_user.append(0)\n",
    "            \n",
    "            if 'reactions' in message.keys():\n",
    "                count=0\n",
    "                for reaction in message[\"reactions\"]:\n",
    "                    count=count+reaction['count']\n",
    "                reactions.append(count)\n",
    "            else: \n",
    "                reactions.append(0)\n",
    "            if 'reactions' in message.keys():\n",
    "                reactions_user.append(message['reactions'][0]['users'][0])\n",
    "            else:\n",
    "                reactions_user.append(0)"
   ]
  },
  {
   "cell_type": "code",
   "execution_count": null,
   "id": "3f5d07bb",
   "metadata": {},
   "outputs": [],
   "source": []
  },
  {
   "cell_type": "code",
   "execution_count": 6,
   "id": "3f4e3071",
   "metadata": {},
   "outputs": [],
   "source": [
    "df_final = pd.DataFrame({\"daytime\":date_time,\n",
    "                        \"user\": user,'text':text,'file_content':file_content,'reactions':reactions,\n",
    "                        'replies_time':replies_time,'channel':channel,'reply_users':reply_users,'replies_user':replies_user,\n",
    "                        'file_url':file_url,'link':link,\n",
    "                        'reactions_user':reactions_user})"
   ]
  },
  {
   "cell_type": "code",
   "execution_count": 7,
   "id": "17e5fc79",
   "metadata": {},
   "outputs": [],
   "source": [
    "df_final['daytime']=pd.to_numeric(df_final['daytime'])"
   ]
  },
  {
   "cell_type": "code",
   "execution_count": 8,
   "id": "2d2f9abf",
   "metadata": {},
   "outputs": [],
   "source": [
    "df_final['replies_time']=pd.to_numeric(df_final['replies_time'])"
   ]
  },
  {
   "cell_type": "code",
   "execution_count": 9,
   "id": "b108e954",
   "metadata": {},
   "outputs": [],
   "source": [
    "df_final[\"daytime\"] = df_final[\"daytime\"].apply(lambda x: round(x))"
   ]
  },
  {
   "cell_type": "code",
   "execution_count": 10,
   "id": "530e0207",
   "metadata": {},
   "outputs": [],
   "source": [
    "df_final[\"replies_time\"] = df_final[\"replies_time\"].apply(lambda x: round(x))"
   ]
  },
  {
   "cell_type": "code",
   "execution_count": 11,
   "id": "cd2f6c1a",
   "metadata": {},
   "outputs": [],
   "source": [
    "def time_conversor(x):\n",
    "    return datetime.utcfromtimestamp(x).strftime('%d-%m-%Y %H:%M')"
   ]
  },
  {
   "cell_type": "code",
   "execution_count": 12,
   "id": "428b9cd5",
   "metadata": {},
   "outputs": [],
   "source": [
    "df_final[\"dayt\"] = df_final[\"daytime\"].apply(lambda x: time_conversor(x))"
   ]
  },
  {
   "cell_type": "code",
   "execution_count": 13,
   "id": "bc0f3b2b",
   "metadata": {},
   "outputs": [],
   "source": [
    "df_final[\"rep_time\"] = df_final[\"replies_time\"].apply(lambda x: time_conversor(x))"
   ]
  },
  {
   "cell_type": "code",
   "execution_count": 14,
   "id": "28b7ae31",
   "metadata": {},
   "outputs": [],
   "source": [
    "df_final[\"dayt\"]=df_final[\"dayt\"].apply(lambda x: datetime.strptime(x,'%d-%m-%Y %H:%M'))\n",
    "df_final['date'] = pd.to_datetime(df_final['dayt']).dt.date\n",
    "df_final['time'] = pd.to_datetime(df_final['dayt']).dt.time"
   ]
  },
  {
   "cell_type": "code",
   "execution_count": 15,
   "id": "bbcf7454",
   "metadata": {},
   "outputs": [],
   "source": [
    "df_final['rep_time']=df_final['rep_time'].astype(str)\n",
    "#df_final[\"dayt\"]=df_final[\"dayt\"].apply(lambda x: datetime.strptime(x,'%H:%M'))\n",
    "df_final['rep_time'] = pd.to_datetime(df_final['rep_time']).dt.time"
   ]
  },
  {
   "cell_type": "code",
   "execution_count": 16,
   "id": "fef1cc5c",
   "metadata": {},
   "outputs": [],
   "source": [
    "df_final.drop(['dayt','daytime','replies_time'], axis=1, inplace=True)"
   ]
  },
  {
   "cell_type": "code",
   "execution_count": 17,
   "id": "09717869",
   "metadata": {},
   "outputs": [],
   "source": [
    "users=json.load(open('slack/users.json'))"
   ]
  },
  {
   "cell_type": "code",
   "execution_count": 18,
   "id": "ea56de91",
   "metadata": {},
   "outputs": [],
   "source": [
    "user_id=[]\n",
    "name=[]\n",
    "for user in users:\n",
    "    user_id.append(user['id'])\n",
    "    if 'real_name' in user.keys():\n",
    "        name.append(user['real_name'])\n",
    "    else:\n",
    "        name.append(0)\n",
    "\n",
    "#users=pd.DataFrame({'id':user_id,'name':name})\n",
    "#users=users.drop_duplicates(subset=\"name\",inplace=True)\n",
    "users=dict(zip(user_id,name))"
   ]
  },
  {
   "cell_type": "code",
   "execution_count": 20,
   "id": "d74e0d04",
   "metadata": {},
   "outputs": [],
   "source": [
    "df=df_final"
   ]
  },
  {
   "cell_type": "code",
   "execution_count": 21,
   "id": "2b6884e0",
   "metadata": {},
   "outputs": [],
   "source": [
    "id_list=list(df['user'])\n",
    "df['user']=[users[item] for item in id_list]\n"
   ]
  },
  {
   "cell_type": "code",
   "execution_count": 22,
   "id": "6219dff5",
   "metadata": {},
   "outputs": [],
   "source": [
    "rea_list=list(df['reactions_user'])   "
   ]
  },
  {
   "cell_type": "code",
   "execution_count": 23,
   "id": "3587fc6e",
   "metadata": {},
   "outputs": [],
   "source": [
    "for i, item in enumerate(rea_list):\n",
    "    if item != 0:\n",
    "        rea_list[i]=users[item]\n",
    "df['reactions_user']=rea_list"
   ]
  },
  {
   "cell_type": "code",
   "execution_count": 24,
   "id": "7fdf95ce",
   "metadata": {},
   "outputs": [],
   "source": [
    "rep_list=list(df['replies_user'])\n",
    "for i, item in enumerate(rep_list):\n",
    "    if item!=0:\n",
    "        rep_list[i]=users[item]\n",
    "df['replies_user']=rep_list"
   ]
  },
  {
   "cell_type": "code",
   "execution_count": 25,
   "id": "6f707697",
   "metadata": {},
   "outputs": [
    {
     "data": {
      "text/html": [
       "<div>\n",
       "<style scoped>\n",
       "    .dataframe tbody tr th:only-of-type {\n",
       "        vertical-align: middle;\n",
       "    }\n",
       "\n",
       "    .dataframe tbody tr th {\n",
       "        vertical-align: top;\n",
       "    }\n",
       "\n",
       "    .dataframe thead th {\n",
       "        text-align: right;\n",
       "    }\n",
       "</style>\n",
       "<table border=\"1\" class=\"dataframe\">\n",
       "  <thead>\n",
       "    <tr style=\"text-align: right;\">\n",
       "      <th></th>\n",
       "      <th>user</th>\n",
       "      <th>text</th>\n",
       "      <th>file_content</th>\n",
       "      <th>reactions</th>\n",
       "      <th>channel</th>\n",
       "      <th>reply_users</th>\n",
       "      <th>replies_user</th>\n",
       "      <th>file_url</th>\n",
       "      <th>link</th>\n",
       "      <th>reactions_user</th>\n",
       "      <th>rep_time</th>\n",
       "      <th>date</th>\n",
       "      <th>time</th>\n",
       "    </tr>\n",
       "  </thead>\n",
       "  <tbody>\n",
       "    <tr>\n",
       "      <th>0</th>\n",
       "      <td>Sian Davies</td>\n",
       "      <td>&lt;@U021UNQGZC4&gt; has joined the channel</td>\n",
       "      <td>False</td>\n",
       "      <td>0</td>\n",
       "      <td>getting_started_tips</td>\n",
       "      <td>0</td>\n",
       "      <td>0</td>\n",
       "      <td>0</td>\n",
       "      <td>0</td>\n",
       "      <td>0</td>\n",
       "      <td>00:00:00</td>\n",
       "      <td>2021-05-12</td>\n",
       "      <td>09:43:00</td>\n",
       "    </tr>\n",
       "    <tr>\n",
       "      <th>1</th>\n",
       "      <td>Sian Davies</td>\n",
       "      <td>&lt;@U021UNQGZC4&gt; set the channel description: a ...</td>\n",
       "      <td>False</td>\n",
       "      <td>0</td>\n",
       "      <td>getting_started_tips</td>\n",
       "      <td>0</td>\n",
       "      <td>0</td>\n",
       "      <td>0</td>\n",
       "      <td>0</td>\n",
       "      <td>0</td>\n",
       "      <td>00:00:00</td>\n",
       "      <td>2021-05-12</td>\n",
       "      <td>09:43:00</td>\n",
       "    </tr>\n",
       "    <tr>\n",
       "      <th>2</th>\n",
       "      <td>Madini Liebscher</td>\n",
       "      <td>&lt;@U0217P72YR5&gt; has joined the channel</td>\n",
       "      <td>False</td>\n",
       "      <td>0</td>\n",
       "      <td>getting_started_tips</td>\n",
       "      <td>0</td>\n",
       "      <td>0</td>\n",
       "      <td>0</td>\n",
       "      <td>0</td>\n",
       "      <td>0</td>\n",
       "      <td>00:00:00</td>\n",
       "      <td>2021-05-12</td>\n",
       "      <td>09:43:00</td>\n",
       "    </tr>\n",
       "    <tr>\n",
       "      <th>3</th>\n",
       "      <td>miguel.simon</td>\n",
       "      <td>&lt;@U021NHS652N&gt; has joined the channel</td>\n",
       "      <td>False</td>\n",
       "      <td>0</td>\n",
       "      <td>getting_started_tips</td>\n",
       "      <td>0</td>\n",
       "      <td>0</td>\n",
       "      <td>0</td>\n",
       "      <td>0</td>\n",
       "      <td>0</td>\n",
       "      <td>00:00:00</td>\n",
       "      <td>2021-05-12</td>\n",
       "      <td>09:43:00</td>\n",
       "    </tr>\n",
       "    <tr>\n",
       "      <th>4</th>\n",
       "      <td>Jonas Tonndorff</td>\n",
       "      <td>&lt;@U021TDD883V&gt; has joined the channel</td>\n",
       "      <td>False</td>\n",
       "      <td>0</td>\n",
       "      <td>getting_started_tips</td>\n",
       "      <td>0</td>\n",
       "      <td>0</td>\n",
       "      <td>0</td>\n",
       "      <td>0</td>\n",
       "      <td>0</td>\n",
       "      <td>00:00:00</td>\n",
       "      <td>2021-05-13</td>\n",
       "      <td>09:52:00</td>\n",
       "    </tr>\n",
       "    <tr>\n",
       "      <th>...</th>\n",
       "      <td>...</td>\n",
       "      <td>...</td>\n",
       "      <td>...</td>\n",
       "      <td>...</td>\n",
       "      <td>...</td>\n",
       "      <td>...</td>\n",
       "      <td>...</td>\n",
       "      <td>...</td>\n",
       "      <td>...</td>\n",
       "      <td>...</td>\n",
       "      <td>...</td>\n",
       "      <td>...</td>\n",
       "      <td>...</td>\n",
       "    </tr>\n",
       "    <tr>\n",
       "      <th>2608</th>\n",
       "      <td>Pedro Pablo Errazuriz</td>\n",
       "      <td>This week I'm working with the company of Seba...</td>\n",
       "      <td>False</td>\n",
       "      <td>2</td>\n",
       "      <td>music</td>\n",
       "      <td>0</td>\n",
       "      <td>0</td>\n",
       "      <td>0</td>\n",
       "      <td>0</td>\n",
       "      <td>Sian Davies</td>\n",
       "      <td>00:00:00</td>\n",
       "      <td>2021-06-25</td>\n",
       "      <td>08:31:00</td>\n",
       "    </tr>\n",
       "    <tr>\n",
       "      <th>2609</th>\n",
       "      <td>Uroš Petković</td>\n",
       "      <td>&lt;https://soundcloud.com/crushedmusic&gt;</td>\n",
       "      <td>False</td>\n",
       "      <td>0</td>\n",
       "      <td>music</td>\n",
       "      <td>0</td>\n",
       "      <td>0</td>\n",
       "      <td>0</td>\n",
       "      <td>0</td>\n",
       "      <td>0</td>\n",
       "      <td>00:00:00</td>\n",
       "      <td>2021-07-20</td>\n",
       "      <td>09:55:00</td>\n",
       "    </tr>\n",
       "    <tr>\n",
       "      <th>2610</th>\n",
       "      <td>Uroš Petković</td>\n",
       "      <td>&lt;https://shazalakazoo.com/&gt;</td>\n",
       "      <td>False</td>\n",
       "      <td>0</td>\n",
       "      <td>music</td>\n",
       "      <td>0</td>\n",
       "      <td>0</td>\n",
       "      <td>0</td>\n",
       "      <td>0</td>\n",
       "      <td>0</td>\n",
       "      <td>00:00:00</td>\n",
       "      <td>2021-07-20</td>\n",
       "      <td>09:58:00</td>\n",
       "    </tr>\n",
       "    <tr>\n",
       "      <th>2611</th>\n",
       "      <td>Uroš Petković</td>\n",
       "      <td>&lt;https://open.spotify.com/artist/1YumFgivFXVVg...</td>\n",
       "      <td>False</td>\n",
       "      <td>0</td>\n",
       "      <td>music</td>\n",
       "      <td>0</td>\n",
       "      <td>0</td>\n",
       "      <td>0</td>\n",
       "      <td>0</td>\n",
       "      <td>0</td>\n",
       "      <td>00:00:00</td>\n",
       "      <td>2021-07-20</td>\n",
       "      <td>10:00:00</td>\n",
       "    </tr>\n",
       "    <tr>\n",
       "      <th>2612</th>\n",
       "      <td>Uroš Petković</td>\n",
       "      <td>&lt;https://balkanbeats.eu/muzika/&gt;</td>\n",
       "      <td>False</td>\n",
       "      <td>0</td>\n",
       "      <td>music</td>\n",
       "      <td>0</td>\n",
       "      <td>0</td>\n",
       "      <td>0</td>\n",
       "      <td>0</td>\n",
       "      <td>0</td>\n",
       "      <td>00:00:00</td>\n",
       "      <td>2021-07-20</td>\n",
       "      <td>10:01:00</td>\n",
       "    </tr>\n",
       "  </tbody>\n",
       "</table>\n",
       "<p>2613 rows × 13 columns</p>\n",
       "</div>"
      ],
      "text/plain": [
       "                       user  \\\n",
       "0               Sian Davies   \n",
       "1               Sian Davies   \n",
       "2          Madini Liebscher   \n",
       "3              miguel.simon   \n",
       "4           Jonas Tonndorff   \n",
       "...                     ...   \n",
       "2608  Pedro Pablo Errazuriz   \n",
       "2609          Uroš Petković   \n",
       "2610          Uroš Petković   \n",
       "2611          Uroš Petković   \n",
       "2612          Uroš Petković   \n",
       "\n",
       "                                                   text  file_content  \\\n",
       "0                 <@U021UNQGZC4> has joined the channel         False   \n",
       "1     <@U021UNQGZC4> set the channel description: a ...         False   \n",
       "2                 <@U0217P72YR5> has joined the channel         False   \n",
       "3                 <@U021NHS652N> has joined the channel         False   \n",
       "4                 <@U021TDD883V> has joined the channel         False   \n",
       "...                                                 ...           ...   \n",
       "2608  This week I'm working with the company of Seba...         False   \n",
       "2609              <https://soundcloud.com/crushedmusic>         False   \n",
       "2610                        <https://shazalakazoo.com/>         False   \n",
       "2611  <https://open.spotify.com/artist/1YumFgivFXVVg...         False   \n",
       "2612                   <https://balkanbeats.eu/muzika/>         False   \n",
       "\n",
       "      reactions               channel  reply_users replies_user file_url  \\\n",
       "0             0  getting_started_tips            0            0        0   \n",
       "1             0  getting_started_tips            0            0        0   \n",
       "2             0  getting_started_tips            0            0        0   \n",
       "3             0  getting_started_tips            0            0        0   \n",
       "4             0  getting_started_tips            0            0        0   \n",
       "...         ...                   ...          ...          ...      ...   \n",
       "2608          2                 music            0            0        0   \n",
       "2609          0                 music            0            0        0   \n",
       "2610          0                 music            0            0        0   \n",
       "2611          0                 music            0            0        0   \n",
       "2612          0                 music            0            0        0   \n",
       "\n",
       "      link reactions_user  rep_time        date      time  \n",
       "0        0              0  00:00:00  2021-05-12  09:43:00  \n",
       "1        0              0  00:00:00  2021-05-12  09:43:00  \n",
       "2        0              0  00:00:00  2021-05-12  09:43:00  \n",
       "3        0              0  00:00:00  2021-05-12  09:43:00  \n",
       "4        0              0  00:00:00  2021-05-13  09:52:00  \n",
       "...    ...            ...       ...         ...       ...  \n",
       "2608     0    Sian Davies  00:00:00  2021-06-25  08:31:00  \n",
       "2609     0              0  00:00:00  2021-07-20  09:55:00  \n",
       "2610     0              0  00:00:00  2021-07-20  09:58:00  \n",
       "2611     0              0  00:00:00  2021-07-20  10:00:00  \n",
       "2612     0              0  00:00:00  2021-07-20  10:01:00  \n",
       "\n",
       "[2613 rows x 13 columns]"
      ]
     },
     "execution_count": 25,
     "metadata": {},
     "output_type": "execute_result"
    }
   ],
   "source": [
    "df"
   ]
  },
  {
   "cell_type": "code",
   "execution_count": null,
   "id": "4888057d",
   "metadata": {},
   "outputs": [],
   "source": [
    "df_channel=df.groupby(['channel']).count()"
   ]
  },
  {
   "cell_type": "code",
   "execution_count": null,
   "id": "37c13d4e",
   "metadata": {},
   "outputs": [],
   "source": [
    "df_channel"
   ]
  },
  {
   "cell_type": "code",
   "execution_count": null,
   "id": "a3cc8330",
   "metadata": {},
   "outputs": [],
   "source": [
    "df_user=df.groupby(['user','text']).sum()"
   ]
  },
  {
   "cell_type": "code",
   "execution_count": null,
   "id": "517464e4",
   "metadata": {},
   "outputs": [],
   "source": [
    "df_user"
   ]
  },
  {
   "cell_type": "code",
   "execution_count": null,
   "id": "d60695c3",
   "metadata": {},
   "outputs": [],
   "source": [
    "df['user'].nunique()"
   ]
  },
  {
   "cell_type": "code",
   "execution_count": null,
   "id": "17875592",
   "metadata": {},
   "outputs": [],
   "source": [
    "df.to_csv('df.csv')"
   ]
  },
  {
   "cell_type": "code",
   "execution_count": null,
   "id": "739e47b6",
   "metadata": {},
   "outputs": [],
   "source": []
  },
  {
   "cell_type": "code",
   "execution_count": null,
   "id": "5a50f83f",
   "metadata": {},
   "outputs": [],
   "source": []
  },
  {
   "cell_type": "code",
   "execution_count": null,
   "id": "7ce1be82",
   "metadata": {},
   "outputs": [],
   "source": []
  },
  {
   "cell_type": "code",
   "execution_count": null,
   "id": "547ae220",
   "metadata": {},
   "outputs": [],
   "source": []
  },
  {
   "cell_type": "code",
   "execution_count": null,
   "id": "a6b024a2",
   "metadata": {},
   "outputs": [],
   "source": []
  },
  {
   "cell_type": "code",
   "execution_count": null,
   "id": "8a98dc5f",
   "metadata": {},
   "outputs": [],
   "source": []
  },
  {
   "cell_type": "code",
   "execution_count": null,
   "id": "15c98455",
   "metadata": {},
   "outputs": [],
   "source": []
  },
  {
   "cell_type": "code",
   "execution_count": null,
   "id": "09750026",
   "metadata": {},
   "outputs": [],
   "source": []
  },
  {
   "cell_type": "code",
   "execution_count": null,
   "id": "9d3d5086",
   "metadata": {},
   "outputs": [],
   "source": []
  },
  {
   "cell_type": "code",
   "execution_count": null,
   "id": "c646e879",
   "metadata": {},
   "outputs": [],
   "source": []
  },
  {
   "cell_type": "code",
   "execution_count": null,
   "id": "7e6d0ff6",
   "metadata": {},
   "outputs": [],
   "source": []
  },
  {
   "cell_type": "code",
   "execution_count": null,
   "id": "a1729c15",
   "metadata": {},
   "outputs": [],
   "source": []
  },
  {
   "cell_type": "code",
   "execution_count": null,
   "id": "fa7fc57b",
   "metadata": {},
   "outputs": [],
   "source": []
  },
  {
   "cell_type": "code",
   "execution_count": null,
   "id": "027f34e2",
   "metadata": {},
   "outputs": [],
   "source": []
  },
  {
   "cell_type": "code",
   "execution_count": null,
   "id": "b70d6e85",
   "metadata": {},
   "outputs": [],
   "source": []
  },
  {
   "cell_type": "code",
   "execution_count": null,
   "id": "32bb480c",
   "metadata": {},
   "outputs": [],
   "source": []
  },
  {
   "cell_type": "code",
   "execution_count": null,
   "id": "3b2cf0d6",
   "metadata": {},
   "outputs": [],
   "source": []
  },
  {
   "cell_type": "code",
   "execution_count": null,
   "id": "36bb95df",
   "metadata": {},
   "outputs": [],
   "source": []
  },
  {
   "cell_type": "code",
   "execution_count": null,
   "id": "10ef3dce",
   "metadata": {},
   "outputs": [],
   "source": []
  },
  {
   "cell_type": "code",
   "execution_count": null,
   "id": "2083f434",
   "metadata": {},
   "outputs": [],
   "source": []
  },
  {
   "cell_type": "code",
   "execution_count": null,
   "id": "44b2a600",
   "metadata": {},
   "outputs": [],
   "source": []
  },
  {
   "cell_type": "code",
   "execution_count": null,
   "id": "a5d4e42f",
   "metadata": {},
   "outputs": [],
   "source": []
  },
  {
   "cell_type": "code",
   "execution_count": null,
   "id": "69f34acd",
   "metadata": {},
   "outputs": [],
   "source": []
  },
  {
   "cell_type": "code",
   "execution_count": null,
   "id": "d413862b",
   "metadata": {},
   "outputs": [],
   "source": []
  },
  {
   "cell_type": "code",
   "execution_count": null,
   "id": "ea4bb0d0",
   "metadata": {},
   "outputs": [],
   "source": []
  },
  {
   "cell_type": "code",
   "execution_count": null,
   "id": "ce6300ad",
   "metadata": {},
   "outputs": [],
   "source": []
  },
  {
   "cell_type": "code",
   "execution_count": null,
   "id": "9136f9c5",
   "metadata": {},
   "outputs": [],
   "source": []
  }
 ],
 "metadata": {
  "hide_input": false,
  "kernelspec": {
   "display_name": "Python 3",
   "language": "python",
   "name": "python3"
  },
  "language_info": {
   "codemirror_mode": {
    "name": "ipython",
    "version": 3
   },
   "file_extension": ".py",
   "mimetype": "text/x-python",
   "name": "python",
   "nbconvert_exporter": "python",
   "pygments_lexer": "ipython3",
   "version": "3.9.5"
  },
  "latex_envs": {
   "LaTeX_envs_menu_present": true,
   "autoclose": true,
   "autocomplete": true,
   "bibliofile": "biblio.bib",
   "cite_by": "apalike",
   "current_citInitial": 1,
   "eqLabelWithNumbers": true,
   "eqNumInitial": 1,
   "hotkeys": {
    "equation": "Ctrl-E",
    "itemize": "Ctrl-I"
   },
   "labels_anchors": false,
   "latex_user_defs": false,
   "report_style_numbering": false,
   "user_envs_cfg": true
  },
  "toc": {
   "base_numbering": 1,
   "nav_menu": {},
   "number_sections": true,
   "sideBar": true,
   "skip_h1_title": false,
   "title_cell": "Table of Contents",
   "title_sidebar": "Contents",
   "toc_cell": false,
   "toc_position": {},
   "toc_section_display": true,
   "toc_window_display": false
  },
  "varInspector": {
   "cols": {
    "lenName": 16,
    "lenType": 16,
    "lenVar": 40
   },
   "kernels_config": {
    "python": {
     "delete_cmd_postfix": "",
     "delete_cmd_prefix": "del ",
     "library": "var_list.py",
     "varRefreshCmd": "print(var_dic_list())"
    },
    "r": {
     "delete_cmd_postfix": ") ",
     "delete_cmd_prefix": "rm(",
     "library": "var_list.r",
     "varRefreshCmd": "cat(var_dic_list()) "
    }
   },
   "types_to_exclude": [
    "module",
    "function",
    "builtin_function_or_method",
    "instance",
    "_Feature"
   ],
   "window_display": false
  }
 },
 "nbformat": 4,
 "nbformat_minor": 5
}
